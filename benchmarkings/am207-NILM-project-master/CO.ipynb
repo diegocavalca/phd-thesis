{
 "cells": [
  {
   "cell_type": "markdown",
   "metadata": {},
   "source": [
    "# Karen Yu, Nick Vasios, Thibaut Perol\n",
    "\n",
    "# AM207 Final Project\n",
    "\n",
    "## Energy Disaggregation from Non-Intrusive Load Monitoring"
   ]
  },
  {
   "cell_type": "markdown",
   "metadata": {},
   "source": [
    "#  DISAGGREGATION USING COMBINATORIAL OPTIMIZATION"
   ]
  },
  {
   "cell_type": "markdown",
   "metadata": {},
   "source": [
    "## Importing Necessary Packages"
   ]
  },
  {
   "cell_type": "code",
   "execution_count": 1,
   "metadata": {
    "collapsed": false
   },
   "outputs": [],
   "source": [
    "from __future__ import print_function, division\n",
    "\n",
    "import numpy as np\n",
    "import pandas as pd\n",
    "from os.path import join\n",
    "import pickle\n",
    "import copy\n",
    "\n",
    "from pylab import rcParams\n",
    "import matplotlib.pyplot as plt\n",
    "%matplotlib inline\n",
    "rcParams['figure.figsize'] = (13, 6)\n",
    "import nilmtk\n",
    "from nilmtk import DataSet, TimeFrame, MeterGroup, HDFDataStore\n",
    "from nilmtk.utils import print_dict,find_nearest\n",
    "from nilmtk.feature_detectors import cluster\n",
    "from nilmtk.disaggregate import Disaggregator\n",
    "from nilmtk.electric import get_vampire_power\n",
    "from nilmtk.metrics import f1_score\n",
    "\n",
    "import warnings\n",
    "from warnings import warn\n",
    "warnings.filterwarnings(\"ignore\")\n",
    "import seaborn as sns\n",
    "# sns.set_style(\"white\")\n",
    "\n",
    "# Fix the seed for repeatability of experiments\n",
    "SEED = 42\n",
    "np.random.seed(SEED)"
   ]
  },
  {
   "cell_type": "markdown",
   "metadata": {},
   "source": [
    "## The Heart of the Notebook: The Combinatorial Optimization class"
   ]
  },
  {
   "cell_type": "code",
   "execution_count": 2,
   "metadata": {
    "collapsed": false
   },
   "outputs": [],
   "source": [
    "class CombinatorialOptimisation(Disaggregator):\n",
    "    \"\"\"\n",
    "    \n",
    "    A Combinatorial Optimization Algorithm based on the implementation by NILMTK\n",
    "    \n",
    "    This class is build upon the main Dissagregator class already implemented by NILMTK\n",
    "    All the methods from Dissagregator are passed in here as well since we import the class\n",
    "    as shown above. We should note howeger that Dissagregator is nothing more than a general interface\n",
    "    class upon which all dissagregator algortihms are build. All the methods are initialized in the \n",
    "    Dissagregator class but the specific implementation is based upon the method to be implemented. \n",
    "    In other words, even though we pass in Dissagregator, all methods will be redefined again to work with \n",
    "    the Combinatorial Optimization algorithm as you can see below. \n",
    "\n",
    "    \n",
    "    Attributes\n",
    "    ----------\n",
    "    model : list of dicts\n",
    "       Each dict has these keys:\n",
    "           states : list of ints (the power (Watts) used in different states)\n",
    "           training_metadata : ElecMeter or MeterGroup object used for training\n",
    "               this set of states.  We need this information because we\n",
    "               need the appliance type (and perhaps some other metadata)\n",
    "               for each model.\n",
    "\n",
    "    state_combinations : 2D array\n",
    "        Each column is an appliance.\n",
    "        Each row is a possible combination of power demand values e.g.\n",
    "            [[0, 0,  0,   0],\n",
    "             [0, 0,  0, 100],\n",
    "             [0, 0, 50,   0],\n",
    "             [0, 0, 50, 100], ...]\n",
    "\n",
    "    MIN_CHUNK_LENGTH : int\n",
    "    \"\"\"\n",
    "\n",
    "    def __init__(self):\n",
    "        self.model = []\n",
    "        self.state_combinations = None\n",
    "        self.MIN_CHUNK_LENGTH = 100\n",
    "        self.MODEL_NAME = 'Combinatorial Optimization'\n",
    "\n",
    "    def train(self, metergroup, num_states_dict=None, **load_kwargs):\n",
    "        \"\"\"\n",
    "        Train using 1D CO. Places the learnt model in the `model` attribute.\n",
    "\n",
    "        Parameters\n",
    "        ----------\n",
    "        metergroup : a nilmtk.MeterGroup object\n",
    "        num_states_dict : dict\n",
    "        **load_kwargs : keyword arguments passed to `meter.power_series()`\n",
    "\n",
    "        Notes\n",
    "        -----\n",
    "        * only uses first chunk for each meter (TODO: handle all chunks).\n",
    "        \"\"\"\n",
    "        \n",
    "        # Initializing dictionary to save the number of states\n",
    "        if num_states_dict is None:\n",
    "            num_states_dict = {}\n",
    "\n",
    "        # The CO class is only able to train in new models. We can only train once. If model exists, raise an error\n",
    "        if self.model:\n",
    "            raise RuntimeError(\n",
    "                \"This implementation of Combinatorial Optimisation\"\n",
    "                \" does not support multiple calls to `train`.\")\n",
    "\n",
    "        # How many meters do we have in the training set?\n",
    "        num_meters = len(metergroup.meters)\n",
    "        \n",
    "        # If more than 20 then reduce the number of clusters to reduce the computational cost. \n",
    "        if num_meters > 20:\n",
    "            max_num_clusters = 2\n",
    "        else:\n",
    "            max_num_clusters = 3\n",
    "        \n",
    "        print('Now training...')\n",
    "        print('Loop in all meters begins...')\n",
    "        \n",
    "        # We now loop in all meters passed in in the training data set\n",
    "        # Every time, we load the data in the meter and we call the method\n",
    "        # --> train_on_chunk. For more info about this method please see below\n",
    "        for i, meter in enumerate(metergroup.submeters().meters):\n",
    "            \n",
    "            #print('We now train for submeter {}'.format(meter))\n",
    "            \n",
    "            # Load the time series for the power consumption for this meter\n",
    "            power_series = meter.power_series(**load_kwargs)\n",
    "            \n",
    "            # Note that we do not effectively load until we use the next() method\n",
    "            # We load and save into chunk. Chunk will be used in training\n",
    "            chunk = power_series.next()\n",
    "            \n",
    "            # Get the number of total states from the dictionary\n",
    "            num_total_states = num_states_dict.get(meter)\n",
    "            if num_total_states is not None:\n",
    "                num_on_states = num_total_states - 1\n",
    "            else:\n",
    "                num_on_states = None\n",
    "                \n",
    "            #print('i={},num_total_states={},num_on_states={}'.format(i,meter,num_total_states,num_on_states))    \n",
    "            \n",
    "            # The actual training happens now. We call train_on_chunk using the time series we loaded on chunk for this meter\n",
    "            self.train_on_chunk(chunk, meter, max_num_clusters, num_on_states)\n",
    "\n",
    "            # Check to see if there are any more chunks.\n",
    "            try:\n",
    "                power_series.next()\n",
    "            except StopIteration:\n",
    "                pass\n",
    "            else:\n",
    "                warn(\"The current implementation of CombinatorialOptimisation\"\n",
    "                     \" can only handle a single chunk.  But there are multiple\"\n",
    "                     \" chunks available.  So have only trained on the\"\n",
    "                     \" first chunk!\")\n",
    "\n",
    "        print(\"Done training!\")\n",
    "\n",
    "    def train_on_chunk(self, chunk, meter, max_num_clusters, num_on_states):\n",
    "        \"\"\"\n",
    "        \n",
    "        Train on chunk trains the Combinatorial Optimization Model based on the time series for the power consumption\n",
    "        passed in chunk. This method is based on the sklearn machine learning library and in particular the KMEANS \n",
    "        algorithm. It calls the cluster function which is imported in the beginning of this notebook. Cluster, prepares \n",
    "        the data in chunk so that its size is always compatible and the same and then calls the KMEANS algorithm to \n",
    "        perform the clustering. Function cluster returns only the centers of the clustered data which correspond to the\n",
    "        individual states for the given appliance/meter        \n",
    "        \"\"\"\n",
    "        \n",
    "        # Check if we've already trained on this meter. We only allow training once on each meter\n",
    "        meters_in_model = [d['training_metadata'] for d in self.model]\n",
    "        if meter in meters_in_model:\n",
    "            raise RuntimeError(\n",
    "                \"Meter {} is already in model!\"\n",
    "                \"  Can't train twice on the same meter!\"\n",
    "                .format(meter))\n",
    "\n",
    "        # Do the KMEANS clustering and return the centers\n",
    "        states = cluster(chunk, max_num_clusters, num_on_states)\n",
    "        print('\\t Now Clustering in Train on Chunk')\n",
    "        #print('\\t {}'.format(states))\n",
    "        \n",
    "        # Append the clustered data to the model\n",
    "        self.model.append({\n",
    "            'states': states,\n",
    "            'training_metadata': meter})\n",
    "\n",
    "    def _set_state_combinations_if_necessary(self):\n",
    "        \"\"\"Get centroids\"\"\"\n",
    "        # If we import sklearn at the top of the file then auto doc fails.\n",
    "        if (self.state_combinations is None or\n",
    "                self.state_combinations.shape[1] != len(self.model)):\n",
    "            \n",
    "            from sklearn.utils.extmath import cartesian\n",
    "            \n",
    "            # Saving the centroids in centroids (appliance states)\n",
    "            centroids = [model['states'] for model in self.model]\n",
    "            # Function cartesian returns all possible combinations \n",
    "            # than can be performed using centroids\n",
    "            self.state_combinations = cartesian(centroids)\n",
    "            print()\n",
    "            #print('Now printing the state combinations...')\n",
    "            #print(cartesian(centroids))\n",
    "\n",
    "    def disaggregate(self, mains, output_datastore,\n",
    "                     vampire_power=None, **load_kwargs):\n",
    "        '''Disaggregate mains according to the model learnt previously.\n",
    "\n",
    "        Parameters\n",
    "        ----------\n",
    "        mains : nilmtk.ElecMeter or nilmtk.MeterGroup\n",
    "        output_datastore : instance of nilmtk.DataStore subclass\n",
    "            For storing power predictions from disaggregation algorithm.\n",
    "        vampire_power : None or number (watts)\n",
    "            If None then will automatically determine vampire power\n",
    "            from data.  If you do not want to use vampire power then\n",
    "            set vampire_power = 0.\n",
    "        sample_period : number, optional\n",
    "            The desired sample period in seconds.  Set to 60 by default.\n",
    "        sections : TimeFrameGroup, optional\n",
    "            Set to mains.good_sections() by default.\n",
    "        **load_kwargs : key word arguments\n",
    "            Passed to `mains.power_series(**kwargs)`\n",
    "        '''\n",
    "        \n",
    "        # Performing default pre disaggregation checks. Checking meters etc..\n",
    "        load_kwargs = self._pre_disaggregation_checks(load_kwargs)\n",
    "\n",
    "        # Disaggregation defauls. Sample perios and sections\n",
    "        load_kwargs.setdefault('sample_period', 60)\n",
    "        load_kwargs.setdefault('sections', mains.good_sections())\n",
    "\n",
    "        # Initializing time frames and fetching the meter for the aggregated data\n",
    "        timeframes = []\n",
    "        building_path = '/building{}'.format(mains.building())\n",
    "        mains_data_location = building_path + '/elec/meter1'\n",
    "        data_is_available = False\n",
    "        \n",
    "        # We now load the aggregated data for power consumption of the whole house in small chunks\n",
    "        # Every iteration of the following loop we perform the CO step to disaggregate\n",
    "        \n",
    "        counter = 0\n",
    "        print('Disaggregation now begins...')\n",
    "        for chunk in mains.power_series(**load_kwargs):\n",
    "            counter += 1\n",
    "            # Check that chunk is sensible size\n",
    "            if len(chunk) < self.MIN_CHUNK_LENGTH:\n",
    "                continue\n",
    "                \n",
    "            print('\\t Now processing chunk {}...'.format(counter))\n",
    "\n",
    "            # Record metadata\n",
    "            timeframes.append(chunk.timeframe)\n",
    "            measurement = chunk.name\n",
    "\n",
    "            # This is where the disaggregation happens\n",
    "            # Vampire Power is just the minimum of the power series in this chunk\n",
    "            appliance_powers = self.disaggregate_chunk(chunk, vampire_power)\n",
    "\n",
    "            # Here we save the disaggregated data for this chunk in Pandas dataframe and update the \n",
    "            # HDF5 file we created.\n",
    "            for i, model in enumerate(self.model):\n",
    "                # Fetch the disag data for this appliance\n",
    "                appliance_power = appliance_powers[i]\n",
    "                if len(appliance_power) == 0:\n",
    "                    continue\n",
    "                data_is_available = True\n",
    "                \n",
    "                # Just for saving.. Nothing major happening here\n",
    "                cols = pd.MultiIndex.from_tuples([chunk.name])\n",
    "                meter_instance = model['training_metadata'].instance()\n",
    "                df = pd.DataFrame(\n",
    "                    appliance_power.values, index=appliance_power.index,\n",
    "                    columns=cols)\n",
    "                key = '{}/elec/meter{}'.format(building_path, meter_instance)\n",
    "                output_datastore.append(key, df)\n",
    "\n",
    "            # Copy mains data to disag output\n",
    "            mains_df = pd.DataFrame(chunk, columns=cols)\n",
    "            output_datastore.append(key=mains_data_location, value=mains_df)\n",
    "\n",
    "        if data_is_available:\n",
    "            self._save_metadata_for_disaggregation(\n",
    "                output_datastore=output_datastore,\n",
    "                sample_period=load_kwargs['sample_period'],\n",
    "                measurement=measurement,\n",
    "                timeframes=timeframes,\n",
    "                building=mains.building(),\n",
    "                meters=[d['training_metadata'] for d in self.model]\n",
    "            )\n",
    "        \n",
    "        print('Disaggregation Completed Successfully...!!!')\n",
    "\n",
    "    def disaggregate_chunk(self, mains, vampire_power=None):\n",
    "        \"\"\"In-memory disaggregation.\n",
    "\n",
    "        Parameters\n",
    "        ----------\n",
    "        mains : pd.Series\n",
    "        vampire_power : None or number (watts)\n",
    "            If None then will automatically determine vampire power\n",
    "            from data.  If you do not want to use vampire power then\n",
    "            set vampire_power = 0.\n",
    "\n",
    "        Returns\n",
    "        -------\n",
    "        appliance_powers : pd.DataFrame where each column represents a\n",
    "            disaggregated appliance.  Column names are the integer index\n",
    "            into `self.model` for the appliance in question.\n",
    "        \"\"\"\n",
    "        if not self.model:\n",
    "            raise RuntimeError(\n",
    "                \"The model needs to be instantiated before\"\n",
    "                \" calling `disaggregate`.  The model\"\n",
    "                \" can be instantiated by running `train`.\")\n",
    "\n",
    "        if len(mains) < self.MIN_CHUNK_LENGTH:\n",
    "            raise RuntimeError(\"Chunk is too short.\")\n",
    "\n",
    "        # sklearn produces lots of DepreciationWarnings with PyTables\n",
    "        import warnings\n",
    "        warnings.filterwarnings(\"ignore\", category=DeprecationWarning)\n",
    "\n",
    "        # Because CombinatorialOptimisation could have been trained using\n",
    "        # either train() or train_on_chunk(), we must\n",
    "        # set state_combinations here.\n",
    "        self._set_state_combinations_if_necessary()\n",
    "\n",
    "        # Add vampire power to the model (Min of power series of the aggregated data)\n",
    "        if vampire_power is None:\n",
    "            vampire_power = get_vampire_power(mains)\n",
    "        if vampire_power > 0:\n",
    "            print()\n",
    "            #print(\"Including vampire_power = {} watts to model...\".format(vampire_power))\n",
    "            \n",
    "            # How many combinations\n",
    "            n_rows = self.state_combinations.shape[0]\n",
    "            vampire_power_array = np.zeros((n_rows, 1)) + vampire_power\n",
    "            state_combinations = np.hstack(\n",
    "                (self.state_combinations, vampire_power_array))\n",
    "        else:\n",
    "            state_combinations = self.state_combinations\n",
    "\n",
    "        summed_power_of_each_combination = np.sum(state_combinations, axis=1)\n",
    "        # summed_power_of_each_combination is now an array where each\n",
    "        # value is the total power demand for each combination of states.\n",
    "\n",
    "        # Start disaggregation\n",
    "        \n",
    "        # The following line finds the best combination from all the possible combinations\n",
    "        # Returns the index to find the best combination as well as the residual\n",
    "        # Uses the Find_Nearest algorithm\n",
    "        indices_of_state_combinations, residual_power = find_nearest(\n",
    "            summed_power_of_each_combination, mains.values)\n",
    "\n",
    "        # Now update the state for each appliance with the optimal one and return the list\n",
    "        # as Dataframe\n",
    "        appliance_powers_dict = {}\n",
    "        for i, model in enumerate(self.model):\n",
    "            #print()\n",
    "            #print(\"Estimating power demand for '{}'\".format(model['training_metadata']))\n",
    "            predicted_power = state_combinations[\n",
    "                indices_of_state_combinations, i].flatten()\n",
    "            column = pd.Series(predicted_power, index=mains.index, name=i)\n",
    "            appliance_powers_dict[i] = column\n",
    "\n",
    "        appliance_powers = pd.DataFrame(appliance_powers_dict)\n",
    "        return appliance_powers\n",
    "\n",
    "    # The current implementation of the CO does not make use of the following 2 functions.\n",
    "    #\n",
    "    #\n",
    "    # -------------------------------------------------------------------------------------\n",
    "    def import_model(self, filename):\n",
    "        imported_model = pickle.load(open(filename, 'r'))\n",
    "        self.model = imported_model.model\n",
    "        # recreate datastores from filenames\n",
    "        for pair in self.model:\n",
    "            pair['training_metadata'].store = HDFDataStore(\n",
    "                pair['training_metadata'].store)\n",
    "        self.state_combinations = imported_model.state_combinations\n",
    "        self.MIN_CHUNK_LENGTH = imported_model.MIN_CHUNK_LENGTH\n",
    "\n",
    "    def export_model(self, filename):\n",
    "        # Can't pickle datastore, so convert to filenames\n",
    "        exported_model = copy.deepcopy(self)\n",
    "        for pair in exported_model.model:\n",
    "            pair['training_metadata'].store = (\n",
    "                pair['training_metadata'].store.store.filename)\n",
    "        pickle.dump(exported_model, open(filename, 'wb'))"
   ]
  },
  {
   "cell_type": "markdown",
   "metadata": {},
   "source": [
    "## Importing and Loading the REDD dataset"
   ]
  },
  {
   "cell_type": "code",
   "execution_count": 3,
   "metadata": {
    "collapsed": false
   },
   "outputs": [
    {
     "name": "stdout",
     "output_type": "stream",
     "text": [
      "loaded 6 buildings\n"
     ]
    }
   ],
   "source": [
    "data_dir = '\\Users\\Nick\\Google Drive\\PhD\\Courses\\Semester 2\\AM207\\Project'\n",
    "we = DataSet(join(data_dir, 'REDD.h5'))\n",
    "print('loaded ' + str(len(we.buildings)) + ' buildings')"
   ]
  },
  {
   "cell_type": "markdown",
   "metadata": {},
   "source": [
    "We want to train the Combinatorial Optimization Algorithm using the data for 5 buildings and then test it against the last building. To simplify our analysis and also to enable comparison with other methods (Neural Nets, FHMM, MLE etc) we will only try to dissagregate data associated with the fridge and the microwave. However, the REDD dataset that we are using here does not contain data measurements for the fridge and microwave for all buildings. In particular, building 4 does not have measurements for the fridge. As a result, we will exclude building 4 from the dataset and we will only import the meters associated with the fridge from other buildings. \n",
    "\n",
    "The train data set will consist of meters associated with the fridge and microwave from buildings 1,2,3 and 6. We will then test the combinatorial optimization algorithm against the aggregated data for building 5. \n"
   ]
  },
  {
   "cell_type": "markdown",
   "metadata": {},
   "source": [
    "We first plot the time window span for all buildings"
   ]
  },
  {
   "cell_type": "code",
   "execution_count": 4,
   "metadata": {
    "collapsed": false
   },
   "outputs": [
    {
     "name": "stdout",
     "output_type": "stream",
     "text": [
      "Timeframe for building 1 is TimeFrame(start='2011-04-18 09:22:09-04:00', end='2011-05-24 15:57:02-04:00', empty=False)\n",
      "Timeframe for building 2 is TimeFrame(start='2011-04-17 19:18:27-04:00', end='2011-05-22 19:59:16-04:00', empty=False)\n",
      "Timeframe for building 3 is TimeFrame(start='2011-04-16 01:11:27-04:00', end='2011-05-30 20:19:54-04:00', empty=False)\n",
      "Timeframe for building 4 is TimeFrame(start='2011-04-16 21:16:19-04:00', end='2011-06-03 20:45:45-04:00', empty=False)\n",
      "Timeframe for building 5 is TimeFrame(start='2011-04-18 00:24:03-04:00', end='2011-05-31 20:20:20-04:00', empty=False)\n",
      "Timeframe for building 6 is TimeFrame(start='2011-05-21 15:39:19-04:00', end='2011-06-14 01:31:44-04:00', empty=False)\n"
     ]
    }
   ],
   "source": [
    "for i in xrange(1,7):\n",
    "    print('Timeframe for building {} is {}'.format(i,we.buildings[i].elec.get_timeframe()))    "
   ]
  },
  {
   "cell_type": "markdown",
   "metadata": {},
   "source": [
    "Unfortunately, due to a bug in one of the main classes of the NILMTK package the implementation of the Combinatorial Optimization do not save the meters for the disaggregated data correctly unless the building on which we test on also exists in the trainihg set. More on this issue can be found here https://github.com/nilmtk/nilmtk/issues/194"
   ]
  },
  {
   "cell_type": "markdown",
   "metadata": {},
   "source": [
    "However, for us it makes no sense to use the same building for training and testing since we would like to compare this algorithm with the results from FHMM and Neural Networks. In order to circumvent this bug we do the following:\n",
    "\n",
    "The main issue is that the meter for the building we would like to disaggregate must be on the training set in order to be able to disaggregate correctly. That being said, we still want to train as less as possible on the meter we want to test on since we would like to see how the algorithm performs when a completely unknown dataset is available. In order to do that we create a metergroup comprising of the following:\n",
    "\n",
    "1) The meters for the Frigde and Microwave for all buildings but building 5, since building 5 is the building we would like to test on. Later we will see that building 4 needs to be excluded as well because there is no meter associated with the fridge for this building. \n",
    "\n",
    "2) The meters for the Frigde and Microwave for building 5 which is the building we would like to test on, but we limit the time window to be a very very small one. Doing that, we make sure that the meters are there and understood by the Combinatorial Optimization Class but at the same time, by limiting the time window to just a few housrd for this building do not provide enough data to overtrain. In other words, we only do this in order to be able to disaggregate correctly. \n",
    "\n",
    "After we train we will test the algorithm against the data from building 5 that werent fed into the training meters. After we disaggregate we will compare with the ground truth for the same exact window. "
   ]
  },
  {
   "cell_type": "markdown",
   "metadata": {},
   "source": [
    "## Modifying Datasets to work with CO"
   ]
  },
  {
   "cell_type": "code",
   "execution_count": 5,
   "metadata": {
    "collapsed": false
   },
   "outputs": [
    {
     "name": "stdout",
     "output_type": "stream",
     "text": [
      " Found 6 buildings in the Data Ser.. Buildings Loaded successfully.\n"
     ]
    }
   ],
   "source": [
    "# Data file directory\n",
    "data_dir = '\\Users\\Nick\\Google Drive\\PhD\\Courses\\Semester 2\\AM207\\Project'\n",
    "\n",
    "# Make the Data set\n",
    "Data = DataSet(join(data_dir, 'REDD.h5'))\n",
    "\n",
    "# Make copies of the Data Set so that local changes would not affect the global dataset\n",
    "Data_for_5 = DataSet(join(data_dir, 'REDD.h5'))\n",
    "Data_for_rest = DataSet(join(data_dir, 'REDD.h5'))\n",
    "\n",
    "# How many buildings in the data set?\n",
    "print(' Found {} buildings in the Data Ser.. Buildings Loaded successfully.'.format(len(Data.buildings)))"
   ]
  },
  {
   "cell_type": "code",
   "execution_count": 6,
   "metadata": {
    "collapsed": false
   },
   "outputs": [
    {
     "data": {
      "text/plain": [
       "<matplotlib.axes._subplots.AxesSubplot at 0xe1b8f98>"
      ]
     },
     "execution_count": 6,
     "metadata": {},
     "output_type": "execute_result"
    },
    {
     "data": {
      "image/png": "[encoded data removed]",
      "text/plain": [
       "<matplotlib.figure.Figure at 0xb789780>"
      ]
     },
     "metadata": {},
     "output_type": "display_data"
    }
   ],
   "source": [
    "# This is the point that we will break the data from building 5 so that we only include a small \n",
    "# portion in the training set. In fact, the line below makes sure than only a day of data is seen during training.\n",
    "break_point = '2011-04-19 02:00'\n",
    "\n",
    "# Changing the window for building 5\n",
    "Data_for_5.set_window(end=break_point)\n",
    "\n",
    "# Making a metergroup..\n",
    "e = [Data_for_5.buildings[5].elec[a] for a in ['fridge','microwave']]\n",
    "me = MeterGroup(e)\n",
    "\n",
    "# The data that we pass in for training for building 5 look like this...\n",
    "me.plot()"
   ]
  },
  {
   "cell_type": "markdown",
   "metadata": {},
   "source": [
    "## Creating MeterGroups with the desired appliances from the desired buildings"
   ]
  },
  {
   "cell_type": "markdown",
   "metadata": {},
   "source": [
    "Below we define a function tha is able to create a metergroup that only includes meters for the appliances that we are interested in and is also able to exclude buildings that we don't want in the meter. Also, if an appliance is requested but a meter is not found then the meter is skipped but the metergoup is created nontheless."
   ]
  },
  {
   "cell_type": "code",
   "execution_count": 7,
   "metadata": {
    "collapsed": false
   },
   "outputs": [],
   "source": [
    "def get_all_trainings(appliance, dataset, buildings_to_exclude):\n",
    "\n",
    "    # Filtering by appliances: \n",
    "    elecs = []\n",
    "    for app in appliance:\n",
    "        app_l = [app]\n",
    "        print ('Now loading data for ' + app + ' for all buildings in the data to create the metergroup')\n",
    "        print()\n",
    "        for building in dataset.buildings: \n",
    "            if building not in buildings_to_exclude:\n",
    "                print ('Processing Building ' + str(building) + '...')\n",
    "                print()\n",
    "                try:\n",
    "                    elec = dataset.buildings[building].elec[app]       \n",
    "                    \n",
    "                    elecs.append(elec)\n",
    "\n",
    "                except KeyError:\n",
    "                    print ('Appliance '+str(app)+' does not exist in this building')\n",
    "                    print ('Building skipped...')\n",
    "                    print ()\n",
    "            \n",
    "\n",
    "    metergroup = MeterGroup(elecs)\n",
    "\n",
    "    return metergroup"
   ]
  },
  {
   "cell_type": "markdown",
   "metadata": {},
   "source": [
    "Now we set the appliances that we want as well as the buildings to exclude and we create the metergroup"
   ]
  },
  {
   "cell_type": "code",
   "execution_count": 8,
   "metadata": {
    "collapsed": false
   },
   "outputs": [
    {
     "name": "stdout",
     "output_type": "stream",
     "text": [
      "Now loading data for fridge for all buildings in the data to create the metergroup\n",
      "\n",
      "Processing Building 1...\n",
      "\n",
      "Processing Building 2...\n",
      "\n",
      "Processing Building 3...\n",
      "\n",
      "Processing Building 6...\n",
      "\n",
      "Now loading data for microwave for all buildings in the data to create the metergroup\n",
      "\n",
      "Processing Building 1...\n",
      "\n",
      "Processing Building 2...\n",
      "\n",
      "Processing Building 3...\n",
      "\n",
      "Processing Building 6...\n",
      "\n",
      "Appliance microwave does not exist in this building\n",
      "Building skipped...\n",
      "\n",
      "Now printing the Meter Group...\n",
      "\n",
      "MeterGroup(meters=\n",
      "  ElecMeter(instance=5, building=1, dataset='REDD', appliances=[Appliance(type='fridge', instance=1)])\n",
      "  ElecMeter(instance=9, building=2, dataset='REDD', appliances=[Appliance(type='fridge', instance=1)])\n",
      "  ElecMeter(instance=7, building=3, dataset='REDD', appliances=[Appliance(type='fridge', instance=1)])\n",
      "  ElecMeter(instance=8, building=6, dataset='REDD', appliances=[Appliance(type='fridge', instance=1)])\n",
      "  ElecMeter(instance=11, building=1, dataset='REDD', appliances=[Appliance(type='microwave', instance=1)])\n",
      "  ElecMeter(instance=6, building=2, dataset='REDD', appliances=[Appliance(type='microwave', instance=1)])\n",
      "  ElecMeter(instance=16, building=3, dataset='REDD', appliances=[Appliance(type='microwave', instance=1)])\n",
      ")\n"
     ]
    }
   ],
   "source": [
    "applianceName = ['fridge','microwave']\n",
    "buildings_to_exclude = [4,5]\n",
    "\n",
    "metergroup = get_all_trainings(applianceName,Data_for_rest,buildings_to_exclude)\n",
    "\n",
    "print('Now printing the Meter Group...')\n",
    "print()\n",
    "print(metergroup)"
   ]
  },
  {
   "cell_type": "markdown",
   "metadata": {},
   "source": [
    "As we can see the Metergroup was successfully created and contains all the appliances we requested (Fridge and Microwave) in all buildings that the appliances exist apart from the ones we excluded"
   ]
  },
  {
   "cell_type": "markdown",
   "metadata": {},
   "source": [
    "## Correcting the MeterGroup (Necessary for the CO to work)"
   ]
  },
  {
   "cell_type": "markdown",
   "metadata": {},
   "source": [
    "Now we need to perform the trick we mentioned previously. We need to also include the meter from building 5 with the Fridge and Microwave which is the building we are going to test on but we need to make sure that only a very small portion of the data is seen for this building. We already took care of that by changing the window for the data in building 5 so now we only have to include the meters for the Fridge and Microwave for building 5 from the reduced time dataset"
   ]
  },
  {
   "cell_type": "code",
   "execution_count": 9,
   "metadata": {
    "collapsed": true
   },
   "outputs": [],
   "source": [
    "def correct_meter(Data,building,appliance,oldmeter):\n",
    "    \n",
    "    # Unpack meters from the MeterGroup\n",
    "    meters = oldmeter.all_meters()\n",
    "    \n",
    "    # Get the rest of the meters and append\n",
    "    for a in appliance:\n",
    "        meter_to_add = Data.buildings[building].elec[a]\n",
    "        meters.append(meter_to_add)\n",
    "    \n",
    "    # Group again in a single metergroup and return\n",
    "    return MeterGroup(meters)   "
   ]
  },
  {
   "cell_type": "code",
   "execution_count": 10,
   "metadata": {
    "collapsed": false
   },
   "outputs": [],
   "source": [
    "corr_metergroup = correct_meter(Data_for_5,5,applianceName,metergroup)"
   ]
  },
  {
   "cell_type": "code",
   "execution_count": 11,
   "metadata": {
    "collapsed": false
   },
   "outputs": [
    {
     "name": "stdout",
     "output_type": "stream",
     "text": [
      "The Modified Meter is now..\n",
      "\n",
      "MeterGroup(meters=\n",
      "  ElecMeter(instance=5, building=1, dataset='REDD', appliances=[Appliance(type='fridge', instance=1)])\n",
      "  ElecMeter(instance=9, building=2, dataset='REDD', appliances=[Appliance(type='fridge', instance=1)])\n",
      "  ElecMeter(instance=7, building=3, dataset='REDD', appliances=[Appliance(type='fridge', instance=1)])\n",
      "  ElecMeter(instance=8, building=6, dataset='REDD', appliances=[Appliance(type='fridge', instance=1)])\n",
      "  ElecMeter(instance=11, building=1, dataset='REDD', appliances=[Appliance(type='microwave', instance=1)])\n",
      "  ElecMeter(instance=6, building=2, dataset='REDD', appliances=[Appliance(type='microwave', instance=1)])\n",
      "  ElecMeter(instance=16, building=3, dataset='REDD', appliances=[Appliance(type='microwave', instance=1)])\n",
      "  ElecMeter(instance=18, building=5, dataset='REDD', appliances=[Appliance(type='fridge', instance=1)])\n",
      "  ElecMeter(instance=3, building=5, dataset='REDD', appliances=[Appliance(type='microwave', instance=1)])\n",
      ")\n"
     ]
    }
   ],
   "source": [
    "print('The Modified Meter is now..')\n",
    "print()\n",
    "print(corr_metergroup)"
   ]
  },
  {
   "cell_type": "markdown",
   "metadata": {},
   "source": [
    "As we can see the metergroup was updated successfully"
   ]
  },
  {
   "cell_type": "markdown",
   "metadata": {},
   "source": [
    "## Training"
   ]
  },
  {
   "cell_type": "markdown",
   "metadata": {},
   "source": [
    "We now need to train in the Metergroup we just created. First, let us load the class for the CO"
   ]
  },
  {
   "cell_type": "code",
   "execution_count": 12,
   "metadata": {
    "collapsed": false
   },
   "outputs": [],
   "source": [
    "# Train\n",
    "co = CombinatorialOptimisation()"
   ]
  },
  {
   "cell_type": "markdown",
   "metadata": {},
   "source": [
    "Now Let's train"
   ]
  },
  {
   "cell_type": "code",
   "execution_count": 13,
   "metadata": {
    "collapsed": false
   },
   "outputs": [
    {
     "name": "stdout",
     "output_type": "stream",
     "text": [
      "Now training...\n",
      "Loop in all meters begins...\n",
      "\t Now Clustering in Train on Chunk\n",
      "\t Now Clustering in Train on Chunk\n",
      "\t Now Clustering in Train on Chunk\n",
      "\t Now Clustering in Train on Chunk\n",
      "\t Now Clustering in Train on Chunk\n",
      "\t Now Clustering in Train on Chunk\n",
      "\t Now Clustering in Train on Chunk\n",
      "\t Now Clustering in Train on Chunk\n",
      "\t Now Clustering in Train on Chunk\n",
      "Done training!\n"
     ]
    }
   ],
   "source": [
    "co.train(corr_metergroup)"
   ]
  },
  {
   "cell_type": "markdown",
   "metadata": {},
   "source": [
    "## Preparing the Testing Data"
   ]
  },
  {
   "cell_type": "markdown",
   "metadata": {},
   "source": [
    "Now that the training is done, the only thing that we have to do is to prepare the Data for Building 5 that we want to test on and call the Disaggregation. The data set is now the remaining part of building 5 that is not seen. After that, we only keep the Main meter which contains ifrormation about the aggregated data consumption and we disaggregate."
   ]
  },
  {
   "cell_type": "code",
   "execution_count": 14,
   "metadata": {
    "collapsed": false
   },
   "outputs": [],
   "source": [
    "Test_Data = DataSet(join(data_dir, 'REDD.h5'))\n",
    "Test_Data.set_window(start=break_point)"
   ]
  },
  {
   "cell_type": "code",
   "execution_count": 15,
   "metadata": {
    "collapsed": false
   },
   "outputs": [],
   "source": [
    "# The building number on which we test\n",
    "building_for_testing = 5\n",
    "\n",
    "test = Test_Data.buildings[building_for_testing].elec"
   ]
  },
  {
   "cell_type": "code",
   "execution_count": 16,
   "metadata": {
    "collapsed": false
   },
   "outputs": [],
   "source": [
    "mains = test.mains()"
   ]
  },
  {
   "cell_type": "markdown",
   "metadata": {},
   "source": [
    "## Disaggregating the test data"
   ]
  },
  {
   "cell_type": "markdown",
   "metadata": {},
   "source": [
    "The disaggregation Begins Now"
   ]
  },
  {
   "cell_type": "code",
   "execution_count": 17,
   "metadata": {
    "collapsed": false
   },
   "outputs": [
    {
     "name": "stdout",
     "output_type": "stream",
     "text": [
      "Disaggregation now begins...\n",
      "Loading data for meter ElecMeterID(instance=2, building=5, dataset='REDD')     \n",
      "Done loading data all meters for this chunk.\n",
      "Loading data for meter ElecMeterID(instance=2, building=5, dataset='REDD')     \n",
      "Done loading data all meters for this chunk.\n",
      "\t Now processing chunk 2...\n",
      "\n",
      "\n",
      "Loading data for meter ElecMeterID(instance=2, building=5, dataset='REDD')     \n",
      "Done loading data all meters for this chunk.\n",
      "Loading data for meter ElecMeterID(instance=2, building=5, dataset='REDD')     \n",
      "Done loading data all meters for this chunk.\n",
      "Loading data for meter ElecMeterID(instance=2, building=5, dataset='REDD')     \n",
      "Done loading data all meters for this chunk.\n",
      "Loading data for meter ElecMeterID(instance=2, building=5, dataset='REDD')     \n",
      "Done loading data all meters for this chunk.\n",
      "Loading data for meter ElecMeterID(instance=2, building=5, dataset='REDD')     \n",
      "Done loading data all meters for this chunk.\n",
      "\t Now processing chunk 7...\n",
      "\n",
      "Loading data for meter ElecMeterID(instance=2, building=5, dataset='REDD')     \n",
      "Done loading data all meters for this chunk.\n",
      "Loading data for meter ElecMeterID(instance=2, building=5, dataset='REDD')     \n",
      "Done loading data all meters for this chunk.\n",
      "Loading data for meter ElecMeterID(instance=2, building=5, dataset='REDD')     \n",
      "Done loading data all meters for this chunk.\n",
      "Loading data for meter ElecMeterID(instance=2, building=5, dataset='REDD')     \n",
      "Done loading data all meters for this chunk.\n",
      "Loading data for meter ElecMeterID(instance=2, building=5, dataset='REDD')     \n",
      "Done loading data all meters for this chunk.\n",
      "Loading data for meter ElecMeterID(instance=2, building=5, dataset='REDD')     \n",
      "Done loading data all meters for this chunk.\n",
      "\t Now processing chunk 13...\n",
      "\n",
      "Loading data for meter ElecMeterID(instance=2, building=5, dataset='REDD')     \n",
      "Done loading data all meters for this chunk.\n",
      "\t Now processing chunk 14...\n",
      "\n",
      "Loading data for meter ElecMeterID(instance=2, building=5, dataset='REDD')     \n",
      "Done loading data all meters for this chunk.\n",
      "\t Now processing chunk 15...\n",
      "\n",
      "Loading data for meter ElecMeterID(instance=2, building=5, dataset='REDD')     \n",
      "Done loading data all meters for this chunk.\n",
      "Loading data for meter ElecMeterID(instance=2, building=5, dataset='REDD')     \n",
      "Done loading data all meters for this chunk.\n",
      "\t Now processing chunk 17...\n",
      "\n",
      "Disaggregation Completed Successfully...!!!\n"
     ]
    }
   ],
   "source": [
    "# Disaggregate\n",
    "disag_filename = join(data_dir, 'COMBINATORIAL_OPTIMIZATION.h5')\n",
    "\n",
    "mains = test.mains()\n",
    "\n",
    "try:\n",
    "    output = HDFDataStore(disag_filename, 'w')\n",
    "    co.disaggregate(mains, output)\n",
    "except ValueError:\n",
    "    output.close()\n",
    "    output = HDFDataStore(disag_filename, 'w')\n",
    "    co.disaggregate(mains, output)\n",
    "\n",
    "for meter in range(1, 2):\n",
    "    df1 = output.store.get('/building5/elec/meter{}'.format(meter))\n",
    "    df2 = we.store.store.get('/building5/elec/meter{}'.format(meter))\n",
    "\n",
    "    \n",
    "output.close()"
   ]
  },
  {
   "cell_type": "markdown",
   "metadata": {},
   "source": [
    "OK.. Now we are all done. All that remains is to interpret the results and plot the scores.."
   ]
  },
  {
   "cell_type": "markdown",
   "metadata": {},
   "source": [
    "## Post Processing & Results"
   ]
  },
  {
   "cell_type": "code",
   "execution_count": 18,
   "metadata": {
    "collapsed": false
   },
   "outputs": [
    {
     "name": "stdout",
     "output_type": "stream",
     "text": [
      "MeterGroup(meters=\n",
      "  ElecMeter(instance=18, building=5, dataset='REDD', appliances=[Appliance(type='fridge', instance=1)])\n",
      "  ElecMeter(instance=3, building=5, dataset='REDD', appliances=[Appliance(type='microwave', instance=1)])\n",
      ")\n"
     ]
    }
   ],
   "source": [
    "# Opening the Dataset with the Disaggregated data\n",
    "disag = DataSet(disag_filename)\n",
    "\n",
    "# Getting electric appliances and meters\n",
    "disag_elec = disag.buildings[building_for_testing].elec\n",
    "\n",
    "# We also get the electric appliances and meters for the ground truth data to compare\n",
    "elec = Test_Data.buildings[building_for_testing].elec\n",
    "\n",
    "e = [test[a] for a in applianceName]\n",
    "me = MeterGroup(e)\n",
    "print(me)"
   ]
  },
  {
   "cell_type": "markdown",
   "metadata": {},
   "source": [
    "### Resampling to align meters"
   ]
  },
  {
   "cell_type": "markdown",
   "metadata": {},
   "source": [
    "Before we are able to calculate and plot the metrics we need to align the ground truth meter with the disaggregated meters. Why so? If you notice in the dissagregation method of the CO class above, you may see that by default the time sampling is changed from 3s which is the raw data to 60s. This has to happen in order to make the disaggregation more efficient computationally but also because it is impossible to disaggregate using the actual time step. So in order to compare now we have to resample the meter for the ground truth and align it"
   ]
  },
  {
   "cell_type": "code",
   "execution_count": 19,
   "metadata": {
    "collapsed": true
   },
   "outputs": [],
   "source": [
    "def align_two_meters(master, slave, func='when_on'):\n",
    "    \"\"\"Returns a generator of 2-column pd.DataFrames.  The first column is from\n",
    "    `master`, the second from `slave`.\n",
    "\n",
    "    Takes the sample rate and good_periods of `master` and applies to `slave`.\n",
    "\n",
    "    Parameters\n",
    "    ----------\n",
    "    master, slave : ElecMeter or MeterGroup instances\n",
    "    \"\"\"\n",
    "    sample_period = master.sample_period()\n",
    "    period_alias = '{:d}S'.format(sample_period)\n",
    "    sections = master.good_sections()\n",
    "    master_generator = getattr(master, func)(sections=sections)\n",
    "    for master_chunk in master_generator:\n",
    "        if len(master_chunk) < 2:\n",
    "            return\n",
    "        chunk_timeframe = TimeFrame(master_chunk.index[0],\n",
    "                                    master_chunk.index[-1])\n",
    "        slave_generator = getattr(slave, func)(sections=[chunk_timeframe])\n",
    "        slave_chunk = next(slave_generator)\n",
    "\n",
    "        # TODO: do this resampling in the pipeline?\n",
    "        slave_chunk = slave_chunk.resample(period_alias)\n",
    "        if slave_chunk.empty:\n",
    "            continue\n",
    "        master_chunk = master_chunk.resample(period_alias)\n",
    "\n",
    "    return master_chunk,slave_chunk\n"
   ]
  },
  {
   "cell_type": "markdown",
   "metadata": {},
   "source": [
    "Here we just plot the disaggregated data alongside the ground truth for the Fridge"
   ]
  },
  {
   "cell_type": "code",
   "execution_count": 20,
   "metadata": {
    "collapsed": false
   },
   "outputs": [
    {
     "data": {
      "text/plain": [
       "<matplotlib.axes._subplots.AxesSubplot at 0x1727aba8>"
      ]
     },
     "execution_count": 20,
     "metadata": {},
     "output_type": "execute_result"
    },
    {
     "data": {
      "image/png": "[encoded data removed]",
      "text/plain": [
       "<matplotlib.figure.Figure at 0xb95d1d0>"
      ]
     },
     "metadata": {},
     "output_type": "display_data"
    }
   ],
   "source": [
    "disag_elec.select(instance=18).plot()\n",
    "me.select(instance=18).plot()"
   ]
  },
  {
   "cell_type": "markdown",
   "metadata": {},
   "source": [
    "### Aligning meters, Converting to Numpy and Computing Metrics"
   ]
  },
  {
   "cell_type": "markdown",
   "metadata": {},
   "source": [
    "In this part of the Notebook, we call the function we previously defined to align the meters and then we convert the meters to pandas and ultimately to numpy arrays. We check if any NaN's exist (which is something possible after resmplilng.. Resampling errors may occur) and replace them with 0's if they do. We also compute the following metrics for each appliance:\n",
    "\n",
    "1) True Positive, False Positive, False Negative, True Negative\n",
    "\n",
    "2) Precision and Recall\n",
    "\n",
    "3) Accuracy and F1-Score\n",
    "\n",
    "For more information about these metrics please refer to the report."
   ]
  },
  {
   "cell_type": "code",
   "execution_count": 21,
   "metadata": {
    "collapsed": true
   },
   "outputs": [],
   "source": [
    "appliances_scores = {}"
   ]
  },
  {
   "cell_type": "code",
   "execution_count": 22,
   "metadata": {
    "collapsed": false
   },
   "outputs": [
    {
     "name": "stdout",
     "output_type": "stream",
     "text": [
      "Processing Fridge...\n",
      "\t Predictions array seems to be fine...\n",
      "\t No Nans detected\n",
      "\n",
      "Processing Microwave...\n",
      "\t Predictions array seems to be fine...\n",
      "\t No Nans detected\n",
      "\n"
     ]
    }
   ],
   "source": [
    "for m in me.meters:\n",
    "    print('Processing {}...'.format(m.label()))\n",
    "    ground_truth = m\n",
    "    inst = m.instance()\n",
    "    prediction = disag_elec.select(instance=inst)\n",
    "    \n",
    "    a = prediction.meters[0]\n",
    "    \n",
    "    b = a.power_series_all_data()\n",
    "    \n",
    "    pr_a,gt_a = align_two_meters(prediction.meters[0],ground_truth)\n",
    "    \n",
    "    gt = gt_a.as_matrix()\n",
    "    pr = pr_a.as_matrix()\n",
    "    \n",
    "    if np.all(np.isnan(pr)==False):\n",
    "        print('\\t Predictions array seems to be fine...')\n",
    "        print('\\t No Nans detected')\n",
    "        print()\n",
    "    else:\n",
    "        print('\\t Serious error in Predictions...')\n",
    "        print('\\t The resampled array contains Nans')\n",
    "        print()\n",
    "    \n",
    "    gt_states_on = gt > 0.1\n",
    "    pr_states_on = pr > 0.1\n",
    "    \n",
    "    TP = np.sum(np.logical_and(gt_states_on==True,pr_states_on[1:]==True))\n",
    "    FP = np.sum(np.logical_and(gt_states_on==True,pr_states_on[1:]==False))\n",
    "    FN = np.sum(np.logical_and(gt_states_on==False,pr_states_on[1:]==True))\n",
    "    TN = np.sum(np.logical_and(gt_states_on==False,pr_states_on[1:]==False))\n",
    "    P = np.sum(gt_states_on==True)\n",
    "    N = np.sum(gt_states_on==False)\n",
    "    \n",
    "    recall = TP/float(TP+FN)\n",
    "    precision = TP/float(TP+FP)\n",
    "    f1 = 2*precision*recall/(precision+recall)\n",
    "    accuracy = (TP+TN)/float(P+N)\n",
    "    \n",
    "    result = {'F1-Score':f1,\n",
    "             'Precision':precision,\n",
    "             'Recall':recall,\n",
    "             'Accuracy':accuracy}\n",
    "    appliances_scores[m.label()] = result"
   ]
  },
  {
   "cell_type": "code",
   "execution_count": 23,
   "metadata": {
    "collapsed": false
   },
   "outputs": [
    {
     "name": "stdout",
     "output_type": "stream",
     "text": [
      "{'Fridge': {'Recall': 0.51383399209486169, 'F1-Score': 0.2810810810810811, 'Precision': 0.19345238095238096, 'Accuracy': 0.52363896848137537}, 'Microwave': {'Recall': 0.11328976034858387, 'F1-Score': 0.18118466898954702, 'Precision': 0.45217391304347826, 'Accuracy': 0.66332378223495703}}\n"
     ]
    }
   ],
   "source": [
    "print(appliances_scores)"
   ]
  },
  {
   "cell_type": "code",
   "execution_count": 24,
   "metadata": {
    "collapsed": false
   },
   "outputs": [],
   "source": [
    "Names = ['Fridge','Microwave']"
   ]
  },
  {
   "cell_type": "markdown",
   "metadata": {},
   "source": [
    "### Results"
   ]
  },
  {
   "cell_type": "markdown",
   "metadata": {},
   "source": [
    "Now we just plot the scores for both the Fridge and the Microwave in order to be able to visualize what is going on. We do not comment on the results in this notebook since we do this in the report. There is a separate notebook where all these results are combined along with the corresponding results from the Neural Network and the FHMM method and the total results are reported side by side to ease comparison. We plot them here as well for housekeeping although it is redundant."
   ]
  },
  {
   "cell_type": "markdown",
   "metadata": {},
   "source": [
    "#### F1-Score"
   ]
  },
  {
   "cell_type": "code",
   "execution_count": 25,
   "metadata": {
    "collapsed": false
   },
   "outputs": [],
   "source": [
    "x = np.arange(2)\n",
    "y = np.array([appliances_scores[i]['F1-Score'] for i in Names])\n",
    "y[np.isnan(y)] = 0.001"
   ]
  },
  {
   "cell_type": "code",
   "execution_count": 26,
   "metadata": {
    "collapsed": false
   },
   "outputs": [
    {
     "data": {
      "image/png": "[encoded data removed]",
      "text/plain": [
       "<matplotlib.figure.Figure at 0xbc1bf98>"
      ]
     },
     "metadata": {},
     "output_type": "display_data"
    }
   ],
   "source": [
    "f = plt.figure(figsize=(18,8))\n",
    "plt.rc('font', size=20, **{'family': 'serif', 'serif': ['Computer Modern']})\n",
    "plt.rc('text', usetex=True)\n",
    "ax = f.add_axes([0.2,0.2,0.8,0.8])\n",
    "ax.bar(x,y,align='center')\n",
    "ax.set_xticks(x)\n",
    "ax.set_yticks(y)\n",
    "ax.set_yticklabels(y,fontsize=20)\n",
    "ax.set_xticklabels(Names,fontsize=20)\n",
    "ax.set_xlim([min(x)-0.5,max(x)+0.5])\n",
    "plt.xlabel('Appliances',fontsize=20)\n",
    "plt.ylabel('F1-Score',fontsize=20)\n",
    "plt.title('Combinatorial Optimization',fontsize=22)\n",
    "plt.show()"
   ]
  },
  {
   "cell_type": "markdown",
   "metadata": {},
   "source": [
    "#### Precision"
   ]
  },
  {
   "cell_type": "code",
   "execution_count": 27,
   "metadata": {
    "collapsed": false
   },
   "outputs": [],
   "source": [
    "x = np.arange(2)\n",
    "y = np.array([appliances_scores[i]['Precision'] for i in Names])\n",
    "y[np.isnan(y)] = 0.001"
   ]
  },
  {
   "cell_type": "code",
   "execution_count": 28,
   "metadata": {
    "collapsed": false
   },
   "outputs": [
    {
     "data": {
      "image/png": "[encoded data removed]",
      "text/plain": [
       "<matplotlib.figure.Figure at 0x17264898>"
      ]
     },
     "metadata": {},
     "output_type": "display_data"
    }
   ],
   "source": [
    "f = plt.figure(figsize=(18,8))\n",
    "plt.rc('font', size=20, **{'family': 'serif', 'serif': ['Computer Modern']})\n",
    "plt.rc('text', usetex=True)\n",
    "ax = f.add_axes([0.2,0.2,0.8,0.8])\n",
    "ax.bar(x,y,align='center')\n",
    "ax.set_xticks(x)\n",
    "ax.set_yticks(y)\n",
    "ax.set_yticklabels(y,fontsize=20)\n",
    "ax.set_xticklabels(Names,fontsize=20)\n",
    "ax.set_xlim([min(x)-0.5,max(x)+0.5])\n",
    "plt.xlabel('Appliances',fontsize=20)\n",
    "plt.ylabel('Precision',fontsize=20)\n",
    "plt.title('Combinatorial Optimization',fontsize=22)\n",
    "plt.show()"
   ]
  },
  {
   "cell_type": "markdown",
   "metadata": {},
   "source": [
    "#### Recall"
   ]
  },
  {
   "cell_type": "code",
   "execution_count": 29,
   "metadata": {
    "collapsed": true
   },
   "outputs": [],
   "source": [
    "x = np.arange(2)\n",
    "y = np.array([appliances_scores[i]['Recall'] for i in Names])\n",
    "y[np.isnan(y)] = 0.001"
   ]
  },
  {
   "cell_type": "code",
   "execution_count": 30,
   "metadata": {
    "collapsed": false
   },
   "outputs": [
    {
     "data": {
      "image/png": "[encoded data removed]",
      "text/plain": [
       "<matplotlib.figure.Figure at 0x123a1240>"
      ]
     },
     "metadata": {},
     "output_type": "display_data"
    }
   ],
   "source": [
    "f = plt.figure(figsize=(18,8))\n",
    "plt.rc('font', size=20, **{'family': 'serif', 'serif': ['Computer Modern']})\n",
    "plt.rc('text', usetex=True)\n",
    "ax = f.add_axes([0.2,0.2,0.8,0.8])\n",
    "ax.bar(x,y,align='center')\n",
    "ax.set_xticks(x)\n",
    "ax.set_yticks(y)\n",
    "ax.set_yticklabels(y,fontsize=20)\n",
    "ax.set_xticklabels(['Fridge','Sockets','Lights'],fontsize=20)\n",
    "ax.set_xlim([min(x)-0.5,max(x)+0.5])\n",
    "plt.xlabel('Appliances',fontsize=20)\n",
    "plt.ylabel('Recall',fontsize=20)\n",
    "plt.title('Combinatorial Optimization',fontsize=22)\n",
    "plt.show()"
   ]
  },
  {
   "cell_type": "markdown",
   "metadata": {},
   "source": [
    "#### Accuracy"
   ]
  },
  {
   "cell_type": "code",
   "execution_count": 31,
   "metadata": {
    "collapsed": true
   },
   "outputs": [],
   "source": [
    "x = np.arange(2)\n",
    "y = np.array([appliances_scores[i]['Accuracy'] for i in Names])\n",
    "y[np.isnan(y)] = 0.001"
   ]
  },
  {
   "cell_type": "code",
   "execution_count": 32,
   "metadata": {
    "collapsed": false
   },
   "outputs": [
    {
     "data": {
      "image/png": "[encoded data removed]",
      "text/plain": [
       "<matplotlib.figure.Figure at 0x11d75b38>"
      ]
     },
     "metadata": {},
     "output_type": "display_data"
    }
   ],
   "source": [
    "f = plt.figure(figsize=(18,8))\n",
    "plt.rc('font', size=20, **{'family': 'serif', 'serif': ['Computer Modern']})\n",
    "plt.rc('text', usetex=True)\n",
    "ax = f.add_axes([0.2,0.2,0.8,0.8])\n",
    "ax.bar(x,y,align='center')\n",
    "ax.set_xticks(x)\n",
    "ax.set_yticks(y)\n",
    "ax.set_yticklabels(y,fontsize=20)\n",
    "ax.set_xticklabels(['Fridge','Sockets','Lights'],fontsize=20)\n",
    "ax.set_xlim([min(x)-0.5,max(x)+0.5])\n",
    "plt.xlabel('Appliances',fontsize=20)\n",
    "plt.ylabel('Accuracy',fontsize=20)\n",
    "plt.title('Combinatorial Optimization',fontsize=22)\n",
    "plt.show()"
   ]
  },
  {
   "cell_type": "code",
   "execution_count": null,
   "metadata": {
    "collapsed": true
   },
   "outputs": [],
   "source": []
  }
 ],
 "metadata": {
  "kernelspec": {
   "display_name": "Python 2",
   "language": "python",
   "name": "python2"
  },
  "language_info": {
   "codemirror_mode": {
    "name": "ipython",
    "version": 2
   },
   "file_extension": ".py",
   "mimetype": "text/x-python",
   "name": "python",
   "nbconvert_exporter": "python",
   "pygments_lexer": "ipython2",
   "version": "2.7.11"
  }
 },
 "nbformat": 4,
 "nbformat_minor": 0
}

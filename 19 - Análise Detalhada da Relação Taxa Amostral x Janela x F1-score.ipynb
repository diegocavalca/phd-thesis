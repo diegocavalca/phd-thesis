{
 "cells": [
  {
   "cell_type": "markdown",
   "metadata": {},
   "source": [
    "# Análise Detalhada da Relação Taxa Amostral x Janela x F1-score"
   ]
  },
  {
   "cell_type": "markdown",
   "metadata": {},
   "source": [
    "A ideia é fazer uma análise do <u>impacto dos parâmetros de Taxa Amostral e Janela</u> na qualidade dos modelos binários. \n",
    "\n",
    "Os dados utilizados neste estudo foram os obtidos no `estudo 17`.\n",
    "\n",
    "Para isto, vamos dividir a análise em dois indicadores:\n",
    "\n",
    "1. Melhor Taxa Amostral global e a relação de melhores Janelas por Aparelho;\n",
    "2. Melhores combinações de Taxa Amostral e Janelas por Aparelho."
   ]
  },
  {
   "cell_type": "markdown",
   "metadata": {},
   "source": [
    "# Configurações"
   ]
  },
  {
   "cell_type": "code",
   "execution_count": 1,
   "metadata": {
    "ExecuteTime": {
     "end_time": "2021-03-30T11:11:57.521939Z",
     "start_time": "2021-03-30T11:11:55.056075Z"
    }
   },
   "outputs": [],
   "source": [
    "import os\n",
    "import sys\n",
    "import gc\n",
    "from pprint import pprint\n",
    "from collections import Counter\n",
    "import copy\n",
    "import warnings\n",
    "warnings.filterwarnings(action=\"ignore\")\n",
    "\n",
    "import numpy as np\n",
    "import pandas as pd\n",
    "from matplotlib import pyplot as plt\n",
    "from IPython.display import display\n",
    "%load_ext watermark\n",
    "\n",
    "# TODO: implementar rotina na classe PyNILM.utils\n",
    "def sizeof_fmt(num, suffix='B'):\n",
    "    ''' by Fred Cirera,  https://stackoverflow.com/a/1094933/1870254, modified'''\n",
    "    for unit in ['','Ki','Mi','Gi','Ti','Pi','Ei','Zi']:\n",
    "        if abs(num) < 1024.0:\n",
    "            return \"%3.1f %s%s\" % (num, unit, suffix)\n",
    "        num /= 1024.0\n",
    "    return \"%.1f %s%s\" % (num, 'Yi', suffix)\n",
    "\n",
    "def listar_variaveis_memoria(ambiente):\n",
    "    print(\"* Variáveis instanciadas em memória:\")\n",
    "    print(\"---\")\n",
    "    total = 0\n",
    "    for name, size in sorted(((name, sys.getsizeof(value)) for name, value in ambiente.items()),\n",
    "                             key= lambda x: -x[1])[:10]:\n",
    "        total += size\n",
    "        print(\"{:>30}: {:>8}\".format(name, sizeof_fmt(size)))\n",
    "    print(\"---\")\n",
    "    print(\"Total:\", sizeof_fmt(total))\n",
    "    \n",
    "# TODO: implementar na classe utils\n",
    "def highlight_col(x):\n",
    "    r = 'background-color: #D9D9D9'\n",
    "    df1 = pd.DataFrame('', index=x.index, columns=x.columns)\n",
    "    df1.iloc[:, -2] = r\n",
    "    return df1   "
   ]
  },
  {
   "cell_type": "code",
   "execution_count": 2,
   "metadata": {
    "ExecuteTime": {
     "end_time": "2021-03-30T11:11:57.537588Z",
     "start_time": "2021-03-30T11:11:57.524594Z"
    }
   },
   "outputs": [],
   "source": [
    "# CONSTANTES FUNDAMENTAIS DE ORGANIZACAO DE PASTAS/ARQUIVOS\n",
    "\n",
    "# Path do arquivo H5 (base REDD ja preparada p/ NILMTK) e outros insumos fundamentais\n",
    "caminho_dados = \"D:/Projetos/phd-thesis/datasets/\"\n",
    "\n",
    "# Definir diretorios onde iremos salvar os insumos gerados do notebook (dados, imagens, etc.)\n",
    "caminho_dados_notebook = os.path.join(caminho_dados, \"19\") # Num. notebook\n",
    "if not os.path.isdir(caminho_dados_notebook):\n",
    "    os.makedirs(caminho_dados_notebook)\n",
    "caminho_imagens_notebook = os.path.join(caminho_dados_notebook, \"imagens\") # Num. notebook\n",
    "if not os.path.isdir(caminho_imagens_notebook):\n",
    "    os.makedirs(caminho_imagens_notebook)\n",
    "\n",
    "# Path do arquivo H5 (base REDD ja preparada p/ NILMTK)\n",
    "caminho_redd = os.path.join(caminho_dados, \"REDD/low_freq\")\n",
    "\n",
    "# Path completo do arquivo REDD\n",
    "arquivo_dataset = os.path.join(caminho_redd, \"redd.h5\")\n",
    "\n",
    "# VARIAVEL AUXILIAR\n",
    "# Path dos arquivos relacionados as janelas\n",
    "caminho_janelas = os.path.join(caminho_redd, \"../../phd\")\n",
    "if not os.path.isdir(caminho_janelas):\n",
    "    os.makedirs(caminho_janelas)"
   ]
  },
  {
   "cell_type": "markdown",
   "metadata": {},
   "source": [
    "# Dados"
   ]
  },
  {
   "cell_type": "code",
   "execution_count": 3,
   "metadata": {
    "ExecuteTime": {
     "end_time": "2021-03-30T11:11:59.016233Z",
     "start_time": "2021-03-30T11:11:58.969082Z"
    }
   },
   "outputs": [
    {
     "data": {
      "text/html": [
       "<div>\n",
       "<style scoped>\n",
       "    .dataframe tbody tr th:only-of-type {\n",
       "        vertical-align: middle;\n",
       "    }\n",
       "\n",
       "    .dataframe tbody tr th {\n",
       "        vertical-align: top;\n",
       "    }\n",
       "\n",
       "    .dataframe thead th {\n",
       "        text-align: right;\n",
       "    }\n",
       "</style>\n",
       "<table border=\"1\" class=\"dataframe\">\n",
       "  <thead>\n",
       "    <tr style=\"text-align: right;\">\n",
       "      <th></th>\n",
       "      <th>carga</th>\n",
       "      <th>taxa_amostragem</th>\n",
       "      <th>janela</th>\n",
       "      <th>loss</th>\n",
       "      <th>acuracia</th>\n",
       "      <th>precisao</th>\n",
       "      <th>recall</th>\n",
       "      <th>f1</th>\n",
       "      <th>f1_macro</th>\n",
       "    </tr>\n",
       "  </thead>\n",
       "  <tbody>\n",
       "    <tr>\n",
       "      <th>0</th>\n",
       "      <td>dish_washer - 9</td>\n",
       "      <td>2</td>\n",
       "      <td>1080</td>\n",
       "      <td>0.03</td>\n",
       "      <td>97.00</td>\n",
       "      <td>0.00</td>\n",
       "      <td>0.00</td>\n",
       "      <td>0.00</td>\n",
       "      <td>49.24</td>\n",
       "    </tr>\n",
       "    <tr>\n",
       "      <th>1</th>\n",
       "      <td>fridge - 7</td>\n",
       "      <td>2</td>\n",
       "      <td>1080</td>\n",
       "      <td>0.00</td>\n",
       "      <td>100.00</td>\n",
       "      <td>100.00</td>\n",
       "      <td>100.00</td>\n",
       "      <td>100.00</td>\n",
       "      <td>100.00</td>\n",
       "    </tr>\n",
       "    <tr>\n",
       "      <th>2</th>\n",
       "      <td>microwave - 16</td>\n",
       "      <td>2</td>\n",
       "      <td>1080</td>\n",
       "      <td>0.06</td>\n",
       "      <td>94.00</td>\n",
       "      <td>50.00</td>\n",
       "      <td>16.67</td>\n",
       "      <td>25.00</td>\n",
       "      <td>60.94</td>\n",
       "    </tr>\n",
       "    <tr>\n",
       "      <th>3</th>\n",
       "      <td>washer_dryer - 13</td>\n",
       "      <td>2</td>\n",
       "      <td>1080</td>\n",
       "      <td>0.08</td>\n",
       "      <td>92.00</td>\n",
       "      <td>33.33</td>\n",
       "      <td>60.00</td>\n",
       "      <td>42.86</td>\n",
       "      <td>69.28</td>\n",
       "    </tr>\n",
       "    <tr>\n",
       "      <th>4</th>\n",
       "      <td>washer_dryer - 14</td>\n",
       "      <td>2</td>\n",
       "      <td>1080</td>\n",
       "      <td>0.08</td>\n",
       "      <td>92.00</td>\n",
       "      <td>33.33</td>\n",
       "      <td>33.33</td>\n",
       "      <td>33.33</td>\n",
       "      <td>64.54</td>\n",
       "    </tr>\n",
       "    <tr>\n",
       "      <th>...</th>\n",
       "      <td>...</td>\n",
       "      <td>...</td>\n",
       "      <td>...</td>\n",
       "      <td>...</td>\n",
       "      <td>...</td>\n",
       "      <td>...</td>\n",
       "      <td>...</td>\n",
       "      <td>...</td>\n",
       "      <td>...</td>\n",
       "    </tr>\n",
       "    <tr>\n",
       "      <th>150</th>\n",
       "      <td>dish_washer - 9</td>\n",
       "      <td>5</td>\n",
       "      <td>90</td>\n",
       "      <td>0.02</td>\n",
       "      <td>97.69</td>\n",
       "      <td>0.00</td>\n",
       "      <td>0.00</td>\n",
       "      <td>0.00</td>\n",
       "      <td>49.42</td>\n",
       "    </tr>\n",
       "    <tr>\n",
       "      <th>151</th>\n",
       "      <td>fridge - 7</td>\n",
       "      <td>5</td>\n",
       "      <td>90</td>\n",
       "      <td>0.21</td>\n",
       "      <td>78.99</td>\n",
       "      <td>82.66</td>\n",
       "      <td>80.87</td>\n",
       "      <td>81.75</td>\n",
       "      <td>78.50</td>\n",
       "    </tr>\n",
       "    <tr>\n",
       "      <th>152</th>\n",
       "      <td>microwave - 16</td>\n",
       "      <td>5</td>\n",
       "      <td>90</td>\n",
       "      <td>0.02</td>\n",
       "      <td>98.11</td>\n",
       "      <td>0.00</td>\n",
       "      <td>0.00</td>\n",
       "      <td>0.00</td>\n",
       "      <td>49.52</td>\n",
       "    </tr>\n",
       "    <tr>\n",
       "      <th>153</th>\n",
       "      <td>washer_dryer - 13</td>\n",
       "      <td>5</td>\n",
       "      <td>90</td>\n",
       "      <td>0.01</td>\n",
       "      <td>98.53</td>\n",
       "      <td>72.22</td>\n",
       "      <td>86.67</td>\n",
       "      <td>78.79</td>\n",
       "      <td>89.01</td>\n",
       "    </tr>\n",
       "    <tr>\n",
       "      <th>154</th>\n",
       "      <td>washer_dryer - 14</td>\n",
       "      <td>5</td>\n",
       "      <td>90</td>\n",
       "      <td>0.02</td>\n",
       "      <td>97.69</td>\n",
       "      <td>90.91</td>\n",
       "      <td>50.00</td>\n",
       "      <td>64.52</td>\n",
       "      <td>81.66</td>\n",
       "    </tr>\n",
       "  </tbody>\n",
       "</table>\n",
       "<p>155 rows × 9 columns</p>\n",
       "</div>"
      ],
      "text/plain": [
       "                 carga  taxa_amostragem  janela  loss  acuracia  precisao  \\\n",
       "0      dish_washer - 9                2    1080  0.03     97.00      0.00   \n",
       "1           fridge - 7                2    1080  0.00    100.00    100.00   \n",
       "2       microwave - 16                2    1080  0.06     94.00     50.00   \n",
       "3    washer_dryer - 13                2    1080  0.08     92.00     33.33   \n",
       "4    washer_dryer - 14                2    1080  0.08     92.00     33.33   \n",
       "..                 ...              ...     ...   ...       ...       ...   \n",
       "150    dish_washer - 9                5      90  0.02     97.69      0.00   \n",
       "151         fridge - 7                5      90  0.21     78.99     82.66   \n",
       "152     microwave - 16                5      90  0.02     98.11      0.00   \n",
       "153  washer_dryer - 13                5      90  0.01     98.53     72.22   \n",
       "154  washer_dryer - 14                5      90  0.02     97.69     90.91   \n",
       "\n",
       "     recall      f1  f1_macro  \n",
       "0      0.00    0.00     49.24  \n",
       "1    100.00  100.00    100.00  \n",
       "2     16.67   25.00     60.94  \n",
       "3     60.00   42.86     69.28  \n",
       "4     33.33   33.33     64.54  \n",
       "..      ...     ...       ...  \n",
       "150    0.00    0.00     49.42  \n",
       "151   80.87   81.75     78.50  \n",
       "152    0.00    0.00     49.52  \n",
       "153   86.67   78.79     89.01  \n",
       "154   50.00   64.52     81.66  \n",
       "\n",
       "[155 rows x 9 columns]"
      ]
     },
     "execution_count": 3,
     "metadata": {},
     "output_type": "execute_result"
    }
   ],
   "source": [
    "# Checar se df dos resultados foi carregado\n",
    "if not 'df_resultados' in locals():\n",
    "    df_resultados = pd.read_csv(os.path.join(os.path.join(caminho_dados, \"17\"), \"resultados_taxa-amostragem_janelas.csv\"), index_col=[0])\n",
    "df_resultados"
   ]
  },
  {
   "cell_type": "markdown",
   "metadata": {
    "ExecuteTime": {
     "end_time": "2020-05-27T18:10:46.463469Z",
     "start_time": "2020-05-27T18:10:46.441528Z"
    }
   },
   "source": [
    "# Análise"
   ]
  },
  {
   "cell_type": "markdown",
   "metadata": {},
   "source": [
    "## Melhor Taxa Amostral global e relação de melhores Janelas por Aparelho"
   ]
  },
  {
   "cell_type": "code",
   "execution_count": 4,
   "metadata": {
    "ExecuteTime": {
     "end_time": "2021-03-30T11:12:02.415290Z",
     "start_time": "2021-03-30T11:12:02.391354Z"
    }
   },
   "outputs": [
    {
     "data": {
      "text/html": [
       "<div>\n",
       "<style scoped>\n",
       "    .dataframe tbody tr th:only-of-type {\n",
       "        vertical-align: middle;\n",
       "    }\n",
       "\n",
       "    .dataframe tbody tr th {\n",
       "        vertical-align: top;\n",
       "    }\n",
       "\n",
       "    .dataframe thead tr th {\n",
       "        text-align: left;\n",
       "    }\n",
       "\n",
       "    .dataframe thead tr:last-of-type th {\n",
       "        text-align: right;\n",
       "    }\n",
       "</style>\n",
       "<table border=\"1\" class=\"dataframe\">\n",
       "  <thead>\n",
       "    <tr>\n",
       "      <th></th>\n",
       "      <th colspan=\"5\" halign=\"left\">acuracia</th>\n",
       "      <th colspan=\"5\" halign=\"left\">f1_macro</th>\n",
       "    </tr>\n",
       "    <tr>\n",
       "      <th></th>\n",
       "      <th>count</th>\n",
       "      <th>mean</th>\n",
       "      <th>std</th>\n",
       "      <th>min</th>\n",
       "      <th>max</th>\n",
       "      <th>count</th>\n",
       "      <th>mean</th>\n",
       "      <th>std</th>\n",
       "      <th>min</th>\n",
       "      <th>max</th>\n",
       "    </tr>\n",
       "    <tr>\n",
       "      <th>taxa_amostragem</th>\n",
       "      <th></th>\n",
       "      <th></th>\n",
       "      <th></th>\n",
       "      <th></th>\n",
       "      <th></th>\n",
       "      <th></th>\n",
       "      <th></th>\n",
       "      <th></th>\n",
       "      <th></th>\n",
       "      <th></th>\n",
       "    </tr>\n",
       "  </thead>\n",
       "  <tbody>\n",
       "    <tr>\n",
       "      <th>2</th>\n",
       "      <td>45</td>\n",
       "      <td>94.357333</td>\n",
       "      <td>7.274399</td>\n",
       "      <td>71.67</td>\n",
       "      <td>100.00</td>\n",
       "      <td>45</td>\n",
       "      <td>68.275556</td>\n",
       "      <td>15.679079</td>\n",
       "      <td>48.28</td>\n",
       "      <td>100.00</td>\n",
       "    </tr>\n",
       "    <tr>\n",
       "      <th>3</th>\n",
       "      <td>45</td>\n",
       "      <td>94.198667</td>\n",
       "      <td>6.175332</td>\n",
       "      <td>73.59</td>\n",
       "      <td>100.00</td>\n",
       "      <td>45</td>\n",
       "      <td>66.889556</td>\n",
       "      <td>15.864066</td>\n",
       "      <td>47.09</td>\n",
       "      <td>100.00</td>\n",
       "    </tr>\n",
       "    <tr>\n",
       "      <th>4</th>\n",
       "      <td>40</td>\n",
       "      <td>93.646250</td>\n",
       "      <td>6.933205</td>\n",
       "      <td>73.01</td>\n",
       "      <td>100.00</td>\n",
       "      <td>40</td>\n",
       "      <td>67.329500</td>\n",
       "      <td>17.355146</td>\n",
       "      <td>45.95</td>\n",
       "      <td>100.00</td>\n",
       "    </tr>\n",
       "    <tr>\n",
       "      <th>5</th>\n",
       "      <td>25</td>\n",
       "      <td>94.402800</td>\n",
       "      <td>6.950410</td>\n",
       "      <td>75.44</td>\n",
       "      <td>99.37</td>\n",
       "      <td>25</td>\n",
       "      <td>67.888800</td>\n",
       "      <td>15.919910</td>\n",
       "      <td>48.50</td>\n",
       "      <td>94.26</td>\n",
       "    </tr>\n",
       "  </tbody>\n",
       "</table>\n",
       "</div>"
      ],
      "text/plain": [
       "                acuracia                                     f1_macro  \\\n",
       "                   count       mean       std    min     max    count   \n",
       "taxa_amostragem                                                         \n",
       "2                     45  94.357333  7.274399  71.67  100.00       45   \n",
       "3                     45  94.198667  6.175332  73.59  100.00       45   \n",
       "4                     40  93.646250  6.933205  73.01  100.00       40   \n",
       "5                     25  94.402800  6.950410  75.44   99.37       25   \n",
       "\n",
       "                                                      \n",
       "                      mean        std    min     max  \n",
       "taxa_amostragem                                       \n",
       "2                68.275556  15.679079  48.28  100.00  \n",
       "3                66.889556  15.864066  47.09  100.00  \n",
       "4                67.329500  17.355146  45.95  100.00  \n",
       "5                67.888800  15.919910  48.50   94.26  "
      ]
     },
     "execution_count": 4,
     "metadata": {},
     "output_type": "execute_result"
    }
   ],
   "source": [
    "# Verificar o desempenho GERAL (todos as janelas/aparelhos) por taxa amostral\n",
    "# (premissa basica inicial pro sistema de NILM)\n",
    "df_resultados.groupby(\"taxa_amostragem\").agg({\n",
    "    \"acuracia\":[\"count\",\"mean\", \"std\",\"min\",\"max\"],\n",
    "    \"f1_macro\":[\"count\",\"mean\", \"std\",\"min\",\"max\"]\n",
    "})"
   ]
  },
  {
   "cell_type": "markdown",
   "metadata": {},
   "source": [
    "**NOTA:** A melhor Taxa Amostral global:\n",
    "\n",
    "* Considerando `Acurácia`: 5 segundos (diferente do utilizado no estudo anterior - 3)\n",
    "* Considerando `F1-score`: 2 segundos (adotado a partir deste estudo)"
   ]
  },
  {
   "cell_type": "code",
   "execution_count": 5,
   "metadata": {
    "ExecuteTime": {
     "end_time": "2021-03-30T11:12:24.637022Z",
     "start_time": "2021-03-30T11:12:24.618073Z"
    }
   },
   "outputs": [],
   "source": [
    "# Melhor taxa amostragem encontrada\n",
    "melhor_taxa = 2\n",
    "\n",
    "# Metrica utilizada para selecionar benchmark\n",
    "METRICA_COMPARATIVA = {\"metrica\": \"f1_macro\", \"rotulo\": \"F1-macro\"}"
   ]
  },
  {
   "cell_type": "code",
   "execution_count": 6,
   "metadata": {
    "ExecuteTime": {
     "end_time": "2021-03-30T11:12:25.930255Z",
     "start_time": "2021-03-30T11:12:25.863392Z"
    }
   },
   "outputs": [
    {
     "name": "stdout",
     "output_type": "stream",
     "text": [
      "dish_washer - 9\n",
      "fridge - 7\n",
      "microwave - 16\n",
      "washer_dryer - 13\n",
      "washer_dryer - 14\n"
     ]
    },
    {
     "data": {
      "text/html": [
       "<div>\n",
       "<style scoped>\n",
       "    .dataframe tbody tr th:only-of-type {\n",
       "        vertical-align: middle;\n",
       "    }\n",
       "\n",
       "    .dataframe tbody tr th {\n",
       "        vertical-align: top;\n",
       "    }\n",
       "\n",
       "    .dataframe thead th {\n",
       "        text-align: right;\n",
       "    }\n",
       "</style>\n",
       "<table border=\"1\" class=\"dataframe\">\n",
       "  <thead>\n",
       "    <tr style=\"text-align: right;\">\n",
       "      <th></th>\n",
       "      <th>carga</th>\n",
       "      <th>taxa_amostragem</th>\n",
       "      <th>janela</th>\n",
       "      <th>loss</th>\n",
       "      <th>acuracia</th>\n",
       "      <th>precisao</th>\n",
       "      <th>recall</th>\n",
       "      <th>f1</th>\n",
       "      <th>f1_macro</th>\n",
       "    </tr>\n",
       "  </thead>\n",
       "  <tbody>\n",
       "    <tr>\n",
       "      <th>0</th>\n",
       "      <td>dish_washer - 9</td>\n",
       "      <td>2</td>\n",
       "      <td>720</td>\n",
       "      <td>0.05</td>\n",
       "      <td>95.33</td>\n",
       "      <td>20.00</td>\n",
       "      <td>25.00</td>\n",
       "      <td>22.22</td>\n",
       "      <td>59.91</td>\n",
       "    </tr>\n",
       "    <tr>\n",
       "      <th>1</th>\n",
       "      <td>fridge - 7</td>\n",
       "      <td>2</td>\n",
       "      <td>1080</td>\n",
       "      <td>0.00</td>\n",
       "      <td>100.00</td>\n",
       "      <td>100.00</td>\n",
       "      <td>100.00</td>\n",
       "      <td>100.00</td>\n",
       "      <td>100.00</td>\n",
       "    </tr>\n",
       "    <tr>\n",
       "      <th>2</th>\n",
       "      <td>microwave - 16</td>\n",
       "      <td>2</td>\n",
       "      <td>900</td>\n",
       "      <td>0.04</td>\n",
       "      <td>95.83</td>\n",
       "      <td>66.67</td>\n",
       "      <td>33.33</td>\n",
       "      <td>44.44</td>\n",
       "      <td>71.14</td>\n",
       "    </tr>\n",
       "    <tr>\n",
       "      <th>3</th>\n",
       "      <td>washer_dryer - 13</td>\n",
       "      <td>2</td>\n",
       "      <td>60</td>\n",
       "      <td>0.00</td>\n",
       "      <td>99.89</td>\n",
       "      <td>100.00</td>\n",
       "      <td>95.74</td>\n",
       "      <td>97.83</td>\n",
       "      <td>98.88</td>\n",
       "    </tr>\n",
       "    <tr>\n",
       "      <th>4</th>\n",
       "      <td>washer_dryer - 14</td>\n",
       "      <td>2</td>\n",
       "      <td>60</td>\n",
       "      <td>0.02</td>\n",
       "      <td>98.03</td>\n",
       "      <td>97.37</td>\n",
       "      <td>52.11</td>\n",
       "      <td>67.89</td>\n",
       "      <td>83.44</td>\n",
       "    </tr>\n",
       "  </tbody>\n",
       "</table>\n",
       "</div>"
      ],
      "text/plain": [
       "               carga taxa_amostragem janela  loss  acuracia  precisao  recall  \\\n",
       "0    dish_washer - 9               2    720  0.05     95.33     20.00   25.00   \n",
       "1         fridge - 7               2   1080  0.00    100.00    100.00  100.00   \n",
       "2     microwave - 16               2    900  0.04     95.83     66.67   33.33   \n",
       "3  washer_dryer - 13               2     60  0.00     99.89    100.00   95.74   \n",
       "4  washer_dryer - 14               2     60  0.02     98.03     97.37   52.11   \n",
       "\n",
       "       f1  f1_macro  \n",
       "0   22.22     59.91  \n",
       "1  100.00    100.00  \n",
       "2   44.44     71.14  \n",
       "3   97.83     98.88  \n",
       "4   67.89     83.44  "
      ]
     },
     "execution_count": 6,
     "metadata": {},
     "output_type": "execute_result"
    }
   ],
   "source": [
    "# Verificar as melhores janelas obtidas para a taxa amostral + benchmark para pesquisa\n",
    "df_melhores_janelas = pd.DataFrame(data={},columns=df_resultados.columns)\n",
    "for carga in df_resultados[\"carga\"].unique():\n",
    "    print(carga)\n",
    "    df = df_resultados.loc[\n",
    "        (df_resultados[\"taxa_amostragem\"]==melhor_taxa) & \\\n",
    "            (df_resultados[\"carga\"]==carga),\n",
    "        :\n",
    "    ]\n",
    "    df.reset_index(inplace=True, drop=True)\n",
    "\n",
    "    df.sort_values(METRICA_COMPARATIVA[\"metrica\"], ascending=False, inplace=True)\n",
    "    melhor_score = df.iloc[0]\n",
    "    df_melhores_janelas = df_melhores_janelas.append(melhor_score, ignore_index=True)\n",
    "\n",
    "# Melhores janelas por aparelho (taxa fixa = 8)\n",
    "df_melhores_janelas"
   ]
  },
  {
   "cell_type": "code",
   "execution_count": 12,
   "metadata": {
    "ExecuteTime": {
     "end_time": "2021-03-30T11:13:28.763236Z",
     "start_time": "2021-03-30T11:13:28.743276Z"
    }
   },
   "outputs": [],
   "source": [
    "# Persistindo dados das melhores combinções de taxa e janela por aparelho\n",
    "df_melhores_janelas.to_csv(os.path.join(caminho_dados_notebook, f\"melhores_taxa{melhor_taxa}_janela_aparelhos.csv\"))"
   ]
  },
  {
   "cell_type": "code",
   "execution_count": null,
   "metadata": {},
   "outputs": [],
   "source": []
  },
  {
   "cell_type": "code",
   "execution_count": 13,
   "metadata": {
    "ExecuteTime": {
     "end_time": "2021-03-30T11:13:38.625018Z",
     "start_time": "2021-03-30T11:13:38.608064Z"
    }
   },
   "outputs": [
    {
     "data": {
      "text/plain": [
       "{'taxa': []}"
      ]
     },
     "execution_count": 13,
     "metadata": {},
     "output_type": "execute_result"
    }
   ],
   "source": [
    "from itertools import repeat\n",
    "comparativo = {\"taxa\": []}\n",
    "comparativo"
   ]
  },
  {
   "cell_type": "code",
   "execution_count": 14,
   "metadata": {
    "ExecuteTime": {
     "end_time": "2021-03-30T11:13:39.227740Z",
     "start_time": "2021-03-30T11:13:39.207753Z"
    }
   },
   "outputs": [
    {
     "name": "stdout",
     "output_type": "stream",
     "text": [
      "* acuracia:\n",
      "---\n",
      "mean: 97.816\n",
      "std : 2.193\n",
      "max : 100.000\n",
      "min : 95.330\n",
      "\n",
      "* precisao:\n",
      "---\n",
      "mean: 76.808\n",
      "std : 34.744\n",
      "max : 100.000\n",
      "min : 20.000\n",
      "\n",
      "* recall:\n",
      "---\n",
      "mean: 61.236\n",
      "std : 34.886\n",
      "max : 100.000\n",
      "min : 25.000\n",
      "\n",
      "* f1:\n",
      "---\n",
      "mean: 66.476\n",
      "std : 33.738\n",
      "max : 100.000\n",
      "min : 22.220\n",
      "\n",
      "* f1_macro:\n",
      "---\n",
      "mean: 82.674\n",
      "std : 17.426\n",
      "max : 100.000\n",
      "min : 59.910\n",
      "\n",
      "* loss:\n",
      "---\n",
      "mean: 0.022\n",
      "std : 0.023\n",
      "max : 0.050\n",
      "min : 0.000\n",
      "\n"
     ]
    }
   ],
   "source": [
    "# Resumo por metrica\n",
    "comparativo[\"taxa\"].append(\"fixa\")\n",
    "for metrica in [\"acuracia\",\"precisao\",\"recall\",\"f1\",\"f1_macro\",\"loss\"]:\n",
    "    print(\"*\", metrica+\":\")\n",
    "    print(\"---\")\n",
    "    print(\"mean: {:.3f}\".format(df_melhores_janelas[metrica].mean()) )\n",
    "    print(\"std : {:.3f}\".format(df_melhores_janelas[metrica].std()) )\n",
    "    print(\"max : {:.3f}\".format(df_melhores_janelas[metrica].max()) )\n",
    "    print(\"min : {:.3f}\".format(df_melhores_janelas[metrica].min()) )    \n",
    "    print()\n",
    "    \n",
    "    if not metrica in comparativo:\n",
    "        comparativo[metrica] = []\n",
    "        \n",
    "    comparativo[metrica].append(df_melhores_janelas[metrica].mean())\n",
    "# pd.set_option('display.float_format', lambda x: '%.3f' % x)\n",
    "# df_melhores_janelas.groupby([\"taxa_amostragem\"]).agg({\n",
    "#     \"acuracia\": [\"mean\",\"std\",\"min\",\"max\"],\n",
    "#     \"precisao\": [\"mean\",\"std\",\"min\",\"max\"],\n",
    "#     \"recall\": [\"mean\",\"std\",\"min\",\"max\"],\n",
    "#     #\"f1\": [\"mean\",\"std\",\"min\",\"max\"],\n",
    "#     \"f1_macro\": [\"mean\",\"std\",\"min\",\"max\"],\n",
    "#     \"loss\": [\"mean\",\"std\",\"min\",\"max\"],\n",
    "# }).T"
   ]
  },
  {
   "cell_type": "code",
   "execution_count": null,
   "metadata": {},
   "outputs": [],
   "source": []
  },
  {
   "cell_type": "markdown",
   "metadata": {},
   "source": [
    "## Melhores combinações de Taxa Amostral e Janelas por Aparelho"
   ]
  },
  {
   "cell_type": "code",
   "execution_count": 15,
   "metadata": {
    "ExecuteTime": {
     "end_time": "2021-03-30T11:13:58.430799Z",
     "start_time": "2021-03-30T11:13:58.375936Z"
    }
   },
   "outputs": [
    {
     "data": {
      "text/html": [
       "<div>\n",
       "<style scoped>\n",
       "    .dataframe tbody tr th:only-of-type {\n",
       "        vertical-align: middle;\n",
       "    }\n",
       "\n",
       "    .dataframe tbody tr th {\n",
       "        vertical-align: top;\n",
       "    }\n",
       "\n",
       "    .dataframe thead th {\n",
       "        text-align: right;\n",
       "    }\n",
       "</style>\n",
       "<table border=\"1\" class=\"dataframe\">\n",
       "  <thead>\n",
       "    <tr style=\"text-align: right;\">\n",
       "      <th></th>\n",
       "      <th>carga</th>\n",
       "      <th>taxa_amostragem</th>\n",
       "      <th>janela</th>\n",
       "      <th>loss</th>\n",
       "      <th>acuracia</th>\n",
       "      <th>precisao</th>\n",
       "      <th>recall</th>\n",
       "      <th>f1</th>\n",
       "      <th>f1_macro</th>\n",
       "    </tr>\n",
       "  </thead>\n",
       "  <tbody>\n",
       "    <tr>\n",
       "      <th>0</th>\n",
       "      <td>dish_washer - 9</td>\n",
       "      <td>2</td>\n",
       "      <td>720</td>\n",
       "      <td>0.05</td>\n",
       "      <td>95.33</td>\n",
       "      <td>20.00</td>\n",
       "      <td>25.00</td>\n",
       "      <td>22.22</td>\n",
       "      <td>59.91</td>\n",
       "    </tr>\n",
       "    <tr>\n",
       "      <th>1</th>\n",
       "      <td>fridge - 7</td>\n",
       "      <td>2</td>\n",
       "      <td>1080</td>\n",
       "      <td>0.00</td>\n",
       "      <td>100.00</td>\n",
       "      <td>100.00</td>\n",
       "      <td>100.00</td>\n",
       "      <td>100.00</td>\n",
       "      <td>100.00</td>\n",
       "    </tr>\n",
       "    <tr>\n",
       "      <th>2</th>\n",
       "      <td>microwave - 16</td>\n",
       "      <td>2</td>\n",
       "      <td>900</td>\n",
       "      <td>0.04</td>\n",
       "      <td>95.83</td>\n",
       "      <td>66.67</td>\n",
       "      <td>33.33</td>\n",
       "      <td>44.44</td>\n",
       "      <td>71.14</td>\n",
       "    </tr>\n",
       "    <tr>\n",
       "      <th>3</th>\n",
       "      <td>washer_dryer - 13</td>\n",
       "      <td>2</td>\n",
       "      <td>60</td>\n",
       "      <td>0.00</td>\n",
       "      <td>99.89</td>\n",
       "      <td>100.00</td>\n",
       "      <td>95.74</td>\n",
       "      <td>97.83</td>\n",
       "      <td>98.88</td>\n",
       "    </tr>\n",
       "    <tr>\n",
       "      <th>4</th>\n",
       "      <td>washer_dryer - 14</td>\n",
       "      <td>3</td>\n",
       "      <td>360</td>\n",
       "      <td>0.02</td>\n",
       "      <td>97.99</td>\n",
       "      <td>100.00</td>\n",
       "      <td>55.56</td>\n",
       "      <td>71.43</td>\n",
       "      <td>85.19</td>\n",
       "    </tr>\n",
       "  </tbody>\n",
       "</table>\n",
       "</div>"
      ],
      "text/plain": [
       "               carga taxa_amostragem janela  loss  acuracia  precisao  recall  \\\n",
       "0    dish_washer - 9               2    720  0.05     95.33     20.00   25.00   \n",
       "1         fridge - 7               2   1080  0.00    100.00    100.00  100.00   \n",
       "2     microwave - 16               2    900  0.04     95.83     66.67   33.33   \n",
       "3  washer_dryer - 13               2     60  0.00     99.89    100.00   95.74   \n",
       "4  washer_dryer - 14               3    360  0.02     97.99    100.00   55.56   \n",
       "\n",
       "       f1  f1_macro  \n",
       "0   22.22     59.91  \n",
       "1  100.00    100.00  \n",
       "2   44.44     71.14  \n",
       "3   97.83     98.88  \n",
       "4   71.43     85.19  "
      ]
     },
     "execution_count": 15,
     "metadata": {},
     "output_type": "execute_result"
    }
   ],
   "source": [
    "# Verificar as melhores janelas obtidas para a taxa amostral + benchmark para pesquisa\n",
    "df_melhores_taxas_janelas = pd.DataFrame(data={},columns=df_resultados.columns)\n",
    "for carga in df_resultados[\"carga\"].unique():\n",
    "    df = df_resultados.loc[\n",
    "        (df_resultados[\"carga\"]==carga),\n",
    "        :\n",
    "    ]\n",
    "    df.reset_index(inplace=True, drop=True)\n",
    "\n",
    "    df.sort_values(METRICA_COMPARATIVA[\"metrica\"], ascending=False, inplace=True)\n",
    "    melhor_score = df.iloc[0]\n",
    "    df_melhores_taxas_janelas = df_melhores_taxas_janelas.append(melhor_score, ignore_index=True)\n",
    "\n",
    "# Melhores taxas e janelas por aparelho (taxa variavel)\n",
    "df_melhores_taxas_janelas"
   ]
  },
  {
   "cell_type": "code",
   "execution_count": 16,
   "metadata": {
    "ExecuteTime": {
     "end_time": "2021-03-30T11:14:01.593614Z",
     "start_time": "2021-03-30T11:14:01.559680Z"
    }
   },
   "outputs": [
    {
     "name": "stdout",
     "output_type": "stream",
     "text": [
      "* acuracia:\n",
      "---\n",
      "mean: 97.808\n",
      "std : 2.192\n",
      "max : 100.000\n",
      "min : 95.330\n",
      "\n",
      "* precisao:\n",
      "---\n",
      "mean: 77.334\n",
      "std : 35.150\n",
      "max : 100.000\n",
      "min : 20.000\n",
      "\n",
      "* recall:\n",
      "---\n",
      "mean: 61.926\n",
      "std : 34.694\n",
      "max : 100.000\n",
      "min : 25.000\n",
      "\n",
      "* f1:\n",
      "---\n",
      "mean: 67.184\n",
      "std : 33.813\n",
      "max : 100.000\n",
      "min : 22.220\n",
      "\n",
      "* f1_macro:\n",
      "---\n",
      "mean: 83.024\n",
      "std : 17.463\n",
      "max : 100.000\n",
      "min : 59.910\n",
      "\n",
      "* loss:\n",
      "---\n",
      "mean: 0.022\n",
      "std : 0.023\n",
      "max : 0.050\n",
      "min : 0.000\n",
      "\n"
     ]
    }
   ],
   "source": [
    "# Resumo por metrica\n",
    "comparativo[\"taxa\"].append(\"variavel\")\n",
    "for metrica in [\"acuracia\",\"precisao\",\"recall\",\"f1\",\"f1_macro\",\"loss\"]:\n",
    "    print(\"*\", metrica+\":\")\n",
    "    print(\"---\")\n",
    "    print(\"mean: {:.3f}\".format(df_melhores_taxas_janelas[metrica].mean()) )\n",
    "    print(\"std : {:.3f}\".format(df_melhores_taxas_janelas[metrica].std()) )\n",
    "    print(\"max : {:.3f}\".format(df_melhores_taxas_janelas[metrica].max()) )\n",
    "    print(\"min : {:.3f}\".format(df_melhores_taxas_janelas[metrica].min()) )    \n",
    "    \n",
    "    comparativo[metrica].append(df_melhores_taxas_janelas[metrica].mean())\n",
    "    \n",
    "    print()"
   ]
  },
  {
   "cell_type": "code",
   "execution_count": 17,
   "metadata": {
    "ExecuteTime": {
     "end_time": "2021-03-30T11:14:10.563906Z",
     "start_time": "2021-03-30T11:14:10.553935Z"
    }
   },
   "outputs": [],
   "source": [
    "# Persistindo dados das melhores combinções de taxa e janela por aparelho\n",
    "df_melhores_taxas_janelas.to_csv(os.path.join(caminho_dados_notebook, \"melhores_taxa_janela_aparelhos.csv\"))"
   ]
  },
  {
   "cell_type": "markdown",
   "metadata": {},
   "source": [
    "## Comparação: Taxa Fixa vs. Taxa Variável por Aparelho"
   ]
  },
  {
   "cell_type": "code",
   "execution_count": 18,
   "metadata": {
    "ExecuteTime": {
     "end_time": "2021-03-30T11:14:13.192150Z",
     "start_time": "2021-03-30T11:14:13.177192Z"
    }
   },
   "outputs": [
    {
     "data": {
      "text/html": [
       "<div>\n",
       "<style scoped>\n",
       "    .dataframe tbody tr th:only-of-type {\n",
       "        vertical-align: middle;\n",
       "    }\n",
       "\n",
       "    .dataframe tbody tr th {\n",
       "        vertical-align: top;\n",
       "    }\n",
       "\n",
       "    .dataframe thead th {\n",
       "        text-align: right;\n",
       "    }\n",
       "</style>\n",
       "<table border=\"1\" class=\"dataframe\">\n",
       "  <thead>\n",
       "    <tr style=\"text-align: right;\">\n",
       "      <th></th>\n",
       "      <th>taxa</th>\n",
       "      <th>acuracia</th>\n",
       "      <th>precisao</th>\n",
       "      <th>recall</th>\n",
       "      <th>f1</th>\n",
       "      <th>f1_macro</th>\n",
       "      <th>loss</th>\n",
       "    </tr>\n",
       "  </thead>\n",
       "  <tbody>\n",
       "    <tr>\n",
       "      <th>0</th>\n",
       "      <td>fixa</td>\n",
       "      <td>97.816</td>\n",
       "      <td>76.808</td>\n",
       "      <td>61.236</td>\n",
       "      <td>66.476</td>\n",
       "      <td>82.674</td>\n",
       "      <td>0.022</td>\n",
       "    </tr>\n",
       "    <tr>\n",
       "      <th>1</th>\n",
       "      <td>variavel</td>\n",
       "      <td>97.808</td>\n",
       "      <td>77.334</td>\n",
       "      <td>61.926</td>\n",
       "      <td>67.184</td>\n",
       "      <td>83.024</td>\n",
       "      <td>0.022</td>\n",
       "    </tr>\n",
       "  </tbody>\n",
       "</table>\n",
       "</div>"
      ],
      "text/plain": [
       "       taxa  acuracia  precisao  recall      f1  f1_macro   loss\n",
       "0      fixa    97.816    76.808  61.236  66.476    82.674  0.022\n",
       "1  variavel    97.808    77.334  61.926  67.184    83.024  0.022"
      ]
     },
     "execution_count": 18,
     "metadata": {},
     "output_type": "execute_result"
    }
   ],
   "source": [
    "df_comparativo = pd.DataFrame(comparativo)\n",
    "df_comparativo"
   ]
  },
  {
   "cell_type": "code",
   "execution_count": 19,
   "metadata": {
    "ExecuteTime": {
     "end_time": "2021-03-30T11:14:26.455081Z",
     "start_time": "2021-03-30T11:14:26.442134Z"
    }
   },
   "outputs": [
    {
     "data": {
      "text/html": [
       "<div>\n",
       "<style scoped>\n",
       "    .dataframe tbody tr th:only-of-type {\n",
       "        vertical-align: middle;\n",
       "    }\n",
       "\n",
       "    .dataframe tbody tr th {\n",
       "        vertical-align: top;\n",
       "    }\n",
       "\n",
       "    .dataframe thead th {\n",
       "        text-align: right;\n",
       "    }\n",
       "</style>\n",
       "<table border=\"1\" class=\"dataframe\">\n",
       "  <thead>\n",
       "    <tr style=\"text-align: right;\">\n",
       "      <th></th>\n",
       "      <th>acuracia</th>\n",
       "      <th>precisao</th>\n",
       "      <th>recall</th>\n",
       "      <th>f1</th>\n",
       "      <th>f1_macro</th>\n",
       "      <th>loss</th>\n",
       "    </tr>\n",
       "    <tr>\n",
       "      <th>taxa</th>\n",
       "      <th></th>\n",
       "      <th></th>\n",
       "      <th></th>\n",
       "      <th></th>\n",
       "      <th></th>\n",
       "      <th></th>\n",
       "    </tr>\n",
       "  </thead>\n",
       "  <tbody>\n",
       "    <tr>\n",
       "      <th>fixa</th>\n",
       "      <td>NaN</td>\n",
       "      <td>NaN</td>\n",
       "      <td>NaN</td>\n",
       "      <td>NaN</td>\n",
       "      <td>NaN</td>\n",
       "      <td>NaN</td>\n",
       "    </tr>\n",
       "    <tr>\n",
       "      <th>variavel</th>\n",
       "      <td>-0.008</td>\n",
       "      <td>0.526</td>\n",
       "      <td>0.69</td>\n",
       "      <td>0.708</td>\n",
       "      <td>0.35</td>\n",
       "      <td>0.0</td>\n",
       "    </tr>\n",
       "  </tbody>\n",
       "</table>\n",
       "</div>"
      ],
      "text/plain": [
       "          acuracia  precisao  recall     f1  f1_macro  loss\n",
       "taxa                                                       \n",
       "fixa           NaN       NaN     NaN    NaN       NaN   NaN\n",
       "variavel    -0.008     0.526    0.69  0.708      0.35   0.0"
      ]
     },
     "execution_count": 19,
     "metadata": {},
     "output_type": "execute_result"
    }
   ],
   "source": [
    "df_comparativo.set_index(\"taxa\").diff()"
   ]
  },
  {
   "cell_type": "markdown",
   "metadata": {},
   "source": [
    "## Comparação: Diferenças Considerando F1-score (macro)"
   ]
  },
  {
   "cell_type": "code",
   "execution_count": 20,
   "metadata": {
    "ExecuteTime": {
     "end_time": "2021-03-30T11:14:31.320129Z",
     "start_time": "2021-03-30T11:14:31.288214Z"
    }
   },
   "outputs": [
    {
     "data": {
      "text/html": [
       "<div>\n",
       "<style scoped>\n",
       "    .dataframe tbody tr th:only-of-type {\n",
       "        vertical-align: middle;\n",
       "    }\n",
       "\n",
       "    .dataframe tbody tr th {\n",
       "        vertical-align: top;\n",
       "    }\n",
       "\n",
       "    .dataframe thead tr th {\n",
       "        text-align: left;\n",
       "    }\n",
       "</style>\n",
       "<table border=\"1\" class=\"dataframe\">\n",
       "  <thead>\n",
       "    <tr>\n",
       "      <th></th>\n",
       "      <th colspan=\"3\" halign=\"left\">Taxa Fixa</th>\n",
       "      <th colspan=\"3\" halign=\"left\">Taxa Variável</th>\n",
       "      <th>Diferença</th>\n",
       "    </tr>\n",
       "    <tr>\n",
       "      <th></th>\n",
       "      <th>Taxa</th>\n",
       "      <th>Janela</th>\n",
       "      <th>F1-macro</th>\n",
       "      <th>Taxa</th>\n",
       "      <th>Janela</th>\n",
       "      <th>F1-macro</th>\n",
       "      <th>F1-macro</th>\n",
       "    </tr>\n",
       "  </thead>\n",
       "  <tbody>\n",
       "    <tr>\n",
       "      <th>dish_washer - 9</th>\n",
       "      <td>2</td>\n",
       "      <td>720</td>\n",
       "      <td>59.91</td>\n",
       "      <td>2</td>\n",
       "      <td>720</td>\n",
       "      <td>59.91</td>\n",
       "      <td>0</td>\n",
       "    </tr>\n",
       "    <tr>\n",
       "      <th>fridge - 7</th>\n",
       "      <td>2</td>\n",
       "      <td>1080</td>\n",
       "      <td>100</td>\n",
       "      <td>2</td>\n",
       "      <td>1080</td>\n",
       "      <td>100</td>\n",
       "      <td>0</td>\n",
       "    </tr>\n",
       "    <tr>\n",
       "      <th>microwave - 16</th>\n",
       "      <td>2</td>\n",
       "      <td>900</td>\n",
       "      <td>71.14</td>\n",
       "      <td>2</td>\n",
       "      <td>900</td>\n",
       "      <td>71.14</td>\n",
       "      <td>0</td>\n",
       "    </tr>\n",
       "    <tr>\n",
       "      <th>washer_dryer - 13</th>\n",
       "      <td>2</td>\n",
       "      <td>60</td>\n",
       "      <td>98.88</td>\n",
       "      <td>2</td>\n",
       "      <td>60</td>\n",
       "      <td>98.88</td>\n",
       "      <td>0</td>\n",
       "    </tr>\n",
       "    <tr>\n",
       "      <th>washer_dryer - 14</th>\n",
       "      <td>2</td>\n",
       "      <td>60</td>\n",
       "      <td>83.44</td>\n",
       "      <td>3</td>\n",
       "      <td>360</td>\n",
       "      <td>85.19</td>\n",
       "      <td>1.75</td>\n",
       "    </tr>\n",
       "  </tbody>\n",
       "</table>\n",
       "</div>"
      ],
      "text/plain": [
       "                  Taxa Fixa                 Taxa Variável                  \\\n",
       "                       Taxa Janela F1-macro          Taxa Janela F1-macro   \n",
       "dish_washer - 9           2    720    59.91             2    720    59.91   \n",
       "fridge - 7                2   1080      100             2   1080      100   \n",
       "microwave - 16            2    900    71.14             2    900    71.14   \n",
       "washer_dryer - 13         2     60    98.88             2     60    98.88   \n",
       "washer_dryer - 14         2     60    83.44             3    360    85.19   \n",
       "\n",
       "                  Diferença  \n",
       "                   F1-macro  \n",
       "dish_washer - 9           0  \n",
       "fridge - 7                0  \n",
       "microwave - 16            0  \n",
       "washer_dryer - 13         0  \n",
       "washer_dryer - 14      1.75  "
      ]
     },
     "execution_count": 20,
     "metadata": {},
     "output_type": "execute_result"
    }
   ],
   "source": [
    "df_comparacao2 = pd.DataFrame(\n",
    "    np.hstack([\n",
    "        df_melhores_janelas[[\"taxa_amostragem\",\"janela\",METRICA_COMPARATIVA[\"metrica\"]]].values,\n",
    "        df_melhores_taxas_janelas[[\"taxa_amostragem\",\"janela\",METRICA_COMPARATIVA[\"metrica\"]]].values,\n",
    "        np.expand_dims(\n",
    "            df_melhores_taxas_janelas[METRICA_COMPARATIVA[\"metrica\"]].values - \\\n",
    "                df_melhores_janelas[METRICA_COMPARATIVA[\"metrica\"]].values, \n",
    "            axis=1\n",
    "        ),\n",
    "    ]),  \n",
    "    index=df_melhores_taxas_janelas[\"carga\"].values, \n",
    "    columns=[\n",
    "        [\"Taxa Fixa\", \"Taxa Fixa\", \"Taxa Fixa\",\n",
    "         \"Taxa Variável\", \"Taxa Variável\", \"Taxa Variável\", \n",
    "         \"Diferença\"],\n",
    "        [\"Taxa\",\"Janela\", METRICA_COMPARATIVA[\"rotulo\"], \n",
    "         \"Taxa\",\"Janela\", METRICA_COMPARATIVA[\"rotulo\"], \n",
    "         METRICA_COMPARATIVA[\"rotulo\"]]\n",
    "    ]\n",
    ")\n",
    "df_comparacao2"
   ]
  },
  {
   "cell_type": "markdown",
   "metadata": {
    "ExecuteTime": {
     "end_time": "2020-07-09T20:20:59.184111Z",
     "start_time": "2020-07-09T20:20:59.161062Z"
    }
   },
   "source": [
    "# Apenas aparelhos do paper IEEE PES GM"
   ]
  },
  {
   "cell_type": "code",
   "execution_count": 21,
   "metadata": {
    "ExecuteTime": {
     "end_time": "2021-03-30T11:14:46.452309Z",
     "start_time": "2021-03-30T11:14:46.425352Z"
    }
   },
   "outputs": [
    {
     "data": {
      "text/html": [
       "<div>\n",
       "<style scoped>\n",
       "    .dataframe tbody tr th:only-of-type {\n",
       "        vertical-align: middle;\n",
       "    }\n",
       "\n",
       "    .dataframe tbody tr th {\n",
       "        vertical-align: top;\n",
       "    }\n",
       "\n",
       "    .dataframe thead tr th {\n",
       "        text-align: left;\n",
       "    }\n",
       "</style>\n",
       "<table border=\"1\" class=\"dataframe\">\n",
       "  <thead>\n",
       "    <tr>\n",
       "      <th></th>\n",
       "      <th colspan=\"3\" halign=\"left\">Taxa Fixa</th>\n",
       "      <th colspan=\"3\" halign=\"left\">Taxa Variável</th>\n",
       "      <th>Diferença</th>\n",
       "    </tr>\n",
       "    <tr>\n",
       "      <th></th>\n",
       "      <th>Taxa</th>\n",
       "      <th>Janela</th>\n",
       "      <th>F1-macro</th>\n",
       "      <th>Taxa</th>\n",
       "      <th>Janela</th>\n",
       "      <th>F1-macro</th>\n",
       "      <th>F1-macro</th>\n",
       "    </tr>\n",
       "  </thead>\n",
       "  <tbody>\n",
       "    <tr>\n",
       "      <th>dish_washer - 9</th>\n",
       "      <td>2</td>\n",
       "      <td>720</td>\n",
       "      <td>59.91</td>\n",
       "      <td>2</td>\n",
       "      <td>720</td>\n",
       "      <td>59.91</td>\n",
       "      <td>0</td>\n",
       "    </tr>\n",
       "    <tr>\n",
       "      <th>fridge - 7</th>\n",
       "      <td>2</td>\n",
       "      <td>1080</td>\n",
       "      <td>100</td>\n",
       "      <td>2</td>\n",
       "      <td>1080</td>\n",
       "      <td>100</td>\n",
       "      <td>0</td>\n",
       "    </tr>\n",
       "    <tr>\n",
       "      <th>microwave - 16</th>\n",
       "      <td>2</td>\n",
       "      <td>900</td>\n",
       "      <td>71.14</td>\n",
       "      <td>2</td>\n",
       "      <td>900</td>\n",
       "      <td>71.14</td>\n",
       "      <td>0</td>\n",
       "    </tr>\n",
       "    <tr>\n",
       "      <th>washer_dryer - 13</th>\n",
       "      <td>2</td>\n",
       "      <td>60</td>\n",
       "      <td>98.88</td>\n",
       "      <td>2</td>\n",
       "      <td>60</td>\n",
       "      <td>98.88</td>\n",
       "      <td>0</td>\n",
       "    </tr>\n",
       "    <tr>\n",
       "      <th>washer_dryer - 14</th>\n",
       "      <td>2</td>\n",
       "      <td>60</td>\n",
       "      <td>83.44</td>\n",
       "      <td>3</td>\n",
       "      <td>360</td>\n",
       "      <td>85.19</td>\n",
       "      <td>1.75</td>\n",
       "    </tr>\n",
       "  </tbody>\n",
       "</table>\n",
       "</div>"
      ],
      "text/plain": [
       "                  Taxa Fixa                 Taxa Variável                  \\\n",
       "                       Taxa Janela F1-macro          Taxa Janela F1-macro   \n",
       "dish_washer - 9           2    720    59.91             2    720    59.91   \n",
       "fridge - 7                2   1080      100             2   1080      100   \n",
       "microwave - 16            2    900    71.14             2    900    71.14   \n",
       "washer_dryer - 13         2     60    98.88             2     60    98.88   \n",
       "washer_dryer - 14         2     60    83.44             3    360    85.19   \n",
       "\n",
       "                  Diferença  \n",
       "                   F1-macro  \n",
       "dish_washer - 9           0  \n",
       "fridge - 7                0  \n",
       "microwave - 16            0  \n",
       "washer_dryer - 13         0  \n",
       "washer_dryer - 14      1.75  "
      ]
     },
     "execution_count": 21,
     "metadata": {},
     "output_type": "execute_result"
    }
   ],
   "source": [
    "df_comparacao2.loc[ df_comparacao2.index.isin([\n",
    "        \"fridge - 7\", \"dish_washer - 9\", \"washer_dryer - 13\", \n",
    "        \"washer_dryer - 14\", \"microwave - 16\"\n",
    "    ]),:]"
   ]
  },
  {
   "cell_type": "markdown",
   "metadata": {},
   "source": [
    "# Conclusões"
   ]
  },
  {
   "cell_type": "markdown",
   "metadata": {},
   "source": [
    "1. A escolha de taxa amostral variável junto as janelas também variáveis por aparelho demonstrou ser útil para a melhoria dos classificadores, resultando em um `f1-macro ~3.75%` superior a abordagem considerando uma taxa fixa (hipótese inicial);\n",
    "\n",
    "2. Quando comparado o resultado desta metodologia apenas nas cargas de maior consumo da residência 3 (consideradas no paper *IEEE PES GM 2020), observa-se ganhos relevantes, de até ~15.4% (wash dryer 1) em relação a hipótese de taxa fixa.\n",
    "\n",
    "Sendo assim, observa-se a eficácia em adotar adotar uma metodologia híbrida para escolha de taxa amostral e janelas por aparelho, a qual deverá ser considerada para a continuidade da pesquisa."
   ]
  },
  {
   "cell_type": "markdown",
   "metadata": {},
   "source": [
    "# Fim."
   ]
  },
  {
   "cell_type": "code",
   "execution_count": 22,
   "metadata": {
    "ExecuteTime": {
     "end_time": "2021-03-30T11:15:02.895437Z",
     "start_time": "2021-03-30T11:15:02.480080Z"
    }
   },
   "outputs": [
    {
     "name": "stdout",
     "output_type": "stream",
     "text": [
      "Author: Diego Luiz Cavalca\n",
      "\n",
      "Last updated: Tue Mar 30 2021 08:15:02Hora oficial do Brasil\n",
      "\n",
      "Python implementation: CPython\n",
      "Python version       : 3.8.8\n",
      "IPython version      : 7.21.0\n",
      "\n",
      "Compiler    : MSC v.1928 64 bit (AMD64)\n",
      "OS          : Windows\n",
      "Release     : 10\n",
      "Machine     : AMD64\n",
      "Processor   : Intel64 Family 6 Model 158 Stepping 9, GenuineIntel\n",
      "CPU cores   : 8\n",
      "Architecture: 64bit\n",
      "\n",
      "Git hash: 5725caa95e9d7f4b19a57eff5b998f1738bc40b4\n",
      "\n"
     ]
    }
   ],
   "source": [
    "%watermark -a \"Diego Luiz Cavalca\" -u -n -t -z -v -m -g"
   ]
  },
  {
   "cell_type": "code",
   "execution_count": null,
   "metadata": {},
   "outputs": [],
   "source": []
  }
 ],
 "metadata": {
  "hide_input": false,
  "kernelspec": {
   "display_name": "Python 3",
   "language": "python",
   "name": "python3"
  },
  "language_info": {
   "codemirror_mode": {
    "name": "ipython",
    "version": 3
   },
   "file_extension": ".py",
   "mimetype": "text/x-python",
   "name": "python",
   "nbconvert_exporter": "python",
   "pygments_lexer": "ipython3",
   "version": "3.8.8"
  },
  "toc": {
   "base_numbering": 1,
   "nav_menu": {},
   "number_sections": true,
   "sideBar": true,
   "skip_h1_title": false,
   "title_cell": "Table of Contents",
   "title_sidebar": "Contents",
   "toc_cell": false,
   "toc_position": {},
   "toc_section_display": true,
   "toc_window_display": false
  },
  "varInspector": {
   "cols": {
    "lenName": 16,
    "lenType": 16,
    "lenVar": 40
   },
   "kernels_config": {
    "python": {
     "delete_cmd_postfix": "",
     "delete_cmd_prefix": "del ",
     "library": "var_list.py",
     "varRefreshCmd": "print(var_dic_list())"
    },
    "r": {
     "delete_cmd_postfix": ") ",
     "delete_cmd_prefix": "rm(",
     "library": "var_list.r",
     "varRefreshCmd": "cat(var_dic_list()) "
    }
   },
   "types_to_exclude": [
    "module",
    "function",
    "builtin_function_or_method",
    "instance",
    "_Feature"
   ],
   "window_display": false
  }
 },
 "nbformat": 4,
 "nbformat_minor": 2
}

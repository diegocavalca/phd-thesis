{
 "cells": [
  {
   "cell_type": "markdown",
   "metadata": {},
   "source": [
    "# Machine Learning em Atributos Estatísticos de Baixa Frequência"
   ]
  },
  {
   "cell_type": "markdown",
   "metadata": {},
   "source": [
    "* `Artigo:` Measure Power Voltage Normalize Edge Detection Cluster Analysis Build Appliance Models Tabulate Statistics\n",
    "* `URL`: https://www.semanticscholar.org/paper/Measure-Power-Voltage-Normalize-Edge-Detection-Deshmukh-Lohan/9156bffdc18946ceb3f4e6f56560b238c2fc931d\n",
    "* `Source-code`: https://github.com/andydesh/nilm\n",
    "* `Estratégia proposta`: \"quebrar\" série em *chunks* (janelas) de sub-séries, extrair características estatísticas e classificação supervisionada."
   ]
  },
  {
   "cell_type": "markdown",
   "metadata": {},
   "source": [
    "# Carregando ambiente e parâmetros"
   ]
  },
  {
   "cell_type": "code",
   "execution_count": 1,
   "metadata": {
    "ExecuteTime": {
     "end_time": "2019-10-15T17:42:57.716130Z",
     "start_time": "2019-10-15T17:42:54.712634Z"
    }
   },
   "outputs": [],
   "source": [
    "import csv, time, os, sys\n",
    "\n",
    "import numpy as np\n",
    "import matplotlib.pyplot as plt \n",
    "%matplotlib inline\n",
    "plt.style.use('ggplot')\n",
    "plt.rc('text', usetex=False)\n",
    "#plt.rc('font', family='serif')\n",
    "\n",
    "from sklearn.naive_bayes import MultinomialNB \n",
    "from sklearn.linear_model import LogisticRegression\n",
    "from sklearn.svm import SVC\n",
    "from sklearn.svm import SVR\n",
    "from sklearn.discriminant_analysis import LinearDiscriminantAnalysis as LDA\n",
    "from sklearn.ensemble import RandomForestClassifier\n",
    "from sklearn.cluster import KMeans\n",
    "\n",
    "import pandas as pd\n",
    "from scipy import interpolate\n",
    "\n",
    "REDD_RESOURCES_PATH = 'datasets/REDD'\n",
    "BENCHMARKING_RESOURCES_PATH = 'benchmarkings/cs446 project-electric-load-identification-using-machine-learning/'\n",
    "\n",
    "sys.path.append(os.path.join(BENCHMARKING_RESOURCES_PATH, 'src'))\n",
    "from MLData import createInstances, deviceErrors\n",
    "from energyCalcs import actDevEnergy,appDevEnergy,energyComp"
   ]
  },
  {
   "cell_type": "markdown",
   "metadata": {},
   "source": [
    "# Pré-processamento dos dados "
   ]
  },
  {
   "cell_type": "markdown",
   "metadata": {
    "ExecuteTime": {
     "end_time": "2019-09-10T14:33:17.434313Z",
     "start_time": "2019-09-10T14:33:17.430325Z"
    }
   },
   "source": [
    "## Parâmetros gerais dos dados utilizados na modelagem (treino e teste)"
   ]
  },
  {
   "cell_type": "code",
   "execution_count": 2,
   "metadata": {
    "ExecuteTime": {
     "end_time": "2019-10-15T17:42:57.723062Z",
     "start_time": "2019-10-15T17:42:57.718075Z"
    }
   },
   "outputs": [],
   "source": [
    "datapath = os.path.join(REDD_RESOURCES_PATH, 'low_freq/house_3/')\n",
    "\n",
    "# Dados climáticos (não disponibilizado  pelos autores - algoritmo adaptado)\n",
    "weatherfile = 'Data/weather/20110405hourly_Boston.txt'\n",
    "weatherfile_test = 'Data/weather/20110405hourly_Boston.txt'\n",
    "available_weatherdata = True if os.path.isdir(weatherfile) else False\n",
    "\n",
    "fileprefix = 'channel_'\n",
    "\n",
    "# specify the timewindow for instances\n",
    "timewindow = 90\n",
    "\n",
    "# devices to be used in training and testing\n",
    "use_idx = np.array([3,4,6,7,10,11,13,17,19])"
   ]
  },
  {
   "cell_type": "markdown",
   "metadata": {},
   "source": [
    "## Gerando dados de Treino"
   ]
  },
  {
   "cell_type": "code",
   "execution_count": 3,
   "metadata": {
    "ExecuteTime": {
     "end_time": "2019-10-15T17:42:57.738022Z",
     "start_time": "2019-10-15T17:42:57.726055Z"
    }
   },
   "outputs": [],
   "source": [
    "# # Appliance data shape (404107, 2)\n",
    "# measurements_length = 404107\n",
    "\n",
    "# # training data arrays\n",
    "# device_timer = np.zeros(shape=(measurements_length,9))\n",
    "# device_power = np.zeros(shape=(measurements_length,9))\n",
    "# total_device_power = np.zeros(shape=(measurements_length))\n",
    "\n",
    "# weather_timer = np.zeros(shape=(1980))\n",
    "# weather_temp = np.zeros(shape=(1980))\n",
    "# weather_data = np.zeros(shape=(train_vals_end - train_vals_start))\n",
    "\n",
    "# uidx = 0\n",
    "\n",
    "# print(\"Collecting appliances data...\")\n",
    "\n",
    "# # For each device (index), do...\n",
    "# for device in range(0, 20):\n",
    "    \n",
    "#     # If the device is in our list of interest..\n",
    "#     if (device in use_idx):\n",
    "        \n",
    "#         # Load energy data\n",
    "#         channel = device + 3\n",
    "#         filename = 'channel_'+ str(channel) +'.dat'\n",
    "#         filepath = datapath + filename\n",
    "\n",
    "#         # x = timestamp / y = energy        \n",
    "#         print('Iter: {} / Device: {}'.format(uidx, device))\n",
    "#         xtemp, ytemp = np.loadtxt(filepath,unpack=True)\n",
    "#         device_timer[:, uidx] = xtemp#[train_vals_start:train_vals_end]# - 1302930690\n",
    "#         device_power[:, uidx] = ytemp#[train_vals_start:train_vals_end]\n",
    "#         total_device_power += ytemp#[train_vals_start:train_vals_end]           \n",
    "        \n",
    "        \n",
    "#         uidx = uidx + 1  \n",
    "        \n",
    "\n",
    "# fig = plt.figure(figsize=(20, 10))\n",
    "# plt.plot(device_timer, device_power)\n",
    "# plt.title('Train Data - Power usage by Appliance')\n",
    "# plt.legend([ 'Channel {}'.format(i) for i in use_idx])\n",
    "# plt.xlabel('Timestamp')\n",
    "# #ticks = xtemp[list(range(train_vals_start, train_vals_end-1, 10000)) + [train_vals_end]]\n",
    "# #plt.xticks(ticks, rotation='vertical')\n",
    "# #plt.xlim(0, measurements_length)\n",
    "# plt.ylabel('Power')\n",
    "# plt.show()"
   ]
  },
  {
   "cell_type": "code",
   "execution_count": 4,
   "metadata": {
    "ExecuteTime": {
     "end_time": "2019-10-15T17:42:57.752008Z",
     "start_time": "2019-10-15T17:42:57.741014Z"
    }
   },
   "outputs": [],
   "source": [
    "# mains_timer = np.zeros(shape=(1427284,2))\n",
    "# mains_power = np.zeros(shape=(1427284,2))\n",
    "# total_mains_power = np.zeros(shape=(1427284))\n",
    "# ###\n",
    "# #\n",
    "# fig = plt.figure(figsize=(20, 10))\n",
    "# for mains in [0, 1]:\n",
    "#     channel = mains + 1\n",
    "#     filename = 'channel_'+ str(channel) +'.dat'\n",
    "#     filepath = datapath + filename\n",
    "#     xtemp,ytemp = np.loadtxt(filepath,unpack=True)\n",
    "#     mains_timer[:,mains] = xtemp\n",
    "#     mains_power[:,mains] = ytemp\n",
    "#     total_mains_power += ytemp\n",
    "#     plt.plot(mains_timer[:, mains],mains_power[:, mains])\n",
    "\n",
    "# plt.title('Train Data - Power usage by Mains')\n",
    "# plt.legend([ 'Channel {}'.format(i) for i in [1, 2]])\n",
    "# plt.xlabel('Timestamp')\n",
    "# #ticks = xtemp[list(range(train_vals_start, train_vals_end-1, 10000)) + [train_vals_end]]\n",
    "# #plt.xticks(ticks, rotation='vertical')\n",
    "# plt.xlim(xtemp[train_vals_start], xtemp[train_vals_end])\n",
    "# plt.ylabel('Power');"
   ]
  },
  {
   "cell_type": "code",
   "execution_count": 5,
   "metadata": {
    "ExecuteTime": {
     "end_time": "2019-10-15T17:43:23.345159Z",
     "start_time": "2019-10-15T17:42:57.754982Z"
    }
   },
   "outputs": [
    {
     "name": "stdout",
     "output_type": "stream",
     "text": [
      "Generating train data (from index 0 to 120001)...\n",
      "Iter: 0 / Device: 3\n",
      "Iter: 1 / Device: 4\n",
      "Iter: 2 / Device: 6\n",
      "Iter: 3 / Device: 7\n",
      "Iter: 4 / Device: 10\n",
      "Iter: 5 / Device: 11\n",
      "Iter: 6 / Device: 13\n",
      "Iter: 7 / Device: 17\n",
      "Iter: 8 / Device: 19\n"
     ]
    },
    {
     "name": "stderr",
     "output_type": "stream",
     "text": [
      "C:\\Users\\diego\\anaconda3\\envs\\doutorado\\lib\\site-packages\\IPython\\core\\pylabtools.py:128: UserWarning: Creating legend with loc=\"best\" can be slow with large amounts of data.\n",
      "  fig.canvas.print_figure(bytes_io, **kw)\n"
     ]
    },
    {
     "data": {
      "image/png": "[encoded data removed]",
      "text/plain": [
       "<Figure size 1440x720 with 1 Axes>"
      ]
     },
     "metadata": {
      "needs_background": "light"
     },
     "output_type": "display_data"
    }
   ],
   "source": [
    "train_vals_start = 0\n",
    "train_vals_end = 120001 #int(404107 * 0.8)\n",
    "\n",
    "# training data arrays\n",
    "device_timer = np.zeros(shape=(train_vals_end - train_vals_start,9))\n",
    "device_power = np.zeros(shape=(train_vals_end - train_vals_start,9))\n",
    "total_device_power = np.zeros(shape=(train_vals_end - train_vals_start))\n",
    "\n",
    "weather_timer = np.zeros(shape=(1980))\n",
    "weather_temp = np.zeros(shape=(1980))\n",
    "weather_data = np.zeros(shape=(train_vals_end - train_vals_start))\n",
    "\n",
    "uidx = 0\n",
    "\n",
    "print(\"Generating train data (from index {} to {})...\".format(train_vals_start, train_vals_end))\n",
    "\n",
    "# For each device (index), do...\n",
    "fig = plt.figure(figsize=(20, 10))\n",
    "for device in range(0, 20):\n",
    "    \n",
    "    # If the device is in our list of interest..\n",
    "    if (device in use_idx):\n",
    "        \n",
    "        # Load energy data\n",
    "        channel = device + 3\n",
    "        filename = 'channel_'+ str(channel) +'.dat'\n",
    "        filepath = datapath + filename\n",
    "\n",
    "        # x = timestamp / y = energy\n",
    "        xtemp, ytemp = np.loadtxt(filepath,unpack=True)\n",
    "        \n",
    "        print('Iter: {} / Device: {}'.format(uidx, device))\n",
    "        device_timer[:, uidx] = xtemp[train_vals_start:train_vals_end]# - 1302930690\n",
    "        device_power[:, uidx] = ytemp[train_vals_start:train_vals_end]\n",
    "        total_device_power += ytemp[train_vals_start:train_vals_end]           \n",
    "\n",
    "        \n",
    "        plt.plot(device_timer[:,uidx], device_power[:,uidx])\n",
    "\n",
    "        uidx = uidx + 1     \n",
    "\n",
    "plt.title('Train Data - Power usage by Appliance')\n",
    "plt.legend([ 'Channel {}'.format(i) for i in use_idx])\n",
    "plt.xlabel('Timestamp')\n",
    "#ticks = xtemp[list(range(train_vals_start, train_vals_end-1, 10000)) + [train_vals_end]]\n",
    "#plt.xticks(ticks, rotation='vertical')\n",
    "plt.xlim(xtemp[train_vals_start], xtemp[train_vals_end])\n",
    "plt.ylabel('Power')\n",
    "plt.show()\n",
    "\n",
    "################################################################\n",
    "# read the weather data\n",
    "if available_weatherdata:\n",
    "\n",
    "    wfile = open(weatherfile,'rt')\n",
    "    rownum = 0\n",
    "    try:\n",
    "        \n",
    "        wreader = csv.reader(wfile, delimiter=',')\n",
    "        for row in wreader:\n",
    "            #print row[1]+','+row[2]+','+row[10]\n",
    "            wdate = row[1]\n",
    "            wtime = row[2]\n",
    "            wdatelist = list(wdate)\n",
    "            wtimelist = list(wtime)\n",
    "            timedatestr = ''.join(wdatelist[0:4])+'-'+ ''.join(wdatelist[4:6])+'-'+''.join(wdatelist[6:8]) +'-'+ ''.join(wtimelist[0:2])+'-'+''.join(wtimelist[2:4])+'-'+'00'\n",
    "            weather_timer[rownum] = int(time.mktime(time.strptime(timedatestr,\"%Y-%m-%d-%H-%M-%S\")))\n",
    "            weather_temp[rownum] = int(row[10])\n",
    "            #print str(weather_timer[rownum]) + ','+ str(weather_temp[rownum])\n",
    "            rownum = rownum + 1\n",
    "            \n",
    "        interp_func = interpolate.interp1d(weather_timer, weather_temp)\n",
    "        weather_data = interp_func(device_timer[:,0])\n",
    "\n",
    "    finally:\n",
    "        wfile.close"
   ]
  },
  {
   "cell_type": "markdown",
   "metadata": {},
   "source": [
    "## Gerando dados de Teste"
   ]
  },
  {
   "cell_type": "code",
   "execution_count": 16,
   "metadata": {
    "ExecuteTime": {
     "end_time": "2019-10-15T17:45:26.891531Z",
     "start_time": "2019-10-15T17:45:05.316009Z"
    }
   },
   "outputs": [
    {
     "name": "stdout",
     "output_type": "stream",
     "text": [
      "Generating test data (from index 120001 to 240002)...\n",
      "Iter: 0 / Device: 3\n",
      "Iter: 1 / Device: 4\n",
      "Iter: 2 / Device: 6\n",
      "Iter: 3 / Device: 7\n",
      "Iter: 4 / Device: 10\n",
      "Iter: 5 / Device: 11\n",
      "Iter: 6 / Device: 13\n",
      "Iter: 7 / Device: 17\n",
      "Iter: 8 / Device: 19\n"
     ]
    },
    {
     "name": "stderr",
     "output_type": "stream",
     "text": [
      "C:\\Users\\diego\\anaconda3\\envs\\doutorado\\lib\\site-packages\\IPython\\core\\pylabtools.py:128: UserWarning: Creating legend with loc=\"best\" can be slow with large amounts of data.\n",
      "  fig.canvas.print_figure(bytes_io, **kw)\n"
     ]
    },
    {
     "data": {
      "image/png": "[encoded data removed]",
      "text/plain": [
       "<Figure size 1440x720 with 1 Axes>"
      ]
     },
     "metadata": {
      "needs_background": "light"
     },
     "output_type": "display_data"
    }
   ],
   "source": [
    "test_vals_start = 120001\n",
    "test_vals_end = 240002\n",
    "\n",
    "# test data arrays\n",
    "device_timer_test = np.zeros(shape=(test_vals_end - test_vals_start, 9))\n",
    "device_power_test = np.zeros(shape=(test_vals_end - test_vals_start, 9))\n",
    "total_device_power_test = np.zeros(shape=(test_vals_end - test_vals_start))\n",
    "\n",
    "weather_timer_test = np.zeros(shape= (1980))\n",
    "weather_temp_test = np.zeros(shape= (1980))\n",
    "weather_data_test = np.zeros(shape=(test_vals_end - test_vals_start))\n",
    "\n",
    "uidx = 0\n",
    "\n",
    "print(\"Generating test data (from index {} to {})...\".format(test_vals_start, test_vals_end))\n",
    "\n",
    "# For each device (index), do...\n",
    "fig = plt.figure(figsize=(20, 10))\n",
    "for device in range(0, 20):\n",
    "    \n",
    "    # If the device is in our list of interest..\n",
    "    if (device in use_idx):\n",
    "        \n",
    "        # Load energy data\n",
    "        channel = device + 3\n",
    "        filename = 'channel_'+ str(channel) +'.dat'\n",
    "        filepath = datapath + filename\n",
    "\n",
    "        # x = timestamp / y = energy\n",
    "        xtemp, ytemp = np.loadtxt(filepath,unpack=True)\n",
    "        \n",
    "        print('Iter: {} / Device: {}'.format(uidx, device))\n",
    "        device_timer_test[:,uidx] = xtemp[test_vals_start:test_vals_end]# - 1302930690\n",
    "        device_power_test[:,uidx] = ytemp[test_vals_start:test_vals_end]\n",
    "        total_device_power_test += ytemp[test_vals_start:test_vals_end]  \n",
    "\n",
    "        plt.plot(device_timer_test[:,uidx], device_power_test[:,uidx])\n",
    "\n",
    "        uidx = uidx + 1     \n",
    "\n",
    "plt.title('Test Data - Power usage by Appliance')\n",
    "plt.legend([ 'Channel {}'.format(i) for i in use_idx])\n",
    "plt.xlabel('Timestamp')\n",
    "#ticks = xtemp[list(range(test_vals_start, test_vals_end-1, 10000)) + [test_vals_end]]\n",
    "#plt.xticks(ticks, rotation='vertical')\n",
    "plt.xlim(xtemp[test_vals_start], xtemp[test_vals_end])\n",
    "plt.ylabel('Power')\n",
    "plt.show()\n",
    "\n",
    "################################################################\n",
    "# read the weather data\n",
    "if available_weatherdata:\n",
    "\n",
    "    wfile = open(weatherfile,'rt')\n",
    "    rownum = 0\n",
    "    try:\n",
    "        \n",
    "        wreader = csv.reader(wfile, delimiter=',')\n",
    "        for row in wreader:\n",
    "            #print row[1]+','+row[2]+','+row[10]\n",
    "            wdate = row[1]\n",
    "            wtime = row[2]\n",
    "            wdatelist = list(wdate)\n",
    "            wtimelist = list(wtime)\n",
    "            timedatestr = ''.join(wdatelist[0:4])+'-'+ ''.join(wdatelist[4:6])+'-'+''.join(wdatelist[6:8]) +'-'+ ''.join(wtimelist[0:2])+'-'+''.join(wtimelist[2:4])+'-'+'00'\n",
    "            weather_timer_test[rownum] = int(time.mktime(time.strptime(timedatestr,\"%Y-%m-%d-%H-%M-%S\")))\n",
    "            weather_temp_test[rownum] = int(row[10])\n",
    "            #print str(weather_timer[rownum]) + ','+ str(weather_temp[rownum])\n",
    "            rownum = rownum + 1\n",
    "            \n",
    "        interp_func = interpolate.interp1d(weather_timer_test, weather_temp_test)\n",
    "        weather_data_test = interp_func(device_timer_test[:,0])\n",
    "\n",
    "    finally:\n",
    "        wfile.close"
   ]
  },
  {
   "cell_type": "markdown",
   "metadata": {},
   "source": [
    "## Informações sobre a metodologia / split dos dados (treino / teste)"
   ]
  },
  {
   "cell_type": "code",
   "execution_count": 7,
   "metadata": {
    "ExecuteTime": {
     "end_time": "2019-10-15T17:43:50.499149Z",
     "start_time": "2019-10-15T17:43:50.491170Z"
    }
   },
   "outputs": [
    {
     "name": "stdout",
     "output_type": "stream",
     "text": [
      "Train data -> from 2011-04-16 05:11:30 to 2011-04-23 08:43:26\n",
      "Test data -> from 2011-04-23 08:43:29 to 2011-05-18 01:54:09\n"
     ]
    }
   ],
   "source": [
    "from datetime import datetime\n",
    "\n",
    "print(\"Train data -> from {} to {}\".format(\n",
    "    datetime.utcfromtimestamp(int(xtemp[train_vals_start])).strftime(\"%Y-%m-%d %H:%M:%S\"),\n",
    "    datetime.utcfromtimestamp(int(xtemp[train_vals_end])).strftime(\"%Y-%m-%d %H:%M:%S\")\n",
    ") )\n",
    "print(\"Test data -> from {} to {}\".format(\n",
    "    datetime.utcfromtimestamp(int(xtemp[test_vals_start+1])).strftime(\"%Y-%m-%d %H:%M:%S\"),\n",
    "    datetime.utcfromtimestamp(int(xtemp[test_vals_end])).strftime(\"%Y-%m-%d %H:%M:%S\")\n",
    ") )"
   ]
  },
  {
   "cell_type": "markdown",
   "metadata": {},
   "source": [
    "## Extração de Características"
   ]
  },
  {
   "cell_type": "code",
   "execution_count": 8,
   "metadata": {
    "ExecuteTime": {
     "end_time": "2019-10-15T17:43:51.503063Z",
     "start_time": "2019-10-15T17:43:50.504135Z"
    }
   },
   "outputs": [
    {
     "name": "stdout",
     "output_type": "stream",
     "text": [
      "Train -> instances: 4000\n",
      "Test -> instances: 4000\n"
     ]
    }
   ],
   "source": [
    "################################################################\n",
    "# create the instances and labels from the training data\n",
    "classifier = 3 # 1 - Naive Bayes, 2 - Regression, 3 - SVM, 4 - Linear Discriminant Analysis, 5 - Random Forest Classifier\n",
    "\n",
    "# Treino / Teste\n",
    "print('Train -> ', end='')\n",
    "train_instances, train_labels, train_labels_binary, train_power_chunks = createInstances(\n",
    "    total_device_power, device_timer, device_power, weather_data,\n",
    "    classifier,\n",
    "    timewindow)\n",
    "\n",
    "print('Test -> ', end='')\n",
    "test_instances,test_labels,test_labels_binary, test_power_chunks = createInstances(\n",
    "    total_device_power_test, device_timer_test, device_power_test, weather_data_test,\n",
    "    classifier,\n",
    "    timewindow)"
   ]
  },
  {
   "cell_type": "markdown",
   "metadata": {},
   "source": [
    "## Persistência"
   ]
  },
  {
   "cell_type": "code",
   "execution_count": 9,
   "metadata": {
    "ExecuteTime": {
     "end_time": "2019-10-15T17:43:51.832951Z",
     "start_time": "2019-10-15T17:43:51.504814Z"
    }
   },
   "outputs": [
    {
     "name": "stdout",
     "output_type": "stream",
     "text": [
      "Benchmarking dataset...\n"
     ]
    },
    {
     "data": {
      "text/html": [
       "<div>\n",
       "<style scoped>\n",
       "    .dataframe tbody tr th:only-of-type {\n",
       "        vertical-align: middle;\n",
       "    }\n",
       "\n",
       "    .dataframe tbody tr th {\n",
       "        vertical-align: top;\n",
       "    }\n",
       "\n",
       "    .dataframe thead th {\n",
       "        text-align: right;\n",
       "    }\n",
       "</style>\n",
       "<table border=\"1\" class=\"dataframe\">\n",
       "  <thead>\n",
       "    <tr style=\"text-align: right;\">\n",
       "      <th></th>\n",
       "      <th>MEAN_POWER</th>\n",
       "      <th>STD_POWER</th>\n",
       "      <th>TIME_OF_DAY</th>\n",
       "      <th>AMBIENT_TEMPERATURE</th>\n",
       "      <th>PEAK_POWER</th>\n",
       "      <th>ENERGY</th>\n",
       "      <th>DAY_OF_WEEK</th>\n",
       "      <th>APLIANCE_3</th>\n",
       "      <th>APLIANCE_4</th>\n",
       "      <th>APLIANCE_6</th>\n",
       "      <th>APLIANCE_7</th>\n",
       "      <th>APLIANCE_10</th>\n",
       "      <th>APLIANCE_11</th>\n",
       "      <th>APLIANCE_13</th>\n",
       "      <th>APLIANCE_17</th>\n",
       "      <th>APLIANCE_19</th>\n",
       "    </tr>\n",
       "  </thead>\n",
       "  <tbody>\n",
       "    <tr>\n",
       "      <th>0</th>\n",
       "      <td>254.233333</td>\n",
       "      <td>5.024496</td>\n",
       "      <td>4.0</td>\n",
       "      <td>0.0</td>\n",
       "      <td>267.0</td>\n",
       "      <td>27926.0</td>\n",
       "      <td>5.0</td>\n",
       "      <td>1.0</td>\n",
       "      <td>1.0</td>\n",
       "      <td>0.0</td>\n",
       "      <td>0.0</td>\n",
       "      <td>0.0</td>\n",
       "      <td>0.0</td>\n",
       "      <td>0.0</td>\n",
       "      <td>0.0</td>\n",
       "      <td>0.0</td>\n",
       "    </tr>\n",
       "    <tr>\n",
       "      <th>1</th>\n",
       "      <td>253.066667</td>\n",
       "      <td>3.463460</td>\n",
       "      <td>4.0</td>\n",
       "      <td>0.0</td>\n",
       "      <td>259.0</td>\n",
       "      <td>27864.5</td>\n",
       "      <td>5.0</td>\n",
       "      <td>1.0</td>\n",
       "      <td>1.0</td>\n",
       "      <td>0.0</td>\n",
       "      <td>0.0</td>\n",
       "      <td>0.0</td>\n",
       "      <td>0.0</td>\n",
       "      <td>0.0</td>\n",
       "      <td>0.0</td>\n",
       "      <td>0.0</td>\n",
       "    </tr>\n",
       "    <tr>\n",
       "      <th>2</th>\n",
       "      <td>207.433333</td>\n",
       "      <td>54.322913</td>\n",
       "      <td>4.0</td>\n",
       "      <td>0.0</td>\n",
       "      <td>266.0</td>\n",
       "      <td>22766.0</td>\n",
       "      <td>5.0</td>\n",
       "      <td>1.0</td>\n",
       "      <td>1.0</td>\n",
       "      <td>0.0</td>\n",
       "      <td>0.0</td>\n",
       "      <td>0.0</td>\n",
       "      <td>0.0</td>\n",
       "      <td>0.0</td>\n",
       "      <td>0.0</td>\n",
       "      <td>0.0</td>\n",
       "    </tr>\n",
       "    <tr>\n",
       "      <th>3</th>\n",
       "      <td>134.066667</td>\n",
       "      <td>2.448582</td>\n",
       "      <td>4.0</td>\n",
       "      <td>0.0</td>\n",
       "      <td>140.0</td>\n",
       "      <td>14860.5</td>\n",
       "      <td>5.0</td>\n",
       "      <td>1.0</td>\n",
       "      <td>0.0</td>\n",
       "      <td>0.0</td>\n",
       "      <td>0.0</td>\n",
       "      <td>0.0</td>\n",
       "      <td>0.0</td>\n",
       "      <td>0.0</td>\n",
       "      <td>0.0</td>\n",
       "      <td>0.0</td>\n",
       "    </tr>\n",
       "    <tr>\n",
       "      <th>4</th>\n",
       "      <td>627.000000</td>\n",
       "      <td>360.632315</td>\n",
       "      <td>4.0</td>\n",
       "      <td>0.0</td>\n",
       "      <td>1217.0</td>\n",
       "      <td>704625.5</td>\n",
       "      <td>5.0</td>\n",
       "      <td>1.0</td>\n",
       "      <td>1.0</td>\n",
       "      <td>0.0</td>\n",
       "      <td>1.0</td>\n",
       "      <td>0.0</td>\n",
       "      <td>0.0</td>\n",
       "      <td>0.0</td>\n",
       "      <td>0.0</td>\n",
       "      <td>0.0</td>\n",
       "    </tr>\n",
       "  </tbody>\n",
       "</table>\n",
       "</div>"
      ],
      "text/plain": [
       "   MEAN_POWER   STD_POWER  TIME_OF_DAY  AMBIENT_TEMPERATURE  PEAK_POWER  \\\n",
       "0  254.233333    5.024496          4.0                  0.0       267.0   \n",
       "1  253.066667    3.463460          4.0                  0.0       259.0   \n",
       "2  207.433333   54.322913          4.0                  0.0       266.0   \n",
       "3  134.066667    2.448582          4.0                  0.0       140.0   \n",
       "4  627.000000  360.632315          4.0                  0.0      1217.0   \n",
       "\n",
       "     ENERGY  DAY_OF_WEEK  APLIANCE_3  APLIANCE_4  APLIANCE_6  APLIANCE_7  \\\n",
       "0   27926.0          5.0         1.0         1.0         0.0         0.0   \n",
       "1   27864.5          5.0         1.0         1.0         0.0         0.0   \n",
       "2   22766.0          5.0         1.0         1.0         0.0         0.0   \n",
       "3   14860.5          5.0         1.0         0.0         0.0         0.0   \n",
       "4  704625.5          5.0         1.0         1.0         0.0         1.0   \n",
       "\n",
       "   APLIANCE_10  APLIANCE_11  APLIANCE_13  APLIANCE_17  APLIANCE_19  \n",
       "0          0.0          0.0          0.0          0.0          0.0  \n",
       "1          0.0          0.0          0.0          0.0          0.0  \n",
       "2          0.0          0.0          0.0          0.0          0.0  \n",
       "3          0.0          0.0          0.0          0.0          0.0  \n",
       "4          0.0          0.0          0.0          0.0          0.0  "
      ]
     },
     "metadata": {},
     "output_type": "display_data"
    },
    {
     "name": "stdout",
     "output_type": "stream",
     "text": [
      "Thesis benchmarking dataset...\n"
     ]
    },
    {
     "data": {
      "text/html": [
       "<div>\n",
       "<style scoped>\n",
       "    .dataframe tbody tr th:only-of-type {\n",
       "        vertical-align: middle;\n",
       "    }\n",
       "\n",
       "    .dataframe tbody tr th {\n",
       "        vertical-align: top;\n",
       "    }\n",
       "\n",
       "    .dataframe thead th {\n",
       "        text-align: right;\n",
       "    }\n",
       "</style>\n",
       "<table border=\"1\" class=\"dataframe\">\n",
       "  <thead>\n",
       "    <tr style=\"text-align: right;\">\n",
       "      <th></th>\n",
       "      <th>POWER_0</th>\n",
       "      <th>POWER_1</th>\n",
       "      <th>POWER_2</th>\n",
       "      <th>POWER_3</th>\n",
       "      <th>POWER_4</th>\n",
       "      <th>POWER_5</th>\n",
       "      <th>POWER_6</th>\n",
       "      <th>POWER_7</th>\n",
       "      <th>POWER_8</th>\n",
       "      <th>POWER_9</th>\n",
       "      <th>...</th>\n",
       "      <th>POWER_29</th>\n",
       "      <th>APLIANCE_3</th>\n",
       "      <th>APLIANCE_4</th>\n",
       "      <th>APLIANCE_6</th>\n",
       "      <th>APLIANCE_7</th>\n",
       "      <th>APLIANCE_10</th>\n",
       "      <th>APLIANCE_11</th>\n",
       "      <th>APLIANCE_13</th>\n",
       "      <th>APLIANCE_17</th>\n",
       "      <th>APLIANCE_19</th>\n",
       "    </tr>\n",
       "  </thead>\n",
       "  <tbody>\n",
       "    <tr>\n",
       "      <th>0</th>\n",
       "      <td>252.0</td>\n",
       "      <td>251.0</td>\n",
       "      <td>250.0</td>\n",
       "      <td>253.0</td>\n",
       "      <td>251.0</td>\n",
       "      <td>254.0</td>\n",
       "      <td>252.0</td>\n",
       "      <td>252.0</td>\n",
       "      <td>253.0</td>\n",
       "      <td>249.0</td>\n",
       "      <td>...</td>\n",
       "      <td>256.0</td>\n",
       "      <td>1.0</td>\n",
       "      <td>1.0</td>\n",
       "      <td>0.0</td>\n",
       "      <td>0.0</td>\n",
       "      <td>0.0</td>\n",
       "      <td>0.0</td>\n",
       "      <td>0.0</td>\n",
       "      <td>0.0</td>\n",
       "      <td>0.0</td>\n",
       "    </tr>\n",
       "    <tr>\n",
       "      <th>1</th>\n",
       "      <td>259.0</td>\n",
       "      <td>259.0</td>\n",
       "      <td>258.0</td>\n",
       "      <td>255.0</td>\n",
       "      <td>257.0</td>\n",
       "      <td>249.0</td>\n",
       "      <td>256.0</td>\n",
       "      <td>259.0</td>\n",
       "      <td>256.0</td>\n",
       "      <td>256.0</td>\n",
       "      <td>...</td>\n",
       "      <td>250.0</td>\n",
       "      <td>1.0</td>\n",
       "      <td>1.0</td>\n",
       "      <td>0.0</td>\n",
       "      <td>0.0</td>\n",
       "      <td>0.0</td>\n",
       "      <td>0.0</td>\n",
       "      <td>0.0</td>\n",
       "      <td>0.0</td>\n",
       "      <td>0.0</td>\n",
       "    </tr>\n",
       "    <tr>\n",
       "      <th>2</th>\n",
       "      <td>248.0</td>\n",
       "      <td>250.0</td>\n",
       "      <td>252.0</td>\n",
       "      <td>250.0</td>\n",
       "      <td>251.0</td>\n",
       "      <td>249.0</td>\n",
       "      <td>251.0</td>\n",
       "      <td>250.0</td>\n",
       "      <td>248.0</td>\n",
       "      <td>253.0</td>\n",
       "      <td>...</td>\n",
       "      <td>142.0</td>\n",
       "      <td>1.0</td>\n",
       "      <td>1.0</td>\n",
       "      <td>0.0</td>\n",
       "      <td>0.0</td>\n",
       "      <td>0.0</td>\n",
       "      <td>0.0</td>\n",
       "      <td>0.0</td>\n",
       "      <td>0.0</td>\n",
       "      <td>0.0</td>\n",
       "    </tr>\n",
       "    <tr>\n",
       "      <th>3</th>\n",
       "      <td>133.0</td>\n",
       "      <td>135.0</td>\n",
       "      <td>135.0</td>\n",
       "      <td>134.0</td>\n",
       "      <td>134.0</td>\n",
       "      <td>134.0</td>\n",
       "      <td>138.0</td>\n",
       "      <td>135.0</td>\n",
       "      <td>137.0</td>\n",
       "      <td>133.0</td>\n",
       "      <td>...</td>\n",
       "      <td>133.0</td>\n",
       "      <td>1.0</td>\n",
       "      <td>0.0</td>\n",
       "      <td>0.0</td>\n",
       "      <td>0.0</td>\n",
       "      <td>0.0</td>\n",
       "      <td>0.0</td>\n",
       "      <td>0.0</td>\n",
       "      <td>0.0</td>\n",
       "      <td>0.0</td>\n",
       "    </tr>\n",
       "    <tr>\n",
       "      <th>4</th>\n",
       "      <td>131.0</td>\n",
       "      <td>134.0</td>\n",
       "      <td>136.0</td>\n",
       "      <td>132.0</td>\n",
       "      <td>660.0</td>\n",
       "      <td>668.0</td>\n",
       "      <td>659.0</td>\n",
       "      <td>247.0</td>\n",
       "      <td>242.0</td>\n",
       "      <td>240.0</td>\n",
       "      <td>...</td>\n",
       "      <td>963.0</td>\n",
       "      <td>1.0</td>\n",
       "      <td>1.0</td>\n",
       "      <td>0.0</td>\n",
       "      <td>1.0</td>\n",
       "      <td>0.0</td>\n",
       "      <td>0.0</td>\n",
       "      <td>0.0</td>\n",
       "      <td>0.0</td>\n",
       "      <td>0.0</td>\n",
       "    </tr>\n",
       "  </tbody>\n",
       "</table>\n",
       "<p>5 rows × 39 columns</p>\n",
       "</div>"
      ],
      "text/plain": [
       "   POWER_0  POWER_1  POWER_2  POWER_3  POWER_4  POWER_5  POWER_6  POWER_7  \\\n",
       "0    252.0    251.0    250.0    253.0    251.0    254.0    252.0    252.0   \n",
       "1    259.0    259.0    258.0    255.0    257.0    249.0    256.0    259.0   \n",
       "2    248.0    250.0    252.0    250.0    251.0    249.0    251.0    250.0   \n",
       "3    133.0    135.0    135.0    134.0    134.0    134.0    138.0    135.0   \n",
       "4    131.0    134.0    136.0    132.0    660.0    668.0    659.0    247.0   \n",
       "\n",
       "   POWER_8  POWER_9     ...       POWER_29  APLIANCE_3  APLIANCE_4  \\\n",
       "0    253.0    249.0     ...          256.0         1.0         1.0   \n",
       "1    256.0    256.0     ...          250.0         1.0         1.0   \n",
       "2    248.0    253.0     ...          142.0         1.0         1.0   \n",
       "3    137.0    133.0     ...          133.0         1.0         0.0   \n",
       "4    242.0    240.0     ...          963.0         1.0         1.0   \n",
       "\n",
       "   APLIANCE_6  APLIANCE_7  APLIANCE_10  APLIANCE_11  APLIANCE_13  APLIANCE_17  \\\n",
       "0         0.0         0.0          0.0          0.0          0.0          0.0   \n",
       "1         0.0         0.0          0.0          0.0          0.0          0.0   \n",
       "2         0.0         0.0          0.0          0.0          0.0          0.0   \n",
       "3         0.0         0.0          0.0          0.0          0.0          0.0   \n",
       "4         0.0         1.0          0.0          0.0          0.0          0.0   \n",
       "\n",
       "   APLIANCE_19  \n",
       "0          0.0  \n",
       "1          0.0  \n",
       "2          0.0  \n",
       "3          0.0  \n",
       "4          0.0  \n",
       "\n",
       "[5 rows x 39 columns]"
      ]
     },
     "metadata": {},
     "output_type": "display_data"
    }
   ],
   "source": [
    "from IPython.display import display\n",
    "\n",
    "# Data persistence\n",
    "np.save( os.path.join(BENCHMARKING_RESOURCES_PATH, 'datasets/train_instances.npy'), train_instances)\n",
    "np.save( os.path.join(BENCHMARKING_RESOURCES_PATH, 'datasets/train_labels.npy'), train_labels)\n",
    "np.save( os.path.join(BENCHMARKING_RESOURCES_PATH, 'datasets/train_labels_binary.npy'), train_labels_binary)\n",
    "np.save( os.path.join(BENCHMARKING_RESOURCES_PATH, 'datasets/train_power_chunks.npy'), train_power_chunks)\n",
    "np.save( os.path.join(BENCHMARKING_RESOURCES_PATH, 'datasets/test_instances.npy'), test_instances)\n",
    "np.save( os.path.join(BENCHMARKING_RESOURCES_PATH, 'datasets/test_labels.npy'), test_labels)\n",
    "np.save( os.path.join(BENCHMARKING_RESOURCES_PATH, 'datasets/test_labels_binary.npy'), test_labels_binary)\n",
    "np.save( os.path.join(BENCHMARKING_RESOURCES_PATH, 'datasets/test_power_chunks.npy'), test_power_chunks)\n",
    "\n",
    "# Dataframe DE TREINO com as estatísticas para cada chunk (projeto benchmarking analisado)\n",
    "print('Benchmarking dataset...')\n",
    "statistics = [\"MEAN_POWER\", \"STD_POWER\", \"TIME_OF_DAY\", \"AMBIENT_TEMPERATURE\", \"PEAK_POWER\", \"ENERGY\", \"DAY_OF_WEEK\"]\n",
    "df_statistics = pd.DataFrame(\n",
    "    np.concatenate([train_instances, train_labels_binary], axis=1),\n",
    "    columns = statistics + [\"APLIANCE_{}\".format(i) for i in use_idx]\n",
    ")\n",
    "df_statistics.to_csv( os.path.join(BENCHMARKING_RESOURCES_PATH, 'datasets/df_statistics.csv') )\n",
    "display(df_statistics.head())\n",
    "\n",
    "# Dataframe com a carga da residencia e labels de aparelhos (usados para tese)\n",
    "print('Thesis benchmarking dataset...')\n",
    "df_power_chunks = pd.DataFrame(\n",
    "    np.concatenate([train_power_chunks, train_labels_binary], axis=1),\n",
    "    columns = [\"POWER_{}\".format(i) for i in range(train_power_chunks.shape[1])] + [\"APLIANCE_{}\".format(i) for i in use_idx]\n",
    ")\n",
    "df_power_chunks.to_csv( os.path.join(BENCHMARKING_RESOURCES_PATH, 'datasets/df_power_chunks.csv') )\n",
    "display(df_power_chunks.head())"
   ]
  },
  {
   "cell_type": "markdown",
   "metadata": {
    "heading_collapsed": true
   },
   "source": [
    "# Modelagem"
   ]
  },
  {
   "cell_type": "markdown",
   "metadata": {
    "hidden": true
   },
   "source": [
    "## Benchmarking (replicando estudo)"
   ]
  },
  {
   "cell_type": "code",
   "execution_count": 10,
   "metadata": {
    "ExecuteTime": {
     "end_time": "2019-10-15T17:44:18.753627Z",
     "start_time": "2019-10-15T17:43:51.834932Z"
    },
    "hidden": true
   },
   "outputs": [
    {
     "name": "stdout",
     "output_type": "stream",
     "text": [
      "================================================================================\n",
      "Classifier = Naive Bayes\n",
      "Computational Expense for Training Classifier = 0.01795339584350586s\n",
      "------------------------- Results for Traning Data -----------------------------\n",
      "Percent Accuracy on Training Data = 27.849999999999998%\n",
      "Percent Accuracy per device on Training Data = [53.15  62.975 95.05  90.35  97.5   85.95  94.75  94.25  92.225]%\n",
      "Actual Device Energy on Training Data = [66120450.   27392535.5   4449121.5  19128794.5  15390170.   28580011.25\n",
      "  4341837.5  15216350.25  5500048.25]\n",
      "Approx Device Energy on Training Data = [61753506.44166666 45844281.02500001  2540501.39583333 12911220.4\n",
      " 15640700.5125     17332266.62916667  1987370.3125      9165130.67916667\n",
      "  2994102.60416667]\n",
      "Predicted Device Energy on Training Data = [34506972.77916667 29000747.00833333  2893159.52083333 18142838.57083333\n",
      "  5318590.91666667 22028142.44583333  7095129.125      12302105.8625\n",
      " 13416221.27083333]\n",
      "Computational Expense Classifying Training Data = 0.15358829498291016s\n",
      "Device Accuracy Approx. vs Actual = [ 6.60452789 67.36048777 42.89880832 32.50374246  1.62786059 39.35528409\n",
      " 54.22743683 39.76787779 45.5622484 ]\n",
      "Device Accuracy Pre. vs. Actual = [ 47.8119511    5.87098448  34.97234182   5.15430248  65.44163634\n",
      "  22.92465439  63.41305093  19.15205907 143.92915591]\n",
      "Device Accuracy Pre. vs. approx. = [ 44.12143574  36.74075291  13.88143795  40.51993544  65.99518728\n",
      "  27.09325859 257.01092445  34.22728266 348.08822691]\n",
      "------------------------- Results for Test Data -----------------------------\n",
      "Percent Accuracy on Test Data = 27.175000000000004%\n",
      "Percent Accuracy per device on Test Data = [52.2   61.2   94.625 95.475 98.1   83.725 96.55  93.125 84.6  ]%\n",
      "Actual Device Energy on Test Data = [1.86852212e+08 2.17513613e+08 3.94863000e+06 1.23842395e+07\n",
      " 1.14932375e+07 1.53197538e+07 6.43228900e+06 4.55543375e+06\n",
      " 1.31138438e+07]\n",
      "Approx Device Energy on Test Data = [4.03886653e+07 3.83448584e+08 9.00818833e+05 1.11910315e+06\n",
      " 7.82719717e+06 8.99514155e+06 1.25683983e+06 2.81681673e+06\n",
      " 9.93793072e+06]\n",
      "Predicted Device Energy on Test Data = [1.32323863e+08 1.32373745e+08 2.85331079e+06 1.22493667e+08\n",
      " 3.39844729e+06 1.81443021e+07 4.11548429e+06 7.12924137e+06\n",
      " 9.66711929e+06]\n",
      "Computational Expense Classifying Test Data = 0.0s\n",
      "Device Accuracy Approx. vs Actual = [78.38470054 76.2871661  77.1865474  90.96348915 31.89736856 41.28403304\n",
      " 80.46045765 38.16578434 24.21801795]\n",
      "Device Accuracy Pre. vs. Actual = [ 29.18260857  39.14231681  27.73922116 889.10931844  70.43089654\n",
      "  18.43729589  36.01835534  56.49972684  26.28309841]\n",
      "Device Accuracy Pre. vs. approx. = [2.27626233e+02 6.54780977e+01 2.16746352e+02 1.08456995e+04\n",
      " 5.65815552e+01 1.01712246e+02 2.27446997e+02 1.53095677e+02\n",
      " 2.72502831e+00]\n",
      "\n",
      "\n",
      "\n"
     ]
    },
    {
     "name": "stderr",
     "output_type": "stream",
     "text": [
      "C:\\Users\\diego\\anaconda3\\envs\\doutorado\\lib\\site-packages\\sklearn\\linear_model\\logistic.py:432: FutureWarning: Default solver will be changed to 'lbfgs' in 0.22. Specify a solver to silence this warning.\n",
      "  FutureWarning)\n",
      "C:\\Users\\diego\\anaconda3\\envs\\doutorado\\lib\\site-packages\\sklearn\\linear_model\\logistic.py:469: FutureWarning: Default multi_class will be changed to 'auto' in 0.22. Specify the multi_class option to silence this warning.\n",
      "  \"this warning.\", FutureWarning)\n",
      "C:\\Users\\diego\\anaconda3\\envs\\doutorado\\lib\\site-packages\\sklearn\\svm\\base.py:929: ConvergenceWarning: Liblinear failed to converge, increase the number of iterations.\n",
      "  \"the number of iterations.\", ConvergenceWarning)\n",
      "C:\\Users\\diego\\anaconda3\\envs\\doutorado\\lib\\site-packages\\sklearn\\svm\\base.py:193: FutureWarning: The default value of gamma will change from 'auto' to 'scale' in version 0.22 to account better for unscaled features. Set gamma explicitly to 'auto' or 'scale' to avoid this warning.\n",
      "  \"avoid this warning.\", FutureWarning)\n"
     ]
    },
    {
     "name": "stdout",
     "output_type": "stream",
     "text": [
      "================================================================================\n",
      "Classifier = Logistic Regression\n",
      "Computational Expense for Training Classifier = 2.3547403812408447s\n",
      "------------------------- Results for Traning Data -----------------------------\n",
      "Percent Accuracy on Training Data = 37.475%\n",
      "Percent Accuracy per device on Training Data = [57.25  75.35  98.275 93.875 97.4   96.125 98.875 96.675 97.925]%\n",
      "Actual Device Energy on Training Data = [66120450.   27392535.5   4449121.5  19128794.5  15390170.   28580011.25\n",
      "  4341837.5  15216350.25  5500048.25]\n",
      "Approx Device Energy on Training Data = [61753506.44166666 45844281.02500001  2540501.39583333 12911220.4\n",
      " 15640700.5125     17332266.62916667  1987370.3125      9165130.67916667\n",
      "  2994102.60416667]\n",
      "Predicted Device Energy on Training Data = [9.07359962e+07 5.03644887e+07 6.01085000e+04 8.81436421e+05\n",
      " 1.57066301e+07 1.64512647e+07 5.02842500e+04 6.06406190e+06\n",
      " 0.00000000e+00]\n",
      "Computational Expense Classifying Training Data = 0.11366081237792969s\n",
      "Device Accuracy Approx. vs Actual = [ 6.60452789 67.36048777 42.89880832 32.50374246  1.62786059 39.35528409\n",
      " 54.22743683 39.76787779 45.5622484 ]\n",
      "Device Accuracy Pre. vs. Actual = [ 37.22834039  83.86209145  98.64898048  95.39209635   2.05624843\n",
      "  42.43786488  98.84186707  60.14772402 100.        ]\n",
      "Device Accuracy Pre. vs. approx. = [ 46.93254103   9.8599161   97.63399067  93.17309756   0.42152598\n",
      "   5.0830163   97.46980974  33.83551083 100.        ]\n",
      "------------------------- Results for Test Data -----------------------------\n",
      "Percent Accuracy on Test Data = 40.349999999999994%\n",
      "Percent Accuracy per device on Test Data = [58.05  71.425 99.15  99.025 98.3   97.25  99.45  98.775 89.125]%\n",
      "Actual Device Energy on Test Data = [1.86852212e+08 2.17513613e+08 3.94863000e+06 1.23842395e+07\n",
      " 1.14932375e+07 1.53197538e+07 6.43228900e+06 4.55543375e+06\n",
      " 1.31138438e+07]\n",
      "Approx Device Energy on Test Data = [4.03886653e+07 3.83448584e+08 9.00818833e+05 1.11910315e+06\n",
      " 7.82719717e+06 8.99514155e+06 1.25683983e+06 2.81681673e+06\n",
      " 9.93793072e+06]\n",
      "Predicted Device Energy on Test Data = [1.47893835e+08 1.22755244e+08 8.75247112e+07 8.91432186e+07\n",
      " 6.22922398e+06 6.89587806e+06 1.17371417e+05 4.16097938e+06\n",
      " 4.34838333e+04]\n",
      "Computational Expense Classifying Test Data = 0.0s\n",
      "Device Accuracy Approx. vs Actual = [78.38470054 76.2871661  77.1865474  90.96348915 31.89736856 41.28403304\n",
      " 80.46045765 38.16578434 24.21801795]\n",
      "Device Accuracy Pre. vs. Actual = [  20.84983459   43.56433961 2116.58426467  619.81181115   45.80096361\n",
      "   54.98701761   98.17527762    8.6589861    99.66841275]\n",
      "Device Accuracy Pre. vs. approx. = [ 266.17658505   67.98651789 9616.12803943 7865.5945007    20.41565025\n",
      "   23.33774827   90.66138632   47.71920842   99.5624458 ]\n",
      "\n",
      "\n",
      "\n",
      "================================================================================\n",
      "Classifier = SVM\n",
      "Computational Expense for Training Classifier = 13.862961769104004s\n",
      "------------------------- Results for Traning Data -----------------------------\n",
      "Percent Accuracy on Training Data = 100.0%\n",
      "Percent Accuracy per device on Training Data = [100. 100. 100. 100. 100. 100. 100. 100. 100.]%\n",
      "Actual Device Energy on Training Data = [66120450.   27392535.5   4449121.5  19128794.5  15390170.   28580011.25\n",
      "  4341837.5  15216350.25  5500048.25]\n",
      "Approx Device Energy on Training Data = [61753506.44166666 45844281.02500001  2540501.39583333 12911220.4\n",
      " 15640700.5125     17332266.62916667  1987370.3125      9165130.67916667\n",
      "  2994102.60416667]\n",
      "Predicted Device Energy on Training Data = [61753506.44166667 45844281.025       2540501.39583333 12911220.4\n",
      " 15640700.5125     17332266.62916667  1987370.3125      9165130.67916667\n",
      "  2994102.60416667]\n",
      "Computational Expense Classifying Training Data = 4.449078321456909s\n",
      "Device Accuracy Approx. vs Actual = [ 6.60452789 67.36048777 42.89880832 32.50374246  1.62786059 39.35528409\n",
      " 54.22743683 39.76787779 45.5622484 ]\n",
      "Device Accuracy Pre. vs. Actual = [ 6.60452789 67.36048777 42.89880832 32.50374246  1.62786059 39.35528409\n",
      " 54.22743683 39.76787779 45.5622484 ]\n",
      "Device Accuracy Pre. vs. approx. = [1.20650325e-14 1.62519303e-14 0.00000000e+00 1.44265615e-14\n",
      " 1.19089624e-14 2.14933821e-14 0.00000000e+00 0.00000000e+00\n",
      " 1.55526162e-14]\n",
      "------------------------- Results for Test Data -----------------------------\n",
      "Percent Accuracy on Test Data = 36.475%\n",
      "Percent Accuracy per device on Test Data = [64.35  58.425 99.175 99.425 98.    96.775 99.525 99.025 89.15 ]%\n",
      "Actual Device Energy on Test Data = [1.86852212e+08 2.17513613e+08 3.94863000e+06 1.23842395e+07\n",
      " 1.14932375e+07 1.53197538e+07 6.43228900e+06 4.55543375e+06\n",
      " 1.31138438e+07]\n",
      "Approx Device Energy on Test Data = [4.03886653e+07 3.83448584e+08 9.00818833e+05 1.11910315e+06\n",
      " 7.82719717e+06 8.99514155e+06 1.25683983e+06 2.81681673e+06\n",
      " 9.93793072e+06]\n",
      "Predicted Device Energy on Test Data = [4.61833804e+08 1.91664625e+05 0.00000000e+00 0.00000000e+00\n",
      " 0.00000000e+00 0.00000000e+00 0.00000000e+00 0.00000000e+00\n",
      " 0.00000000e+00]\n",
      "Computational Expense Classifying Test Data = 0.0s\n",
      "Device Accuracy Approx. vs Actual = [78.38470054 76.2871661  77.1865474  90.96348915 31.89736856 41.28403304\n",
      " 80.46045765 38.16578434 24.21801795]\n",
      "Device Accuracy Pre. vs. Actual = [147.16528531  99.91188385 100.         100.         100.\n",
      " 100.         100.         100.         100.        ]\n",
      "Device Accuracy Pre. vs. approx. = [1043.47379626   99.95001556  100.          100.          100.\n",
      "  100.          100.          100.          100.        ]\n",
      "\n",
      "\n",
      "\n",
      "================================================================================\n",
      "Classifier = Linear Discriminant Analysis\n",
      "Computational Expense for Training Classifier = 0.10538625717163086s\n",
      "------------------------- Results for Traning Data -----------------------------\n",
      "Percent Accuracy on Training Data = 43.175%"
     ]
    },
    {
     "name": "stderr",
     "output_type": "stream",
     "text": [
      "C:\\Users\\diego\\anaconda3\\envs\\doutorado\\lib\\site-packages\\sklearn\\discriminant_analysis.py:388: UserWarning: Variables are collinear.\n",
      "  warnings.warn(\"Variables are collinear.\")\n"
     ]
    },
    {
     "name": "stdout",
     "output_type": "stream",
     "text": [
      "\n",
      "Percent Accuracy per device on Training Data = [ 63.625  68.225  98.275  96.45  100.     98.8    98.275  98.55   98.525]%\n",
      "Actual Device Energy on Training Data = [66120450.   27392535.5   4449121.5  19128794.5  15390170.   28580011.25\n",
      "  4341837.5  15216350.25  5500048.25]\n",
      "Approx Device Energy on Training Data = [61753506.44166666 45844281.02500001  2540501.39583333 12911220.4\n",
      " 15640700.5125     17332266.62916667  1987370.3125      9165130.67916667\n",
      "  2994102.60416667]\n",
      "Predicted Device Energy on Training Data = [64329479.19999999 29731179.22083333   753362.5625     15485588.5125\n",
      " 16710480.82916667 17373704.075       3183191.97916667  7897492.55833333\n",
      "  2750985.3125    ]\n",
      "Computational Expense Classifying Training Data = 0.0797872543334961s\n",
      "Device Accuracy Approx. vs Actual = [ 6.60452789 67.36048777 42.89880832 32.50374246  1.62786059 39.35528409\n",
      " 54.22743683 39.76787779 45.5622484 ]\n",
      "Device Accuracy Pre. vs. Actual = [ 2.70864884  8.53752191 83.0671614  19.04566431  8.57892297 39.21029658\n",
      " 26.68560306 48.09864108 49.98252402]\n",
      "Device Accuracy Pre. vs. approx. = [ 4.17137893 35.1474632  70.34591031 19.93899905  6.83972125  0.2390769\n",
      " 60.17105414 13.83109707  8.11987175]\n",
      "------------------------- Results for Test Data -----------------------------\n",
      "Percent Accuracy on Test Data = 44.925000000000004%\n",
      "Percent Accuracy per device on Test Data = [68.275 71.35  99.125 98.15  99.95  98.65  98.825 99.35  89.05 ]%\n",
      "Actual Device Energy on Test Data = [1.86852212e+08 2.17513613e+08 3.94863000e+06 1.23842395e+07\n",
      " 1.14932375e+07 1.53197538e+07 6.43228900e+06 4.55543375e+06\n",
      " 1.31138438e+07]\n",
      "Approx Device Energy on Test Data = [4.03886653e+07 3.83448584e+08 9.00818833e+05 1.11910315e+06\n",
      " 7.82719717e+06 8.99514155e+06 1.25683983e+06 2.81681673e+06\n",
      " 9.93793072e+06]\n",
      "Predicted Device Energy on Test Data = [1.35243446e+08 1.07041506e+08 1.60487500e+04 4.98280229e+06\n",
      " 9.55983432e+07 9.57947285e+07 1.98073727e+06 2.37666213e+06\n",
      " 2.12918296e+06]\n",
      "Computational Expense Classifying Test Data = 0.0s\n",
      "Device Accuracy Approx. vs Actual = [78.38470054 76.2871661  77.1865474  90.96348915 31.89736856 41.28403304\n",
      " 80.46045765 38.16578434 24.21801795]\n",
      "Device Accuracy Pre. vs. Actual = [ 27.62009927  50.78859446  99.59356156  59.76497151 731.77906334\n",
      " 525.30201244  69.20633897  47.82797293  83.76385293]\n",
      "Device Accuracy Pre. vs. approx. = [ 234.85495245   72.08452173   98.21842646  345.24960101 1121.36112184\n",
      "  964.96076763   57.5966339    15.62595803   78.57518814]\n",
      "\n",
      "\n",
      "\n",
      "================================================================================\n",
      "Classifier = Random Forest Classifier\n",
      "Computational Expense for Training Classifier = 0.07781577110290527s\n",
      "------------------------- Results for Traning Data -----------------------------\n",
      "Percent Accuracy on Training Data = 99.55000000000001%\n",
      "Percent Accuracy per device on Training Data = [ 99.8    99.85   99.975  99.95  100.     99.95   99.95   99.95   99.95 ]%\n",
      "Actual Device Energy on Training Data = [66120450.   27392535.5   4449121.5  19128794.5  15390170.   28580011.25\n",
      "  4341837.5  15216350.25  5500048.25]\n",
      "Approx Device Energy on Training Data = [61753506.44166666 45844281.02500001  2540501.39583333 12911220.4\n",
      " 15640700.5125     17332266.62916667  1987370.3125      9165130.67916667\n",
      "  2994102.60416667]\n",
      "Predicted Device Energy on Training Data = [61778387.49166666 45862403.99166666  2610102.0625     12903835.825\n",
      " 15656320.89583333 17283167.22083334  1870281.8125      9045216.34583333\n",
      "  3136218.85416667]\n",
      "Computational Expense Classifying Training Data = 0.17052698135375977s\n",
      "Device Accuracy Approx. vs Actual = [ 6.60452789 67.36048777 42.89880832 32.50374246  1.62786059 39.35528409\n",
      " 54.22743683 39.76787779 45.5622484 ]\n",
      "Device Accuracy Pre. vs. Actual = [ 6.566898   67.42664801 41.33443956 32.54234696  1.72935644 39.52708041\n",
      " 56.92418676 40.55594017 42.97833925]\n",
      "Device Accuracy Pre. vs. approx. = [0.04029091 0.03953158 2.73964292 0.05719502 0.0998701  0.28328325\n",
      " 5.89162972 1.3083756  4.74653907]\n",
      "------------------------- Results for Test Data -----------------------------\n",
      "Percent Accuracy on Test Data = 81.425%\n",
      "Percent Accuracy per device on Test Data = [ 89.825  90.35   98.875  98.325 100.     97.8    99.525  99.65   89.2  ]%\n",
      "Actual Device Energy on Test Data = [1.86852212e+08 2.17513613e+08 3.94863000e+06 1.23842395e+07\n",
      " 1.14932375e+07 1.53197538e+07 6.43228900e+06 4.55543375e+06\n",
      " 1.31138438e+07]\n",
      "Approx Device Energy on Test Data = [4.03886653e+07 3.83448584e+08 9.00818833e+05 1.11910315e+06\n",
      " 7.82719717e+06 8.99514155e+06 1.25683983e+06 2.81681673e+06\n",
      " 9.93793072e+06]\n",
      "Predicted Device Energy on Test Data = [2.14908040e+08 2.16263531e+08 2.96184458e+05 2.84903209e+06\n",
      " 6.95857645e+06 1.01420019e+07 9.41471812e+05 1.95270942e+06\n",
      " 2.37498356e+06]\n",
      "Computational Expense Classifying Test Data = 0.0s\n",
      "Device Accuracy Approx. vs Actual = [78.38470054 76.2871661  77.1865474  90.96348915 31.89736856 41.28403304\n",
      " 80.46045765 38.16578434 24.21801795]\n",
      "Device Accuracy Pre. vs. Actual = [15.0149825   0.57471435 92.49905769 76.99469482 39.45503653 33.79787907\n",
      " 85.36334713 57.13450082 81.88949321]\n",
      "Device Accuracy Pre. vs. approx. = [432.09988006  43.60038348  67.12052997 154.58172486  11.09746835\n",
      "  12.74977551  25.09214082  30.67673177  76.10183015]\n",
      "\n",
      "\n",
      "\n",
      "================================================================================\n",
      "Classifier = K-means clustering\n",
      "Computational Expense for Training Classifier = 5.316758155822754s\n",
      "------------------------- Results for Traning Data -----------------------------\n",
      "Percent Accuracy on Training Data = 0.22499999999999742%\n",
      "Percent Accuracy per device on Training Data = [49.625 46.25  50.625 49.95  50.1   52.05  53.475 51.275 49.125]%\n",
      "Actual Device Energy on Training Data = [66120450.   27392535.5   4449121.5  19128794.5  15390170.   28580011.25\n",
      "  4341837.5  15216350.25  5500048.25]\n",
      "Approx Device Energy on Training Data = [61753506.44166666 45844281.02500001  2540501.39583333 12911220.4\n",
      " 15640700.5125     17332266.62916667  1987370.3125      9165130.67916667\n",
      "  2994102.60416667]\n",
      "Predicted Device Energy on Training Data = [19167023.57847222 15803766.5546627  13890601.72876984 18253036.75912698\n",
      " 16700219.1594246  18683100.01031746 24776182.42073411 26310426.57787697\n",
      " 27479624.46061507]\n",
      "Computational Expense Classifying Training Data = 0.16156554222106934s\n",
      "Device Accuracy Approx. vs Actual = [ 6.60452789 67.36048777 42.89880832 32.50374246  1.62786059 39.35528409\n",
      " 54.22743683 39.76787779 45.5622484 ]\n",
      "Device Accuracy Pre. vs. Actual = [ 71.01195836  42.30630255 212.20998862   4.5782171    8.51224619\n",
      "  34.62878707 470.63817844  72.90891801 399.62515257]\n",
      "Device Accuracy Pre. vs. approx. = [  68.96204818   65.5272889   446.76615221   41.37344258    6.77411249\n",
      "    7.79374914 1146.68172131  187.07093765  817.79167562]\n",
      "------------------------- Results for Test Data -----------------------------\n",
      "Percent Accuracy on Test Data = 0.4249999999999976%\n",
      "Percent Accuracy per device on Test Data = [47.675 48.325 50.275 51.55  46.925 51.65  55.25  51.425 50.55 ]%\n",
      "Actual Device Energy on Test Data = [1.86852212e+08 2.17513613e+08 3.94863000e+06 1.23842395e+07\n",
      " 1.14932375e+07 1.53197538e+07 6.43228900e+06 4.55543375e+06\n",
      " 1.31138438e+07]\n",
      "Approx Device Energy on Test Data = [4.03886653e+07 3.83448584e+08 9.00818833e+05 1.11910315e+06\n",
      " 7.82719717e+06 8.99514155e+06 1.25683983e+06 2.81681673e+06\n",
      " 9.93793072e+06]\n",
      "Predicted Device Energy on Test Data = [1.52050982e+07 1.09900891e+07 1.15152080e+07 1.41424786e+07\n",
      " 1.38037791e+07 1.39752822e+07 1.29314183e+08 1.28958196e+08\n",
      " 1.29679576e+08]\n",
      "Computational Expense Classifying Test Data = 0.0s\n",
      "Device Accuracy Approx. vs Actual = [78.38470054 76.2871661  77.1865474  90.96348915 31.89736856 41.28403304\n",
      " 80.46045765 38.16578434 24.21801795]\n",
      "Device Accuracy Pre. vs. Actual = [  91.86250031   94.94740173  191.62539881   14.19739266   20.10348765\n",
      "    8.77606487 1910.39137699 2730.86535408  888.87540639]\n",
      "Device Accuracy Pre. vs. approx. = [   62.35305596    97.13388196  1178.30453349  1163.73325485\n",
      "    76.35660342    55.36478382 10188.83553574  4478.15357392\n",
      "  1204.89514743]\n",
      "\n",
      "\n",
      "\n"
     ]
    },
    {
     "name": "stderr",
     "output_type": "stream",
     "text": [
      "C:\\Users\\diego\\anaconda3\\envs\\doutorado\\lib\\site-packages\\sklearn\\cluster\\k_means_.py:969: ConvergenceWarning: Number of distinct clusters (511) found smaller than n_clusters (512). Possibly due to duplicate points in X.\n",
      "  return_n_iter=True)\n"
     ]
    }
   ],
   "source": [
    "for clf_idx in range (1,7):\n",
    "    #clf = i\n",
    "    if clf_idx == 1:\n",
    "        cLabel = 'Naive Bayes'\n",
    "        clf = MultinomialNB()\n",
    "        MultinomialNB(alpha=1.0, class_prior=None, fit_prior=True)\n",
    "    \n",
    "    elif clf_idx == 2:\n",
    "        cLabel = 'Logistic Regression'\n",
    "        clf = LogisticRegression()\n",
    "        LogisticRegression(C = 1.0, penalty = 'l1', tol=1e-6)\n",
    "    \n",
    "    elif clf_idx == 3:\n",
    "        cLabel = 'SVM'\n",
    "        clf = SVC()\n",
    "    \n",
    "    elif clf_idx == 4:\n",
    "        cLabel = 'Linear Discriminant Analysis'\n",
    "        clf = LDA()\n",
    "    \n",
    "    elif clf_idx == 5:\n",
    "        cLabel = 'Random Forest Classifier'\n",
    "        clf = RandomForestClassifier(n_estimators=10)\n",
    "        SVR(C = 1.0, epsilon=0.2)\n",
    "    \n",
    "    elif clf_idx ==6:\n",
    "        cLabel = 'K-means clustering'\n",
    "        clf = KMeans(n_clusters=512, init='random')\n",
    "        \n",
    "\n",
    "    t0 = time.time()\n",
    "    clf.fit(train_instances, train_labels)   \n",
    "    t1 = time.time()\n",
    "    nd = len(use_idx)\n",
    "    \n",
    "    # prediction on training and test data\n",
    "    accuracyTr, dev_acc_train, predicted_labels_binary_train = deviceErrors(\n",
    "        clf,nd,train_instances,train_labels,train_labels_binary)\n",
    "    accuracyTs, dev_acc_test, predicted_labels_binary_test = deviceErrors(\n",
    "        clf,nd,test_instances,test_labels,test_labels_binary)\n",
    "    \n",
    "    # prediction of device energy consumption\n",
    "    agg_energy_train = train_instances[:,5]\n",
    "    actEnergy_train = actDevEnergy(device_power,device_timer,nd)\n",
    "    appEnergy_train = appDevEnergy(train_labels_binary,agg_energy_train,nd)\n",
    "    preEnergy_train = appDevEnergy(predicted_labels_binary_train,agg_energy_train,nd)\n",
    "\n",
    "    acTap_train, acTpre_train, apTde_train = energyComp(actEnergy_train, appEnergy_train, preEnergy_train)\n",
    "\n",
    "    agg_energy_test = test_instances[:,5]\n",
    "    actEnergy_test = actDevEnergy(device_power_test,device_timer_test,nd)\n",
    "    appEnergy_test = appDevEnergy(test_labels_binary,agg_energy_test,nd)\n",
    "    preEnergy_test = appDevEnergy(predicted_labels_binary_test,agg_energy_test,nd)\n",
    "  \n",
    "    acTap_test, acTpre_test, apTde_test = energyComp(actEnergy_test, appEnergy_test, preEnergy_test)\n",
    "\n",
    "  \n",
    "    t2 = time.time()\n",
    "    t3 = time.time()\n",
    "\n",
    "    trainTime = t1-t0\n",
    "    test1Time = t2-t1\n",
    "    test2Time = t3-t2\n",
    "    print( '================================================================================')\n",
    "    print( 'Classifier = ' + cLabel)\n",
    "    print( 'Computational Expense for Training Classifier = ' + str(trainTime)  + 's')\n",
    "    print( '------------------------- Results for Traning Data -----------------------------')\n",
    "    print( 'Percent Accuracy on Training Data = ' + str(accuracyTr) + '%')\n",
    "    print( 'Percent Accuracy per device on Training Data = ' + str(dev_acc_train) + '%')\n",
    "    print( 'Actual Device Energy on Training Data = ' +  str(actEnergy_train))\n",
    "    print( 'Approx Device Energy on Training Data = ' +  str(appEnergy_train))\n",
    "    print( 'Predicted Device Energy on Training Data = ' +  str(preEnergy_train))\n",
    "    print( 'Computational Expense Classifying Training Data = ' + str(test1Time)  + 's')\n",
    "    print( 'Device Accuracy Approx. vs Actual = ' + str(acTap_train))\n",
    "    print( 'Device Accuracy Pre. vs. Actual = ' + str(acTpre_train))\n",
    "    print( 'Device Accuracy Pre. vs. approx. = ' + str(apTde_train))\n",
    "    print( '------------------------- Results for Test Data -----------------------------')\n",
    "    print( 'Percent Accuracy on Test Data = ' + str(accuracyTs) + '%')\n",
    "    print( 'Percent Accuracy per device on Test Data = ' + str(dev_acc_test) + '%')\n",
    "    print( 'Actual Device Energy on Test Data = ' +  str(actEnergy_test))\n",
    "    print( 'Approx Device Energy on Test Data = ' +  str(appEnergy_test))\n",
    "    print( 'Predicted Device Energy on Test Data = ' +  str(preEnergy_test))\n",
    "    print( 'Computational Expense Classifying Test Data = ' + str(test2Time)  + 's')\n",
    "    print( 'Device Accuracy Approx. vs Actual = ' + str(acTap_test))\n",
    "    print( 'Device Accuracy Pre. vs. Actual = ' + str(acTpre_test))\n",
    "    print( 'Device Accuracy Pre. vs. approx. = ' + str(apTde_test))\n",
    "    print('\\n\\n')"
   ]
  },
  {
   "cell_type": "code",
   "execution_count": 11,
   "metadata": {
    "ExecuteTime": {
     "end_time": "2019-10-15T17:44:18.761606Z",
     "start_time": "2019-10-15T17:44:18.755623Z"
    },
    "hidden": true
   },
   "outputs": [],
   "source": [
    "# # compute the energy consumption of each device.\n",
    "    \n",
    "# ################################################################\n",
    "# #plot 4 of the devices for illustration\n",
    "# fig = plt.figure(0)\n",
    "# lendev = len(device_timer[:,0])\n",
    "# ax1 = plt.subplot(221)\n",
    "# plt.plot((device_timer[:,0]-device_timer[0,0])/(device_timer[lendev-1,0]-device_timer[0,0]),device_power[:,0])\n",
    "# ax1.set_title('Electronics')\n",
    "# plt.ylabel('Device Power (W)')\n",
    "\n",
    "# ax2 = plt.subplot(222)\n",
    "# plt.plot((device_timer[:,0]-device_timer[0,0])/(device_timer[lendev-1,0]-device_timer[0,0]),device_power[:,1])\n",
    "# ax2.set_title('Refrigerator')\n",
    "# #plt.ylabel('Device Power (W)')\n",
    "\n",
    "# ax3 = plt.subplot(223)\n",
    "# plt.plot((device_timer[:,0]-device_timer[0,0])/(device_timer[lendev-1,0]-device_timer[0,0]),device_power[:,3])\n",
    "# ax3.set_title('Furnace')\n",
    "# plt.xlabel('Normalized Time')\n",
    "# plt.ylabel('Device Power (W)')\n",
    "\n",
    "# ax4 = plt.subplot(224)\n",
    "# plt.plot((device_timer[:,0]-device_timer[0,0])/(device_timer[lendev-1,0]-device_timer[0,0]),device_power[:,5])\n",
    "# ax4.set_title('Washer Dryer 2')\n",
    "# plt.xlabel('Normalized Time')\n",
    "# #plt.ylabel('Device Power (W)')\n",
    "\n",
    "# fig = plt.figure(1)\n",
    "# plt.plot((device_timer[0:288,0]-device_timer[0,0])/(device_timer[288-1,0]-device_timer[0,0]),device_power[0:288,0])\n",
    "\n",
    "\n",
    "# plt.show()\n",
    "# plt.ylabel('Mains Power Consumption (W)')\n",
    "# plt.xlabel('time (s)')"
   ]
  },
  {
   "cell_type": "markdown",
   "metadata": {},
   "source": [
    "# Conclusões"
   ]
  },
  {
   "cell_type": "markdown",
   "metadata": {},
   "source": [
    "Foi possível reproduzir o experimento conduzido no projeto `CS446 Project: Electric Load Identification using Machine Learning`, onde se extrai atributos para cada subset (chunks) de séries temporais de medições de energia residencial de baixa frequência, tais como:\n",
    "\n",
    "    * Average power instance        \n",
    "    * Std deviation of power        \n",
    "    * Local hour of the day fraction\n",
    "    * Local average temperature during the 5 minute window\n",
    "    * Maximum power reading\n",
    "    * The energy (integral of power) reading\n",
    "    * Day of the week \n",
    "\n",
    "Todavia, no processo de implementação foram detectadas algumas limitações, destacando-se:\n",
    "\n",
    "    1. O autor não compartilhou os dados metereológicos utilizados no estudo. Sobre esta questão, a saída foi adaptar o algoritmo para pré-processar os dados de modo que ignora-se este atributo;\n",
    "    2. Muitas inconsitências na implementação, como a definição do intervalo de medição a partir do cabeçãlho da série. Este é um ponto problemático, uma vez que as medições individuais dos aparelhos não estão normalizadas por padrão, e o intervalo pode sofrer variação (como ocorre no conjunto de TESTE, que resultou em um `timestep` de 9 unidades (diferente dos 3 (segundos) existentes na corrente principal da casa. \n",
    "    \n",
    "Sendo assim, um ponto de evolução é implementar a extração de características a partir do pacote `NILMTK`, que permite processar os dados mantendo a integridade das informações. Por ora, foi fixado o `timestep` em 3 segundos (sampling_rate) no código do projeto (mais especificamente na linha 14 do arquivo *PROJETO_PATH/src/MLData.py*).\n",
    "    "
   ]
  },
  {
   "cell_type": "code",
   "execution_count": 12,
   "metadata": {
    "ExecuteTime": {
     "end_time": "2019-10-15T17:44:18.774571Z",
     "start_time": "2019-10-15T17:44:18.763600Z"
    }
   },
   "outputs": [],
   "source": [
    "# timestep = device_timer[2, 1] - device_timer[1, 1]\n",
    "# print('timestep: {}'.format(timestep))\n",
    "\n",
    "# numdata = len(total_device_power)\n",
    "# print('numdata: {}'.format(numdata))\n",
    "\n",
    "# numdevices = len(device_power[0])\n",
    "# print('numdevices: {}'.format(numdevices))\n",
    "\n",
    "# idxstep = int(timewindow/timestep)\n",
    "# print('idxstep: {}'.format(idxstep))\n",
    "\n",
    "# numinstances = int(numdata/idxstep)\n",
    "# print('numinstances: {}'.format(numinstances))\n",
    "\n",
    "# binarylabels = np.zeros(shape=(numinstances,numdevices),dtype=np.int)\n",
    "# print('binarylabels: {}'.format(binarylabels.shape))"
   ]
  },
  {
   "cell_type": "code",
   "execution_count": 13,
   "metadata": {
    "ExecuteTime": {
     "end_time": "2019-10-15T17:44:18.790533Z",
     "start_time": "2019-10-15T17:44:18.777564Z"
    }
   },
   "outputs": [
    {
     "data": {
      "text/plain": [
       "9.0"
      ]
     },
     "execution_count": 13,
     "metadata": {},
     "output_type": "execute_result"
    }
   ],
   "source": [
    "# Timestep inconsistence\n",
    "device_timer_test[2, 1] - device_timer_test[1, 1]"
   ]
  },
  {
   "cell_type": "code",
   "execution_count": 14,
   "metadata": {
    "ExecuteTime": {
     "end_time": "2019-10-15T17:44:18.803498Z",
     "start_time": "2019-10-15T17:44:18.793521Z"
    }
   },
   "outputs": [
    {
     "data": {
      "text/plain": [
       "(4000, 7)"
      ]
     },
     "execution_count": 14,
     "metadata": {},
     "output_type": "execute_result"
    }
   ],
   "source": [
    "train_instances.shape"
   ]
  },
  {
   "cell_type": "code",
   "execution_count": 15,
   "metadata": {
    "ExecuteTime": {
     "end_time": "2019-10-15T17:44:18.817456Z",
     "start_time": "2019-10-15T17:44:18.805488Z"
    }
   },
   "outputs": [
    {
     "data": {
      "text/plain": [
       "(4000, 7)"
      ]
     },
     "execution_count": 15,
     "metadata": {},
     "output_type": "execute_result"
    }
   ],
   "source": [
    "test_instances.shape"
   ]
  },
  {
   "cell_type": "code",
   "execution_count": null,
   "metadata": {},
   "outputs": [],
   "source": []
  }
 ],
 "metadata": {
  "kernelspec": {
   "display_name": "Python 3",
   "language": "python",
   "name": "python3"
  },
  "language_info": {
   "codemirror_mode": {
    "name": "ipython",
    "version": 3
   },
   "file_extension": ".py",
   "mimetype": "text/x-python",
   "name": "python",
   "nbconvert_exporter": "python",
   "pygments_lexer": "ipython3",
   "version": "3.6.7"
  },
  "toc": {
   "base_numbering": 1,
   "nav_menu": {},
   "number_sections": true,
   "sideBar": true,
   "skip_h1_title": false,
   "title_cell": "Table of Contents",
   "title_sidebar": "Contents",
   "toc_cell": false,
   "toc_position": {},
   "toc_section_display": true,
   "toc_window_display": false
  },
  "varInspector": {
   "cols": {
    "lenName": 16,
    "lenType": 16,
    "lenVar": 40
   },
   "kernels_config": {
    "python": {
     "delete_cmd_postfix": "",
     "delete_cmd_prefix": "del ",
     "library": "var_list.py",
     "varRefreshCmd": "print(var_dic_list())"
    },
    "r": {
     "delete_cmd_postfix": ") ",
     "delete_cmd_prefix": "rm(",
     "library": "var_list.r",
     "varRefreshCmd": "cat(var_dic_list()) "
    }
   },
   "types_to_exclude": [
    "module",
    "function",
    "builtin_function_or_method",
    "instance",
    "_Feature"
   ],
   "window_display": false
  }
 },
 "nbformat": 4,
 "nbformat_minor": 2
}

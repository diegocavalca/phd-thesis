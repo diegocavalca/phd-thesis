{
 "cells": [
  {
   "cell_type": "markdown",
   "metadata": {},
   "source": [
    "# Análise dos Resultados - Metodologias Qualificação"
   ]
  },
  {
   "cell_type": "code",
   "execution_count": 24,
   "metadata": {
    "ExecuteTime": {
     "end_time": "2020-08-17T20:30:48.937044Z",
     "start_time": "2020-08-17T20:30:48.917041Z"
    }
   },
   "outputs": [],
   "source": [
    "import os\n",
    "import sys\n",
    "from pprint import pprint\n",
    "import warnings\n",
    "warnings.filterwarnings(action=\"ignore\")\n",
    "\n",
    "import numpy as np\n",
    "import pandas as pd\n",
    "from matplotlib import pyplot as plt\n",
    "from IPython.display import display\n",
    "\n",
    "from collections import Counter\n",
    "\n",
    "from tqdm import tqdm, tqdm_notebook\n",
    "from glob import glob \n"
   ]
  },
  {
   "cell_type": "markdown",
   "metadata": {},
   "source": [
    "# Configurações"
   ]
  },
  {
   "cell_type": "code",
   "execution_count": 25,
   "metadata": {
    "ExecuteTime": {
     "end_time": "2020-08-17T20:30:49.474598Z",
     "start_time": "2020-08-17T20:30:49.468596Z"
    }
   },
   "outputs": [],
   "source": [
    "# Path do arquivo H5 (base REDD ja preparada p/ NILMTK) e outros insumos fundamentais\n",
    "caminho_dados = \"D:/Projetos/phd-thesis/datasets/\"\n",
    "\n",
    "# Definir diretorios onde iremos salvar os insumos gerados do notebook (dados, imagens, etc.)\n",
    "caminho_dados_notebook = os.path.join(caminho_dados, \"21\") # Num. notebook\n",
    "if not os.path.isdir(caminho_dados_notebook):\n",
    "    os.makedirs(caminho_dados_notebook)\n",
    "caminho_imagens_notebook = os.path.join(caminho_dados_notebook, \"imagens\") # Num. notebook\n",
    "if not os.path.isdir(caminho_imagens_notebook):\n",
    "    os.makedirs(caminho_imagens_notebook)\n",
    "\n",
    "# Path do arquivo H5 (base REDD ja preparada p/ NILMTK)\n",
    "caminho_redd = os.path.join(caminho_dados, \"REDD/low_freq\")\n",
    "\n",
    "# Path completo do arquivo REDD\n",
    "arquivo_dataset = os.path.join(caminho_redd, \"redd.h5\")\n",
    "\n",
    "# VARIAVEL AUXILIAR\n",
    "# Path dos arquivos relacionados as janelas\n",
    "caminho_janelas = os.path.join(caminho_redd, \"../../phd\")\n",
    "if not os.path.isdir(caminho_janelas):\n",
    "    os.makedirs(caminho_janelas)"
   ]
  },
  {
   "cell_type": "markdown",
   "metadata": {},
   "source": [
    "# Análise dos Resultados"
   ]
  },
  {
   "cell_type": "code",
   "execution_count": 26,
   "metadata": {
    "ExecuteTime": {
     "end_time": "2020-08-17T20:30:51.919279Z",
     "start_time": "2020-08-17T20:30:49.824595Z"
    }
   },
   "outputs": [
    {
     "data": {
      "application/vnd.jupyter.widget-view+json": {
       "model_id": "c175c649145641c1af3bccc9286d5b11",
       "version_major": 2,
       "version_minor": 0
      },
      "text/plain": [
       "HBox(children=(IntProgress(value=0, max=6), HTML(value='')))"
      ]
     },
     "metadata": {},
     "output_type": "display_data"
    },
    {
     "name": "stdout",
     "output_type": "stream",
     "text": [
      "\n"
     ]
    }
   ],
   "source": [
    "# Consolidando planilhas\n",
    "dados = {}\n",
    "\n",
    "for dir_residencia in tqdm_notebook(glob(os.path.join(caminho_dados, \"20/residencia_*\"))):\n",
    "    id_residencia = dir_residencia.split(\"_\")[-1]\n",
    "    planilhas = glob(os.path.join(dir_residencia, \"resultados_*_cv.xlsx\"))\n",
    "    if len(planilhas) > 0:\n",
    "        df = pd.concat([pd.read_excel(p) for p in planilhas])\n",
    "        df[\"residencia\"] = id_residencia\n",
    "        dados[id_residencia] = df\n",
    "del df"
   ]
  },
  {
   "cell_type": "markdown",
   "metadata": {
    "ExecuteTime": {
     "end_time": "2020-08-17T20:30:04.322466Z",
     "start_time": "2020-08-17T20:30:04.293494Z"
    }
   },
   "source": [
    "## Resultados por Residencia"
   ]
  },
  {
   "cell_type": "code",
   "execution_count": 38,
   "metadata": {
    "ExecuteTime": {
     "end_time": "2020-08-17T20:35:20.080330Z",
     "start_time": "2020-08-17T20:35:20.061350Z"
    }
   },
   "outputs": [],
   "source": [
    "# Metodologia analsada\n",
    "metodologia = \"Baseline\"\n",
    "\n",
    "# Agrupando resultados das varias residencias para a metodologia escolhida\n",
    "dados_residencias = pd.concat([v[v[\"metodologia\"] == metodologia] for k,v in dados.items()])"
   ]
  },
  {
   "cell_type": "code",
   "execution_count": 54,
   "metadata": {
    "ExecuteTime": {
     "end_time": "2020-08-17T21:07:03.057474Z",
     "start_time": "2020-08-17T21:07:03.028500Z"
    }
   },
   "outputs": [
    {
     "data": {
      "text/html": [
       "<div>\n",
       "<style scoped>\n",
       "    .dataframe tbody tr th:only-of-type {\n",
       "        vertical-align: middle;\n",
       "    }\n",
       "\n",
       "    .dataframe tbody tr th {\n",
       "        vertical-align: top;\n",
       "    }\n",
       "\n",
       "    .dataframe thead tr th {\n",
       "        text-align: left;\n",
       "    }\n",
       "\n",
       "    .dataframe thead tr:last-of-type th {\n",
       "        text-align: right;\n",
       "    }\n",
       "</style>\n",
       "<table border=\"1\" class=\"dataframe\">\n",
       "  <thead>\n",
       "    <tr>\n",
       "      <th></th>\n",
       "      <th>acuracia</th>\n",
       "      <th>f1</th>\n",
       "    </tr>\n",
       "    <tr>\n",
       "      <th></th>\n",
       "      <th>mean</th>\n",
       "      <th>mean</th>\n",
       "    </tr>\n",
       "    <tr>\n",
       "      <th>residencia</th>\n",
       "      <th></th>\n",
       "      <th></th>\n",
       "    </tr>\n",
       "  </thead>\n",
       "  <tbody>\n",
       "    <tr>\n",
       "      <th>1</th>\n",
       "      <td>0.959446</td>\n",
       "      <td>0.818075</td>\n",
       "    </tr>\n",
       "    <tr>\n",
       "      <th>2</th>\n",
       "      <td>0.946402</td>\n",
       "      <td>0.800484</td>\n",
       "    </tr>\n",
       "    <tr>\n",
       "      <th>3</th>\n",
       "      <td>0.965471</td>\n",
       "      <td>0.709121</td>\n",
       "    </tr>\n",
       "    <tr>\n",
       "      <th>5</th>\n",
       "      <td>0.952504</td>\n",
       "      <td>0.888746</td>\n",
       "    </tr>\n",
       "  </tbody>\n",
       "</table>\n",
       "</div>"
      ],
      "text/plain": [
       "            acuracia        f1\n",
       "                mean      mean\n",
       "residencia                    \n",
       "1           0.959446  0.818075\n",
       "2           0.946402  0.800484\n",
       "3           0.965471  0.709121\n",
       "5           0.952504  0.888746"
      ]
     },
     "execution_count": 54,
     "metadata": {},
     "output_type": "execute_result"
    }
   ],
   "source": [
    "# Resultados\n",
    "df_resultados_residencias = dados_residencias.groupby(\"residencia\").agg({\n",
    "    \"acuracia\": [\"mean\"],\n",
    "    \"f1\": [\"mean\"]\n",
    "})\n",
    "df_resultados_residencias"
   ]
  },
  {
   "cell_type": "markdown",
   "metadata": {},
   "source": [
    "## Resultados por Aparelho"
   ]
  },
  {
   "cell_type": "code",
   "execution_count": 55,
   "metadata": {
    "ExecuteTime": {
     "end_time": "2020-08-17T21:07:04.407724Z",
     "start_time": "2020-08-17T21:07:04.380721Z"
    }
   },
   "outputs": [
    {
     "data": {
      "text/html": [
       "<div>\n",
       "<style scoped>\n",
       "    .dataframe tbody tr th:only-of-type {\n",
       "        vertical-align: middle;\n",
       "    }\n",
       "\n",
       "    .dataframe tbody tr th {\n",
       "        vertical-align: top;\n",
       "    }\n",
       "\n",
       "    .dataframe thead tr th {\n",
       "        text-align: left;\n",
       "    }\n",
       "\n",
       "    .dataframe thead tr:last-of-type th {\n",
       "        text-align: right;\n",
       "    }\n",
       "</style>\n",
       "<table border=\"1\" class=\"dataframe\">\n",
       "  <thead>\n",
       "    <tr>\n",
       "      <th></th>\n",
       "      <th></th>\n",
       "      <th>acuracia</th>\n",
       "      <th>f1</th>\n",
       "    </tr>\n",
       "    <tr>\n",
       "      <th></th>\n",
       "      <th></th>\n",
       "      <th>mean</th>\n",
       "      <th>mean</th>\n",
       "    </tr>\n",
       "    <tr>\n",
       "      <th>residencia</th>\n",
       "      <th>aparelho</th>\n",
       "      <th></th>\n",
       "      <th></th>\n",
       "    </tr>\n",
       "  </thead>\n",
       "  <tbody>\n",
       "    <tr>\n",
       "      <th rowspan=\"5\" valign=\"top\">1</th>\n",
       "      <th>dish_washer - 9</th>\n",
       "      <td>0.915978</td>\n",
       "      <td>0.497023</td>\n",
       "    </tr>\n",
       "    <tr>\n",
       "      <th>fridge - 7</th>\n",
       "      <td>1.000000</td>\n",
       "      <td>1.000000</td>\n",
       "    </tr>\n",
       "    <tr>\n",
       "      <th>microwave - 16</th>\n",
       "      <td>0.901253</td>\n",
       "      <td>0.758513</td>\n",
       "    </tr>\n",
       "    <tr>\n",
       "      <th>washer_dryer - 13</th>\n",
       "      <td>0.988750</td>\n",
       "      <td>0.907097</td>\n",
       "    </tr>\n",
       "    <tr>\n",
       "      <th>washer_dryer - 14</th>\n",
       "      <td>0.991250</td>\n",
       "      <td>0.927742</td>\n",
       "    </tr>\n",
       "    <tr>\n",
       "      <th rowspan=\"5\" valign=\"top\">2</th>\n",
       "      <th>dish_washer - 9</th>\n",
       "      <td>0.967200</td>\n",
       "      <td>0.681547</td>\n",
       "    </tr>\n",
       "    <tr>\n",
       "      <th>fridge - 7</th>\n",
       "      <td>1.000000</td>\n",
       "      <td>1.000000</td>\n",
       "    </tr>\n",
       "    <tr>\n",
       "      <th>microwave - 16</th>\n",
       "      <td>0.784224</td>\n",
       "      <td>0.490871</td>\n",
       "    </tr>\n",
       "    <tr>\n",
       "      <th>washer_dryer - 13</th>\n",
       "      <td>0.990000</td>\n",
       "      <td>0.912424</td>\n",
       "    </tr>\n",
       "    <tr>\n",
       "      <th>washer_dryer - 14</th>\n",
       "      <td>0.990588</td>\n",
       "      <td>0.917576</td>\n",
       "    </tr>\n",
       "    <tr>\n",
       "      <th rowspan=\"5\" valign=\"top\">3</th>\n",
       "      <th>dish_washer - 9</th>\n",
       "      <td>0.965555</td>\n",
       "      <td>0.576105</td>\n",
       "    </tr>\n",
       "    <tr>\n",
       "      <th>fridge - 7</th>\n",
       "      <td>0.983214</td>\n",
       "      <td>0.960020</td>\n",
       "    </tr>\n",
       "    <tr>\n",
       "      <th>microwave - 16</th>\n",
       "      <td>0.939900</td>\n",
       "      <td>0.581492</td>\n",
       "    </tr>\n",
       "    <tr>\n",
       "      <th>washer_dryer - 13</th>\n",
       "      <td>0.967747</td>\n",
       "      <td>0.716226</td>\n",
       "    </tr>\n",
       "    <tr>\n",
       "      <th>washer_dryer - 14</th>\n",
       "      <td>0.967065</td>\n",
       "      <td>0.706890</td>\n",
       "    </tr>\n",
       "    <tr>\n",
       "      <th rowspan=\"5\" valign=\"top\">5</th>\n",
       "      <th>dish_washer - 9</th>\n",
       "      <td>0.958833</td>\n",
       "      <td>0.709275</td>\n",
       "    </tr>\n",
       "    <tr>\n",
       "      <th>fridge - 7</th>\n",
       "      <td>0.906667</td>\n",
       "      <td>0.891833</td>\n",
       "    </tr>\n",
       "    <tr>\n",
       "      <th>microwave - 16</th>\n",
       "      <td>0.840395</td>\n",
       "      <td>0.840163</td>\n",
       "    </tr>\n",
       "    <tr>\n",
       "      <th>washer_dryer - 13</th>\n",
       "      <td>0.990409</td>\n",
       "      <td>0.944987</td>\n",
       "    </tr>\n",
       "    <tr>\n",
       "      <th>washer_dryer - 14</th>\n",
       "      <td>0.990409</td>\n",
       "      <td>0.944987</td>\n",
       "    </tr>\n",
       "  </tbody>\n",
       "</table>\n",
       "</div>"
      ],
      "text/plain": [
       "                              acuracia        f1\n",
       "                                  mean      mean\n",
       "residencia aparelho                             \n",
       "1          dish_washer - 9    0.915978  0.497023\n",
       "           fridge - 7         1.000000  1.000000\n",
       "           microwave - 16     0.901253  0.758513\n",
       "           washer_dryer - 13  0.988750  0.907097\n",
       "           washer_dryer - 14  0.991250  0.927742\n",
       "2          dish_washer - 9    0.967200  0.681547\n",
       "           fridge - 7         1.000000  1.000000\n",
       "           microwave - 16     0.784224  0.490871\n",
       "           washer_dryer - 13  0.990000  0.912424\n",
       "           washer_dryer - 14  0.990588  0.917576\n",
       "3          dish_washer - 9    0.965555  0.576105\n",
       "           fridge - 7         0.983214  0.960020\n",
       "           microwave - 16     0.939900  0.581492\n",
       "           washer_dryer - 13  0.967747  0.716226\n",
       "           washer_dryer - 14  0.967065  0.706890\n",
       "5          dish_washer - 9    0.958833  0.709275\n",
       "           fridge - 7         0.906667  0.891833\n",
       "           microwave - 16     0.840395  0.840163\n",
       "           washer_dryer - 13  0.990409  0.944987\n",
       "           washer_dryer - 14  0.990409  0.944987"
      ]
     },
     "metadata": {},
     "output_type": "display_data"
    }
   ],
   "source": [
    "# Resultados\n",
    "df_resultados_aparelhos = dados_residencias.groupby([\"residencia\",\"aparelho\",\"base\"]).agg({\n",
    "    \"acuracia\": [\"mean\"],\n",
    "    \"f1\": [\"mean\"]\n",
    "})\n",
    "display(df_resultados_aparelhos)"
   ]
  },
  {
   "cell_type": "code",
   "execution_count": 57,
   "metadata": {
    "ExecuteTime": {
     "end_time": "2020-08-17T21:07:21.204669Z",
     "start_time": "2020-08-17T21:07:21.106673Z"
    }
   },
   "outputs": [],
   "source": [
    "# Persisindo resultados\n",
    "xls_writer = pd.ExcelWriter(os.path.join(caminho_dados_notebook, \"resultados.xlsx\"), engine='xlsxwriter')\n",
    "\n",
    "df_resultados_residencias.to_excel(xls_writer, sheet_name='Residencias')\n",
    "df_resultados_aparelhos.to_excel(xls_writer, sheet_name='Aparelhos')\n",
    "\n",
    "xls_writer.save()"
   ]
  },
  {
   "cell_type": "code",
   "execution_count": null,
   "metadata": {},
   "outputs": [],
   "source": []
  }
 ],
 "metadata": {
  "hide_input": false,
  "kernelspec": {
   "display_name": "Python 3",
   "language": "python",
   "name": "python3"
  },
  "language_info": {
   "codemirror_mode": {
    "name": "ipython",
    "version": 3
   },
   "file_extension": ".py",
   "mimetype": "text/x-python",
   "name": "python",
   "nbconvert_exporter": "python",
   "pygments_lexer": "ipython3",
   "version": "3.8.8"
  },
  "toc": {
   "base_numbering": 1,
   "nav_menu": {},
   "number_sections": true,
   "sideBar": true,
   "skip_h1_title": false,
   "title_cell": "Table of Contents",
   "title_sidebar": "Contents",
   "toc_cell": false,
   "toc_position": {},
   "toc_section_display": true,
   "toc_window_display": false
  },
  "varInspector": {
   "cols": {
    "lenName": 16,
    "lenType": 16,
    "lenVar": 40
   },
   "kernels_config": {
    "python": {
     "delete_cmd_postfix": "",
     "delete_cmd_prefix": "del ",
     "library": "var_list.py",
     "varRefreshCmd": "print(var_dic_list())"
    },
    "r": {
     "delete_cmd_postfix": ") ",
     "delete_cmd_prefix": "rm(",
     "library": "var_list.r",
     "varRefreshCmd": "cat(var_dic_list()) "
    }
   },
   "types_to_exclude": [
    "module",
    "function",
    "builtin_function_or_method",
    "instance",
    "_Feature"
   ],
   "window_display": true
  }
 },
 "nbformat": 4,
 "nbformat_minor": 2
}

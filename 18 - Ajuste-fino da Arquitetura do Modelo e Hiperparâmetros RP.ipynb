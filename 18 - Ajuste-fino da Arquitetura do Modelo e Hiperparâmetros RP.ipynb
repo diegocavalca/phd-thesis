{
 "cells": [
  {
   "cell_type": "markdown",
   "metadata": {},
   "source": [
    "# Ajuste-fino da Arquitetura do Modelo e Hiperparâmetros RP"
   ]
  },
  {
   "cell_type": "markdown",
   "metadata": {},
   "source": [
    "Com o estudo anterior (17), consolidamos a melhor `Taxa de Amostragem (= 5)` e o melhor `Tamanho de Janela` para cada aparelho da `residência 3` na base REDD.\n",
    "\n",
    "Apesar de resultados satisfatórios, o processo de otimização considerou um pipeline canônico, escolhido aleatoriamente, composto de:\n",
    "* Um conversor de séries em imagens baseado em Gráfico de Recorrência;\n",
    "* Um modelo classificador baseado em CNN.\n",
    "\n",
    "Neste sentido, a adoção de uma estratégia sistemática para escolha da arquitetura do modelo classificador e explotar diferentes combinações de hiperparâmetros do Gráfico de recorrência tendem a culminar em resultados de ponta para a identificação de cargas.\n",
    "\n",
    "Portanto, neste estudo temos os seguintes objetivos:\n",
    "1. Construir um modelo baseado em Deep Learning utilizando um arcabouço sistemático;\n",
    "2. Varrer um conjunto discreto de valores combinatórios dos hiperparâmetros do RP."
   ]
  },
  {
   "cell_type": "markdown",
   "metadata": {},
   "source": [
    "# Configurações"
   ]
  },
  {
   "cell_type": "code",
   "execution_count": 1,
   "metadata": {
    "ExecuteTime": {
     "end_time": "2020-06-15T18:15:04.246905Z",
     "start_time": "2020-06-15T18:15:02.437504Z"
    }
   },
   "outputs": [],
   "source": [
    "import os\n",
    "import sys\n",
    "import gc\n",
    "from pprint import pprint\n",
    "from collections import Counter\n",
    "import copy\n",
    "import warnings\n",
    "warnings.filterwarnings(action=\"ignore\")\n",
    "\n",
    "import numpy as np\n",
    "import pandas as pd\n",
    "from matplotlib import pyplot as plt\n",
    "from IPython.display import display\n",
    "\n",
    "# TODO: implementar rotina na classe PyNILM.utils\n",
    "def sizeof_fmt(num, suffix='B'):\n",
    "    ''' by Fred Cirera,  https://stackoverflow.com/a/1094933/1870254, modified'''\n",
    "    for unit in ['','Ki','Mi','Gi','Ti','Pi','Ei','Zi']:\n",
    "        if abs(num) < 1024.0:\n",
    "            return \"%3.1f %s%s\" % (num, unit, suffix)\n",
    "        num /= 1024.0\n",
    "    return \"%.1f %s%s\" % (num, 'Yi', suffix)\n",
    "\n",
    "def listar_variaveis_memoria(ambiente):\n",
    "    print(\"* Variáveis instanciadas em memória:\")\n",
    "    print(\"---\")\n",
    "    total = 0\n",
    "    for name, size in sorted(((name, sys.getsizeof(value)) for name, value in ambiente.items()),\n",
    "                             key= lambda x: -x[1])[:10]:\n",
    "        total += size\n",
    "        print(\"{:>30}: {:>8}\".format(name, sizeof_fmt(size)))\n",
    "    print(\"---\")\n",
    "    print(\"Total:\", sizeof_fmt(total))\n",
    "    \n",
    "# TODO: implementar na classe utils\n",
    "def highlight_col(x):\n",
    "    r = 'background-color: #D9D9D9'\n",
    "    df1 = pd.DataFrame('', index=x.index, columns=x.columns)\n",
    "    df1.iloc[:, -2] = r\n",
    "    return df1   "
   ]
  },
  {
   "cell_type": "code",
   "execution_count": 2,
   "metadata": {
    "ExecuteTime": {
     "end_time": "2020-06-15T18:15:04.822901Z",
     "start_time": "2020-06-15T18:15:04.705065Z"
    }
   },
   "outputs": [],
   "source": [
    "# CONSTANTES FUNDAMENTAIS DE ORGANIZACAO DE PASTAS/ARQUIVOS\n",
    "\n",
    "# Path do arquivo H5 (base REDD ja preparada p/ NILMTK) e outros insumos fundamentais\n",
    "caminho_dados = \"D:/Projetos/phd-thesis/datasets/\"\n",
    "\n",
    "# Definir diretorios onde iremos salvar os insumos gerados do notebook (dados, imagens, etc.)\n",
    "caminho_dados_notebook = os.path.join(caminho_dados, \"18\") # Num. notebook\n",
    "if not os.path.isdir(caminho_dados_notebook):\n",
    "    os.makedirs(caminho_dados_notebook)\n",
    "caminho_imagens_notebook = os.path.join(caminho_dados_notebook, \"imagens\") # Num. notebook\n",
    "if not os.path.isdir(caminho_imagens_notebook):\n",
    "    os.makedirs(caminho_imagens_notebook)\n",
    "\n",
    "# Path do arquivo H5 (base REDD ja preparada p/ NILMTK)\n",
    "caminho_redd = os.path.join(caminho_dados, \"REDD/low_freq\")\n",
    "\n",
    "# Path completo do arquivo REDD\n",
    "arquivo_dataset = os.path.join(caminho_redd, \"redd.h5\")\n",
    "\n",
    "# VARIAVEL AUXILIAR\n",
    "# Path dos arquivos relacionados as janelas\n",
    "caminho_janelas = os.path.join(caminho_redd, \"../../phd\")\n",
    "if not os.path.isdir(caminho_janelas):\n",
    "    os.makedirs(caminho_janelas)"
   ]
  },
  {
   "cell_type": "markdown",
   "metadata": {},
   "source": [
    "# Dados"
   ]
  },
  {
   "cell_type": "markdown",
   "metadata": {},
   "source": [
    "## Base REDD"
   ]
  },
  {
   "cell_type": "code",
   "execution_count": 3,
   "metadata": {
    "ExecuteTime": {
     "end_time": "2020-06-15T18:15:18.486348Z",
     "start_time": "2020-06-15T18:15:15.058486Z"
    }
   },
   "outputs": [
    {
     "name": "stdout",
     "output_type": "stream",
     "text": [
      "NILMTK -> Detalhes sobre o dataset REDD:\n"
     ]
    },
    {
     "data": {
      "text/html": [
       "<ul><li><strong>name</strong>: REDD</li><li><strong>long_name</strong>: The Reference Energy Disaggregation Data set</li><li><strong>creators</strong>: <ul><li>Kolter, Zico</li><li>Johnson, Matthew</li></ul></li><li><strong>publication_date</strong>: 2011</li><li><strong>institution</strong>: Massachusetts Institute of Technology (MIT)</li><li><strong>contact</strong>: zkolter@cs.cmu.edu</li><li><strong>description</strong>: Several weeks of power data for 6 different homes.</li><li><strong>subject</strong>: Disaggregated power demand from domestic buildings.</li><li><strong>number_of_buildings</strong>: 6</li><li><strong>timezone</strong>: US/Eastern</li><li><strong>geo_location</strong>: <ul><li><strong>locality</strong>: Massachusetts</li><li><strong>country</strong>: US</li><li><strong>latitude</strong>: 42.360091</li><li><strong>longitude</strong>: -71.09416</li></ul></li><li><strong>related_documents</strong>: <ul><li><a href=\"http://redd.csail.mit.edu\">http://redd.csail.mit.edu</a></li><li>J. Zico Kolter and Matthew J. Johnson. REDD: A public data set for energy disaggregation research. In proceedings of the SustKDD workshop on Data Mining Applications in Sustainability, 2011. <a href=\"http://redd.csail.mit.edu/kolter-kddsust11.pdf\">http://redd.csail.mit.edu/kolter-kddsust11.pdf</a>\n",
       "</li></ul></li><li><strong>schema</strong>: <a href=\"https://github.com/nilmtk/nilm_metadata/tree/v0.2\">https://github.com/nilmtk/nilm_metadata/tree/v0.2</a></li><li><strong>meter_devices</strong>: <ul><li><strong>eMonitor</strong>: <ul><li><strong>model</strong>: eMonitor</li><li><strong>manufacturer</strong>: Powerhouse Dynamics</li><li><strong>manufacturer_url</strong>: <a href=\"http://powerhousedynamics.com\">http://powerhousedynamics.com</a></li><li><strong>description</strong>: Measures circuit-level power demand.  Comes with 24 CTs. This FAQ page suggests the eMonitor measures real (active) power: <a href=\"http://www.energycircle.com/node/14103\">http://www.energycircle.com/node/14103</a>  although the REDD readme.txt says all channels record apparent power.\n",
       "</li><li><strong>sample_period</strong>: 3</li><li><strong>max_sample_period</strong>: 50</li><li><strong>measurements</strong>: <ul><li>{'physical_quantity': 'power', 'type': 'active', 'upper_limit': 5000, 'lower_limit': 0}</li></ul></li><li><strong>wireless</strong>: False</li></ul></li><li><strong>REDD_whole_house</strong>: <ul><li><strong>description</strong>: REDD's DIY power meter used to measure whole-home AC waveforms at high frequency.  To quote from their paper: \"CTs from TED (<a href=\"http://www.theenergydetective.com\">http://www.theenergydetective.com</a>) to measure current in the power mains, a Pico TA041 oscilloscope probe (<a href=\"http://www.picotechnologies.com\">http://www.picotechnologies.com</a>) to measure voltage for one of the two phases in the home, and a National Instruments NI-9239 analog to digital converter to transform both these analog signals to digital readings. This A/D converter has 24 bit resolution with noise of approximately 70 ÂµV, which determines the noise level of our current and voltage readings: the TED CTs are rated for 200 amp circuits and a maximum of 3 volts, so we are able to differentiate between currents of approximately ((200))(70 Ã— 10âˆ’6)/(3) = 4.66mA, corresponding to power changes of about 0.5 watts. Similarly, since we use a 1:100 voltage stepdown in the oscilloscope probe, we can detect voltage differences of about 7mV.\"\n",
       "</li><li><strong>sample_period</strong>: 1</li><li><strong>max_sample_period</strong>: 30</li><li><strong>measurements</strong>: <ul><li>{'physical_quantity': 'power', 'type': 'apparent', 'upper_limit': 50000, 'lower_limit': 0}</li></ul></li><li><strong>wireless</strong>: False</li></ul></li></ul></li></ul>"
      ],
      "text/plain": [
       "<IPython.core.display.HTML object>"
      ]
     },
     "metadata": {},
     "output_type": "display_data"
    },
    {
     "name": "stdout",
     "output_type": "stream",
     "text": [
      "\n",
      "PARÂMETROS DO ESTUDO:\n",
      "{'base': <nilmtk.dataset.DataSet object at 0x0000023B6D49FE48>,\n",
      " 'debug': False,\n",
      " 'fim_intervalo': '2011-04-23 08:43:26',\n",
      " 'id_residencia': 3,\n",
      " 'inicio_intervalo': '2011-04-16 05:11:30'}\n"
     ]
    }
   ],
   "source": [
    "# Exemplo de carregamento da base REDD no NILMTK\n",
    "from nilmtk import DataSet\n",
    "from nilmtk.utils import print_dict\n",
    "from nilmtk.dataset_converters import convert_redd\n",
    "\n",
    "from sklearn.preprocessing import MinMaxScaler, StandardScaler\n",
    "\n",
    "from PyNILM.dados.janelas import Janelas\n",
    "\n",
    "# Gerar arquivo H5 (Nilmtk) do dataset REDD, caso n exista\n",
    "if not os.path.isfile(arquivo_dataset):\n",
    "    print(\"Gerando arquivo H5 (NILMTK) da base REDD, aguarde...\")\n",
    "    print(\"-----\")\n",
    "    convert_redd(caminho_redd, arquivo_dataset)\n",
    "\n",
    "# Carregando dataset REDD no objeto NILMTK\n",
    "redd = DataSet(arquivo_dataset)\n",
    "print(\"NILMTK -> Detalhes sobre o dataset REDD:\")\n",
    "print_dict(redd.metadata)\n",
    "print()\n",
    "\n",
    "# Parametros dos dados\n",
    "PARAMETROS_DATASET = {\n",
    "    \"base\":redd,\n",
    "    \"id_residencia\":3,\n",
    "    \"inicio_intervalo\":'2011-04-16 05:11:30',\n",
    "    \"fim_intervalo\":'2011-04-23 08:43:26',\n",
    "    \"debug\": False    \n",
    "}\n",
    "print(\"PARÂMETROS DO ESTUDO:\")\n",
    "pprint(PARAMETROS_DATASET)"
   ]
  },
  {
   "cell_type": "markdown",
   "metadata": {},
   "source": [
    "## Melhores Janelas para cada aparelho (estudo 17)"
   ]
  },
  {
   "cell_type": "code",
   "execution_count": 4,
   "metadata": {
    "ExecuteTime": {
     "end_time": "2020-06-15T18:18:35.397969Z",
     "start_time": "2020-06-15T18:18:35.298220Z"
    }
   },
   "outputs": [
    {
     "data": {
      "text/html": [
       "<div>\n",
       "<style scoped>\n",
       "    .dataframe tbody tr th:only-of-type {\n",
       "        vertical-align: middle;\n",
       "    }\n",
       "\n",
       "    .dataframe tbody tr th {\n",
       "        vertical-align: top;\n",
       "    }\n",
       "\n",
       "    .dataframe thead th {\n",
       "        text-align: right;\n",
       "    }\n",
       "</style>\n",
       "<table border=\"1\" class=\"dataframe\">\n",
       "  <thead>\n",
       "    <tr style=\"text-align: right;\">\n",
       "      <th></th>\n",
       "      <th>taxa_amostragem</th>\n",
       "      <th>carga</th>\n",
       "      <th>janela</th>\n",
       "      <th>loss</th>\n",
       "      <th>acuracia</th>\n",
       "      <th>f1_macro</th>\n",
       "    </tr>\n",
       "  </thead>\n",
       "  <tbody>\n",
       "    <tr>\n",
       "      <th>0</th>\n",
       "      <td>5</td>\n",
       "      <td>sockets - 3</td>\n",
       "      <td>1080</td>\n",
       "      <td>0.103</td>\n",
       "      <td>93.10</td>\n",
       "      <td>73.15</td>\n",
       "    </tr>\n",
       "    <tr>\n",
       "      <th>1</th>\n",
       "      <td>5</td>\n",
       "      <td>sockets - 4</td>\n",
       "      <td>30</td>\n",
       "      <td>0.000</td>\n",
       "      <td>100.00</td>\n",
       "      <td>100.00</td>\n",
       "    </tr>\n",
       "    <tr>\n",
       "      <th>2</th>\n",
       "      <td>5</td>\n",
       "      <td>light - 5</td>\n",
       "      <td>1080</td>\n",
       "      <td>0.018</td>\n",
       "      <td>100.00</td>\n",
       "      <td>100.00</td>\n",
       "    </tr>\n",
       "    <tr>\n",
       "      <th>3</th>\n",
       "      <td>5</td>\n",
       "      <td>ce_appliance - 6</td>\n",
       "      <td>360</td>\n",
       "      <td>0.000</td>\n",
       "      <td>100.00</td>\n",
       "      <td>100.00</td>\n",
       "    </tr>\n",
       "    <tr>\n",
       "      <th>4</th>\n",
       "      <td>5</td>\n",
       "      <td>fridge - 7</td>\n",
       "      <td>360</td>\n",
       "      <td>0.000</td>\n",
       "      <td>100.00</td>\n",
       "      <td>100.00</td>\n",
       "    </tr>\n",
       "    <tr>\n",
       "      <th>5</th>\n",
       "      <td>5</td>\n",
       "      <td>waste_disposal_unit - 8</td>\n",
       "      <td>30</td>\n",
       "      <td>0.099</td>\n",
       "      <td>99.81</td>\n",
       "      <td>49.95</td>\n",
       "    </tr>\n",
       "    <tr>\n",
       "      <th>6</th>\n",
       "      <td>5</td>\n",
       "      <td>dish_washer - 9</td>\n",
       "      <td>60</td>\n",
       "      <td>0.092</td>\n",
       "      <td>97.67</td>\n",
       "      <td>74.40</td>\n",
       "    </tr>\n",
       "    <tr>\n",
       "      <th>7</th>\n",
       "      <td>5</td>\n",
       "      <td>electric_furnace - 10</td>\n",
       "      <td>30</td>\n",
       "      <td>1.154</td>\n",
       "      <td>90.70</td>\n",
       "      <td>82.94</td>\n",
       "    </tr>\n",
       "    <tr>\n",
       "      <th>8</th>\n",
       "      <td>5</td>\n",
       "      <td>light - 11</td>\n",
       "      <td>30</td>\n",
       "      <td>7.155</td>\n",
       "      <td>82.76</td>\n",
       "      <td>79.20</td>\n",
       "    </tr>\n",
       "    <tr>\n",
       "      <th>9</th>\n",
       "      <td>5</td>\n",
       "      <td>sockets - 12</td>\n",
       "      <td>30</td>\n",
       "      <td>2.086</td>\n",
       "      <td>85.96</td>\n",
       "      <td>67.43</td>\n",
       "    </tr>\n",
       "    <tr>\n",
       "      <th>10</th>\n",
       "      <td>5</td>\n",
       "      <td>washer_dryer - 13</td>\n",
       "      <td>60</td>\n",
       "      <td>0.034</td>\n",
       "      <td>99.22</td>\n",
       "      <td>92.11</td>\n",
       "    </tr>\n",
       "    <tr>\n",
       "      <th>11</th>\n",
       "      <td>5</td>\n",
       "      <td>washer_dryer - 14</td>\n",
       "      <td>30</td>\n",
       "      <td>0.435</td>\n",
       "      <td>98.25</td>\n",
       "      <td>82.88</td>\n",
       "    </tr>\n",
       "    <tr>\n",
       "      <th>12</th>\n",
       "      <td>5</td>\n",
       "      <td>light - 15</td>\n",
       "      <td>30</td>\n",
       "      <td>0.000</td>\n",
       "      <td>100.00</td>\n",
       "      <td>100.00</td>\n",
       "    </tr>\n",
       "    <tr>\n",
       "      <th>13</th>\n",
       "      <td>5</td>\n",
       "      <td>microwave - 16</td>\n",
       "      <td>30</td>\n",
       "      <td>0.032</td>\n",
       "      <td>99.22</td>\n",
       "      <td>71.23</td>\n",
       "    </tr>\n",
       "    <tr>\n",
       "      <th>14</th>\n",
       "      <td>5</td>\n",
       "      <td>light - 17</td>\n",
       "      <td>30</td>\n",
       "      <td>1.932</td>\n",
       "      <td>88.57</td>\n",
       "      <td>88.33</td>\n",
       "    </tr>\n",
       "    <tr>\n",
       "      <th>15</th>\n",
       "      <td>5</td>\n",
       "      <td>smoke_alarm - 18</td>\n",
       "      <td>30</td>\n",
       "      <td>0.011</td>\n",
       "      <td>99.90</td>\n",
       "      <td>49.98</td>\n",
       "    </tr>\n",
       "    <tr>\n",
       "      <th>16</th>\n",
       "      <td>5</td>\n",
       "      <td>light - 19</td>\n",
       "      <td>30</td>\n",
       "      <td>2.895</td>\n",
       "      <td>89.66</td>\n",
       "      <td>89.45</td>\n",
       "    </tr>\n",
       "    <tr>\n",
       "      <th>17</th>\n",
       "      <td>5</td>\n",
       "      <td>unknown - 20</td>\n",
       "      <td>30</td>\n",
       "      <td>0.741</td>\n",
       "      <td>89.66</td>\n",
       "      <td>80.27</td>\n",
       "    </tr>\n",
       "  </tbody>\n",
       "</table>\n",
       "</div>"
      ],
      "text/plain": [
       "    taxa_amostragem                    carga  janela   loss  acuracia  \\\n",
       "0                 5              sockets - 3    1080  0.103     93.10   \n",
       "1                 5              sockets - 4      30  0.000    100.00   \n",
       "2                 5                light - 5    1080  0.018    100.00   \n",
       "3                 5         ce_appliance - 6     360  0.000    100.00   \n",
       "4                 5               fridge - 7     360  0.000    100.00   \n",
       "5                 5  waste_disposal_unit - 8      30  0.099     99.81   \n",
       "6                 5          dish_washer - 9      60  0.092     97.67   \n",
       "7                 5    electric_furnace - 10      30  1.154     90.70   \n",
       "8                 5               light - 11      30  7.155     82.76   \n",
       "9                 5             sockets - 12      30  2.086     85.96   \n",
       "10                5        washer_dryer - 13      60  0.034     99.22   \n",
       "11                5        washer_dryer - 14      30  0.435     98.25   \n",
       "12                5               light - 15      30  0.000    100.00   \n",
       "13                5           microwave - 16      30  0.032     99.22   \n",
       "14                5               light - 17      30  1.932     88.57   \n",
       "15                5         smoke_alarm - 18      30  0.011     99.90   \n",
       "16                5               light - 19      30  2.895     89.66   \n",
       "17                5             unknown - 20      30  0.741     89.66   \n",
       "\n",
       "    f1_macro  \n",
       "0      73.15  \n",
       "1     100.00  \n",
       "2     100.00  \n",
       "3     100.00  \n",
       "4     100.00  \n",
       "5      49.95  \n",
       "6      74.40  \n",
       "7      82.94  \n",
       "8      79.20  \n",
       "9      67.43  \n",
       "10     92.11  \n",
       "11     82.88  \n",
       "12    100.00  \n",
       "13     71.23  \n",
       "14     88.33  \n",
       "15     49.98  \n",
       "16     89.45  \n",
       "17     80.27  "
      ]
     },
     "execution_count": 4,
     "metadata": {},
     "output_type": "execute_result"
    }
   ],
   "source": [
    "df_melhores_janelas = pd.read_csv(os.path.join(caminho_dados, \"17\", \"taxa_5-melhoresjanelas.csv\"))\n",
    "df_melhores_janelas"
   ]
  },
  {
   "cell_type": "markdown",
   "metadata": {
    "heading_collapsed": true
   },
   "source": [
    "## Preparando Janelas utilizadas no Experimento"
   ]
  },
  {
   "cell_type": "code",
   "execution_count": 4,
   "metadata": {
    "ExecuteTime": {
     "end_time": "2020-05-28T15:16:28.890078Z",
     "start_time": "2020-05-28T15:16:24.780064Z"
    },
    "hidden": true
   },
   "outputs": [
    {
     "name": "stdout",
     "output_type": "stream",
     "text": [
      "Consumo geral dos medidores/aparelhos no período:\n"
     ]
    },
    {
     "data": {
      "image/png": "[encoded data removed]",
      "text/plain": [
       "<Figure size 1440x720 with 1 Axes>"
      ]
     },
     "metadata": {
      "needs_background": "light"
     },
     "output_type": "display_data"
    }
   ],
   "source": [
    "# Teste da classe\n",
    "janelas = Janelas(\n",
    "    base=redd,\n",
    "    id_residencia=3,\n",
    "    inicio_intervalo='2011-04-16 05:11:30',\n",
    "    fim_intervalo='2011-04-23 08:43:26',\n",
    "    debug = False\n",
    ")\n",
    "\n",
    "\n",
    "# Plots\n",
    "fig = plt.figure(figsize=(20, 10))\n",
    "print(\"Consumo geral dos medidores/aparelhos no período:\")\n",
    "for m in range(len(janelas.residencia.elec.meters)):\n",
    "    janelas.residencia.elec.meters[m].plot();"
   ]
  },
  {
   "cell_type": "code",
   "execution_count": 5,
   "metadata": {
    "ExecuteTime": {
     "end_time": "2020-05-28T15:16:32.921854Z",
     "start_time": "2020-05-28T15:16:29.031699Z"
    },
    "hidden": true
   },
   "outputs": [
    {
     "name": "stdout",
     "output_type": "stream",
     "text": [
      "Loading data for meter ElecMeterID(instance=2, building=3, dataset='REDD')     \n",
      "Done loading data all meters for this chunk.\n",
      "Meter 13 is in a nested meter group. Retrieving just the ElecMeter.\n",
      "Meter 14 is in a nested meter group. Retrieving just the ElecMeter.\n",
      "[{'carga': 'site_meter',\n",
      "  'instancia': 1,\n",
      "  'janelas': array([[144.82    , 146.66667 , 146.01    , ..., 162.76666 , 160.01666 ,\n",
      "        153.06667 ],\n",
      "       [152.77666 , 152.92667 , 153.16333 , ..., 152.35666 , 152.29001 ,\n",
      "        152.03667 ],\n",
      "       [152.01    , 152.95334 , 153.31    , ..., 152.32666 , 152.03    ,\n",
      "        152.45999 ],\n",
      "       ...,\n",
      "       [107.815   , 107.939995, 107.86    , ..., 108.13    , 108.130005,\n",
      "        108.19    ],\n",
      "       [108.11    , 108.22    , 108.096664, ..., 122.235   , 122.27334 ,\n",
      "        122.47667 ],\n",
      "       [122.39667 , 122.57333 , 121.11    , ..., 123.916664, 123.66    ,\n",
      "        135.86333 ]], dtype=float32),\n",
      "  'rotulos': {'estado': array([1, 1, 1, ..., 1, 1, 1]),\n",
      "              'media': array([147.05612, 153.01077, 152.7641 , ..., 107.80511, 116.91384,\n",
      "       122.40183], dtype=float32),\n",
      "              'total': array([4411.6836, 4590.323 , 4582.923 , ..., 3234.1533, 3507.4153,\n",
      "       3672.055 ], dtype=float32)}},\n",
      " {'carga': 'site_meter',\n",
      "  'instancia': 2,\n",
      "  'janelas': array([[11.433333 , 11.573334 , 11.53     , ..., 11.476666 , 11.536667 ,\n",
      "        11.576667 ],\n",
      "       [11.75     , 11.41     , 11.466666 , ..., 11.59     , 11.5      ,\n",
      "        11.6866665],\n",
      "       [11.613333 , 11.47     , 11.4366665, ..., 11.066667 , 11.286667 ,\n",
      "        11.373333 ],\n",
      "       ...,\n",
      "       [19.849998 , 19.98     , 19.91     , ..., 20.       , 20.085    ,\n",
      "        19.92     ],\n",
      "       [19.883333 , 19.816668 , 19.773333 , ..., 19.94     , 19.82     ,\n",
      "        19.95     ],\n",
      "       [19.82     , 19.83     , 19.856667 , ..., 20.026667 , 19.98     ,\n",
      "        19.926666 ]], dtype=float32),\n",
      "  'rotulos': {'estado': array([1, 1, 1, ..., 1, 1, 1]),\n",
      "              'media': array([11.598331, 11.598666, 11.451446, ..., 19.849611, 19.874834,\n",
      "       19.886614], dtype=float32),\n",
      "              'total': array([347.94995, 347.96   , 343.54337, ..., 595.48834, 596.245  ,\n",
      "       596.5984 ], dtype=float32)}},\n",
      " {'carga': 'sockets',\n",
      "  'instancia': 3,\n",
      "  'janelas': array([[0., 0., 0., ..., 0., 0., 0.],\n",
      "       [0., 0., 0., ..., 0., 0., 0.],\n",
      "       [0., 0., 0., ..., 0., 0., 0.],\n",
      "       ...,\n",
      "       [0., 0., 0., ..., 0., 0., 0.],\n",
      "       [0., 0., 0., ..., 0., 0., 0.],\n",
      "       [0., 0., 0., ..., 0., 0., 0.]], dtype=float32),\n",
      "  'rotulos': {'estado': array([0, 0, 0, ..., 0, 0, 0]),\n",
      "              'media': array([0., 0., 0., ..., 0., 0., 0.], dtype=float32),\n",
      "              'total': array([0., 0., 0., ..., 0., 0., 0.], dtype=float32)}},\n",
      " {'carga': 'sockets',\n",
      "  'instancia': 4,\n",
      "  'janelas': array([[0., 0., 0., ..., 0., 0., 0.],\n",
      "       [0., 0., 0., ..., 0., 0., 0.],\n",
      "       [0., 0., 0., ..., 0., 0., 0.],\n",
      "       ...,\n",
      "       [0., 0., 0., ..., 0., 0., 0.],\n",
      "       [0., 0., 0., ..., 0., 0., 0.],\n",
      "       [0., 0., 0., ..., 0., 0., 0.]], dtype=float32),\n",
      "  'rotulos': {'estado': array([0, 0, 0, ..., 0, 0, 0]),\n",
      "              'media': array([0., 0., 0., ..., 0., 0., 0.], dtype=float32),\n",
      "              'total': array([0., 0., 0., ..., 0., 0., 0.], dtype=float32)}},\n",
      " {'carga': 'light',\n",
      "  'instancia': 5,\n",
      "  'janelas': array([[0., 0., 0., ..., 0., 0., 0.],\n",
      "       [0., 0., 0., ..., 0., 0., 0.],\n",
      "       [0., 0., 0., ..., 0., 0., 0.],\n",
      "       ...,\n",
      "       [0., 0., 0., ..., 0., 0., 0.],\n",
      "       [0., 0., 0., ..., 0., 0., 0.],\n",
      "       [0., 0., 0., ..., 0., 0., 0.]], dtype=float32),\n",
      "  'rotulos': {'estado': array([0, 0, 0, ..., 0, 0, 0]),\n",
      "              'media': array([0., 0., 0., ..., 0., 0., 0.], dtype=float32),\n",
      "              'total': array([0., 0., 0., ..., 0., 0., 0.], dtype=float32)}},\n",
      " {'carga': 'ce_appliance',\n",
      "  'instancia': 6,\n",
      "  'janelas': array([[ 95.,  87.,  96., ..., 111., 102., 103.],\n",
      "       [101.,  99., 101., ..., 101., 103., 103.],\n",
      "       [100., 101., 101., ..., 101., 102., 101.],\n",
      "       ...,\n",
      "       [ 74.,  74.,  74., ...,  75.,  74.,  74.],\n",
      "       [ 74.,  75.,  75., ...,  91.,  91.,  91.],\n",
      "       [ 91.,  91.,  90., ...,  96., 107., 114.]], dtype=float32),\n",
      "  'rotulos': {'estado': array([1, 1, 1, ..., 1, 1, 1]),\n",
      "              'media': array([ 96.      ,  99.96667 , 102.      , ...,  74.566666,  84.166664,\n",
      "        93.066666], dtype=float32),\n",
      "              'total': array([2880., 2999., 3060., ..., 2237., 2525., 2792.], dtype=float32)}},\n",
      " {'carga': 'fridge',\n",
      "  'instancia': 7,\n",
      "  'janelas': array([[0., 0., 0., ..., 1., 1., 1.],\n",
      "       [1., 1., 1., ..., 1., 1., 1.],\n",
      "       [1., 1., 0., ..., 1., 1., 0.],\n",
      "       ...,\n",
      "       [0., 0., 0., ..., 0., 0., 0.],\n",
      "       [0., 1., 0., ..., 1., 0., 0.],\n",
      "       [0., 0., 1., ..., 0., 1., 0.]], dtype=float32),\n",
      "  'rotulos': {'estado': array([1, 1, 1, ..., 1, 1, 1]),\n",
      "              'media': array([0.46666667, 0.73333335, 0.8       , ..., 0.13333334, 0.23333333,\n",
      "       0.33333334], dtype=float32),\n",
      "              'total': array([14., 22., 24., ...,  4.,  7., 10.], dtype=float32)}},\n",
      " {'carga': 'waste_disposal_unit',\n",
      "  'instancia': 8,\n",
      "  'janelas': array([[0., 0., 0., ..., 0., 0., 0.],\n",
      "       [0., 0., 0., ..., 0., 0., 0.],\n",
      "       [0., 0., 0., ..., 0., 0., 0.],\n",
      "       ...,\n",
      "       [0., 0., 0., ..., 0., 0., 0.],\n",
      "       [0., 0., 0., ..., 0., 0., 0.],\n",
      "       [0., 0., 0., ..., 0., 0., 0.]], dtype=float32),\n",
      "  'rotulos': {'estado': array([0, 0, 0, ..., 0, 0, 0]),\n",
      "              'media': array([0., 0., 0., ..., 0., 0., 0.], dtype=float32),\n",
      "              'total': array([0., 0., 0., ..., 0., 0., 0.], dtype=float32)}},\n",
      " {'carga': 'dish_washer',\n",
      "  'instancia': 9,\n",
      "  'janelas': array([[1., 1., 1., ..., 1., 1., 1.],\n",
      "       [1., 1., 1., ..., 1., 1., 1.],\n",
      "       [1., 1., 1., ..., 1., 1., 1.],\n",
      "       ...,\n",
      "       [1., 0., 1., ..., 1., 1., 1.],\n",
      "       [1., 1., 1., ..., 1., 1., 1.],\n",
      "       [1., 1., 1., ..., 1., 1., 1.]], dtype=float32),\n",
      "  'rotulos': {'estado': array([1, 1, 1, ..., 1, 1, 1]),\n",
      "              'media': array([1.        , 1.        , 1.        , ..., 0.96666664, 1.        ,\n",
      "       1.        ], dtype=float32),\n",
      "              'total': array([30., 30., 30., ..., 29., 30., 30.], dtype=float32)}},\n",
      " {'carga': 'electric_furnace',\n",
      "  'instancia': 10,\n",
      "  'janelas': array([[5., 5., 5., ..., 5., 5., 5.],\n",
      "       [5., 5., 5., ..., 5., 5., 5.],\n",
      "       [5., 5., 5., ..., 5., 5., 5.],\n",
      "       ...,\n",
      "       [5., 5., 5., ..., 5., 5., 5.],\n",
      "       [5., 5., 5., ..., 5., 5., 5.],\n",
      "       [5., 5., 5., ..., 5., 5., 4.]], dtype=float32),\n",
      "  'rotulos': {'estado': array([1, 1, 1, ..., 1, 1, 1]),\n",
      "              'media': array([5. , 5. , 5. , ..., 5. , 5. , 4.9], dtype=float32),\n",
      "              'total': array([150., 150., 150., ..., 150., 150., 147.], dtype=float32)}},\n",
      " {'carga': 'light',\n",
      "  'instancia': 11,\n",
      "  'janelas': array([[0., 0., 0., ..., 0., 0., 0.],\n",
      "       [0., 0., 0., ..., 0., 0., 0.],\n",
      "       [0., 0., 0., ..., 0., 0., 0.],\n",
      "       ...,\n",
      "       [0., 0., 0., ..., 0., 0., 0.],\n",
      "       [0., 0., 0., ..., 0., 0., 0.],\n",
      "       [0., 0., 0., ..., 0., 0., 0.]], dtype=float32),\n",
      "  'rotulos': {'estado': array([0, 0, 0, ..., 0, 0, 0]),\n",
      "              'media': array([0., 0., 0., ..., 0., 0., 0.], dtype=float32),\n",
      "              'total': array([0., 0., 0., ..., 0., 0., 0.], dtype=float32)}},\n",
      " {'carga': 'sockets',\n",
      "  'instancia': 12,\n",
      "  'janelas': array([[21., 21., 22., ..., 24., 21., 21.],\n",
      "       [21., 21., 21., ..., 21., 22., 21.],\n",
      "       [21., 21., 21., ..., 21., 20., 21.],\n",
      "       ...,\n",
      "       [ 0.,  0.,  0., ...,  0.,  0.,  0.],\n",
      "       [ 0.,  0.,  0., ...,  0.,  0.,  0.],\n",
      "       [ 0.,  0.,  0., ...,  0.,  0.,  0.]], dtype=float32),\n",
      "  'rotulos': {'estado': array([1, 1, 1, ..., 0, 0, 0]),\n",
      "              'media': array([21.633333, 21.1     , 21.433332, ...,  0.      ,  0.      ,\n",
      "        0.      ], dtype=float32),\n",
      "              'total': array([649., 633., 643., ...,   0.,   0.,   0.], dtype=float32)}},\n",
      " {'carga': 'washer_dryer',\n",
      "  'instancia': 13,\n",
      "  'janelas': array([[0., 0., 0., ..., 0., 0., 0.],\n",
      "       [0., 0., 0., ..., 0., 0., 0.],\n",
      "       [0., 0., 0., ..., 0., 0., 0.],\n",
      "       ...,\n",
      "       [0., 0., 0., ..., 0., 0., 0.],\n",
      "       [0., 0., 0., ..., 0., 0., 0.],\n",
      "       [0., 0., 0., ..., 0., 0., 0.]], dtype=float32),\n",
      "  'rotulos': {'estado': array([0, 0, 0, ..., 0, 0, 0]),\n",
      "              'media': array([0., 0., 0., ..., 0., 0., 0.], dtype=float32),\n",
      "              'total': array([0., 0., 0., ..., 0., 0., 0.], dtype=float32)}},\n",
      " {'carga': 'washer_dryer',\n",
      "  'instancia': 14,\n",
      "  'janelas': array([[0., 0., 0., ..., 0., 0., 0.],\n",
      "       [0., 0., 0., ..., 0., 0., 0.],\n",
      "       [0., 0., 0., ..., 0., 0., 0.],\n",
      "       ...,\n",
      "       [0., 0., 0., ..., 0., 0., 0.],\n",
      "       [0., 0., 0., ..., 0., 0., 0.],\n",
      "       [0., 0., 0., ..., 0., 0., 0.]], dtype=float32),\n",
      "  'rotulos': {'estado': array([0, 0, 0, ..., 0, 0, 0]),\n",
      "              'media': array([0., 0., 0., ..., 0., 0., 0.], dtype=float32),\n",
      "              'total': array([0., 0., 0., ..., 0., 0., 0.], dtype=float32)}},\n",
      " {'carga': 'light',\n",
      "  'instancia': 15,\n",
      "  'janelas': array([[0., 0., 0., ..., 0., 0., 0.],\n",
      "       [0., 0., 0., ..., 0., 0., 0.],\n",
      "       [0., 0., 0., ..., 0., 0., 0.],\n",
      "       ...,\n",
      "       [0., 0., 0., ..., 0., 0., 0.],\n",
      "       [0., 0., 0., ..., 0., 0., 0.],\n",
      "       [0., 0., 0., ..., 0., 0., 0.]], dtype=float32),\n",
      "  'rotulos': {'estado': array([0, 0, 0, ..., 0, 0, 0]),\n",
      "              'media': array([0., 0., 0., ..., 0., 0., 0.], dtype=float32),\n",
      "              'total': array([0., 0., 0., ..., 0., 0., 0.], dtype=float32)}},\n",
      " {'carga': 'microwave',\n",
      "  'instancia': 16,\n",
      "  'janelas': array([[2., 2., 2., ..., 2., 2., 2.],\n",
      "       [2., 2., 2., ..., 2., 2., 2.],\n",
      "       [2., 2., 2., ..., 2., 2., 2.],\n",
      "       ...,\n",
      "       [2., 2., 2., ..., 2., 2., 2.],\n",
      "       [2., 2., 2., ..., 2., 2., 2.],\n",
      "       [2., 2., 2., ..., 2., 2., 2.]], dtype=float32),\n",
      "  'rotulos': {'estado': array([1, 1, 1, ..., 1, 1, 1]),\n",
      "              'media': array([2., 2., 2., ..., 2., 2., 2.], dtype=float32),\n",
      "              'total': array([60., 60., 60., ..., 60., 60., 60.], dtype=float32)}},\n",
      " {'carga': 'light',\n",
      "  'instancia': 17,\n",
      "  'janelas': array([[0., 0., 0., ..., 0., 0., 0.],\n",
      "       [0., 0., 0., ..., 0., 0., 0.],\n",
      "       [0., 0., 0., ..., 0., 0., 0.],\n",
      "       ...,\n",
      "       [0., 0., 0., ..., 0., 0., 0.],\n",
      "       [0., 0., 0., ..., 0., 0., 0.],\n",
      "       [0., 0., 0., ..., 0., 0., 0.]], dtype=float32),\n",
      "  'rotulos': {'estado': array([0, 0, 0, ..., 0, 0, 0]),\n",
      "              'media': array([0., 0., 0., ..., 0., 0., 0.], dtype=float32),\n",
      "              'total': array([0., 0., 0., ..., 0., 0., 0.], dtype=float32)}},\n",
      " {'carga': 'smoke_alarm',\n",
      "  'instancia': 18,\n",
      "  'janelas': array([[1., 1., 1., ..., 1., 0., 1.],\n",
      "       [1., 1., 0., ..., 1., 1., 1.],\n",
      "       [1., 1., 1., ..., 1., 0., 1.],\n",
      "       ...,\n",
      "       [1., 1., 1., ..., 1., 1., 1.],\n",
      "       [1., 1., 1., ..., 0., 1., 1.],\n",
      "       [1., 1., 1., ..., 0., 0., 0.]], dtype=float32),\n",
      "  'rotulos': {'estado': array([1, 1, 1, ..., 1, 1, 1]),\n",
      "              'media': array([0.9       , 0.8666667 , 0.8       , ..., 1.        , 0.93333334,\n",
      "       0.23333333], dtype=float32),\n",
      "              'total': array([27., 26., 24., ..., 30., 28.,  7.], dtype=float32)}},\n",
      " {'carga': 'light',\n",
      "  'instancia': 19,\n",
      "  'janelas': array([[1., 1., 1., ..., 1., 1., 1.],\n",
      "       [1., 1., 1., ..., 1., 1., 1.],\n",
      "       [1., 1., 1., ..., 1., 1., 1.],\n",
      "       ...,\n",
      "       [1., 1., 1., ..., 1., 1., 1.],\n",
      "       [1., 1., 1., ..., 0., 1., 1.],\n",
      "       [1., 1., 1., ..., 1., 1., 1.]], dtype=float32),\n",
      "  'rotulos': {'estado': array([1, 1, 1, ..., 1, 1, 1]),\n",
      "              'media': array([1.        , 1.        , 1.        , ..., 0.96666664, 0.96666664,\n",
      "       1.        ], dtype=float32),\n",
      "              'total': array([30., 30., 30., ..., 29., 29., 30.], dtype=float32)}},\n",
      " {'carga': 'unknown',\n",
      "  'instancia': 20,\n",
      "  'janelas': array([[0., 0., 0., ..., 0., 0., 0.],\n",
      "       [0., 0., 0., ..., 0., 0., 0.],\n",
      "       [0., 0., 0., ..., 0., 0., 0.],\n",
      "       ...,\n",
      "       [0., 0., 0., ..., 0., 0., 0.],\n",
      "       [0., 0., 0., ..., 0., 0., 0.],\n",
      "       [0., 0., 0., ..., 0., 0., 0.]], dtype=float32),\n",
      "  'rotulos': {'estado': array([0, 0, 0, ..., 0, 0, 0]),\n",
      "              'media': array([0., 0., 0., ..., 0., 0., 0.], dtype=float32),\n",
      "              'total': array([0., 0., 0., ..., 0., 0., 0.], dtype=float32)}}]\n"
     ]
    }
   ],
   "source": [
    "# Extrair series divididas em janelas para cada medidor\n",
    "# a cada 90 segundos, em uma taxa de 3s\n",
    "dados_cargas = janelas.preparar(taxa_amostral=3, intervalo_medicao=90)\n",
    "\n",
    "# Disposicao das janelas preparadas\n",
    "pprint(dados_cargas)"
   ]
  },
  {
   "cell_type": "markdown",
   "metadata": {
    "heading_collapsed": true
   },
   "source": [
    "## Preparando Amostras (medidores residência ) e Rótulos (aparelhos)"
   ]
  },
  {
   "cell_type": "code",
   "execution_count": 6,
   "metadata": {
    "ExecuteTime": {
     "end_time": "2020-05-28T15:16:33.443460Z",
     "start_time": "2020-05-28T15:16:33.437490Z"
    },
    "hidden": true
   },
   "outputs": [
    {
     "data": {
      "text/plain": [
       "[(1, 'site_meter'),\n",
       " (2, 'site_meter'),\n",
       " (3, 'sockets'),\n",
       " (4, 'sockets'),\n",
       " (5, 'light'),\n",
       " (6, 'ce_appliance'),\n",
       " (7, 'fridge'),\n",
       " (8, 'waste_disposal_unit'),\n",
       " (9, 'dish_washer'),\n",
       " (10, 'electric_furnace'),\n",
       " (11, 'light'),\n",
       " (12, 'sockets'),\n",
       " (13, 'washer_dryer'),\n",
       " (14, 'washer_dryer'),\n",
       " (15, 'light'),\n",
       " (16, 'microwave'),\n",
       " (17, 'light'),\n",
       " (18, 'smoke_alarm'),\n",
       " (19, 'light'),\n",
       " (20, 'unknown')]"
      ]
     },
     "execution_count": 6,
     "metadata": {},
     "output_type": "execute_result"
    }
   ],
   "source": [
    "# Listando as cargas que possuem janelas preparadas\n",
    "janelas.lista_cargas(dados_cargas)"
   ]
  },
  {
   "cell_type": "code",
   "execution_count": 7,
   "metadata": {
    "ExecuteTime": {
     "end_time": "2020-05-28T15:16:34.095718Z",
     "start_time": "2020-05-28T15:16:33.986011Z"
    },
    "hidden": true
   },
   "outputs": [
    {
     "name": "stdout",
     "output_type": "stream",
     "text": [
      "Dados das janelas de ambos medidores da residência:\n",
      "---\n",
      "[{'carga': 'site_meter',\n",
      "  'instancia': 1,\n",
      "  'janelas': array([[144.82    , 146.66667 , 146.01    , ..., 162.76666 , 160.01666 ,\n",
      "        153.06667 ],\n",
      "       [152.77666 , 152.92667 , 153.16333 , ..., 152.35666 , 152.29001 ,\n",
      "        152.03667 ],\n",
      "       [152.01    , 152.95334 , 153.31    , ..., 152.32666 , 152.03    ,\n",
      "        152.45999 ],\n",
      "       ...,\n",
      "       [107.815   , 107.939995, 107.86    , ..., 108.13    , 108.130005,\n",
      "        108.19    ],\n",
      "       [108.11    , 108.22    , 108.096664, ..., 122.235   , 122.27334 ,\n",
      "        122.47667 ],\n",
      "       [122.39667 , 122.57333 , 121.11    , ..., 123.916664, 123.66    ,\n",
      "        135.86333 ]], dtype=float32),\n",
      "  'rotulos': {'estado': array([1, 1, 1, ..., 1, 1, 1]),\n",
      "              'media': array([147.05612, 153.01077, 152.7641 , ..., 107.80511, 116.91384,\n",
      "       122.40183], dtype=float32),\n",
      "              'total': array([4411.6836, 4590.323 , 4582.923 , ..., 3234.1533, 3507.4153,\n",
      "       3672.055 ], dtype=float32)}},\n",
      " {'carga': 'site_meter',\n",
      "  'instancia': 2,\n",
      "  'janelas': array([[11.433333 , 11.573334 , 11.53     , ..., 11.476666 , 11.536667 ,\n",
      "        11.576667 ],\n",
      "       [11.75     , 11.41     , 11.466666 , ..., 11.59     , 11.5      ,\n",
      "        11.6866665],\n",
      "       [11.613333 , 11.47     , 11.4366665, ..., 11.066667 , 11.286667 ,\n",
      "        11.373333 ],\n",
      "       ...,\n",
      "       [19.849998 , 19.98     , 19.91     , ..., 20.       , 20.085    ,\n",
      "        19.92     ],\n",
      "       [19.883333 , 19.816668 , 19.773333 , ..., 19.94     , 19.82     ,\n",
      "        19.95     ],\n",
      "       [19.82     , 19.83     , 19.856667 , ..., 20.026667 , 19.98     ,\n",
      "        19.926666 ]], dtype=float32),\n",
      "  'rotulos': {'estado': array([1, 1, 1, ..., 1, 1, 1]),\n",
      "              'media': array([11.598331, 11.598666, 11.451446, ..., 19.849611, 19.874834,\n",
      "       19.886614], dtype=float32),\n",
      "              'total': array([347.94995, 347.96   , 343.54337, ..., 595.48834, 596.245  ,\n",
      "       596.5984 ], dtype=float32)}}]\n",
      "\n",
      "\n",
      "\n",
      "Dados das janelas dos aparelhos da residência:\n",
      "---\n",
      "[{'carga': 'sockets',\n",
      "  'instancia': 3,\n",
      "  'janelas': array([[0., 0., 0., ..., 0., 0., 0.],\n",
      "       [0., 0., 0., ..., 0., 0., 0.],\n",
      "       [0., 0., 0., ..., 0., 0., 0.],\n",
      "       ...,\n",
      "       [0., 0., 0., ..., 0., 0., 0.],\n",
      "       [0., 0., 0., ..., 0., 0., 0.],\n",
      "       [0., 0., 0., ..., 0., 0., 0.]], dtype=float32),\n",
      "  'rotulos': {'estado': array([0, 0, 0, ..., 0, 0, 0]),\n",
      "              'media': array([0., 0., 0., ..., 0., 0., 0.], dtype=float32),\n",
      "              'total': array([0., 0., 0., ..., 0., 0., 0.], dtype=float32)}},\n",
      " {'carga': 'sockets',\n",
      "  'instancia': 4,\n",
      "  'janelas': array([[0., 0., 0., ..., 0., 0., 0.],\n",
      "       [0., 0., 0., ..., 0., 0., 0.],\n",
      "       [0., 0., 0., ..., 0., 0., 0.],\n",
      "       ...,\n",
      "       [0., 0., 0., ..., 0., 0., 0.],\n",
      "       [0., 0., 0., ..., 0., 0., 0.],\n",
      "       [0., 0., 0., ..., 0., 0., 0.]], dtype=float32),\n",
      "  'rotulos': {'estado': array([0, 0, 0, ..., 0, 0, 0]),\n",
      "              'media': array([0., 0., 0., ..., 0., 0., 0.], dtype=float32),\n",
      "              'total': array([0., 0., 0., ..., 0., 0., 0.], dtype=float32)}},\n",
      " {'carga': 'light',\n",
      "  'instancia': 5,\n",
      "  'janelas': array([[0., 0., 0., ..., 0., 0., 0.],\n",
      "       [0., 0., 0., ..., 0., 0., 0.],\n",
      "       [0., 0., 0., ..., 0., 0., 0.],\n",
      "       ...,\n",
      "       [0., 0., 0., ..., 0., 0., 0.],\n",
      "       [0., 0., 0., ..., 0., 0., 0.],\n",
      "       [0., 0., 0., ..., 0., 0., 0.]], dtype=float32),\n",
      "  'rotulos': {'estado': array([0, 0, 0, ..., 0, 0, 0]),\n",
      "              'media': array([0., 0., 0., ..., 0., 0., 0.], dtype=float32),\n",
      "              'total': array([0., 0., 0., ..., 0., 0., 0.], dtype=float32)}},\n",
      " {'carga': 'ce_appliance',\n",
      "  'instancia': 6,\n",
      "  'janelas': array([[ 95.,  87.,  96., ..., 111., 102., 103.],\n",
      "       [101.,  99., 101., ..., 101., 103., 103.],\n",
      "       [100., 101., 101., ..., 101., 102., 101.],\n",
      "       ...,\n",
      "       [ 74.,  74.,  74., ...,  75.,  74.,  74.],\n",
      "       [ 74.,  75.,  75., ...,  91.,  91.,  91.],\n",
      "       [ 91.,  91.,  90., ...,  96., 107., 114.]], dtype=float32),\n",
      "  'rotulos': {'estado': array([1, 1, 1, ..., 1, 1, 1]),\n",
      "              'media': array([ 96.      ,  99.96667 , 102.      , ...,  74.566666,  84.166664,\n",
      "        93.066666], dtype=float32),\n",
      "              'total': array([2880., 2999., 3060., ..., 2237., 2525., 2792.], dtype=float32)}},\n",
      " {'carga': 'fridge',\n",
      "  'instancia': 7,\n",
      "  'janelas': array([[0., 0., 0., ..., 1., 1., 1.],\n",
      "       [1., 1., 1., ..., 1., 1., 1.],\n",
      "       [1., 1., 0., ..., 1., 1., 0.],\n",
      "       ...,\n",
      "       [0., 0., 0., ..., 0., 0., 0.],\n",
      "       [0., 1., 0., ..., 1., 0., 0.],\n",
      "       [0., 0., 1., ..., 0., 1., 0.]], dtype=float32),\n",
      "  'rotulos': {'estado': array([1, 1, 1, ..., 1, 1, 1]),\n",
      "              'media': array([0.46666667, 0.73333335, 0.8       , ..., 0.13333334, 0.23333333,\n",
      "       0.33333334], dtype=float32),\n",
      "              'total': array([14., 22., 24., ...,  4.,  7., 10.], dtype=float32)}},\n",
      " {'carga': 'waste_disposal_unit',\n",
      "  'instancia': 8,\n",
      "  'janelas': array([[0., 0., 0., ..., 0., 0., 0.],\n",
      "       [0., 0., 0., ..., 0., 0., 0.],\n",
      "       [0., 0., 0., ..., 0., 0., 0.],\n",
      "       ...,\n",
      "       [0., 0., 0., ..., 0., 0., 0.],\n",
      "       [0., 0., 0., ..., 0., 0., 0.],\n",
      "       [0., 0., 0., ..., 0., 0., 0.]], dtype=float32),\n",
      "  'rotulos': {'estado': array([0, 0, 0, ..., 0, 0, 0]),\n",
      "              'media': array([0., 0., 0., ..., 0., 0., 0.], dtype=float32),\n",
      "              'total': array([0., 0., 0., ..., 0., 0., 0.], dtype=float32)}},\n",
      " {'carga': 'dish_washer',\n",
      "  'instancia': 9,\n",
      "  'janelas': array([[1., 1., 1., ..., 1., 1., 1.],\n",
      "       [1., 1., 1., ..., 1., 1., 1.],\n",
      "       [1., 1., 1., ..., 1., 1., 1.],\n",
      "       ...,\n",
      "       [1., 0., 1., ..., 1., 1., 1.],\n",
      "       [1., 1., 1., ..., 1., 1., 1.],\n",
      "       [1., 1., 1., ..., 1., 1., 1.]], dtype=float32),\n",
      "  'rotulos': {'estado': array([1, 1, 1, ..., 1, 1, 1]),\n",
      "              'media': array([1.        , 1.        , 1.        , ..., 0.96666664, 1.        ,\n",
      "       1.        ], dtype=float32),\n",
      "              'total': array([30., 30., 30., ..., 29., 30., 30.], dtype=float32)}},\n",
      " {'carga': 'electric_furnace',\n",
      "  'instancia': 10,\n",
      "  'janelas': array([[5., 5., 5., ..., 5., 5., 5.],\n",
      "       [5., 5., 5., ..., 5., 5., 5.],\n",
      "       [5., 5., 5., ..., 5., 5., 5.],\n",
      "       ...,\n",
      "       [5., 5., 5., ..., 5., 5., 5.],\n",
      "       [5., 5., 5., ..., 5., 5., 5.],\n",
      "       [5., 5., 5., ..., 5., 5., 4.]], dtype=float32),\n",
      "  'rotulos': {'estado': array([1, 1, 1, ..., 1, 1, 1]),\n",
      "              'media': array([5. , 5. , 5. , ..., 5. , 5. , 4.9], dtype=float32),\n",
      "              'total': array([150., 150., 150., ..., 150., 150., 147.], dtype=float32)}},\n",
      " {'carga': 'light',\n",
      "  'instancia': 11,\n",
      "  'janelas': array([[0., 0., 0., ..., 0., 0., 0.],\n",
      "       [0., 0., 0., ..., 0., 0., 0.],\n",
      "       [0., 0., 0., ..., 0., 0., 0.],\n",
      "       ...,\n",
      "       [0., 0., 0., ..., 0., 0., 0.],\n",
      "       [0., 0., 0., ..., 0., 0., 0.],\n",
      "       [0., 0., 0., ..., 0., 0., 0.]], dtype=float32),\n",
      "  'rotulos': {'estado': array([0, 0, 0, ..., 0, 0, 0]),\n",
      "              'media': array([0., 0., 0., ..., 0., 0., 0.], dtype=float32),\n",
      "              'total': array([0., 0., 0., ..., 0., 0., 0.], dtype=float32)}},\n",
      " {'carga': 'sockets',\n",
      "  'instancia': 12,\n",
      "  'janelas': array([[21., 21., 22., ..., 24., 21., 21.],\n",
      "       [21., 21., 21., ..., 21., 22., 21.],\n",
      "       [21., 21., 21., ..., 21., 20., 21.],\n",
      "       ...,\n",
      "       [ 0.,  0.,  0., ...,  0.,  0.,  0.],\n",
      "       [ 0.,  0.,  0., ...,  0.,  0.,  0.],\n",
      "       [ 0.,  0.,  0., ...,  0.,  0.,  0.]], dtype=float32),\n",
      "  'rotulos': {'estado': array([1, 1, 1, ..., 0, 0, 0]),\n",
      "              'media': array([21.633333, 21.1     , 21.433332, ...,  0.      ,  0.      ,\n",
      "        0.      ], dtype=float32),\n",
      "              'total': array([649., 633., 643., ...,   0.,   0.,   0.], dtype=float32)}},\n",
      " {'carga': 'washer_dryer',\n",
      "  'instancia': 13,\n",
      "  'janelas': array([[0., 0., 0., ..., 0., 0., 0.],\n",
      "       [0., 0., 0., ..., 0., 0., 0.],\n",
      "       [0., 0., 0., ..., 0., 0., 0.],\n",
      "       ...,\n",
      "       [0., 0., 0., ..., 0., 0., 0.],\n",
      "       [0., 0., 0., ..., 0., 0., 0.],\n",
      "       [0., 0., 0., ..., 0., 0., 0.]], dtype=float32),\n",
      "  'rotulos': {'estado': array([0, 0, 0, ..., 0, 0, 0]),\n",
      "              'media': array([0., 0., 0., ..., 0., 0., 0.], dtype=float32),\n",
      "              'total': array([0., 0., 0., ..., 0., 0., 0.], dtype=float32)}},\n",
      " {'carga': 'washer_dryer',\n",
      "  'instancia': 14,\n",
      "  'janelas': array([[0., 0., 0., ..., 0., 0., 0.],\n",
      "       [0., 0., 0., ..., 0., 0., 0.],\n",
      "       [0., 0., 0., ..., 0., 0., 0.],\n",
      "       ...,\n",
      "       [0., 0., 0., ..., 0., 0., 0.],\n",
      "       [0., 0., 0., ..., 0., 0., 0.],\n",
      "       [0., 0., 0., ..., 0., 0., 0.]], dtype=float32),\n",
      "  'rotulos': {'estado': array([0, 0, 0, ..., 0, 0, 0]),\n",
      "              'media': array([0., 0., 0., ..., 0., 0., 0.], dtype=float32),\n",
      "              'total': array([0., 0., 0., ..., 0., 0., 0.], dtype=float32)}},\n",
      " {'carga': 'light',\n",
      "  'instancia': 15,\n",
      "  'janelas': array([[0., 0., 0., ..., 0., 0., 0.],\n",
      "       [0., 0., 0., ..., 0., 0., 0.],\n",
      "       [0., 0., 0., ..., 0., 0., 0.],\n",
      "       ...,\n",
      "       [0., 0., 0., ..., 0., 0., 0.],\n",
      "       [0., 0., 0., ..., 0., 0., 0.],\n",
      "       [0., 0., 0., ..., 0., 0., 0.]], dtype=float32),\n",
      "  'rotulos': {'estado': array([0, 0, 0, ..., 0, 0, 0]),\n",
      "              'media': array([0., 0., 0., ..., 0., 0., 0.], dtype=float32),\n",
      "              'total': array([0., 0., 0., ..., 0., 0., 0.], dtype=float32)}},\n",
      " {'carga': 'microwave',\n",
      "  'instancia': 16,\n",
      "  'janelas': array([[2., 2., 2., ..., 2., 2., 2.],\n",
      "       [2., 2., 2., ..., 2., 2., 2.],\n",
      "       [2., 2., 2., ..., 2., 2., 2.],\n",
      "       ...,\n",
      "       [2., 2., 2., ..., 2., 2., 2.],\n",
      "       [2., 2., 2., ..., 2., 2., 2.],\n",
      "       [2., 2., 2., ..., 2., 2., 2.]], dtype=float32),\n",
      "  'rotulos': {'estado': array([1, 1, 1, ..., 1, 1, 1]),\n",
      "              'media': array([2., 2., 2., ..., 2., 2., 2.], dtype=float32),\n",
      "              'total': array([60., 60., 60., ..., 60., 60., 60.], dtype=float32)}},\n",
      " {'carga': 'light',\n",
      "  'instancia': 17,\n",
      "  'janelas': array([[0., 0., 0., ..., 0., 0., 0.],\n",
      "       [0., 0., 0., ..., 0., 0., 0.],\n",
      "       [0., 0., 0., ..., 0., 0., 0.],\n",
      "       ...,\n",
      "       [0., 0., 0., ..., 0., 0., 0.],\n",
      "       [0., 0., 0., ..., 0., 0., 0.],\n",
      "       [0., 0., 0., ..., 0., 0., 0.]], dtype=float32),\n",
      "  'rotulos': {'estado': array([0, 0, 0, ..., 0, 0, 0]),\n",
      "              'media': array([0., 0., 0., ..., 0., 0., 0.], dtype=float32),\n",
      "              'total': array([0., 0., 0., ..., 0., 0., 0.], dtype=float32)}},\n",
      " {'carga': 'smoke_alarm',\n",
      "  'instancia': 18,\n",
      "  'janelas': array([[1., 1., 1., ..., 1., 0., 1.],\n",
      "       [1., 1., 0., ..., 1., 1., 1.],\n",
      "       [1., 1., 1., ..., 1., 0., 1.],\n",
      "       ...,\n",
      "       [1., 1., 1., ..., 1., 1., 1.],\n",
      "       [1., 1., 1., ..., 0., 1., 1.],\n",
      "       [1., 1., 1., ..., 0., 0., 0.]], dtype=float32),\n",
      "  'rotulos': {'estado': array([1, 1, 1, ..., 1, 1, 1]),\n",
      "              'media': array([0.9       , 0.8666667 , 0.8       , ..., 1.        , 0.93333334,\n",
      "       0.23333333], dtype=float32),\n",
      "              'total': array([27., 26., 24., ..., 30., 28.,  7.], dtype=float32)}},\n",
      " {'carga': 'light',\n",
      "  'instancia': 19,\n",
      "  'janelas': array([[1., 1., 1., ..., 1., 1., 1.],\n",
      "       [1., 1., 1., ..., 1., 1., 1.],\n",
      "       [1., 1., 1., ..., 1., 1., 1.],\n",
      "       ...,\n",
      "       [1., 1., 1., ..., 1., 1., 1.],\n",
      "       [1., 1., 1., ..., 0., 1., 1.],\n",
      "       [1., 1., 1., ..., 1., 1., 1.]], dtype=float32),\n",
      "  'rotulos': {'estado': array([1, 1, 1, ..., 1, 1, 1]),\n"
     ]
    },
    {
     "name": "stdout",
     "output_type": "stream",
     "text": [
      "              'media': array([1.        , 1.        , 1.        , ..., 0.96666664, 0.96666664,\n",
      "       1.        ], dtype=float32),\n",
      "              'total': array([30., 30., 30., ..., 29., 29., 30.], dtype=float32)}},\n",
      " {'carga': 'unknown',\n",
      "  'instancia': 20,\n",
      "  'janelas': array([[0., 0., 0., ..., 0., 0., 0.],\n",
      "       [0., 0., 0., ..., 0., 0., 0.],\n",
      "       [0., 0., 0., ..., 0., 0., 0.],\n",
      "       ...,\n",
      "       [0., 0., 0., ..., 0., 0., 0.],\n",
      "       [0., 0., 0., ..., 0., 0., 0.],\n",
      "       [0., 0., 0., ..., 0., 0., 0.]], dtype=float32),\n",
      "  'rotulos': {'estado': array([0, 0, 0, ..., 0, 0, 0]),\n",
      "              'media': array([0., 0., 0., ..., 0., 0., 0.], dtype=float32),\n",
      "              'total': array([0., 0., 0., ..., 0., 0., 0.], dtype=float32)}}]\n"
     ]
    }
   ],
   "source": [
    "# Filtrando dados para conjunto de cargas\n",
    "# NOTA: Os lares norte-americanos têm suprimentos de energia em fase dividida. \n",
    "#   Cada divisão é de 120 volts em relação ao neutro. As duas divisões \n",
    "#   totalizam 240 volts, por isso os dois 'site_meter'. \n",
    "#\n",
    "#   Além disso, aparelhos que demandam energia (secadora, por exemplo) podem se \n",
    "#   conectar a ambas as divisões; na REDD se mede separadamente as duas divisões \n",
    "#   para esses tais aparelhos, contemplando no NILMTK dois medidores por \n",
    "#   dispositivo de 240 volts.\n",
    "\n",
    "# Apenas duas fases da corrente eletrica da residencia\n",
    "dados_medidores = janelas.filtrar_cargas(\n",
    "    dados_cargas,\n",
    "    filtros=[\n",
    "        (1, 'site_meter'),\n",
    "        (2, 'site_meter'),    \n",
    "    ]\n",
    ")\n",
    "print(\"Dados das janelas de ambos medidores da residência:\")\n",
    "print(\"---\")\n",
    "pprint(dados_medidores)\n",
    "\n",
    "print(\"\\n\\n\")\n",
    "\n",
    "# Apenas dados de aparelhos da residencia\n",
    "dados_aparelhos = janelas.filtrar_cargas(\n",
    "    dados_cargas,\n",
    "    filtros=[\n",
    "        (3, 'sockets'),\n",
    "        (4, 'sockets'),\n",
    "        (5, 'light'),\n",
    "        (6, 'ce_appliance'),\n",
    "        (7, 'fridge'),\n",
    "        (8, 'waste_disposal_unit'),\n",
    "        (9, 'dish_washer'),\n",
    "        (10, 'electric_furnace'),\n",
    "        (11, 'light'),\n",
    "        (12, 'sockets'),\n",
    "        (13, 'washer_dryer'),\n",
    "        (14, 'washer_dryer'),\n",
    "        (15, 'light'),\n",
    "        (16, 'microwave'),\n",
    "        (17, 'light'),\n",
    "        (18, 'smoke_alarm'),\n",
    "        (19, 'light'),\n",
    "        (20, 'unknown')\n",
    "    ]\n",
    ")\n",
    "print(\"Dados das janelas dos aparelhos da residência:\")\n",
    "print(\"---\")\n",
    "pprint(dados_aparelhos)"
   ]
  },
  {
   "cell_type": "code",
   "execution_count": 8,
   "metadata": {
    "ExecuteTime": {
     "end_time": "2020-05-28T15:16:35.621835Z",
     "start_time": "2020-05-28T15:16:35.613875Z"
    },
    "hidden": true
   },
   "outputs": [
    {
     "name": "stdout",
     "output_type": "stream",
     "text": [
      "* Dados dos medidores (Amostras / X):\n",
      "   - Shape: (6861, 30)\n",
      "   - Media: 413.0859\n",
      "   - Desvio: 673.9321\n"
     ]
    }
   ],
   "source": [
    "\n",
    "# Janelas do medidores agregados\n",
    "X = dados_medidores[0][\"janelas\"] + dados_medidores[1][\"janelas\"]\n",
    "\n",
    "# Normalizando dados\n",
    "# X = MinMaxScaler().fit_transform(X.T).T\n",
    "\n",
    "print(\"* Dados dos medidores (Amostras / X):\")\n",
    "print(\"   - Shape:\", X.shape)\n",
    "print(\"   - Media:\", np.mean(X))\n",
    "print(\"   - Desvio:\", np.std(X))\n",
    "\n",
    "# Y = irá depender da carga a ser classificada"
   ]
  },
  {
   "cell_type": "code",
   "execution_count": 9,
   "metadata": {
    "ExecuteTime": {
     "end_time": "2020-05-28T15:16:37.265053Z",
     "start_time": "2020-05-28T15:16:37.199214Z"
    },
    "hidden": true
   },
   "outputs": [
    {
     "name": "stdout",
     "output_type": "stream",
     "text": [
      "* Janelas com TODOS aparelhos desligados: 0 (~0.0% das amostras)\n",
      "\n",
      "* Amostras validadas (X shape): (6861, 30)\n",
      "\n",
      "* Rotulos (estado) validados:\n",
      "   - `SOCKETS-3`: Counter({0: 4497, 1: 2364}) -> Counter({0: 4497, 1: 2364})\n",
      "   - `SOCKETS-4`: Counter({0: 5858, 1: 1003}) -> Counter({0: 5858, 1: 1003})\n",
      "   - `LIGHT-5`: Counter({0: 6092, 1: 769}) -> Counter({0: 6092, 1: 769})\n",
      "   - `CE_APPLIANCE-6`: Counter({1: 6861}) -> Counter({1: 6861})\n",
      "   - `FRIDGE-7`: Counter({1: 5844, 0: 1017}) -> Counter({1: 5844, 0: 1017})\n",
      "   - `WASTE_DISPOSAL_UNIT-8`: Counter({0: 6138, 1: 723}) -> Counter({0: 6138, 1: 723})\n",
      "   - `DISH_WASHER-9`: Counter({1: 6339, 0: 522}) -> Counter({1: 6339, 0: 522})\n",
      "   - `ELECTRIC_FURNACE-10`: Counter({1: 6833, 0: 28}) -> Counter({1: 6833, 0: 28})\n",
      "   - `LIGHT-11`: Counter({0: 5056, 1: 1805}) -> Counter({0: 5056, 1: 1805})\n",
      "   - `SOCKETS-12`: Counter({0: 4866, 1: 1995}) -> Counter({0: 4866, 1: 1995})\n",
      "   - `WASHER_DRYER-13`: Counter({0: 6613, 1: 248}) -> Counter({0: 6613, 1: 248})\n",
      "   - `WASHER_DRYER-14`: Counter({0: 6540, 1: 321}) -> Counter({0: 6540, 1: 321})\n",
      "   - `LIGHT-15`: Counter({0: 5515, 1: 1346}) -> Counter({0: 5515, 1: 1346})\n",
      "   - `MICROWAVE-16`: Counter({1: 6766, 0: 95}) -> Counter({1: 6766, 0: 95})\n",
      "   - `LIGHT-17`: Counter({0: 4428, 1: 2433}) -> Counter({0: 4428, 1: 2433})\n",
      "   - `SMOKE_ALARM-18`: Counter({1: 6449, 0: 412}) -> Counter({1: 6449, 0: 412})\n",
      "   - `LIGHT-19`: Counter({1: 6828, 0: 33}) -> Counter({1: 6828, 0: 33})\n",
      "   - `UNKNOWN-20`: Counter({0: 6187, 1: 674}) -> Counter({0: 6187, 1: 674})\n"
     ]
    }
   ],
   "source": [
    "# Verificar apenas janelas válidaso: com medicao total MAIOR QUE ZERO \n",
    "# (ou seja, amostras que possuam ao menos uma carga ativa - janelas zeradas\n",
    "# são INÚTEIS para aprendizado do modelo, além de contribuir para desbalanceamento)\n",
    "idx_janelas_validas = np.where(np.sum(X, axis=1)>0)[0]\n",
    "print(\"* Janelas com TODOS aparelhos desligados: {} (~{:.1f}% das amostras)\".format(\n",
    "    X.shape[0] - len(idx_janelas_validas), \n",
    "    ( 1 - (len(idx_janelas_validas)/X.shape[0]) )*100 \n",
    "))\n",
    "print()\n",
    "\n",
    "# AMOSTRAS -> Filtrando apenas JANELAS validas\n",
    "X = X[idx_janelas_validas]\n",
    "print(\"* Amostras validadas (X shape):\", X.shape)\n",
    "print()\n",
    "\n",
    "# APARELHOS -> Filtrando apenas JANELAS validas\n",
    "print(\"* Rotulos (estado) validados:\")\n",
    "for i in range(len(dados_aparelhos)):\n",
    "    \n",
    "    dados_aparelhos[i][\"janelas\"] = dados_aparelhos[i][\"janelas\"][idx_janelas_validas]\n",
    "    \n",
    "    rotulos = copy.deepcopy(dados_aparelhos[i][\"rotulos\"])\n",
    "    \n",
    "    dados_aparelhos[i][\"rotulos\"][\"estado\"] = rotulos[\"estado\"][idx_janelas_validas]\n",
    "    dados_aparelhos[i][\"rotulos\"][\"media\"]  = rotulos[\"media\"][idx_janelas_validas]\n",
    "    dados_aparelhos[i][\"rotulos\"][\"total\"]  = rotulos[\"total\"][idx_janelas_validas]\n",
    "    print(\"   - `{}-{}`: {} -> {}\".format(\n",
    "        dados_aparelhos[i][\"carga\"].upper(), dados_aparelhos[i][\"instancia\"],\n",
    "        Counter(rotulos[\"estado\"]), \n",
    "        Counter(dados_aparelhos[i][\"rotulos\"][\"estado\"])\n",
    "    ))"
   ]
  },
  {
   "cell_type": "code",
   "execution_count": 10,
   "metadata": {
    "ExecuteTime": {
     "end_time": "2020-05-28T15:16:39.301125Z",
     "start_time": "2020-05-28T15:16:38.614212Z"
    },
    "hidden": true,
    "scrolled": true
   },
   "outputs": [
    {
     "name": "stdout",
     "output_type": "stream",
     "text": [
      "19/19 MeterGroup(meters==22, building=3, dataset='REDD', appliances=[Appliance(type='sockets', instance=5)])1)])1)])])\n",
      "  ElecMeter(instance=13, building=3, dataset='REDD', appliances=[Appliance(type='washer dryer', instance=1)])\n",
      "  ElecMeter(instance=14, building=3, dataset='REDD', appliances=[Appliance(type='washer dryer', instance=1)])\n",
      "Calculating total_energy for ElecMeterID(instance=14, building=3, dataset='REDD') ...   \n",
      "\n",
      "------------------------------------------------------------------\n",
      "* Top-5 aparelhos com maior consumo total de energia no intervalo:\n",
      "------------------------------------------------------------------\n",
      "[(6, 'ce_appliance'),\n",
      " (13, 'washer_dryer'),\n",
      " (14, 'washer_dryer'),\n",
      " (7, 'fridge'),\n",
      " (10, 'electric_furnace'),\n",
      " (17, 'light')]\n",
      "----------------------------------------------\n"
     ]
    }
   ],
   "source": [
    "# TOP-5 aparelhos com maior consumo\n",
    "top_aparelhos_consumo = []\n",
    "for m in janelas.residencia.elec.submeters().select_top_k(5).meters:\n",
    "    instancia = m.instance()\n",
    "    carga = m.label().lower().replace(\" \",\"_\")\n",
    "    if type(instancia)==tuple and len(instancia) > 1:\n",
    "        for i in instancia:\n",
    "            top_aparelhos_consumo.append((i, carga))\n",
    "    else:\n",
    "        top_aparelhos_consumo.append((instancia, carga))\n",
    "        \n",
    "print(\"\\n\")\n",
    "print(\"------------------------------------------------------------------\")\n",
    "print(\"* Top-5 aparelhos com maior consumo total de energia no intervalo:\")\n",
    "print(\"------------------------------------------------------------------\")\n",
    "pprint(top_aparelhos_consumo)\n",
    "print(\"----------------------------------------------\")"
   ]
  },
  {
   "cell_type": "markdown",
   "metadata": {
    "hidden": true
   },
   "source": [
    "**Distribuções dos estados (rótulos classificação):**\n",
    "\n",
    "   - `CE_APPLIANCE-6`&nbsp;&nbsp;&nbsp;&nbsp;&nbsp;&nbsp;&nbsp;&nbsp;&nbsp;&nbsp;: {1: 5264}\n",
    "   - `FRIDGE-7`&nbsp;&nbsp;&nbsp;&nbsp;&nbsp;&nbsp;&nbsp;&nbsp;&nbsp;&nbsp;&nbsp;&nbsp;&nbsp;&nbsp;&nbsp;&nbsp;&nbsp;&nbsp;&nbsp;&nbsp;&nbsp;&nbsp;: {1: 5125, 0: 139}\n",
    "   - `ELECTRIC_FURNACE-10`: {1: 5236, 0: 28}\n",
    "   - `WASHER_DRYER-13`&nbsp;&nbsp;&nbsp;&nbsp;&nbsp;&nbsp;&nbsp;&nbsp;: {0: 5018, 1: 246}\n",
    "   - `WASHER_DRYER-14`&nbsp;&nbsp;&nbsp;&nbsp;&nbsp;&nbsp;&nbsp;&nbsp;: {0: 4945, 1: 319}\n",
    "   - `LIGHT-17`&nbsp;&nbsp;&nbsp;&nbsp;&nbsp;&nbsp;&nbsp;&nbsp;&nbsp;&nbsp;&nbsp;&nbsp;&nbsp;&nbsp;&nbsp;&nbsp;&nbsp;&nbsp;&nbsp;&nbsp;&nbsp;&nbsp;: {0: 3134, 1: 2130})\n",
    "   \n",
    "   \n",
    "<u>**CONCLUSÕES PARCIAIS:**</u>\n",
    "1. É possível perceber que o aparelho `CE_APPLIANCE-6` é inviável de treinar nestas configurações, pois há apenas amostras positivas;\n",
    "2. `LIGHT-17` é o aparelho com melhor equlibrio de amostras, ou seja, possui menor grau de desbalanceamento;\n",
    "3. De resto, todos os aparelhos possuem grande desbalanceamento; `talvez seja necessário avaliar individualmente o tamanho da janela considerada para cada aparelho`.\n",
    "    * Corrobora [Fagiani *et. al* (2019)](https://www.mdpi.com/1996-1073/12/7/1371), os quais afirmam que *\"(...) geralmente, apesar da tarefa a ser resolvida dependendo da formulação do algoritmo, a precisão da desagregação diminui proporcionalmente com a variação da taxa de amostragem.\"*\n",
    "\n",
    "Portanto, vamos considerar avaliar diferentes 'sample rate' em um pipeline de classificação (RP+CNN) comum neste estudo, considerando as cargas de maior consumo."
   ]
  },
  {
   "cell_type": "code",
   "execution_count": 11,
   "metadata": {
    "ExecuteTime": {
     "end_time": "2020-05-28T14:45:59.013953Z",
     "start_time": "2020-05-28T14:45:59.010952Z"
    },
    "hidden": true
   },
   "outputs": [],
   "source": [
    "# Eletrônicos, Luzes, refrigerador, lava loucas, aquecedor, secadora de\n",
    "# roupas, alarmes de incêndio, equipamentos de banheiro, utensílios de\n",
    "# cozinha, Micro-ondas, utensílios externos."
   ]
  },
  {
   "cell_type": "code",
   "execution_count": 12,
   "metadata": {
    "ExecuteTime": {
     "end_time": "2020-05-28T14:45:59.856432Z",
     "start_time": "2020-05-28T14:45:59.853430Z"
    },
    "hidden": true
   },
   "outputs": [],
   "source": [
    "# # TOP-5 aparelhos com maior DEMANDA de energia\n",
    "# df_energia = janelas.residencia.elec.dataframe_of_meters()\n",
    "\n",
    "# fig = plt.figure(figsize=(20,8))\n",
    "# cargas = janelas.residencia.elec.get_labels(df_energia.columns)[2:]\n",
    "# legenda = []\n",
    "# dados_energia = [] # Lista com estatisticas por caga\n",
    "# for i, coluna in enumerate(df_energia.columns[2:]):\n",
    "#     instancia = \"\"\n",
    "#     if hasattr(coluna, \"instance\"):\n",
    "#         instancia = coluna.instance\n",
    "#     else:\n",
    "#         instancia = tuple([m.instance for m in coluna.meters])\n",
    "\n",
    "#     serie = np.nan_to_num(df_energia[coluna].values)\n",
    "#     dados_energia.append({\n",
    "#         \"carga\": cargas[i],\n",
    "#         \"instancia\": instancia,\n",
    "#         \"total\": np.sum(serie),\n",
    "#         \"maximo\": np.max(serie),\n",
    "#         \"minimo\": np.min(serie),\n",
    "#         \"media\": np.mean(serie),\n",
    "#         \"desvio\": np.std(serie)\n",
    "#     })\n",
    "#     legenda.append(f\"{cargas[i]}-{str(instancia)}\")\n",
    "#     plt.plot(np.arange(df_energia.shape[0]), serie)\n",
    "# plt.legend(legenda);\n",
    "# plt.title(\"Consumo por Dispositivo dentro do Intervalo\")\n",
    "# plt.show();\n",
    "\n",
    "# sorted(dados_energia, key=lambda k: k['maximo'], reverse=False) "
   ]
  },
  {
   "cell_type": "code",
   "execution_count": null,
   "metadata": {
    "hidden": true
   },
   "outputs": [],
   "source": []
  },
  {
   "cell_type": "markdown",
   "metadata": {
    "heading_collapsed": true
   },
   "source": [
    "## Transformar Séries (Janelas) em Imagens"
   ]
  },
  {
   "cell_type": "code",
   "execution_count": 397,
   "metadata": {
    "ExecuteTime": {
     "end_time": "2020-05-26T00:00:27.966121Z",
     "start_time": "2020-05-26T00:00:27.962112Z"
    },
    "hidden": true
   },
   "outputs": [],
   "source": [
    "\n",
    "# fig, axes = plt.subplots(1,4, figsize=(20,5))\n",
    "\n",
    "# axes[0].plot(np.arange(len(X[3])), X[3])\n",
    "# axes[0].set_title(\"Série Original (Janela)\")\n",
    "# # axes[0].grid(False)\n",
    "\n",
    "# # RPs\n",
    "# X_rp = RecurrencePlot().fit_transform(X)\n",
    "# axes[1].imshow(X_rp[3], cmap=\"plasma\");\n",
    "# axes[1].set_title(\"RP\")\n",
    "# axes[1].grid(False)\n",
    "\n",
    "# # GASF\n",
    "# X_gasf = GramianAngularField(method=\"summation\").fit_transform(X)\n",
    "# axes[2].imshow(X_gasf[3], cmap=\"plasma\");\n",
    "# axes[2].set_title(\"GASF\")\n",
    "# axes[2].grid(False)\n",
    "\n",
    "# # GASF\n",
    "# X_gadf = GramianAngularField(method=\"difference\").fit_transform(X)\n",
    "# axes[3].imshow(X_gadf[3], cmap=\"plasma\");\n",
    "# axes[3].set_title(\"GADF\")\n",
    "# axes[3].grid(False)\n",
    "\n",
    "# # # MTF\n",
    "# # X_mtf = MarkovTransitionField().fit_transform(X[np.where(np.sum(X, axis=1)>0)[0]])\n",
    "# # plt.imshow(X_mtf[3], cmap=\"plasma\");\n",
    "# # plt.title(\"MTF\")\n",
    "# # plt.grid(False)\n",
    "# # plt.show()\n",
    "# plt.show()\n",
    "\n",
    "# # Gerando imagens RGB N canais\n",
    "# X_imagem = np.stack([X_rp, X_gasf, X_gadf], axis=-1)\n",
    "# print(\"* Shape da matriz de amostras:\", X_imagem.shape)"
   ]
  },
  {
   "cell_type": "markdown",
   "metadata": {},
   "source": [
    "# Construção da Arquitetura do Modelo de DL\n",
    "---\n",
    "\n",
    "Nesta etapa, iremos considerar apenas um aparelho a fim de direcionar os esforços de modo eficiente. Sendo assim, iremos escolher o aparelho com base em dois parâmetros: 1) os que mais consomem energia na medição histórica (dentre as cinco do paper IEEE); e 2) que possui maior equilíbrio nas amostras (visando avaliação mais justa)."
   ]
  },
  {
   "cell_type": "code",
   "execution_count": 5,
   "metadata": {
    "ExecuteTime": {
     "end_time": "2020-06-15T18:19:29.948737Z",
     "start_time": "2020-06-15T18:19:18.834680Z"
    }
   },
   "outputs": [
    {
     "name": "stdout",
     "output_type": "stream",
     "text": [
      "# GPUs habilitadas: 1 física(s) / 1 lógica(s)\n"
     ]
    }
   ],
   "source": [
    "# from PyNILM.dados.janelas import Janelas\n",
    "\n",
    "from PyNILM.avaliacao.metricas import *\n",
    "from PyNILM.avaliacao.graficos import *\n",
    "from PyNILM.avaliacao.analises import *\n",
    "\n",
    "from sklearn.model_selection import train_test_split\n",
    "\n",
    "from pyts.image import RecurrencePlot\n",
    "\n",
    "import tensorflow as tf\n",
    "# from tensorflow import keras\n",
    "from tensorflow.keras.models import Sequential\n",
    "from tensorflow.keras.layers import Dense, Dropout, Flatten\n",
    "from tensorflow.keras.layers import Conv2D, Conv1D, MaxPooling2D, MaxPool1D\n",
    "# from tensorflow.keras.utils import to_categorical\n",
    "# from tensorflow.keras import backend as K\n",
    "# from tensorflow.keras.callbacks import EarlyStopping, ModelCheckpoint, TensorBoard\n",
    "\n",
    "\n",
    "from pyts.image import RecurrencePlot, GramianAngularField\n",
    "\n",
    "# Garantindo reprodutibilidade\n",
    "import random as rn\n",
    "# Constantes dos experimentos\n",
    "SEED = 33\n",
    "FRACAO_TESTE = 0.25\n",
    "EPOCAS = 100\n",
    "TAMANHO_LOTE = 32\n",
    "VERBOSIDADE = 0\n",
    "PARAMETROS_RP = {\n",
    "    \"dimension\": 1,\n",
    "    \"time_delay\": 1,\n",
    "    \"threshold\": None,\n",
    "    \"percentage\": 10\n",
    "}\n",
    "# PARAMETROS_RP={\n",
    "#     \"dimension\": 3,\n",
    "#     \"time_delay\": 8,\n",
    "#     \"threshold\": 0.1\n",
    "# }\n",
    "# Travar Seed's\n",
    "os.environ[\"CUDA_DEVICE_ORDER\"] = \"PCI_BUS_ID\"\n",
    "os.environ[\"CUDA_VISIBLE_DEVICES\"] = \"\"\n",
    "np.random.seed(SEED)\n",
    "rn.seed(SEED)\n",
    "os.environ['PYTHONHASHSEED']=str(SEED)\n",
    "tf.random.set_seed(SEED)\n",
    "\n",
    "# Habilitando/limitando utilização de GPUs\n",
    "gpus = tf.config.experimental.list_physical_devices('GPU')\n",
    "if gpus:\n",
    "    # Restrict TensorFlow to only allocate 4GB of memory on the first GPU\n",
    "    try:\n",
    "        tf.config.experimental.set_virtual_device_configuration(\n",
    "            gpus[0],\n",
    "            [tf.config.experimental.VirtualDeviceConfiguration(memory_limit=1024*0.5)]\n",
    "        )\n",
    "        logical_gpus = tf.config.experimental.list_logical_devices('GPU')\n",
    "        print(\"# GPUs habilitadas:\", \"{} física(s)\".format(len(gpus)), \"/\", \"{} lógica(s)\".format(len(gpus)))\n",
    "    except RuntimeError as e:\n",
    "        # Virtual devices must be set before GPUs have been initialized\n",
    "        print(e)"
   ]
  },
  {
   "cell_type": "markdown",
   "metadata": {},
   "source": [
    "## Selecionando os dados de um dos aparelhos"
   ]
  },
  {
   "cell_type": "code",
   "execution_count": 6,
   "metadata": {
    "ExecuteTime": {
     "end_time": "2020-06-15T18:19:48.825228Z",
     "start_time": "2020-06-15T18:19:29.973671Z"
    }
   },
   "outputs": [
    {
     "name": "stdout",
     "output_type": "stream",
     "text": [
      "* `FRIDGE - 7` / taxa=5 e janela=360...\n",
      "Meter 13 is in a nested meter group. Retrieving just the ElecMeter.\n",
      "Meter 14 is in a nested meter group. Retrieving just the ElecMeter.\n",
      "\n",
      "  -> Distribuição: {1: 266, 0: 77} (índice de equilíbrio = 28.95%)\n",
      "\n",
      "* `DISH_WASHER - 9` / taxa=5 e janela=60...\n",
      "Meter 13 is in a nested meter group. Retrieving just the ElecMeter.\n",
      "Meter 14 is in a nested meter group. Retrieving just the ElecMeter.\n",
      "\n",
      "  -> Distribuição: {0: 2031, 1: 27} (índice de equilíbrio = 1.33%)\n",
      "\n",
      "* `WASHER_DRYER - 13` / taxa=5 e janela=60...\n",
      "Meter 13 is in a nested meter group. Retrieving just the ElecMeter.\n",
      "Meter 14 is in a nested meter group. Retrieving just the ElecMeter.\n",
      "\n",
      "  -> Distribuição: {0: 2011, 1: 47} (índice de equilíbrio = 2.34%)\n",
      "\n",
      "* `WASHER_DRYER - 14` / taxa=5 e janela=30...\n",
      "Meter 13 is in a nested meter group. Retrieving just the ElecMeter.\n",
      "Meter 14 is in a nested meter group. Retrieving just the ElecMeter.\n",
      "\n",
      "  -> Distribuição: {0: 3988, 1: 128} (índice de equilíbrio = 3.21%)\n",
      "\n",
      "* `MICROWAVE - 16` / taxa=5 e janela=30...\n",
      "Meter 13 is in a nested meter group. Retrieving just the ElecMeter.\n",
      "Meter 14 is in a nested meter group. Retrieving just the ElecMeter.\n",
      "\n",
      "  -> Distribuição: {0: 4071, 1: 45} (índice de equilíbrio = 1.11%)\n",
      "\n"
     ]
    }
   ],
   "source": [
    "# Escolhendo aparelho (conforme enunciado)\n",
    "# -------------------\n",
    "\n",
    "# Intervalo de tempo e residencia considerados na base REDD\n",
    "janelas = Janelas(**PARAMETROS_DATASET)\n",
    "\n",
    "# 1) Para cada aparelho dos considerados no paper IEE GM\n",
    "for i, r in df_melhores_janelas.loc[\n",
    "    (df_melhores_janelas[\"carga\"].isin([\n",
    "                \"fridge - 7\", \"dish_washer - 9\", \"washer_dryer - 13\", \n",
    "                \"washer_dryer - 14\", \"microwave - 16\"\n",
    "            ])), :\n",
    "].iterrows():\n",
    "    \n",
    "    # Informacoes da carga (nome, id, taxa e janela)\n",
    "    carga = r[\"carga\"].split(\" - \")[0]\n",
    "    instancia = int(r[\"carga\"].split(\" - \")[1])\n",
    "    taxa = r[\"taxa_amostragem\"]\n",
    "    janela = r[\"janela\"]\n",
    "    print(f\"* `{r['carga'].upper()}` / taxa={taxa} e janela={janela}...\")\n",
    "          \n",
    "    # 2) Carregar dados e verificar distribuição DA CARGA / JANELA\n",
    "    \n",
    "    # Extrair series divididas em janelas para cada medidor\n",
    "    dados_cargas = janelas.preparar(taxa_amostral=taxa, intervalo_medicao=janela)\n",
    "    print()\n",
    "    \n",
    "    # Escolhendo apenas dados do aparelho\n",
    "    dados_aparelho = janelas.filtrar_cargas(dados_cargas, filtros=[(instancia, carga)])\n",
    "    # Analise dos dados\n",
    "    distribuicao = dict(Counter(dados_aparelho[0][\"rotulos\"][\"estado\"]))\n",
    "    maioritaria = max(distribuicao, key=distribuicao.get)\n",
    "    minoritaria = 1 - maioritaria\n",
    "    print(\n",
    "        \"  -> Distribuição:\", distribuicao, \n",
    "        \"(índice de equilíbrio = {:.2f}%)\".format(\n",
    "            (distribuicao[minoritaria]/distribuicao[maioritaria])*100\n",
    "        )\n",
    "    )\n",
    "\n",
    "    print()"
   ]
  },
  {
   "cell_type": "markdown",
   "metadata": {},
   "source": [
    "**NOTA:** será selecionado o aparelho `fridge - 7`, dado que este é o que possui o conjunto de dados mais equilibrado."
   ]
  },
  {
   "cell_type": "markdown",
   "metadata": {},
   "source": [
    "## Preparando os dados do aparelho selecionado - `fridge`"
   ]
  },
  {
   "cell_type": "code",
   "execution_count": 657,
   "metadata": {
    "ExecuteTime": {
     "end_time": "2020-06-15T23:21:54.391193Z",
     "start_time": "2020-06-15T23:21:50.585717Z"
    }
   },
   "outputs": [
    {
     "name": "stdout",
     "output_type": "stream",
     "text": [
      "Meter 13 is in a nested meter group. Retrieving just the ElecMeter.\n",
      "Meter 14 is in a nested meter group. Retrieving just the ElecMeter.\n",
      "\n"
     ]
    },
    {
     "data": {
      "image/png": "[encoded data removed]",
      "text/plain": [
       "<Figure size 1440x288 with 5 Axes>"
      ]
     },
     "metadata": {},
     "output_type": "display_data"
    }
   ],
   "source": [
    "# Constantes referente aos dados da carga selecionada\n",
    "TAXA = 5\n",
    "TAMANHO_JANELA = 360\n",
    "\n",
    "# Extrair series divididas em janelas para cada medidor\n",
    "dados_cargas = janelas.preparar(\n",
    "    taxa_amostral=TAXA, \n",
    "    intervalo_medicao=TAMANHO_JANELA\n",
    ")\n",
    "print()\n",
    "dados_aparelho = janelas.filtrar_cargas(dados_cargas, filtros=[(7, \"fridge\")])[0]\n",
    "\n",
    "# Fazendo split dos dados (treino/teste)\n",
    "X_treino, X_teste, y_treino, y_teste = train_test_split(\n",
    "    dados_aparelho[\"janelas\"], dados_aparelho[\"rotulos\"][\"estado\"],\n",
    "    test_size=FRACAO_TESTE,\n",
    "    stratify=dados_aparelho[\"rotulos\"][\"estado\"],\n",
    "    random_state=SEED\n",
    ")\n",
    "\n",
    "# Construindo datasets (treino e teste)\n",
    "dataset_treino = tf.data.Dataset.from_tensor_slices((X_treino, y_treino))\n",
    "dataset_teste = tf.data.Dataset.from_tensor_slices((X_teste, y_teste))\n",
    "\n",
    "del X_treino\n",
    "del y_treino\n",
    "del X_teste\n",
    "del y_teste\n",
    "del dados_cargas\n",
    "del dados_aparelho\n",
    "\n",
    "# Exibindo algumas amostras de janealas\n",
    "num_amostras = 5\n",
    "fig, axes = plt.subplots(1, num_amostras, figsize=(20,4))\n",
    "estados = {1: \"ON\", 0: \"OFF\"}\n",
    "for i,amostra in enumerate(dataset_treino.shuffle(33).take(num_amostras)):\n",
    "    serie = amostra[0].numpy()\n",
    "    estado = amostra[1].numpy()\n",
    "    axes[i].plot(np.arange(0, serie.shape[0]), serie)\n",
    "    axes[i].set_title(f\"Amostra #{i+1} (`{estados[estado]}`)\")\n",
    "plt.suptitle(\"Exemplos de Janelas do Aparelho\", size=18, y=1.05)\n",
    "plt.show()"
   ]
  },
  {
   "cell_type": "markdown",
   "metadata": {},
   "source": [
    "**NOTA:** Interessante observar que algumas amostras estão rotuladas como `OFF` mesmo possuindo alguma curva no gráfico ou variação maior que 0. Isto ocorre pois tais sinais são tratados como ruído pela biblioteca NILMTK (conforme a baixa amplitude da medição), base do pré-processamento da PyNILM. Logo, é observado que os dados foram tratados corretamente."
   ]
  },
  {
   "cell_type": "code",
   "execution_count": 658,
   "metadata": {
    "ExecuteTime": {
     "end_time": "2020-06-15T23:22:57.787629Z",
     "start_time": "2020-06-15T23:22:57.699504Z"
    }
   },
   "outputs": [],
   "source": [
    "# Construindo o pipeline de dados\n",
    "# ----------\n",
    "\n",
    "import cv2\n",
    "\n",
    "# Constante fundamentais\n",
    "TAMANHO_IMAGEM = (32,32,1) # Apenas 1 canal\n",
    "TIPO_DADOS = np.float32\n",
    "def serie_para_imagem(serie, params_rp = PARAMETROS_RP, tam_imagem=TAMANHO_IMAGEM):\n",
    "    \"\"\"\n",
    "    Funcao responsavel por gerar e tratar a imagem RP.\n",
    "    \"\"\"\n",
    "    # Gerando imagem RP/redimensionando\n",
    "    imagem = RecurrencePlot(**params_rp).fit_transform([serie])[0]\n",
    "    imagem = cv2.resize(\n",
    "            imagem, \n",
    "            dsize=tam_imagem[:2], \n",
    "            interpolation=cv2.INTER_CUBIC\n",
    "        ).astype(TIPO_DADOS)\n",
    "\n",
    "    return np.stack([imagem for i in range(tam_imagem[-1])],axis=-1) # N canais\n",
    "\n",
    "def preparar_amostra(amostra, rotulo):\n",
    "    \"\"\"\n",
    "    Preparação da amostra/rótulo para o modelo.\n",
    "    \"\"\"\n",
    "    # Convertendo serie para imagem\n",
    "    amostra = tf.numpy_function(serie_para_imagem, [amostra], TIPO_DADOS)\n",
    "    amostra = tf.reshape(amostra, TAMANHO_IMAGEM)\n",
    "    return amostra, rotulo\n",
    "\n",
    "# pipelines consolidados\n",
    "dataset_treino = dataset_treino.map(lambda amostra, rotulo: preparar_amostra(amostra, rotulo))\n",
    "dataset_teste = dataset_teste.map(lambda amostra, rotulo: preparar_amostra(amostra, rotulo))"
   ]
  },
  {
   "cell_type": "code",
   "execution_count": 659,
   "metadata": {
    "ExecuteTime": {
     "end_time": "2020-06-15T23:23:04.602562Z",
     "start_time": "2020-06-15T23:23:04.387131Z"
    }
   },
   "outputs": [
    {
     "data": {
      "image/png": "[encoded data removed]",
      "text/plain": [
       "<Figure size 432x288 with 1 Axes>"
      ]
     },
     "metadata": {},
     "output_type": "display_data"
    }
   ],
   "source": [
    "# Exemplo de amostra processada no pipeline\n",
    "for a in dataset_treino.shuffle(SEED).batch(1).take(1):\n",
    "    rp = a[0][0].numpy()\n",
    "    plt.imshow(rp[:,:,0])\n",
    "    plt.grid(False)\n",
    "    plt.title(\"Amostra de RP\")\n",
    "    break"
   ]
  },
  {
   "cell_type": "markdown",
   "metadata": {},
   "source": [
    "## Construindo o modelo"
   ]
  },
  {
   "cell_type": "markdown",
   "metadata": {},
   "source": [
    "### Buscando o Overfitting"
   ]
  },
  {
   "cell_type": "code",
   "execution_count": 668,
   "metadata": {
    "ExecuteTime": {
     "end_time": "2020-06-15T23:26:07.982391Z",
     "start_time": "2020-06-15T23:26:07.595421Z"
    }
   },
   "outputs": [
    {
     "data": {
      "image/png": "[encoded data removed]",
      "text/plain": [
       "<Figure size 720x360 with 2 Axes>"
      ]
     },
     "metadata": {},
     "output_type": "display_data"
    }
   ],
   "source": [
    "X,y = [], []\n",
    "\n",
    "for amostra in dataset_treino.shuffle(SEED):\n",
    "    imagem = amostra[0].numpy()\n",
    "    rotulo = amostra[1].numpy()\n",
    "    # Verificar se N possui amostra da classe\n",
    "    if y.count(rotulo) == 0:\n",
    "        X.append(imagem)\n",
    "        y.append(rotulo)\n",
    "    \n",
    "    # Verificar se ja possui condicao de parada (1 de cada classe)\n",
    "    if np.unique(y).shape[0] == 2:\n",
    "        break\n",
    "        \n",
    "# Amostras selecionadas\n",
    "fig, axes  = plt.subplots(1,2, figsize=(10,5))\n",
    "axes[0].imshow(X[0][:,:,0], origin=\"lower\")\n",
    "axes[0].set_title(f\"Estado = `{estados[y[0]]}`\")\n",
    "axes[0].grid(False)\n",
    "axes[1].imshow(X[1][:,:,0], origin=\"lower\")\n",
    "axes[1].set_title(f\"Estado = `{estados[y[1]]}`\")\n",
    "axes[1].grid(False)\n",
    "plt.suptitle(\"Amostras de RP p/ Overfitting\", size=18, y=1.0);"
   ]
  },
  {
   "cell_type": "code",
   "execution_count": 669,
   "metadata": {
    "ExecuteTime": {
     "end_time": "2020-06-15T23:26:13.443928Z",
     "start_time": "2020-06-15T23:26:13.433956Z"
    }
   },
   "outputs": [],
   "source": [
    "from tensorflow.keras.models import Model, Sequential\n",
    "from tensorflow.keras.layers import Conv2D, BatchNormalization, Activation, \\\n",
    "                    Dropout, MaxPool2D, AveragePooling2D, Flatten, Dense\n",
    "from tensorflow.keras.constraints import max_norm\n",
    "\n",
    "def modelo_baseline(optimizer, loss='binary_crossentropy', metrics=['accuracy'], name=\"Baseline\"):\n",
    "    \n",
    "    model = Sequential(name=name)\n",
    "\n",
    "    model.add(Conv2D(32, kernel_size=(3,3), strides=(1,1), padding=\"valid\", kernel_initializer = 'he_uniform', input_shape=(32,32,1), kernel_constraint=max_norm(3), bias_constraint=max_norm(3)))\n",
    "    model.add(BatchNormalization(trainable=False))\n",
    "    model.add(Activation(\"relu\"))\n",
    "    model.add(AveragePooling2D())\n",
    "    \n",
    "#     model.add(Conv2D(32, kernel_size=(2,2), padding=\"valid\", kernel_initializer = 'he_uniform', kernel_constraint=max_norm(3), bias_constraint=max_norm(3)))\n",
    "#     model.add(BatchNormalization(trainable=False))\n",
    "#     model.add(Activation(\"relu\"))\n",
    "#     model.add(MaxPool2D())\n",
    "    \n",
    "    model.add(Flatten())\n",
    "    model.add(Dense(128))\n",
    "    model.add(BatchNormalization(trainable=False))\n",
    "    model.add(Activation(\"relu\"))\n",
    "    #model.add(Dropout(0.2))\n",
    " \n",
    "    # Output\n",
    "    model.add(Dense(1, activation = 'sigmoid'))\n",
    "    \n",
    "    model.compile(optimizer=optimizer, loss=loss, metrics=metrics)\n",
    "    \n",
    "    return model"
   ]
  },
  {
   "cell_type": "code",
   "execution_count": 675,
   "metadata": {
    "ExecuteTime": {
     "end_time": "2020-06-15T23:26:42.430114Z",
     "start_time": "2020-06-15T23:26:42.154850Z"
    }
   },
   "outputs": [
    {
     "name": "stdout",
     "output_type": "stream",
     "text": [
      "* Detalhes do modelo:\n",
      "---\n",
      "Model: \"Baseline\"\n",
      "_________________________________________________________________\n",
      "Layer (type)                 Output Shape              Param #   \n",
      "=================================================================\n",
      "conv2d_106 (Conv2D)          (None, 30, 30, 32)        320       \n",
      "_________________________________________________________________\n",
      "batch_normalization_176 (Bat (None, 30, 30, 32)        128       \n",
      "_________________________________________________________________\n",
      "activation_176 (Activation)  (None, 30, 30, 32)        0         \n",
      "_________________________________________________________________\n",
      "average_pooling2d_11 (Averag (None, 15, 15, 32)        0         \n",
      "_________________________________________________________________\n",
      "flatten_67 (Flatten)         (None, 7200)              0         \n",
      "_________________________________________________________________\n",
      "dense_137 (Dense)            (None, 128)               921728    \n",
      "_________________________________________________________________\n",
      "batch_normalization_177 (Bat (None, 128)               512       \n",
      "_________________________________________________________________\n",
      "activation_177 (Activation)  (None, 128)               0         \n",
      "_________________________________________________________________\n",
      "dense_138 (Dense)            (None, 1)                 129       \n",
      "=================================================================\n",
      "Total params: 922,817\n",
      "Trainable params: 922,177\n",
      "Non-trainable params: 640\n",
      "_________________________________________________________________\n",
      "None\n",
      "\n"
     ]
    }
   ],
   "source": [
    "modelo_overfitting = modelo_baseline(optimizer=tf.keras.optimizers.RMSprop(1e-2, momentum=0.5))\n",
    "\n",
    "print(\"* Detalhes do modelo:\")\n",
    "print(\"---\")\n",
    "print(modelo_overfitting.summary())\n",
    "print()"
   ]
  },
  {
   "cell_type": "code",
   "execution_count": 676,
   "metadata": {
    "ExecuteTime": {
     "end_time": "2020-06-15T23:26:43.778787Z",
     "start_time": "2020-06-15T23:26:43.003858Z"
    }
   },
   "outputs": [
    {
     "name": "stdout",
     "output_type": "stream",
     "text": [
      "* Treinando:\n",
      "---\n",
      "Train on 2 samples\n",
      "Epoch 1/10\n",
      "2/2 - 1s - loss: 0.6455 - accuracy: 0.5000\n",
      "Epoch 2/10\n",
      "2/2 - 0s - loss: 11006.9902 - accuracy: 0.5000\n",
      "Epoch 3/10\n",
      "2/2 - 0s - loss: 392.5878 - accuracy: 0.5000\n",
      "Epoch 4/10\n",
      "2/2 - 0s - loss: 70.4679 - accuracy: 0.5000\n",
      "Epoch 5/10\n",
      "2/2 - 0s - loss: 68.7413 - accuracy: 0.5000\n",
      "Epoch 6/10\n",
      "2/2 - 0s - loss: 41.2835 - accuracy: 0.5000\n",
      "Epoch 7/10\n",
      "2/2 - 0s - loss: 2.2631 - accuracy: 0.5000\n",
      "Epoch 8/10\n",
      "2/2 - 0s - loss: 0.0000e+00 - accuracy: 1.0000\n",
      "Epoch 9/10\n",
      "2/2 - 0s - loss: 0.0000e+00 - accuracy: 1.0000\n",
      "Epoch 10/10\n",
      "2/2 - 0s - loss: 0.0000e+00 - accuracy: 1.0000\n"
     ]
    }
   ],
   "source": [
    "print(\"* Treinando:\")\n",
    "print(\"---\")\n",
    "historico = modelo_overfitting.fit(\n",
    "    np.asarray(X).astype(TIPO_DADOS), np.array(y),\n",
    "    epochs=10,\n",
    "    verbose=2    \n",
    ")"
   ]
  },
  {
   "cell_type": "markdown",
   "metadata": {},
   "source": [
    "### Ajustando hiperparâmetros no conjunto completo"
   ]
  },
  {
   "cell_type": "code",
   "execution_count": 680,
   "metadata": {
    "ExecuteTime": {
     "end_time": "2020-06-15T23:35:08.744331Z",
     "start_time": "2020-06-15T23:34:35.757809Z"
    }
   },
   "outputs": [
    {
     "name": "stdout",
     "output_type": "stream",
     "text": [
      "* Treinando modelo:\n",
      "---\n",
      "Train for 9 steps, validate for 3 steps\n",
      "Epoch 1/100\n",
      "9/9 - 1s - loss: 4.7669 - accuracy: 0.8949 - val_loss: 2661.7066 - val_accuracy: 0.5349\n",
      "Epoch 2/100\n",
      "9/9 - 0s - loss: 157.6881 - accuracy: 0.9611 - val_loss: 5.8871 - val_accuracy: 0.9884\n",
      "Epoch 3/100\n",
      "9/9 - 0s - loss: 7.9124 - accuracy: 0.9883 - val_loss: 3.9980 - val_accuracy: 0.9884\n",
      "Epoch 4/100\n",
      "9/9 - 0s - loss: 5.1537 - accuracy: 0.9883 - val_loss: 1.4976 - val_accuracy: 0.9884\n",
      "Epoch 5/100\n",
      "9/9 - 0s - loss: 2.1548 - accuracy: 0.9922 - val_loss: 0.6309 - val_accuracy: 0.9884\n",
      "Epoch 6/100\n",
      "9/9 - 0s - loss: 0.1003 - accuracy: 0.9961 - val_loss: 0.0000e+00 - val_accuracy: 1.0000\n",
      "Epoch 7/100\n",
      "9/9 - 0s - loss: 0.8228 - accuracy: 0.9961 - val_loss: 1.1427 - val_accuracy: 0.9884\n",
      "Epoch 8/100\n",
      "9/9 - 0s - loss: 0.0853 - accuracy: 0.9922 - val_loss: 0.0689 - val_accuracy: 0.9884\n",
      "Epoch 9/100\n",
      "9/9 - 0s - loss: 0.1828 - accuracy: 0.9922 - val_loss: 0.5304 - val_accuracy: 0.9884\n",
      "Epoch 10/100\n",
      "9/9 - 0s - loss: 5.0817e-27 - accuracy: 1.0000 - val_loss: 0.5250 - val_accuracy: 0.9884\n",
      "Epoch 11/100\n",
      "9/9 - 0s - loss: 4.9087e-27 - accuracy: 1.0000 - val_loss: 0.5250 - val_accuracy: 0.9884\n",
      "Epoch 12/100\n",
      "9/9 - 0s - loss: 4.9095e-27 - accuracy: 1.0000 - val_loss: 0.5250 - val_accuracy: 0.9884\n",
      "Epoch 13/100\n",
      "9/9 - 0s - loss: 4.9105e-27 - accuracy: 1.0000 - val_loss: 0.5250 - val_accuracy: 0.9884\n",
      "Epoch 14/100\n",
      "9/9 - 0s - loss: 4.9118e-27 - accuracy: 1.0000 - val_loss: 0.5250 - val_accuracy: 0.9884\n",
      "Epoch 15/100\n",
      "9/9 - 0s - loss: 4.9130e-27 - accuracy: 1.0000 - val_loss: 0.5250 - val_accuracy: 0.9884\n",
      "Epoch 16/100\n",
      "9/9 - 0s - loss: 4.9143e-27 - accuracy: 1.0000 - val_loss: 0.5250 - val_accuracy: 0.9884\n",
      "Epoch 17/100\n",
      "9/9 - 0s - loss: 4.9157e-27 - accuracy: 1.0000 - val_loss: 0.5250 - val_accuracy: 0.9884\n",
      "Epoch 18/100\n",
      "9/9 - 0s - loss: 4.9166e-27 - accuracy: 1.0000 - val_loss: 0.5250 - val_accuracy: 0.9884\n",
      "Epoch 19/100\n",
      "9/9 - 0s - loss: 4.9179e-27 - accuracy: 1.0000 - val_loss: 0.5251 - val_accuracy: 0.9884\n",
      "Epoch 20/100\n",
      "9/9 - 0s - loss: 4.9189e-27 - accuracy: 1.0000 - val_loss: 0.5251 - val_accuracy: 0.9884\n",
      "Epoch 21/100\n",
      "9/9 - 0s - loss: 4.9202e-27 - accuracy: 1.0000 - val_loss: 0.5251 - val_accuracy: 0.9884\n",
      "Epoch 22/100\n",
      "9/9 - 0s - loss: 4.9213e-27 - accuracy: 1.0000 - val_loss: 0.5251 - val_accuracy: 0.9884\n",
      "Epoch 23/100\n",
      "9/9 - 0s - loss: 4.9221e-27 - accuracy: 1.0000 - val_loss: 0.5251 - val_accuracy: 0.9884\n",
      "Epoch 24/100\n",
      "9/9 - 0s - loss: 4.9231e-27 - accuracy: 1.0000 - val_loss: 0.5251 - val_accuracy: 0.9884\n",
      "Epoch 25/100\n",
      "9/9 - 0s - loss: 4.9243e-27 - accuracy: 1.0000 - val_loss: 0.5251 - val_accuracy: 0.9884\n",
      "Epoch 26/100\n",
      "9/9 - 0s - loss: 4.9257e-27 - accuracy: 1.0000 - val_loss: 0.5251 - val_accuracy: 0.9884\n",
      "Epoch 27/100\n",
      "9/9 - 0s - loss: 4.9271e-27 - accuracy: 1.0000 - val_loss: 0.5251 - val_accuracy: 0.9884\n",
      "Epoch 28/100\n",
      "9/9 - 0s - loss: 4.9281e-27 - accuracy: 1.0000 - val_loss: 0.5251 - val_accuracy: 0.9884\n",
      "Epoch 29/100\n",
      "9/9 - 0s - loss: 4.9289e-27 - accuracy: 1.0000 - val_loss: 0.5251 - val_accuracy: 0.9884\n",
      "Epoch 30/100\n",
      "9/9 - 0s - loss: 4.9306e-27 - accuracy: 1.0000 - val_loss: 0.5251 - val_accuracy: 0.9884\n",
      "Epoch 31/100\n",
      "9/9 - 0s - loss: 4.9316e-27 - accuracy: 1.0000 - val_loss: 0.5251 - val_accuracy: 0.9884\n",
      "Epoch 32/100\n",
      "9/9 - 0s - loss: 4.9330e-27 - accuracy: 1.0000 - val_loss: 0.5251 - val_accuracy: 0.9884\n",
      "Epoch 33/100\n",
      "9/9 - 0s - loss: 4.9339e-27 - accuracy: 1.0000 - val_loss: 0.5251 - val_accuracy: 0.9884\n",
      "Epoch 34/100\n",
      "9/9 - 0s - loss: 4.9350e-27 - accuracy: 1.0000 - val_loss: 0.5251 - val_accuracy: 0.9884\n",
      "Epoch 35/100\n",
      "9/9 - 0s - loss: 4.9362e-27 - accuracy: 1.0000 - val_loss: 0.5251 - val_accuracy: 0.9884\n",
      "Epoch 36/100\n",
      "9/9 - 0s - loss: 4.9375e-27 - accuracy: 1.0000 - val_loss: 0.5251 - val_accuracy: 0.9884\n",
      "Epoch 37/100\n",
      "9/9 - 0s - loss: 4.9386e-27 - accuracy: 1.0000 - val_loss: 0.5251 - val_accuracy: 0.9884\n",
      "Epoch 38/100\n",
      "9/9 - 0s - loss: 4.9397e-27 - accuracy: 1.0000 - val_loss: 0.5251 - val_accuracy: 0.9884\n",
      "Epoch 39/100\n",
      "9/9 - 0s - loss: 4.9410e-27 - accuracy: 1.0000 - val_loss: 0.5251 - val_accuracy: 0.9884\n",
      "Epoch 40/100\n",
      "9/9 - 0s - loss: 4.9420e-27 - accuracy: 1.0000 - val_loss: 0.5251 - val_accuracy: 0.9884\n",
      "Epoch 41/100\n",
      "9/9 - 0s - loss: 4.9429e-27 - accuracy: 1.0000 - val_loss: 0.5251 - val_accuracy: 0.9884\n",
      "Epoch 42/100\n",
      "9/9 - 0s - loss: 4.9442e-27 - accuracy: 1.0000 - val_loss: 0.5251 - val_accuracy: 0.9884\n",
      "Epoch 43/100\n",
      "9/9 - 0s - loss: 4.9454e-27 - accuracy: 1.0000 - val_loss: 0.5251 - val_accuracy: 0.9884\n",
      "Epoch 44/100\n",
      "9/9 - 0s - loss: 4.9467e-27 - accuracy: 1.0000 - val_loss: 0.5251 - val_accuracy: 0.9884\n",
      "Epoch 45/100\n",
      "9/9 - 0s - loss: 4.9476e-27 - accuracy: 1.0000 - val_loss: 0.5251 - val_accuracy: 0.9884\n",
      "Epoch 46/100\n",
      "9/9 - 0s - loss: 4.9485e-27 - accuracy: 1.0000 - val_loss: 0.5251 - val_accuracy: 0.9884\n",
      "Epoch 47/100\n",
      "9/9 - 0s - loss: 4.9500e-27 - accuracy: 1.0000 - val_loss: 0.5251 - val_accuracy: 0.9884\n",
      "Epoch 48/100\n",
      "9/9 - 0s - loss: 4.9512e-27 - accuracy: 1.0000 - val_loss: 0.5251 - val_accuracy: 0.9884\n",
      "Epoch 49/100\n",
      "9/9 - 0s - loss: 4.9523e-27 - accuracy: 1.0000 - val_loss: 0.5251 - val_accuracy: 0.9884\n",
      "Epoch 50/100\n",
      "9/9 - 0s - loss: 4.9534e-27 - accuracy: 1.0000 - val_loss: 0.5251 - val_accuracy: 0.9884\n",
      "Epoch 51/100\n",
      "9/9 - 0s - loss: 4.9547e-27 - accuracy: 1.0000 - val_loss: 0.5251 - val_accuracy: 0.9884\n",
      "Epoch 52/100\n",
      "9/9 - 0s - loss: 4.9561e-27 - accuracy: 1.0000 - val_loss: 0.5251 - val_accuracy: 0.9884\n",
      "Epoch 53/100\n",
      "9/9 - 0s - loss: 4.9573e-27 - accuracy: 1.0000 - val_loss: 0.5251 - val_accuracy: 0.9884\n",
      "Epoch 54/100\n",
      "9/9 - 0s - loss: 4.9582e-27 - accuracy: 1.0000 - val_loss: 0.5251 - val_accuracy: 0.9884\n",
      "Epoch 55/100\n",
      "9/9 - 0s - loss: 4.9593e-27 - accuracy: 1.0000 - val_loss: 0.5251 - val_accuracy: 0.9884\n",
      "Epoch 56/100\n",
      "9/9 - 0s - loss: 4.9605e-27 - accuracy: 1.0000 - val_loss: 0.5251 - val_accuracy: 0.9884\n",
      "Epoch 57/100\n",
      "9/9 - 0s - loss: 4.9615e-27 - accuracy: 1.0000 - val_loss: 0.5251 - val_accuracy: 0.9884\n",
      "Epoch 58/100\n",
      "9/9 - 0s - loss: 4.9628e-27 - accuracy: 1.0000 - val_loss: 0.5251 - val_accuracy: 0.9884\n",
      "Epoch 59/100\n",
      "9/9 - 0s - loss: 4.9639e-27 - accuracy: 1.0000 - val_loss: 0.5251 - val_accuracy: 0.9884\n",
      "Epoch 60/100\n",
      "9/9 - 0s - loss: 4.9650e-27 - accuracy: 1.0000 - val_loss: 0.5251 - val_accuracy: 0.9884\n",
      "Epoch 61/100\n",
      "9/9 - 0s - loss: 4.9662e-27 - accuracy: 1.0000 - val_loss: 0.5251 - val_accuracy: 0.9884\n",
      "Epoch 62/100\n",
      "9/9 - 0s - loss: 4.9673e-27 - accuracy: 1.0000 - val_loss: 0.5251 - val_accuracy: 0.9884\n",
      "Epoch 63/100\n",
      "9/9 - 0s - loss: 4.9684e-27 - accuracy: 1.0000 - val_loss: 0.5251 - val_accuracy: 0.9884\n",
      "Epoch 64/100\n",
      "9/9 - 0s - loss: 4.9695e-27 - accuracy: 1.0000 - val_loss: 0.5251 - val_accuracy: 0.9884\n",
      "Epoch 65/100\n",
      "9/9 - 0s - loss: 4.9710e-27 - accuracy: 1.0000 - val_loss: 0.5251 - val_accuracy: 0.9884\n",
      "Epoch 66/100\n",
      "9/9 - 0s - loss: 4.9724e-27 - accuracy: 1.0000 - val_loss: 0.5252 - val_accuracy: 0.9884\n",
      "Epoch 67/100\n",
      "9/9 - 0s - loss: 4.9735e-27 - accuracy: 1.0000 - val_loss: 0.5252 - val_accuracy: 0.9884\n",
      "Epoch 68/100\n",
      "9/9 - 0s - loss: 4.9747e-27 - accuracy: 1.0000 - val_loss: 0.5252 - val_accuracy: 0.9884\n",
      "Epoch 69/100\n",
      "9/9 - 0s - loss: 4.9756e-27 - accuracy: 1.0000 - val_loss: 0.5252 - val_accuracy: 0.9884\n",
      "Epoch 70/100\n",
      "9/9 - 0s - loss: 4.9769e-27 - accuracy: 1.0000 - val_loss: 0.5252 - val_accuracy: 0.9884\n",
      "Epoch 71/100\n",
      "9/9 - 0s - loss: 4.9780e-27 - accuracy: 1.0000 - val_loss: 0.5252 - val_accuracy: 0.9884\n",
      "Epoch 72/100\n",
      "9/9 - 0s - loss: 4.9791e-27 - accuracy: 1.0000 - val_loss: 0.5252 - val_accuracy: 0.9884\n",
      "Epoch 73/100\n",
      "9/9 - 0s - loss: 4.9804e-27 - accuracy: 1.0000 - val_loss: 0.5252 - val_accuracy: 0.9884\n",
      "Epoch 74/100\n",
      "9/9 - 0s - loss: 4.9815e-27 - accuracy: 1.0000 - val_loss: 0.5252 - val_accuracy: 0.9884\n",
      "Epoch 75/100\n",
      "9/9 - 0s - loss: 4.9826e-27 - accuracy: 1.0000 - val_loss: 0.5252 - val_accuracy: 0.9884\n",
      "Epoch 76/100\n",
      "9/9 - 0s - loss: 4.9840e-27 - accuracy: 1.0000 - val_loss: 0.5252 - val_accuracy: 0.9884\n",
      "Epoch 77/100\n",
      "9/9 - 0s - loss: 4.9851e-27 - accuracy: 1.0000 - val_loss: 0.5252 - val_accuracy: 0.9884\n",
      "Epoch 78/100\n",
      "9/9 - 0s - loss: 4.9862e-27 - accuracy: 1.0000 - val_loss: 0.5252 - val_accuracy: 0.9884\n",
      "Epoch 79/100\n",
      "9/9 - 0s - loss: 4.9873e-27 - accuracy: 1.0000 - val_loss: 0.5252 - val_accuracy: 0.9884\n",
      "Epoch 80/100\n",
      "9/9 - 0s - loss: 4.9883e-27 - accuracy: 1.0000 - val_loss: 0.5252 - val_accuracy: 0.9884\n"
     ]
    },
    {
     "name": "stdout",
     "output_type": "stream",
     "text": [
      "Epoch 81/100\n",
      "9/9 - 0s - loss: 4.9895e-27 - accuracy: 1.0000 - val_loss: 0.5252 - val_accuracy: 0.9884\n",
      "Epoch 82/100\n",
      "9/9 - 0s - loss: 4.9907e-27 - accuracy: 1.0000 - val_loss: 0.5252 - val_accuracy: 0.9884\n",
      "Epoch 83/100\n",
      "9/9 - 0s - loss: 4.9920e-27 - accuracy: 1.0000 - val_loss: 0.5252 - val_accuracy: 0.9884\n",
      "Epoch 84/100\n",
      "9/9 - 0s - loss: 4.9934e-27 - accuracy: 1.0000 - val_loss: 0.5252 - val_accuracy: 0.9884\n",
      "Epoch 85/100\n",
      "9/9 - 0s - loss: 4.9946e-27 - accuracy: 1.0000 - val_loss: 0.5252 - val_accuracy: 0.9884\n",
      "Epoch 86/100\n",
      "9/9 - 0s - loss: 4.9957e-27 - accuracy: 1.0000 - val_loss: 0.5252 - val_accuracy: 0.9884\n",
      "Epoch 87/100\n",
      "9/9 - 0s - loss: 4.9966e-27 - accuracy: 1.0000 - val_loss: 0.5252 - val_accuracy: 0.9884\n",
      "Epoch 88/100\n",
      "9/9 - 0s - loss: 4.9978e-27 - accuracy: 1.0000 - val_loss: 0.5252 - val_accuracy: 0.9884\n",
      "Epoch 89/100\n",
      "9/9 - 0s - loss: 4.9993e-27 - accuracy: 1.0000 - val_loss: 0.5252 - val_accuracy: 0.9884\n",
      "Epoch 90/100\n",
      "9/9 - 0s - loss: 5.0001e-27 - accuracy: 1.0000 - val_loss: 0.5252 - val_accuracy: 0.9884\n",
      "Epoch 91/100\n",
      "9/9 - 0s - loss: 5.0014e-27 - accuracy: 1.0000 - val_loss: 0.5252 - val_accuracy: 0.9884\n",
      "Epoch 92/100\n",
      "9/9 - 0s - loss: 5.0025e-27 - accuracy: 1.0000 - val_loss: 0.5252 - val_accuracy: 0.9884\n",
      "Epoch 93/100\n",
      "9/9 - 0s - loss: 5.0037e-27 - accuracy: 1.0000 - val_loss: 0.5252 - val_accuracy: 0.9884\n",
      "Epoch 94/100\n",
      "9/9 - 0s - loss: 5.0050e-27 - accuracy: 1.0000 - val_loss: 0.5252 - val_accuracy: 0.9884\n",
      "Epoch 95/100\n",
      "9/9 - 0s - loss: 5.0064e-27 - accuracy: 1.0000 - val_loss: 0.5252 - val_accuracy: 0.9884\n",
      "Epoch 96/100\n",
      "9/9 - 0s - loss: 5.0073e-27 - accuracy: 1.0000 - val_loss: 0.5252 - val_accuracy: 0.9884\n",
      "Epoch 97/100\n",
      "9/9 - 0s - loss: 5.0085e-27 - accuracy: 1.0000 - val_loss: 0.5252 - val_accuracy: 0.9884\n",
      "Epoch 98/100\n",
      "9/9 - 0s - loss: 5.0096e-27 - accuracy: 1.0000 - val_loss: 0.5252 - val_accuracy: 0.9884\n",
      "Epoch 99/100\n",
      "9/9 - 0s - loss: 5.0109e-27 - accuracy: 1.0000 - val_loss: 0.5252 - val_accuracy: 0.9884\n",
      "Epoch 100/100\n",
      "9/9 - 0s - loss: 5.0123e-27 - accuracy: 1.0000 - val_loss: 0.5252 - val_accuracy: 0.9884\n"
     ]
    }
   ],
   "source": [
    "print(\"* Treinando modelo:\")\n",
    "print(\"---\")\n",
    "modelo = modelo_baseline(optimizer=tf.keras.optimizers.RMSprop(1e-2, momentum=0.5))\n",
    "historico = modelo.fit(\n",
    "    dataset_treino.batch(TAMANHO_LOTE),\n",
    "    validation_data=dataset_teste.batch(TAMANHO_LOTE),\n",
    "    epochs=100,\n",
    "    verbose=2    \n",
    ")"
   ]
  },
  {
   "cell_type": "code",
   "execution_count": 702,
   "metadata": {
    "ExecuteTime": {
     "end_time": "2020-06-15T23:40:17.566310Z",
     "start_time": "2020-06-15T23:40:17.331832Z"
    }
   },
   "outputs": [
    {
     "name": "stdout",
     "output_type": "stream",
     "text": [
      "\n",
      "-> Avaliando modelo/hipótese no conjunto de teste...\n",
      "\n",
      "              precision    recall  f1-score   support\n",
      "\n",
      "         OFF       1.00      1.00      1.00        20\n",
      "          ON       1.00      1.00      1.00        66\n",
      "\n",
      "    accuracy                           1.00        86\n",
      "   macro avg       1.00      1.00      1.00        86\n",
      "weighted avg       1.00      1.00      1.00        86\n",
      "\n"
     ]
    }
   ],
   "source": [
    "print()\n",
    "print(\"-> Avaliando modelo/hipótese no conjunto de teste...\")\n",
    "y_true = [amostra[1].numpy() for amostra in dataset_teste]\n",
    "y_pred = modelo.predict(dataset_teste.batch(TAMANHO_LOTE)).round()\n",
    "print()\n",
    "print(classification_report(y_pred, y_pred, target_names=(\"OFF\", \"ON\")))"
   ]
  },
  {
   "cell_type": "markdown",
   "metadata": {},
   "source": [
    "# Avaliação da Arquitetura para demais Aparelhos"
   ]
  },
  {
   "cell_type": "code",
   "execution_count": null,
   "metadata": {},
   "outputs": [],
   "source": [
    "# ..."
   ]
  },
  {
   "cell_type": "markdown",
   "metadata": {},
   "source": [
    "# Conclusões"
   ]
  },
  {
   "cell_type": "markdown",
   "metadata": {},
   "source": [
    "... TERMINAR OS TESTES, COM DEMAIS APARELHOS, CONSIDERANDO A ARQUITETURA ENCONTRADA ..."
   ]
  },
  {
   "cell_type": "markdown",
   "metadata": {
    "heading_collapsed": true
   },
   "source": [
    "# Fim."
   ]
  },
  {
   "cell_type": "code",
   "execution_count": 29,
   "metadata": {
    "ExecuteTime": {
     "end_time": "2020-05-28T15:13:24.244333Z",
     "start_time": "2020-05-28T15:13:23.582102Z"
    },
    "hidden": true
   },
   "outputs": [
    {
     "data": {
      "image/png": "[encoded data removed]",
      "text/plain": [
       "<Figure size 432x288 with 1 Axes>"
      ]
     },
     "metadata": {},
     "output_type": "display_data"
    }
   ],
   "source": [
    "X_rp = RecurrencePlot().set_params(**PARAMETROS_RP).fit_transform(X)\n",
    "plt.imshow(X_rp[0,:], cmap='viridis', origin='lower')\n",
    "plt.grid(False)"
   ]
  },
  {
   "cell_type": "code",
   "execution_count": 31,
   "metadata": {
    "ExecuteTime": {
     "end_time": "2020-05-28T15:14:15.989026Z",
     "start_time": "2020-05-28T15:14:15.502289Z"
    },
    "hidden": true
   },
   "outputs": [
    {
     "data": {
      "image/png": "[encoded data removed]",
      "text/plain": [
       "<Figure size 432x288 with 1 Axes>"
      ]
     },
     "metadata": {},
     "output_type": "display_data"
    }
   ],
   "source": [
    "PARAMETROS_RP2 = {\n",
    "    \"dimension\": 1,\n",
    "    \"time_delay\": 1,\n",
    "    \"threshold\": None,\n",
    "    \"percentage\": 10\n",
    "}\n",
    "X_rp = RecurrencePlot().set_params(**PARAMETROS_RP2).fit_transform(X)\n",
    "plt.imshow(X_rp[0,:], cmap='viridis', origin='lower')\n",
    "plt.grid(False)"
   ]
  },
  {
   "cell_type": "code",
   "execution_count": 32,
   "metadata": {
    "ExecuteTime": {
     "end_time": "2020-05-28T15:14:16.740979Z",
     "start_time": "2020-05-28T15:14:16.732003Z"
    },
    "hidden": true
   },
   "outputs": [
    {
     "data": {
      "text/plain": [
       "array([[[0.        , 0.00582504, 0.05967903, ..., 0.0553112 ,\n",
       "         0.03347778, 0.0363903 ],\n",
       "        [0.00582504, 0.        , 0.06550407, ..., 0.06113625,\n",
       "         0.03930283, 0.03056526],\n",
       "        [0.05967903, 0.06550407, 0.        , ..., 0.00436783,\n",
       "         0.02620125, 0.09606934],\n",
       "        ...,\n",
       "        [0.0553112 , 0.06113625, 0.00436783, ..., 0.        ,\n",
       "         0.02183342, 0.09170151],\n",
       "        [0.03347778, 0.03930283, 0.02620125, ..., 0.02183342,\n",
       "         0.        , 0.06986809],\n",
       "        [0.0363903 , 0.03056526, 0.09606934, ..., 0.09170151,\n",
       "         0.06986809, 0.        ]],\n",
       "\n",
       "       [[0.        , 0.05205345, 0.01862383, ..., 0.4054451 ,\n",
       "         0.41977167, 0.39064074],\n",
       "        [0.05205345, 0.        , 0.03342962, ..., 0.45749855,\n",
       "         0.47182512, 0.44269419],\n",
       "        [0.01862383, 0.03342962, 0.        , ..., 0.42406893,\n",
       "         0.4383955 , 0.40926456],\n",
       "        ...,\n",
       "        [0.4054451 , 0.45749855, 0.42406893, ..., 0.        ,\n",
       "         0.01432657, 0.01480436],\n",
       "        [0.41977167, 0.47182512, 0.4383955 , ..., 0.01432657,\n",
       "         0.        , 0.02913094],\n",
       "        [0.39064074, 0.44269419, 0.40926456, ..., 0.01480436,\n",
       "         0.02913094, 0.        ]],\n",
       "\n",
       "       [[0.        , 0.35051346, 0.12989807, ..., 0.54432678,\n",
       "         0.50721359, 0.28865814],\n",
       "        [0.35051346, 0.        , 0.48041153, ..., 0.89484024,\n",
       "         0.85772705, 0.6391716 ],\n",
       "        [0.12989807, 0.48041153, 0.        , ..., 0.41442871,\n",
       "         0.37731552, 0.15876007],\n",
       "        ...,\n",
       "        [0.54432678, 0.89484024, 0.41442871, ..., 0.        ,\n",
       "         0.03711319, 0.25566864],\n",
       "        [0.50721359, 0.85772705, 0.37731552, ..., 0.03711319,\n",
       "         0.        , 0.21855545],\n",
       "        [0.28865814, 0.6391716 , 0.15876007, ..., 0.25566864,\n",
       "         0.21855545, 0.        ]],\n",
       "\n",
       "       ...,\n",
       "\n",
       "       [[0.        , 0.19811249, 0.16038132, ..., 0.44339752,\n",
       "         0.32547379, 0.32547379],\n",
       "        [0.19811249, 0.        , 0.03773117, ..., 0.24528503,\n",
       "         0.1273613 , 0.1273613 ],\n",
       "        [0.16038132, 0.03773117, 0.        , ..., 0.2830162 ,\n",
       "         0.16509247, 0.16509247],\n",
       "        ...,\n",
       "        [0.44339752, 0.24528503, 0.2830162 , ..., 0.        ,\n",
       "         0.11792374, 0.11792374],\n",
       "        [0.32547379, 0.1273613 , 0.16509247, ..., 0.11792374,\n",
       "         0.        , 0.        ],\n",
       "        [0.32547379, 0.1273613 , 0.16509247, ..., 0.11792374,\n",
       "         0.        , 0.        ]],\n",
       "\n",
       "       [[0.        , 0.91060829, 0.92967796, ..., 0.72467232,\n",
       "         0.63170242, 0.66865349],\n",
       "        [0.91060829, 0.        , 0.01906967, ..., 0.18593597,\n",
       "         0.27890587, 0.2419548 ],\n",
       "        [0.92967796, 0.01906967, 0.        , ..., 0.20500565,\n",
       "         0.29797554, 0.26102448],\n",
       "        ...,\n",
       "        [0.72467232, 0.18593597, 0.20500565, ..., 0.        ,\n",
       "         0.09296989, 0.05601883],\n",
       "        [0.63170242, 0.27890587, 0.29797554, ..., 0.09296989,\n",
       "         0.        , 0.03695107],\n",
       "        [0.66865349, 0.2419548 , 0.26102448, ..., 0.05601883,\n",
       "         0.03695107, 0.        ]],\n",
       "\n",
       "       [[0.        , 0.08457184, 0.04975891, ..., 0.27362823,\n",
       "         0.14428711, 0.2935257 ],\n",
       "        [0.08457184, 0.        , 0.13433075, ..., 0.1890564 ,\n",
       "         0.22885895, 0.20895386],\n",
       "        [0.04975891, 0.13433075, 0.        , ..., 0.32338715,\n",
       "         0.0945282 , 0.34328461],\n",
       "        ...,\n",
       "        [0.27362823, 0.1890564 , 0.32338715, ..., 0.        ,\n",
       "         0.41791534, 0.01989746],\n",
       "        [0.14428711, 0.22885895, 0.0945282 , ..., 0.41791534,\n",
       "         0.        , 0.43781281],\n",
       "        [0.2935257 , 0.20895386, 0.34328461, ..., 0.01989746,\n",
       "         0.43781281, 0.        ]]])"
      ]
     },
     "execution_count": 32,
     "metadata": {},
     "output_type": "execute_result"
    }
   ],
   "source": [
    "X_rp"
   ]
  },
  {
   "cell_type": "code",
   "execution_count": 39,
   "metadata": {
    "ExecuteTime": {
     "end_time": "2020-05-28T15:14:58.235045Z",
     "start_time": "2020-05-28T15:14:58.229052Z"
    },
    "hidden": true
   },
   "outputs": [
    {
     "data": {
      "text/plain": [
       "0.0"
      ]
     },
     "execution_count": 39,
     "metadata": {},
     "output_type": "execute_result"
    }
   ],
   "source": [
    "X_rp[0,:].min()"
   ]
  },
  {
   "cell_type": "code",
   "execution_count": null,
   "metadata": {
    "hidden": true
   },
   "outputs": [],
   "source": []
  }
 ],
 "metadata": {
  "hide_input": false,
  "kernelspec": {
   "display_name": "Python (doutorado)",
   "language": "python",
   "name": "doutorado"
  },
  "language_info": {
   "codemirror_mode": {
    "name": "ipython",
    "version": 3
   },
   "file_extension": ".py",
   "mimetype": "text/x-python",
   "name": "python",
   "nbconvert_exporter": "python",
   "pygments_lexer": "ipython3",
   "version": "3.6.7"
  },
  "toc": {
   "base_numbering": 1,
   "nav_menu": {},
   "number_sections": true,
   "sideBar": true,
   "skip_h1_title": false,
   "title_cell": "Table of Contents",
   "title_sidebar": "Contents",
   "toc_cell": false,
   "toc_position": {},
   "toc_section_display": true,
   "toc_window_display": false
  },
  "varInspector": {
   "cols": {
    "lenName": 16,
    "lenType": 16,
    "lenVar": 40
   },
   "kernels_config": {
    "python": {
     "delete_cmd_postfix": "",
     "delete_cmd_prefix": "del ",
     "library": "var_list.py",
     "varRefreshCmd": "print(var_dic_list())"
    },
    "r": {
     "delete_cmd_postfix": ") ",
     "delete_cmd_prefix": "rm(",
     "library": "var_list.r",
     "varRefreshCmd": "cat(var_dic_list()) "
    }
   },
   "types_to_exclude": [
    "module",
    "function",
    "builtin_function_or_method",
    "instance",
    "_Feature"
   ],
   "window_display": false
  }
 },
 "nbformat": 4,
 "nbformat_minor": 2
}

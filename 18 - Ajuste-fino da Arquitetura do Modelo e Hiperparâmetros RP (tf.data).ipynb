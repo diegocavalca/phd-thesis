{
 "cells": [
  {
   "cell_type": "markdown",
   "metadata": {},
   "source": [
    "# Ajuste-fino da Arquitetura do Modelo e Hiperparâmetros RP"
   ]
  },
  {
   "cell_type": "markdown",
   "metadata": {},
   "source": [
    "Com o estudo anterior (17), consolidamos a melhor `Taxa de Amostragem (= 5)` e o melhor `Tamanho de Janela` para cada aparelho da `residência 3` na base REDD.\n",
    "\n",
    "Apesar de resultados satisfatórios, o processo de otimização considerou um pipeline canônico, escolhido aleatoriamente, composto de:\n",
    "* Um conversor de séries em imagens baseado em Gráfico de Recorrência;\n",
    "* Um modelo classificador baseado em CNN.\n",
    "\n",
    "Neste sentido, a adoção de uma estratégia sistemática para escolha da arquitetura do modelo classificador e explotar diferentes combinações de hiperparâmetros do Gráfico de recorrência tendem a culminar em resultados de ponta para a identificação de cargas.\n",
    "\n",
    "Portanto, neste estudo temos os seguintes objetivos:\n",
    "1. Construir um modelo baseado em Deep Learning utilizando um arcabouço sistemático;\n",
    "2. Varrer um conjunto discreto de valores combinatórios dos hiperparâmetros do RP."
   ]
  },
  {
   "cell_type": "markdown",
   "metadata": {},
   "source": [
    "# Configurações"
   ]
  },
  {
   "cell_type": "code",
   "execution_count": 1,
   "metadata": {
    "ExecuteTime": {
     "end_time": "2020-06-16T19:25:34.186452Z",
     "start_time": "2020-06-16T19:25:32.527888Z"
    }
   },
   "outputs": [],
   "source": [
    "import os\n",
    "import sys\n",
    "import gc\n",
    "from pprint import pprint\n",
    "from collections import Counter\n",
    "import copy\n",
    "import warnings\n",
    "warnings.filterwarnings(action=\"ignore\")\n",
    "\n",
    "import numpy as np\n",
    "import pandas as pd\n",
    "from matplotlib import pyplot as plt\n",
    "from IPython.display import display\n",
    "\n",
    "# TODO: implementar rotina na classe PyNILM.utils\n",
    "def sizeof_fmt(num, suffix='B'):\n",
    "    ''' by Fred Cirera,  https://stackoverflow.com/a/1094933/1870254, modified'''\n",
    "    for unit in ['','Ki','Mi','Gi','Ti','Pi','Ei','Zi']:\n",
    "        if abs(num) < 1024.0:\n",
    "            return \"%3.1f %s%s\" % (num, unit, suffix)\n",
    "        num /= 1024.0\n",
    "    return \"%.1f %s%s\" % (num, 'Yi', suffix)\n",
    "\n",
    "def listar_variaveis_memoria(ambiente):\n",
    "    print(\"* Variáveis instanciadas em memória:\")\n",
    "    print(\"---\")\n",
    "    total = 0\n",
    "    for name, size in sorted(((name, sys.getsizeof(value)) for name, value in ambiente.items()),\n",
    "                             key= lambda x: -x[1])[:10]:\n",
    "        total += size\n",
    "        print(\"{:>30}: {:>8}\".format(name, sizeof_fmt(size)))\n",
    "    print(\"---\")\n",
    "    print(\"Total:\", sizeof_fmt(total))\n",
    "    \n",
    "# TODO: implementar na classe utils\n",
    "def highlight_col(x):\n",
    "    r = 'background-color: #D9D9D9'\n",
    "    df1 = pd.DataFrame('', index=x.index, columns=x.columns)\n",
    "    df1.iloc[:, -2] = r\n",
    "    return df1   "
   ]
  },
  {
   "cell_type": "code",
   "execution_count": 2,
   "metadata": {
    "ExecuteTime": {
     "end_time": "2020-06-16T19:25:34.273257Z",
     "start_time": "2020-06-16T19:25:34.202410Z"
    }
   },
   "outputs": [],
   "source": [
    "# CONSTANTES FUNDAMENTAIS DE ORGANIZACAO DE PASTAS/ARQUIVOS\n",
    "\n",
    "# Path do arquivo H5 (base REDD ja preparada p/ NILMTK) e outros insumos fundamentais\n",
    "caminho_dados = \"D:/Projetos/phd-thesis/datasets/\"\n",
    "\n",
    "# Definir diretorios onde iremos salvar os insumos gerados do notebook (dados, imagens, etc.)\n",
    "caminho_dados_notebook = os.path.join(caminho_dados, \"18\") # Num. notebook\n",
    "if not os.path.isdir(caminho_dados_notebook):\n",
    "    os.makedirs(caminho_dados_notebook)\n",
    "caminho_imagens_notebook = os.path.join(caminho_dados_notebook, \"imagens\") # Num. notebook\n",
    "if not os.path.isdir(caminho_imagens_notebook):\n",
    "    os.makedirs(caminho_imagens_notebook)\n",
    "\n",
    "# Path do arquivo H5 (base REDD ja preparada p/ NILMTK)\n",
    "caminho_redd = os.path.join(caminho_dados, \"REDD/low_freq\")\n",
    "\n",
    "# Path completo do arquivo REDD\n",
    "arquivo_dataset = os.path.join(caminho_redd, \"redd.h5\")\n",
    "\n",
    "# VARIAVEL AUXILIAR\n",
    "# Path dos arquivos relacionados as janelas\n",
    "caminho_janelas = os.path.join(caminho_redd, \"../../phd\")\n",
    "if not os.path.isdir(caminho_janelas):\n",
    "    os.makedirs(caminho_janelas)"
   ]
  },
  {
   "cell_type": "markdown",
   "metadata": {},
   "source": [
    "# Dados"
   ]
  },
  {
   "cell_type": "markdown",
   "metadata": {},
   "source": [
    "## Base REDD"
   ]
  },
  {
   "cell_type": "code",
   "execution_count": 3,
   "metadata": {
    "ExecuteTime": {
     "end_time": "2020-06-16T19:25:39.736614Z",
     "start_time": "2020-06-16T19:25:36.892218Z"
    }
   },
   "outputs": [
    {
     "name": "stdout",
     "output_type": "stream",
     "text": [
      "NILMTK -> Detalhes sobre o dataset REDD:\n"
     ]
    },
    {
     "data": {
      "text/html": [
       "<ul><li><strong>name</strong>: REDD</li><li><strong>long_name</strong>: The Reference Energy Disaggregation Data set</li><li><strong>creators</strong>: <ul><li>Kolter, Zico</li><li>Johnson, Matthew</li></ul></li><li><strong>publication_date</strong>: 2011</li><li><strong>institution</strong>: Massachusetts Institute of Technology (MIT)</li><li><strong>contact</strong>: zkolter@cs.cmu.edu</li><li><strong>description</strong>: Several weeks of power data for 6 different homes.</li><li><strong>subject</strong>: Disaggregated power demand from domestic buildings.</li><li><strong>number_of_buildings</strong>: 6</li><li><strong>timezone</strong>: US/Eastern</li><li><strong>geo_location</strong>: <ul><li><strong>locality</strong>: Massachusetts</li><li><strong>country</strong>: US</li><li><strong>latitude</strong>: 42.360091</li><li><strong>longitude</strong>: -71.09416</li></ul></li><li><strong>related_documents</strong>: <ul><li><a href=\"http://redd.csail.mit.edu\">http://redd.csail.mit.edu</a></li><li>J. Zico Kolter and Matthew J. Johnson. REDD: A public data set for energy disaggregation research. In proceedings of the SustKDD workshop on Data Mining Applications in Sustainability, 2011. <a href=\"http://redd.csail.mit.edu/kolter-kddsust11.pdf\">http://redd.csail.mit.edu/kolter-kddsust11.pdf</a>\n",
       "</li></ul></li><li><strong>schema</strong>: <a href=\"https://github.com/nilmtk/nilm_metadata/tree/v0.2\">https://github.com/nilmtk/nilm_metadata/tree/v0.2</a></li><li><strong>meter_devices</strong>: <ul><li><strong>eMonitor</strong>: <ul><li><strong>model</strong>: eMonitor</li><li><strong>manufacturer</strong>: Powerhouse Dynamics</li><li><strong>manufacturer_url</strong>: <a href=\"http://powerhousedynamics.com\">http://powerhousedynamics.com</a></li><li><strong>description</strong>: Measures circuit-level power demand.  Comes with 24 CTs. This FAQ page suggests the eMonitor measures real (active) power: <a href=\"http://www.energycircle.com/node/14103\">http://www.energycircle.com/node/14103</a>  although the REDD readme.txt says all channels record apparent power.\n",
       "</li><li><strong>sample_period</strong>: 3</li><li><strong>max_sample_period</strong>: 50</li><li><strong>measurements</strong>: <ul><li>{'physical_quantity': 'power', 'type': 'active', 'upper_limit': 5000, 'lower_limit': 0}</li></ul></li><li><strong>wireless</strong>: False</li></ul></li><li><strong>REDD_whole_house</strong>: <ul><li><strong>description</strong>: REDD's DIY power meter used to measure whole-home AC waveforms at high frequency.  To quote from their paper: \"CTs from TED (<a href=\"http://www.theenergydetective.com\">http://www.theenergydetective.com</a>) to measure current in the power mains, a Pico TA041 oscilloscope probe (<a href=\"http://www.picotechnologies.com\">http://www.picotechnologies.com</a>) to measure voltage for one of the two phases in the home, and a National Instruments NI-9239 analog to digital converter to transform both these analog signals to digital readings. This A/D converter has 24 bit resolution with noise of approximately 70 ÂµV, which determines the noise level of our current and voltage readings: the TED CTs are rated for 200 amp circuits and a maximum of 3 volts, so we are able to differentiate between currents of approximately ((200))(70 Ã— 10âˆ’6)/(3) = 4.66mA, corresponding to power changes of about 0.5 watts. Similarly, since we use a 1:100 voltage stepdown in the oscilloscope probe, we can detect voltage differences of about 7mV.\"\n",
       "</li><li><strong>sample_period</strong>: 1</li><li><strong>max_sample_period</strong>: 30</li><li><strong>measurements</strong>: <ul><li>{'physical_quantity': 'power', 'type': 'apparent', 'upper_limit': 50000, 'lower_limit': 0}</li></ul></li><li><strong>wireless</strong>: False</li></ul></li></ul></li></ul>"
      ],
      "text/plain": [
       "<IPython.core.display.HTML object>"
      ]
     },
     "metadata": {},
     "output_type": "display_data"
    },
    {
     "name": "stdout",
     "output_type": "stream",
     "text": [
      "\n",
      "PARÂMETROS DO ESTUDO:\n",
      "{'base': <nilmtk.dataset.DataSet object at 0x000001DA8D9E3B70>,\n",
      " 'debug': False,\n",
      " 'fim_intervalo': '2011-04-23 08:43:26',\n",
      " 'id_residencia': 3,\n",
      " 'inicio_intervalo': '2011-04-16 05:11:30'}\n"
     ]
    }
   ],
   "source": [
    "# Exemplo de carregamento da base REDD no NILMTK\n",
    "from nilmtk import DataSet\n",
    "from nilmtk.utils import print_dict\n",
    "from nilmtk.dataset_converters import convert_redd\n",
    "\n",
    "from sklearn.preprocessing import MinMaxScaler, StandardScaler\n",
    "\n",
    "from PyNILM.dados.janelas import Janelas\n",
    "\n",
    "# Gerar arquivo H5 (Nilmtk) do dataset REDD, caso n exista\n",
    "if not os.path.isfile(arquivo_dataset):\n",
    "    print(\"Gerando arquivo H5 (NILMTK) da base REDD, aguarde...\")\n",
    "    print(\"-----\")\n",
    "    convert_redd(caminho_redd, arquivo_dataset)\n",
    "\n",
    "# Carregando dataset REDD no objeto NILMTK\n",
    "redd = DataSet(arquivo_dataset)\n",
    "print(\"NILMTK -> Detalhes sobre o dataset REDD:\")\n",
    "print_dict(redd.metadata)\n",
    "print()\n",
    "\n",
    "# Parametros dos dados\n",
    "PARAMETROS_DATASET = {\n",
    "    \"base\":redd,\n",
    "    \"id_residencia\":3,\n",
    "    \"inicio_intervalo\":'2011-04-16 05:11:30',\n",
    "    \"fim_intervalo\":'2011-04-23 08:43:26',\n",
    "    \"debug\": False    \n",
    "}\n",
    "print(\"PARÂMETROS DO ESTUDO:\")\n",
    "pprint(PARAMETROS_DATASET)"
   ]
  },
  {
   "cell_type": "markdown",
   "metadata": {},
   "source": [
    "## Melhores Janelas para cada aparelho (estudo 17)"
   ]
  },
  {
   "cell_type": "code",
   "execution_count": 4,
   "metadata": {
    "ExecuteTime": {
     "end_time": "2020-06-16T19:25:39.852306Z",
     "start_time": "2020-06-16T19:25:39.752572Z"
    }
   },
   "outputs": [
    {
     "data": {
      "text/html": [
       "<div>\n",
       "<style scoped>\n",
       "    .dataframe tbody tr th:only-of-type {\n",
       "        vertical-align: middle;\n",
       "    }\n",
       "\n",
       "    .dataframe tbody tr th {\n",
       "        vertical-align: top;\n",
       "    }\n",
       "\n",
       "    .dataframe thead th {\n",
       "        text-align: right;\n",
       "    }\n",
       "</style>\n",
       "<table border=\"1\" class=\"dataframe\">\n",
       "  <thead>\n",
       "    <tr style=\"text-align: right;\">\n",
       "      <th></th>\n",
       "      <th>taxa_amostragem</th>\n",
       "      <th>carga</th>\n",
       "      <th>janela</th>\n",
       "      <th>loss</th>\n",
       "      <th>acuracia</th>\n",
       "      <th>f1_macro</th>\n",
       "    </tr>\n",
       "  </thead>\n",
       "  <tbody>\n",
       "    <tr>\n",
       "      <th>0</th>\n",
       "      <td>5</td>\n",
       "      <td>sockets - 3</td>\n",
       "      <td>1080</td>\n",
       "      <td>0.103</td>\n",
       "      <td>93.10</td>\n",
       "      <td>73.15</td>\n",
       "    </tr>\n",
       "    <tr>\n",
       "      <th>1</th>\n",
       "      <td>5</td>\n",
       "      <td>sockets - 4</td>\n",
       "      <td>30</td>\n",
       "      <td>0.000</td>\n",
       "      <td>100.00</td>\n",
       "      <td>100.00</td>\n",
       "    </tr>\n",
       "    <tr>\n",
       "      <th>2</th>\n",
       "      <td>5</td>\n",
       "      <td>light - 5</td>\n",
       "      <td>1080</td>\n",
       "      <td>0.018</td>\n",
       "      <td>100.00</td>\n",
       "      <td>100.00</td>\n",
       "    </tr>\n",
       "    <tr>\n",
       "      <th>3</th>\n",
       "      <td>5</td>\n",
       "      <td>ce_appliance - 6</td>\n",
       "      <td>360</td>\n",
       "      <td>0.000</td>\n",
       "      <td>100.00</td>\n",
       "      <td>100.00</td>\n",
       "    </tr>\n",
       "    <tr>\n",
       "      <th>4</th>\n",
       "      <td>5</td>\n",
       "      <td>fridge - 7</td>\n",
       "      <td>360</td>\n",
       "      <td>0.000</td>\n",
       "      <td>100.00</td>\n",
       "      <td>100.00</td>\n",
       "    </tr>\n",
       "    <tr>\n",
       "      <th>5</th>\n",
       "      <td>5</td>\n",
       "      <td>waste_disposal_unit - 8</td>\n",
       "      <td>30</td>\n",
       "      <td>0.099</td>\n",
       "      <td>99.81</td>\n",
       "      <td>49.95</td>\n",
       "    </tr>\n",
       "    <tr>\n",
       "      <th>6</th>\n",
       "      <td>5</td>\n",
       "      <td>dish_washer - 9</td>\n",
       "      <td>60</td>\n",
       "      <td>0.092</td>\n",
       "      <td>97.67</td>\n",
       "      <td>74.40</td>\n",
       "    </tr>\n",
       "    <tr>\n",
       "      <th>7</th>\n",
       "      <td>5</td>\n",
       "      <td>electric_furnace - 10</td>\n",
       "      <td>30</td>\n",
       "      <td>1.154</td>\n",
       "      <td>90.70</td>\n",
       "      <td>82.94</td>\n",
       "    </tr>\n",
       "    <tr>\n",
       "      <th>8</th>\n",
       "      <td>5</td>\n",
       "      <td>light - 11</td>\n",
       "      <td>30</td>\n",
       "      <td>7.155</td>\n",
       "      <td>82.76</td>\n",
       "      <td>79.20</td>\n",
       "    </tr>\n",
       "    <tr>\n",
       "      <th>9</th>\n",
       "      <td>5</td>\n",
       "      <td>sockets - 12</td>\n",
       "      <td>30</td>\n",
       "      <td>2.086</td>\n",
       "      <td>85.96</td>\n",
       "      <td>67.43</td>\n",
       "    </tr>\n",
       "    <tr>\n",
       "      <th>10</th>\n",
       "      <td>5</td>\n",
       "      <td>washer_dryer - 13</td>\n",
       "      <td>60</td>\n",
       "      <td>0.034</td>\n",
       "      <td>99.22</td>\n",
       "      <td>92.11</td>\n",
       "    </tr>\n",
       "    <tr>\n",
       "      <th>11</th>\n",
       "      <td>5</td>\n",
       "      <td>washer_dryer - 14</td>\n",
       "      <td>30</td>\n",
       "      <td>0.435</td>\n",
       "      <td>98.25</td>\n",
       "      <td>82.88</td>\n",
       "    </tr>\n",
       "    <tr>\n",
       "      <th>12</th>\n",
       "      <td>5</td>\n",
       "      <td>light - 15</td>\n",
       "      <td>30</td>\n",
       "      <td>0.000</td>\n",
       "      <td>100.00</td>\n",
       "      <td>100.00</td>\n",
       "    </tr>\n",
       "    <tr>\n",
       "      <th>13</th>\n",
       "      <td>5</td>\n",
       "      <td>microwave - 16</td>\n",
       "      <td>30</td>\n",
       "      <td>0.032</td>\n",
       "      <td>99.22</td>\n",
       "      <td>71.23</td>\n",
       "    </tr>\n",
       "    <tr>\n",
       "      <th>14</th>\n",
       "      <td>5</td>\n",
       "      <td>light - 17</td>\n",
       "      <td>30</td>\n",
       "      <td>1.932</td>\n",
       "      <td>88.57</td>\n",
       "      <td>88.33</td>\n",
       "    </tr>\n",
       "    <tr>\n",
       "      <th>15</th>\n",
       "      <td>5</td>\n",
       "      <td>smoke_alarm - 18</td>\n",
       "      <td>30</td>\n",
       "      <td>0.011</td>\n",
       "      <td>99.90</td>\n",
       "      <td>49.98</td>\n",
       "    </tr>\n",
       "    <tr>\n",
       "      <th>16</th>\n",
       "      <td>5</td>\n",
       "      <td>light - 19</td>\n",
       "      <td>30</td>\n",
       "      <td>2.895</td>\n",
       "      <td>89.66</td>\n",
       "      <td>89.45</td>\n",
       "    </tr>\n",
       "    <tr>\n",
       "      <th>17</th>\n",
       "      <td>5</td>\n",
       "      <td>unknown - 20</td>\n",
       "      <td>30</td>\n",
       "      <td>0.741</td>\n",
       "      <td>89.66</td>\n",
       "      <td>80.27</td>\n",
       "    </tr>\n",
       "  </tbody>\n",
       "</table>\n",
       "</div>"
      ],
      "text/plain": [
       "    taxa_amostragem                    carga  janela   loss  acuracia  \\\n",
       "0                 5              sockets - 3    1080  0.103     93.10   \n",
       "1                 5              sockets - 4      30  0.000    100.00   \n",
       "2                 5                light - 5    1080  0.018    100.00   \n",
       "3                 5         ce_appliance - 6     360  0.000    100.00   \n",
       "4                 5               fridge - 7     360  0.000    100.00   \n",
       "5                 5  waste_disposal_unit - 8      30  0.099     99.81   \n",
       "6                 5          dish_washer - 9      60  0.092     97.67   \n",
       "7                 5    electric_furnace - 10      30  1.154     90.70   \n",
       "8                 5               light - 11      30  7.155     82.76   \n",
       "9                 5             sockets - 12      30  2.086     85.96   \n",
       "10                5        washer_dryer - 13      60  0.034     99.22   \n",
       "11                5        washer_dryer - 14      30  0.435     98.25   \n",
       "12                5               light - 15      30  0.000    100.00   \n",
       "13                5           microwave - 16      30  0.032     99.22   \n",
       "14                5               light - 17      30  1.932     88.57   \n",
       "15                5         smoke_alarm - 18      30  0.011     99.90   \n",
       "16                5               light - 19      30  2.895     89.66   \n",
       "17                5             unknown - 20      30  0.741     89.66   \n",
       "\n",
       "    f1_macro  \n",
       "0      73.15  \n",
       "1     100.00  \n",
       "2     100.00  \n",
       "3     100.00  \n",
       "4     100.00  \n",
       "5      49.95  \n",
       "6      74.40  \n",
       "7      82.94  \n",
       "8      79.20  \n",
       "9      67.43  \n",
       "10     92.11  \n",
       "11     82.88  \n",
       "12    100.00  \n",
       "13     71.23  \n",
       "14     88.33  \n",
       "15     49.98  \n",
       "16     89.45  \n",
       "17     80.27  "
      ]
     },
     "execution_count": 4,
     "metadata": {},
     "output_type": "execute_result"
    }
   ],
   "source": [
    "df_melhores_janelas = pd.read_csv(os.path.join(caminho_dados, \"17\", \"taxa_5-melhoresjanelas.csv\"))\n",
    "df_melhores_janelas"
   ]
  },
  {
   "cell_type": "markdown",
   "metadata": {},
   "source": [
    "# Construção da Arquitetura do Modelo de DL\n",
    "---\n",
    "\n",
    "Nesta etapa, iremos considerar apenas um aparelho a fim de direcionar os esforços de modo eficiente. Sendo assim, iremos escolher o aparelho com base em dois parâmetros: 1) os que mais consomem energia na medição histórica (dentre as cinco do paper IEEE); e 2) que possui maior equilíbrio nas amostras (visando avaliação mais justa)."
   ]
  },
  {
   "cell_type": "code",
   "execution_count": 5,
   "metadata": {
    "ExecuteTime": {
     "end_time": "2020-06-16T19:27:12.014317Z",
     "start_time": "2020-06-16T19:27:02.502748Z"
    }
   },
   "outputs": [
    {
     "name": "stdout",
     "output_type": "stream",
     "text": [
      "# GPUs habilitadas: 1 física(s) / 1 lógica(s)\n"
     ]
    }
   ],
   "source": [
    "# from PyNILM.dados.janelas import Janelas\n",
    "\n",
    "from PyNILM.avaliacao.metricas import *\n",
    "from PyNILM.avaliacao.graficos import *\n",
    "from PyNILM.avaliacao.analises import *\n",
    "\n",
    "from sklearn.model_selection import train_test_split\n",
    "\n",
    "from pyts.image import RecurrencePlot\n",
    "\n",
    "import tensorflow as tf\n",
    "# from tensorflow import keras\n",
    "from tensorflow.keras.models import Sequential\n",
    "from tensorflow.keras.layers import Dense, Dropout, Flatten\n",
    "from tensorflow.keras.layers import Conv2D, Conv1D, MaxPooling2D, MaxPool1D\n",
    "# from tensorflow.keras.utils import to_categorical\n",
    "# from tensorflow.keras import backend as K\n",
    "# from tensorflow.keras.callbacks import EarlyStopping, ModelCheckpoint, TensorBoard\n",
    "\n",
    "\n",
    "from pyts.image import RecurrencePlot, GramianAngularField\n",
    "\n",
    "# Garantindo reprodutibilidade\n",
    "import random as rn\n",
    "# Constantes dos experimentos\n",
    "SEED = 33\n",
    "FRACAO_TESTE = 0.25\n",
    "EPOCAS = 100\n",
    "TAMANHO_LOTE = 32\n",
    "VERBOSIDADE = 0\n",
    "PARAMETROS_RP = {\n",
    "    \"dimension\": 1,\n",
    "    \"time_delay\": 1,\n",
    "    \"threshold\": None,\n",
    "    \"percentage\": 10\n",
    "}\n",
    "# PARAMETROS_RP={\n",
    "#     \"dimension\": 3,\n",
    "#     \"time_delay\": 8,\n",
    "#     \"threshold\": 0.1\n",
    "# }\n",
    "# Travar Seed's\n",
    "os.environ[\"CUDA_DEVICE_ORDER\"] = \"PCI_BUS_ID\"\n",
    "os.environ[\"CUDA_VISIBLE_DEVICES\"] = \"\"\n",
    "np.random.seed(SEED)\n",
    "rn.seed(SEED)\n",
    "os.environ['PYTHONHASHSEED']=str(SEED)\n",
    "tf.random.set_seed(SEED)\n",
    "\n",
    "# Habilitando/limitando utilização de GPUs\n",
    "gpus = tf.config.experimental.list_physical_devices('GPU')\n",
    "if gpus:\n",
    "    # Restrict TensorFlow to only allocate 4GB of memory on the first GPU\n",
    "    try:\n",
    "        tf.config.experimental.set_virtual_device_configuration(\n",
    "            gpus[0],\n",
    "            [tf.config.experimental.VirtualDeviceConfiguration(memory_limit=1024*0.5)]\n",
    "        )\n",
    "        logical_gpus = tf.config.experimental.list_logical_devices('GPU')\n",
    "        print(\"# GPUs habilitadas:\", \"{} física(s)\".format(len(gpus)), \"/\", \"{} lógica(s)\".format(len(gpus)))\n",
    "    except RuntimeError as e:\n",
    "        # Virtual devices must be set before GPUs have been initialized\n",
    "        print(e)"
   ]
  },
  {
   "cell_type": "markdown",
   "metadata": {},
   "source": [
    "## Selecionando os dados de um dos aparelhos"
   ]
  },
  {
   "cell_type": "code",
   "execution_count": 7,
   "metadata": {
    "ExecuteTime": {
     "end_time": "2020-06-16T19:28:53.965771Z",
     "start_time": "2020-06-16T19:28:38.853199Z"
    }
   },
   "outputs": [
    {
     "name": "stdout",
     "output_type": "stream",
     "text": [
      "* `FRIDGE - 7` / taxa=5 e janela=360 / f1=100.0...\n",
      "Meter 13 is in a nested meter group. Retrieving just the ElecMeter.\n",
      "Meter 14 is in a nested meter group. Retrieving just the ElecMeter.\n",
      "\n",
      "  -> Distribuição: {1: 266, 0: 77} (índice de equilíbrio = 28.95%)\n",
      "\n",
      "* `DISH_WASHER - 9` / taxa=5 e janela=60 / f1=74.4...\n",
      "Meter 13 is in a nested meter group. Retrieving just the ElecMeter.\n",
      "Meter 14 is in a nested meter group. Retrieving just the ElecMeter.\n",
      "\n",
      "  -> Distribuição: {0: 2031, 1: 27} (índice de equilíbrio = 1.33%)\n",
      "\n",
      "* `WASHER_DRYER - 13` / taxa=5 e janela=60 / f1=92.11...\n",
      "Meter 13 is in a nested meter group. Retrieving just the ElecMeter.\n",
      "Meter 14 is in a nested meter group. Retrieving just the ElecMeter.\n",
      "\n",
      "  -> Distribuição: {0: 2011, 1: 47} (índice de equilíbrio = 2.34%)\n",
      "\n",
      "* `WASHER_DRYER - 14` / taxa=5 e janela=30 / f1=82.88...\n",
      "Meter 13 is in a nested meter group. Retrieving just the ElecMeter.\n",
      "Meter 14 is in a nested meter group. Retrieving just the ElecMeter.\n",
      "\n",
      "  -> Distribuição: {0: 3988, 1: 128} (índice de equilíbrio = 3.21%)\n",
      "\n",
      "* `MICROWAVE - 16` / taxa=5 e janela=30 / f1=71.23...\n",
      "Meter 13 is in a nested meter group. Retrieving just the ElecMeter.\n",
      "Meter 14 is in a nested meter group. Retrieving just the ElecMeter.\n",
      "\n",
      "  -> Distribuição: {0: 4071, 1: 45} (índice de equilíbrio = 1.11%)\n",
      "\n"
     ]
    }
   ],
   "source": [
    "# Escolhendo aparelho (conforme enunciado)\n",
    "# -------------------\n",
    "\n",
    "# Intervalo de tempo e residencia considerados na base REDD\n",
    "janelas = Janelas(**PARAMETROS_DATASET)\n",
    "\n",
    "# 1) Para cada aparelho dos considerados no paper IEE GM\n",
    "for i, r in df_melhores_janelas.loc[\n",
    "    (df_melhores_janelas[\"carga\"].isin([\n",
    "                \"fridge - 7\", \"dish_washer - 9\", \"washer_dryer - 13\", \n",
    "                \"washer_dryer - 14\", \"microwave - 16\"\n",
    "            ])), :\n",
    "].iterrows():\n",
    "    \n",
    "    # Informacoes da carga (nome, id, taxa e janela)\n",
    "    carga = r[\"carga\"].split(\" - \")[0]\n",
    "    instancia = int(r[\"carga\"].split(\" - \")[1])\n",
    "    taxa = r[\"taxa_amostragem\"]\n",
    "    janela = r[\"janela\"]\n",
    "    print(f\"* `{r['carga'].upper()}` / taxa={taxa} e janela={janela} / f1={r['f1_macro']}...\")\n",
    "          \n",
    "    # 2) Carregar dados e verificar distribuição DA CARGA / JANELA\n",
    "    \n",
    "    # Extrair series divididas em janelas para cada medidor\n",
    "    dados_cargas = janelas.preparar(taxa_amostral=taxa, intervalo_medicao=janela)\n",
    "    print()\n",
    "    \n",
    "    # Escolhendo apenas dados do aparelho\n",
    "    dados_aparelho = janelas.filtrar_cargas(dados_cargas, filtros=[(instancia, carga)])\n",
    "    # Analise dos dados\n",
    "    distribuicao = dict(Counter(dados_aparelho[0][\"rotulos\"][\"estado\"]))\n",
    "    maioritaria = max(distribuicao, key=distribuicao.get)\n",
    "    minoritaria = 1 - maioritaria\n",
    "    print(\n",
    "        \"  -> Distribuição:\", distribuicao, \n",
    "        \"(índice de equilíbrio = {:.2f}%)\".format(\n",
    "            (distribuicao[minoritaria]/distribuicao[maioritaria])*100\n",
    "        )\n",
    "    )\n",
    "\n",
    "    print()"
   ]
  },
  {
   "cell_type": "markdown",
   "metadata": {},
   "source": [
    "**NOTA:** será selecionado o aparelho `MICROWAVE - 16`, dado que este é o que possui o menor desempenho considerando o f1-score (macro)."
   ]
  },
  {
   "cell_type": "markdown",
   "metadata": {},
   "source": [
    "## Preparando os dados do aparelho selecionado "
   ]
  },
  {
   "cell_type": "code",
   "execution_count": 23,
   "metadata": {
    "ExecuteTime": {
     "end_time": "2020-06-16T19:32:08.648315Z",
     "start_time": "2020-06-16T19:32:05.331185Z"
    }
   },
   "outputs": [
    {
     "name": "stdout",
     "output_type": "stream",
     "text": [
      "Meter 13 is in a nested meter group. Retrieving just the ElecMeter.\n",
      "Meter 14 is in a nested meter group. Retrieving just the ElecMeter.\n",
      "\n"
     ]
    },
    {
     "data": {
      "image/png": "[encoded data removed]",
      "text/plain": [
       "<Figure size 1440x288 with 5 Axes>"
      ]
     },
     "metadata": {},
     "output_type": "display_data"
    }
   ],
   "source": [
    "# Constantes referente aos dados da carga selecionada\n",
    "TAXA = 5\n",
    "TAMANHO_JANELA = 30\n",
    "\n",
    "# Extrair series divididas em janelas para cada medidor\n",
    "dados_cargas = janelas.preparar(\n",
    "    taxa_amostral=TAXA, \n",
    "    intervalo_medicao=TAMANHO_JANELA\n",
    ")\n",
    "print()\n",
    "dados_aparelho = janelas.filtrar_cargas(dados_cargas, filtros=[(16, \"microwave\")])[0]\n",
    "\n",
    "# Fazendo split dos dados (treino/teste)\n",
    "X_treino, X_teste, y_treino, y_teste = train_test_split(\n",
    "    dados_aparelho[\"janelas\"], dados_aparelho[\"rotulos\"][\"estado\"],\n",
    "    test_size=FRACAO_TESTE,\n",
    "    stratify=dados_aparelho[\"rotulos\"][\"estado\"],\n",
    "    random_state=SEED\n",
    ")\n",
    "\n",
    "# Construindo datasets (treino e teste)\n",
    "dataset_treino = tf.data.Dataset.from_tensor_slices((X_treino, y_treino))\n",
    "dataset_teste = tf.data.Dataset.from_tensor_slices((X_teste, y_teste))\n",
    "\n",
    "del X_treino\n",
    "del y_treino\n",
    "del X_teste\n",
    "del y_teste\n",
    "del dados_cargas\n",
    "del dados_aparelho\n",
    "\n",
    "# Exibindo algumas amostras de janealas\n",
    "num_amostras = 5\n",
    "fig, axes = plt.subplots(1, num_amostras, figsize=(20,4))\n",
    "estados = {1: \"ON\", 0: \"OFF\"}\n",
    "for i,amostra in enumerate(dataset_treino.shuffle(33).take(num_amostras)):\n",
    "    serie = amostra[0].numpy()\n",
    "    estado = amostra[1].numpy()\n",
    "    axes[i].plot(np.arange(0, serie.shape[0]), serie)\n",
    "    axes[i].set_title(f\"Amostra #{i+1} (`{estados[estado]}`)\")\n",
    "plt.suptitle(\"Exemplos de Janelas do Aparelho\", size=18, y=1.05)\n",
    "plt.show()"
   ]
  },
  {
   "cell_type": "markdown",
   "metadata": {},
   "source": [
    "**NOTA:** Interessante observar que algumas amostras estão rotuladas como `OFF` mesmo possuindo alguma curva no gráfico ou variação maior que 0. Isto ocorre pois tais sinais são tratados como ruído pela biblioteca NILMTK (conforme a baixa amplitude da medição), base do pré-processamento da PyNILM. Logo, é observado que os dados foram tratados corretamente."
   ]
  },
  {
   "cell_type": "code",
   "execution_count": 24,
   "metadata": {
    "ExecuteTime": {
     "end_time": "2020-06-16T19:32:19.119362Z",
     "start_time": "2020-06-16T19:32:18.684497Z"
    }
   },
   "outputs": [],
   "source": [
    "# Construindo o pipeline de dados\n",
    "# ----------\n",
    "\n",
    "import cv2\n",
    "\n",
    "# Constante fundamentais\n",
    "TAMANHO_IMAGEM = (32,32,1) # Apenas 1 canal\n",
    "TIPO_DADOS = np.float32\n",
    "def serie_para_imagem(serie, params_rp = PARAMETROS_RP, tam_imagem=TAMANHO_IMAGEM):\n",
    "    \"\"\"\n",
    "    Funcao responsavel por gerar e tratar a imagem RP.\n",
    "    \"\"\"\n",
    "    # Gerando imagem RP/redimensionando\n",
    "    imagem = RecurrencePlot(**params_rp).fit_transform([serie])[0]\n",
    "    imagem = cv2.resize(\n",
    "            imagem, \n",
    "            dsize=tam_imagem[:2], \n",
    "            interpolation=cv2.INTER_CUBIC\n",
    "        ).astype(TIPO_DADOS)\n",
    "\n",
    "    return np.stack([imagem for i in range(tam_imagem[-1])],axis=-1) # N canais\n",
    "\n",
    "def preparar_amostra(amostra, rotulo):\n",
    "    \"\"\"\n",
    "    Preparação da amostra/rótulo para o modelo.\n",
    "    \"\"\"\n",
    "    # Convertendo serie para imagem\n",
    "    amostra = tf.numpy_function(serie_para_imagem, [amostra], TIPO_DADOS)\n",
    "    amostra = tf.reshape(amostra, TAMANHO_IMAGEM)\n",
    "    return amostra, rotulo\n",
    "\n",
    "# pipelines consolidados\n",
    "dataset_treino = dataset_treino.map(lambda amostra, rotulo: preparar_amostra(amostra, rotulo))\n",
    "dataset_teste = dataset_teste.map(lambda amostra, rotulo: preparar_amostra(amostra, rotulo))"
   ]
  },
  {
   "cell_type": "code",
   "execution_count": 28,
   "metadata": {
    "ExecuteTime": {
     "end_time": "2020-06-16T19:32:32.042776Z",
     "start_time": "2020-06-16T19:32:31.822365Z"
    }
   },
   "outputs": [
    {
     "data": {
      "image/png": "[encoded data removed]",
      "text/plain": [
       "<Figure size 432x288 with 1 Axes>"
      ]
     },
     "metadata": {},
     "output_type": "display_data"
    }
   ],
   "source": [
    "# Exemplo de amostra processada no pipeline\n",
    "for a in dataset_treino.shuffle(SEED).batch(1).take(1):\n",
    "    rp = a[0][0].numpy()\n",
    "    plt.imshow(rp[:,:,0])\n",
    "    plt.grid(False)\n",
    "    plt.title(\"Amostra de RP\")\n",
    "    break"
   ]
  },
  {
   "cell_type": "markdown",
   "metadata": {},
   "source": [
    "## Construindo o modelo"
   ]
  },
  {
   "cell_type": "markdown",
   "metadata": {},
   "source": [
    "### Buscando o Overfitting"
   ]
  },
  {
   "cell_type": "code",
   "execution_count": 29,
   "metadata": {
    "ExecuteTime": {
     "end_time": "2020-06-16T19:32:42.194643Z",
     "start_time": "2020-06-16T19:32:41.787730Z"
    }
   },
   "outputs": [
    {
     "data": {
      "image/png": "[encoded data removed]",
      "text/plain": [
       "<Figure size 720x360 with 2 Axes>"
      ]
     },
     "metadata": {},
     "output_type": "display_data"
    }
   ],
   "source": [
    "X,y = [], []\n",
    "\n",
    "for amostra in dataset_treino.shuffle(SEED):\n",
    "    imagem = amostra[0].numpy()\n",
    "    rotulo = amostra[1].numpy()\n",
    "    # Verificar se N possui amostra da classe\n",
    "    if y.count(rotulo) == 0:\n",
    "        X.append(imagem)\n",
    "        y.append(rotulo)\n",
    "    \n",
    "    # Verificar se ja possui condicao de parada (1 de cada classe)\n",
    "    if np.unique(y).shape[0] == 2:\n",
    "        break\n",
    "        \n",
    "# Amostras selecionadas\n",
    "fig, axes  = plt.subplots(1,2, figsize=(10,5))\n",
    "axes[0].imshow(X[0][:,:,0], origin=\"lower\")\n",
    "axes[0].set_title(f\"Estado = `{estados[y[0]]}`\")\n",
    "axes[0].grid(False)\n",
    "axes[1].imshow(X[1][:,:,0], origin=\"lower\")\n",
    "axes[1].set_title(f\"Estado = `{estados[y[1]]}`\")\n",
    "axes[1].grid(False)\n",
    "plt.suptitle(\"Amostras de RP p/ Overfitting\", size=18, y=1.0);"
   ]
  },
  {
   "cell_type": "code",
   "execution_count": 30,
   "metadata": {
    "ExecuteTime": {
     "end_time": "2020-06-16T19:32:43.142110Z",
     "start_time": "2020-06-16T19:32:43.133135Z"
    }
   },
   "outputs": [],
   "source": [
    "from tensorflow.keras.models import Model, Sequential\n",
    "from tensorflow.keras.layers import Conv2D, BatchNormalization, Activation, \\\n",
    "                    Dropout, MaxPool2D, AveragePooling2D, Flatten, Dense\n",
    "from tensorflow.keras.constraints import max_norm\n",
    "\n",
    "def modelo_baseline(optimizer, loss='binary_crossentropy', metrics=['accuracy'], name=\"Baseline\"):\n",
    "    \n",
    "    model = Sequential(name=name)\n",
    "\n",
    "    model.add(Conv2D(32, kernel_size=(3,3), strides=(1,1), padding=\"valid\", kernel_initializer = 'he_uniform', input_shape=(32,32,1), kernel_constraint=max_norm(3), bias_constraint=max_norm(3)))\n",
    "    model.add(BatchNormalization(trainable=False))\n",
    "    model.add(Activation(\"relu\"))\n",
    "    model.add(AveragePooling2D())\n",
    "    \n",
    "#     model.add(Conv2D(32, kernel_size=(2,2), padding=\"valid\", kernel_initializer = 'he_uniform', kernel_constraint=max_norm(3), bias_constraint=max_norm(3)))\n",
    "#     model.add(BatchNormalization(trainable=False))\n",
    "#     model.add(Activation(\"relu\"))\n",
    "#     model.add(MaxPool2D())\n",
    "    \n",
    "    model.add(Flatten())\n",
    "    model.add(Dense(128))\n",
    "    model.add(BatchNormalization(trainable=False))\n",
    "    model.add(Activation(\"relu\"))\n",
    "    #model.add(Dropout(0.2))\n",
    " \n",
    "    # Output\n",
    "    model.add(Dense(1, activation = 'sigmoid'))\n",
    "    \n",
    "    model.compile(optimizer=optimizer, loss=loss, metrics=metrics)\n",
    "    \n",
    "    return model"
   ]
  },
  {
   "cell_type": "code",
   "execution_count": 31,
   "metadata": {
    "ExecuteTime": {
     "end_time": "2020-06-16T19:32:44.393765Z",
     "start_time": "2020-06-16T19:32:44.133460Z"
    }
   },
   "outputs": [
    {
     "name": "stdout",
     "output_type": "stream",
     "text": [
      "* Detalhes do modelo:\n",
      "---\n",
      "Model: \"Baseline\"\n",
      "_________________________________________________________________\n",
      "Layer (type)                 Output Shape              Param #   \n",
      "=================================================================\n",
      "conv2d (Conv2D)              (None, 30, 30, 32)        320       \n",
      "_________________________________________________________________\n",
      "batch_normalization (BatchNo (None, 30, 30, 32)        128       \n",
      "_________________________________________________________________\n",
      "activation (Activation)      (None, 30, 30, 32)        0         \n",
      "_________________________________________________________________\n",
      "average_pooling2d (AveragePo (None, 15, 15, 32)        0         \n",
      "_________________________________________________________________\n",
      "flatten (Flatten)            (None, 7200)              0         \n",
      "_________________________________________________________________\n",
      "dense (Dense)                (None, 128)               921728    \n",
      "_________________________________________________________________\n",
      "batch_normalization_1 (Batch (None, 128)               512       \n",
      "_________________________________________________________________\n",
      "activation_1 (Activation)    (None, 128)               0         \n",
      "_________________________________________________________________\n",
      "dense_1 (Dense)              (None, 1)                 129       \n",
      "=================================================================\n",
      "Total params: 922,817\n",
      "Trainable params: 922,177\n",
      "Non-trainable params: 640\n",
      "_________________________________________________________________\n",
      "None\n",
      "\n"
     ]
    }
   ],
   "source": [
    "modelo_overfitting = modelo_baseline(optimizer=tf.keras.optimizers.RMSprop(1e-2, momentum=0.5))\n",
    "\n",
    "print(\"* Detalhes do modelo:\")\n",
    "print(\"---\")\n",
    "print(modelo_overfitting.summary())\n",
    "print()"
   ]
  },
  {
   "cell_type": "code",
   "execution_count": 32,
   "metadata": {
    "ExecuteTime": {
     "end_time": "2020-06-16T19:32:49.062538Z",
     "start_time": "2020-06-16T19:32:45.267683Z"
    }
   },
   "outputs": [
    {
     "name": "stdout",
     "output_type": "stream",
     "text": [
      "* Treinando:\n",
      "---\n",
      "Train on 2 samples\n",
      "Epoch 1/10\n",
      "2/2 - 4s - loss: 0.3466 - accuracy: 1.0000\n",
      "Epoch 2/10\n",
      "2/2 - 0s - loss: 0.3388 - accuracy: 1.0000\n",
      "Epoch 3/10\n",
      "2/2 - 0s - loss: 0.3041 - accuracy: 1.0000\n",
      "Epoch 4/10\n",
      "2/2 - 0s - loss: 118.4344 - accuracy: 0.5000\n",
      "Epoch 5/10\n",
      "2/2 - 0s - loss: 2.8335 - accuracy: 0.5000\n",
      "Epoch 6/10\n",
      "2/2 - 0s - loss: 0.0143 - accuracy: 1.0000\n",
      "Epoch 7/10\n",
      "2/2 - 0s - loss: 4.0630e-04 - accuracy: 1.0000\n",
      "Epoch 8/10\n",
      "2/2 - 0s - loss: 1.6829e-04 - accuracy: 1.0000\n",
      "Epoch 9/10\n",
      "2/2 - 0s - loss: 1.0662e-04 - accuracy: 1.0000\n",
      "Epoch 10/10\n",
      "2/2 - 0s - loss: 8.3870e-05 - accuracy: 1.0000\n"
     ]
    }
   ],
   "source": [
    "print(\"* Treinando:\")\n",
    "print(\"---\")\n",
    "historico = modelo_overfitting.fit(\n",
    "    np.asarray(X).astype(TIPO_DADOS), np.array(y),\n",
    "    epochs=10,\n",
    "    verbose=2    \n",
    ")"
   ]
  },
  {
   "cell_type": "markdown",
   "metadata": {},
   "source": [
    "### Ajustando hiperparâmetros no conjunto completo"
   ]
  },
  {
   "cell_type": "code",
   "execution_count": 36,
   "metadata": {
    "ExecuteTime": {
     "end_time": "2020-06-16T19:37:09.221145Z",
     "start_time": "2020-06-16T19:36:57.764770Z"
    },
    "scrolled": true
   },
   "outputs": [
    {
     "name": "stdout",
     "output_type": "stream",
     "text": [
      "* Treinando modelo:\n",
      "---\n",
      "Train for 97 steps, validate for 33 steps\n",
      "Epoch 1/100\n",
      "97/97 - 2s - loss: 50.5700 - accuracy: 0.9621 - val_loss: 0.0423 - val_accuracy: 0.9990\n",
      "Epoch 2/100\n",
      "97/97 - 1s - loss: 0.0994 - accuracy: 0.9974 - val_loss: 0.0083 - val_accuracy: 0.9990\n",
      "Epoch 3/100\n",
      "97/97 - 1s - loss: 5.4898 - accuracy: 0.9951 - val_loss: 7.4201e-04 - val_accuracy: 1.0000\n",
      "Epoch 4/100\n",
      "97/97 - 1s - loss: 0.0050 - accuracy: 0.9984 - val_loss: 9.3020e-04 - val_accuracy: 0.9990\n",
      "Epoch 5/100\n",
      "97/97 - 1s - loss: 0.0014 - accuracy: 0.9997 - val_loss: 4.0247e-04 - val_accuracy: 1.0000\n",
      "Epoch 6/100\n",
      "97/97 - 1s - loss: 1.4880e-04 - accuracy: 1.0000 - val_loss: 3.2230e-04 - val_accuracy: 1.0000\n",
      "Epoch 7/100\n",
      "97/97 - 1s - loss: 7.8289e-07 - accuracy: 1.0000 - val_loss: 1.0223e-04 - val_accuracy: 1.0000\n",
      "Epoch 8/100\n",
      "97/97 - 1s - loss: 2.1333e-07 - accuracy: 1.0000 - val_loss: 7.8246e-05 - val_accuracy: 1.0000\n"
     ]
    }
   ],
   "source": [
    "print(\"* Treinando modelo:\")\n",
    "print(\"---\")\n",
    "modelo = modelo_baseline(optimizer=tf.keras.optimizers.RMSprop(1e-2, momentum=0.5))\n",
    "historico = modelo.fit(\n",
    "    dataset_treino.batch(TAMANHO_LOTE),\n",
    "    validation_data=dataset_teste.batch(TAMANHO_LOTE),\n",
    "    epochs=100,\n",
    "    callbacks=[\n",
    "        tf.keras.callbacks.EarlyStopping(monitor='val_accuracy',mode='max',patience=5)\n",
    "    ],\n",
    "    verbose=2    \n",
    ")"
   ]
  },
  {
   "cell_type": "code",
   "execution_count": 37,
   "metadata": {
    "ExecuteTime": {
     "end_time": "2020-06-16T19:37:14.683569Z",
     "start_time": "2020-06-16T19:37:13.884680Z"
    }
   },
   "outputs": [
    {
     "name": "stdout",
     "output_type": "stream",
     "text": [
      "\n",
      "-> Avaliando modelo/hipótese no conjunto de teste...\n",
      "\n",
      "              precision    recall  f1-score   support\n",
      "\n",
      "         OFF       1.00      1.00      1.00      1018\n",
      "          ON       1.00      1.00      1.00        11\n",
      "\n",
      "    accuracy                           1.00      1029\n",
      "   macro avg       1.00      1.00      1.00      1029\n",
      "weighted avg       1.00      1.00      1.00      1029\n",
      "\n"
     ]
    }
   ],
   "source": [
    "print()\n",
    "print(\"-> Avaliando modelo/hipótese no conjunto de teste...\")\n",
    "y_true = [amostra[1].numpy() for amostra in dataset_teste]\n",
    "y_pred = modelo.predict(dataset_teste.batch(TAMANHO_LOTE)).round()\n",
    "print()\n",
    "print(classification_report(y_pred, y_pred, target_names=(\"OFF\", \"ON\")))"
   ]
  },
  {
   "cell_type": "markdown",
   "metadata": {},
   "source": [
    "# Avaliação da Arquitetura para demais Aparelhos"
   ]
  },
  {
   "cell_type": "code",
   "execution_count": 47,
   "metadata": {
    "ExecuteTime": {
     "end_time": "2020-06-16T23:50:00.790549Z",
     "start_time": "2020-06-16T23:48:54.154014Z"
    }
   },
   "outputs": [
    {
     "name": "stdout",
     "output_type": "stream",
     "text": [
      "* `FRIDGE - 7` / taxa=5 e janela=360 / benchmarking --> f1=100.0...\n",
      "\n",
      "   - Carregando dados/janelas...\n",
      "-----\n",
      "Meter 13 is in a nested meter group. Retrieving just the ElecMeter.\n",
      "Meter 14 is in a nested meter group. Retrieving just the ElecMeter.\n",
      "\n",
      "   - Preparando dataset/tf.data...\n",
      "-----\n",
      "\n",
      "   - Treinando modelo classificador...\n",
      "-----\n",
      "Train for 9 steps, validate for 3 steps\n",
      "Epoch 1/100\n",
      "9/9 - 1s - loss: 5.9299 - accuracy: 0.9027 - val_loss: 0.8198 - val_accuracy: 0.9884\n",
      "Epoch 2/100\n",
      "9/9 - 0s - loss: 447.9598 - accuracy: 0.9027 - val_loss: 3.9534 - val_accuracy: 0.9884\n",
      "Epoch 3/100\n",
      "9/9 - 0s - loss: 5.1004 - accuracy: 0.9844 - val_loss: 2.8459 - val_accuracy: 0.9884\n",
      "Epoch 4/100\n",
      "9/9 - 0s - loss: 3.0607 - accuracy: 0.9883 - val_loss: 1.4034 - val_accuracy: 0.9884\n",
      "Epoch 5/100\n",
      "9/9 - 0s - loss: 0.9930 - accuracy: 0.9922 - val_loss: 0.0635 - val_accuracy: 0.9884\n",
      "Epoch 6/100\n",
      "9/9 - 0s - loss: 5.1591e-09 - accuracy: 1.0000 - val_loss: 6.3249e-08 - val_accuracy: 1.0000\n",
      "Epoch 7/100\n",
      "9/9 - 0s - loss: 1.1669e-18 - accuracy: 1.0000 - val_loss: 6.1027e-08 - val_accuracy: 1.0000\n",
      "Epoch 8/100\n",
      "9/9 - 0s - loss: 1.1174e-18 - accuracy: 1.0000 - val_loss: 6.1021e-08 - val_accuracy: 1.0000\n",
      "Epoch 9/100\n",
      "9/9 - 0s - loss: 1.1173e-18 - accuracy: 1.0000 - val_loss: 6.1019e-08 - val_accuracy: 1.0000\n",
      "Epoch 10/100\n",
      "9/9 - 0s - loss: 1.1173e-18 - accuracy: 1.0000 - val_loss: 6.1016e-08 - val_accuracy: 1.0000\n",
      "Epoch 11/100\n",
      "9/9 - 0s - loss: 1.1172e-18 - accuracy: 1.0000 - val_loss: 6.1011e-08 - val_accuracy: 1.0000\n",
      "\n",
      "   - Avaliando modelo/hipótese no conjunto de teste...\n",
      "-----\n",
      "\n",
      "              precision    recall  f1-score   support\n",
      "\n",
      "         0.0       1.00      1.00      1.00        19\n",
      "         1.0       1.00      1.00      1.00        67\n",
      "\n",
      "    accuracy                           1.00        86\n",
      "   macro avg       1.00      1.00      1.00        86\n",
      "weighted avg       1.00      1.00      1.00        86\n",
      "\n",
      "\n",
      "--------------------------------------------------------------------------------\n",
      "\n",
      "* `DISH_WASHER - 9` / taxa=5 e janela=60 / benchmarking --> f1=74.4...\n",
      "\n",
      "   - Carregando dados/janelas...\n",
      "-----\n",
      "Meter 13 is in a nested meter group. Retrieving just the ElecMeter.\n",
      "Meter 14 is in a nested meter group. Retrieving just the ElecMeter.\n",
      "\n",
      "   - Preparando dataset/tf.data...\n",
      "-----\n",
      "\n",
      "   - Treinando modelo classificador...\n",
      "-----\n",
      "Train for 49 steps, validate for 17 steps\n",
      "Epoch 1/100\n",
      "49/49 - 2s - loss: 63.1190 - accuracy: 0.9430 - val_loss: 0.0455 - val_accuracy: 0.9922\n",
      "Epoch 2/100\n",
      "49/49 - 1s - loss: 0.0368 - accuracy: 0.9981 - val_loss: 2.3321e-06 - val_accuracy: 1.0000\n",
      "Epoch 3/100\n",
      "49/49 - 1s - loss: 0.0873 - accuracy: 0.9974 - val_loss: 0.6283 - val_accuracy: 0.9981\n",
      "Epoch 4/100\n",
      "49/49 - 1s - loss: 0.2440 - accuracy: 0.9981 - val_loss: 0.8648 - val_accuracy: 0.9981\n",
      "Epoch 5/100\n",
      "49/49 - 1s - loss: 0.0269 - accuracy: 0.9961 - val_loss: 7.1295e-05 - val_accuracy: 1.0000\n",
      "Epoch 6/100\n",
      "49/49 - 1s - loss: 0.1456 - accuracy: 0.9974 - val_loss: 8.2585e-36 - val_accuracy: 1.0000\n",
      "Epoch 7/100\n",
      "49/49 - 1s - loss: 0.0208 - accuracy: 0.9987 - val_loss: 0.1040 - val_accuracy: 0.9922\n",
      "\n",
      "   - Avaliando modelo/hipótese no conjunto de teste...\n",
      "-----\n",
      "\n",
      "              precision    recall  f1-score   support\n",
      "\n",
      "         0.0       1.00      1.00      1.00       504\n",
      "         1.0       1.00      1.00      1.00        11\n",
      "\n",
      "    accuracy                           1.00       515\n",
      "   macro avg       1.00      1.00      1.00       515\n",
      "weighted avg       1.00      1.00      1.00       515\n",
      "\n",
      "\n",
      "--------------------------------------------------------------------------------\n",
      "\n",
      "* `WASHER_DRYER - 13` / taxa=5 e janela=60 / benchmarking --> f1=92.11...\n",
      "\n",
      "   - Carregando dados/janelas...\n",
      "-----\n",
      "Meter 13 is in a nested meter group. Retrieving just the ElecMeter.\n",
      "Meter 14 is in a nested meter group. Retrieving just the ElecMeter.\n",
      "\n",
      "   - Preparando dataset/tf.data...\n",
      "-----\n",
      "\n",
      "   - Treinando modelo classificador...\n",
      "-----\n",
      "Train for 49 steps, validate for 17 steps\n",
      "Epoch 1/100\n",
      "49/49 - 2s - loss: 771.8834 - accuracy: 0.9637 - val_loss: 1.7016 - val_accuracy: 0.9942\n",
      "Epoch 2/100\n",
      "49/49 - 1s - loss: 2.0450 - accuracy: 0.9961 - val_loss: 0.0000e+00 - val_accuracy: 1.0000\n",
      "Epoch 3/100\n",
      "49/49 - 1s - loss: 0.0000e+00 - accuracy: 1.0000 - val_loss: 0.0000e+00 - val_accuracy: 1.0000\n",
      "Epoch 4/100\n",
      "49/49 - 1s - loss: 0.0000e+00 - accuracy: 1.0000 - val_loss: 0.0000e+00 - val_accuracy: 1.0000\n",
      "Epoch 5/100\n",
      "49/49 - 1s - loss: 0.0000e+00 - accuracy: 1.0000 - val_loss: 0.0000e+00 - val_accuracy: 1.0000\n",
      "Epoch 6/100\n",
      "49/49 - 1s - loss: 0.0000e+00 - accuracy: 1.0000 - val_loss: 0.0000e+00 - val_accuracy: 1.0000\n",
      "Epoch 7/100\n",
      "49/49 - 1s - loss: 0.0000e+00 - accuracy: 1.0000 - val_loss: 0.0000e+00 - val_accuracy: 1.0000\n",
      "\n",
      "   - Avaliando modelo/hipótese no conjunto de teste...\n",
      "-----\n",
      "\n",
      "              precision    recall  f1-score   support\n",
      "\n",
      "         0.0       1.00      1.00      1.00       503\n",
      "         1.0       1.00      1.00      1.00        12\n",
      "\n",
      "    accuracy                           1.00       515\n",
      "   macro avg       1.00      1.00      1.00       515\n",
      "weighted avg       1.00      1.00      1.00       515\n",
      "\n",
      "\n",
      "--------------------------------------------------------------------------------\n",
      "\n",
      "* `WASHER_DRYER - 14` / taxa=5 e janela=30 / benchmarking --> f1=82.88...\n",
      "\n",
      "   - Carregando dados/janelas...\n",
      "-----\n",
      "Meter 13 is in a nested meter group. Retrieving just the ElecMeter.\n",
      "Meter 14 is in a nested meter group. Retrieving just the ElecMeter.\n",
      "\n",
      "   - Preparando dataset/tf.data...\n",
      "-----\n",
      "\n",
      "   - Treinando modelo classificador...\n",
      "-----\n",
      "Train for 97 steps, validate for 33 steps\n",
      "Epoch 1/100\n",
      "97/97 - 2s - loss: 458.4586 - accuracy: 0.9676 - val_loss: 241.8308 - val_accuracy: 0.9951\n",
      "Epoch 2/100\n",
      "97/97 - 1s - loss: 132.2350 - accuracy: 0.9958 - val_loss: 7.1445 - val_accuracy: 0.9922\n",
      "Epoch 3/100\n",
      "97/97 - 2s - loss: 1.6738 - accuracy: 0.9987 - val_loss: 0.0000e+00 - val_accuracy: 1.0000\n",
      "Epoch 4/100\n",
      "97/97 - 1s - loss: 1.7998 - accuracy: 0.9981 - val_loss: 2.0564e-36 - val_accuracy: 1.0000\n",
      "Epoch 5/100\n",
      "97/97 - 2s - loss: 85.3390 - accuracy: 0.9977 - val_loss: 2.6100e-08 - val_accuracy: 1.0000\n",
      "Epoch 6/100\n",
      "97/97 - 1s - loss: 35.3617 - accuracy: 0.9984 - val_loss: 0.2468 - val_accuracy: 0.9981\n",
      "Epoch 7/100\n",
      "97/97 - 1s - loss: 1.4959 - accuracy: 0.9984 - val_loss: 5.4977 - val_accuracy: 0.9990\n",
      "Epoch 8/100\n",
      "97/97 - 1s - loss: 0.0000e+00 - accuracy: 1.0000 - val_loss: 5.4976 - val_accuracy: 0.9990\n",
      "\n",
      "   - Avaliando modelo/hipótese no conjunto de teste...\n",
      "-----\n",
      "\n",
      "              precision    recall  f1-score   support\n",
      "\n",
      "         0.0       1.00      1.00      1.00       998\n",
      "         1.0       1.00      1.00      1.00        31\n",
      "\n",
      "    accuracy                           1.00      1029\n",
      "   macro avg       1.00      1.00      1.00      1029\n",
      "weighted avg       1.00      1.00      1.00      1029\n",
      "\n",
      "\n",
      "--------------------------------------------------------------------------------\n",
      "\n",
      "* `MICROWAVE - 16` / taxa=5 e janela=30 / benchmarking --> f1=71.23...\n",
      "\n",
      "   - Carregando dados/janelas...\n",
      "-----\n",
      "Meter 13 is in a nested meter group. Retrieving just the ElecMeter.\n",
      "Meter 14 is in a nested meter group. Retrieving just the ElecMeter.\n",
      "\n",
      "   - Preparando dataset/tf.data...\n",
      "-----\n",
      "\n",
      "   - Treinando modelo classificador...\n",
      "-----\n",
      "Train for 97 steps, validate for 33 steps\n",
      "Epoch 1/100\n",
      "97/97 - 2s - loss: 35.0054 - accuracy: 0.9521 - val_loss: 0.2140 - val_accuracy: 0.9961\n",
      "Epoch 2/100\n",
      "97/97 - 1s - loss: 0.2920 - accuracy: 0.9971 - val_loss: 0.0155 - val_accuracy: 0.9990\n",
      "Epoch 3/100\n",
      "97/97 - 1s - loss: 0.0281 - accuracy: 0.9971 - val_loss: 0.0043 - val_accuracy: 0.9990\n",
      "Epoch 4/100\n",
      "97/97 - 1s - loss: 3.6742 - accuracy: 0.9977 - val_loss: 0.0065 - val_accuracy: 0.9981\n",
      "Epoch 5/100\n",
      "97/97 - 1s - loss: 3.5666 - accuracy: 0.9974 - val_loss: 9.1115e-04 - val_accuracy: 0.9990\n",
      "Epoch 6/100\n",
      "97/97 - 1s - loss: 0.0040 - accuracy: 0.9977 - val_loss: 5.2400e-04 - val_accuracy: 1.0000\n",
      "Epoch 7/100\n",
      "97/97 - 2s - loss: 0.0033 - accuracy: 0.9984 - val_loss: 0.0058 - val_accuracy: 0.9990\n",
      "Epoch 8/100\n",
      "97/97 - 1s - loss: 0.0038 - accuracy: 0.9990 - val_loss: 0.0073 - val_accuracy: 0.9990\n",
      "Epoch 9/100\n",
      "97/97 - 1s - loss: 0.0017 - accuracy: 0.9994 - val_loss: 0.0011 - val_accuracy: 0.9990\n",
      "Epoch 10/100\n",
      "97/97 - 1s - loss: 1.4225e-04 - accuracy: 1.0000 - val_loss: 0.0044 - val_accuracy: 0.9990\n",
      "Epoch 11/100\n",
      "97/97 - 1s - loss: 4.2148e-06 - accuracy: 1.0000 - val_loss: 0.0029 - val_accuracy: 0.9990\n"
     ]
    },
    {
     "name": "stdout",
     "output_type": "stream",
     "text": [
      "\n",
      "   - Avaliando modelo/hipótese no conjunto de teste...\n",
      "-----\n",
      "\n",
      "              precision    recall  f1-score   support\n",
      "\n",
      "         0.0       1.00      1.00      1.00      1017\n",
      "         1.0       1.00      1.00      1.00        12\n",
      "\n",
      "    accuracy                           1.00      1029\n",
      "   macro avg       1.00      1.00      1.00      1029\n",
      "weighted avg       1.00      1.00      1.00      1029\n",
      "\n",
      "\n",
      "--------------------------------------------------------------------------------\n",
      "\n"
     ]
    }
   ],
   "source": [
    "# Intervalo de tempo e residencia considerados na base REDD\n",
    "janelas = Janelas(**PARAMETROS_DATASET)\n",
    "modelos = []\n",
    "# 1) Para cada aparelho dos considerados no paper IEE GM\n",
    "for i, r in df_melhores_janelas.loc[\n",
    "    (df_melhores_janelas[\"carga\"].isin([\n",
    "                \"fridge - 7\", \"dish_washer - 9\", \"washer_dryer - 13\", \n",
    "                \"washer_dryer - 14\", \"microwave - 16\"\n",
    "            ])), :\n",
    "].iterrows():\n",
    "    \n",
    "    # Informacoes da carga (nome, id, taxa e janela)\n",
    "    carga = r[\"carga\"].split(\" - \")[0]\n",
    "    instancia = int(r[\"carga\"].split(\" - \")[1])\n",
    "    taxa = r[\"taxa_amostragem\"]\n",
    "    janela = r[\"janela\"]\n",
    "    print(f\"* `{r['carga'].upper()}` / taxa={taxa} e janela={janela} / benchmarking --> f1={r['f1_macro']}...\")\n",
    "    print()\n",
    "    \n",
    "    print(\"   - Carregando dados/janelas...\")\n",
    "    print(\"-----\")\n",
    "    # Extrair series divididas em janelas para cada medidor\n",
    "    dados_cargas = janelas.preparar(\n",
    "        taxa_amostral=taxa, \n",
    "        intervalo_medicao=janela\n",
    "    )\n",
    "    dados_aparelho = janelas.filtrar_cargas(dados_cargas, filtros=[(instancia, carga)])[0]\n",
    "\n",
    "    # Fazendo split dos dados (treino/teste)\n",
    "    X_treino, X_teste, y_treino, y_teste = train_test_split(\n",
    "        dados_aparelho[\"janelas\"], dados_aparelho[\"rotulos\"][\"estado\"],\n",
    "        test_size=FRACAO_TESTE,\n",
    "        stratify=dados_aparelho[\"rotulos\"][\"estado\"],\n",
    "        random_state=SEED\n",
    "    )\n",
    "    print()\n",
    "          \n",
    "    # Construindo datasets (treino e teste)\n",
    "    print(\"   - Preparando dataset/tf.data...\")\n",
    "    print(\"-----\")\n",
    "    # pipelines consolidados\n",
    "    dataset_treino = tf.data.Dataset.from_tensor_slices((X_treino, y_treino))\n",
    "    dataset_treino = dataset_treino.map(lambda amostra, rotulo: preparar_amostra(amostra, rotulo))\n",
    "    \n",
    "    dataset_teste = tf.data.Dataset.from_tensor_slices((X_teste, y_teste))\n",
    "    dataset_teste = dataset_teste.map(lambda amostra, rotulo: preparar_amostra(amostra, rotulo))\n",
    "          \n",
    "    del X_treino\n",
    "    del y_treino\n",
    "    del X_teste\n",
    "    del y_teste\n",
    "    del dados_cargas\n",
    "    del dados_aparelho\n",
    "          \n",
    "    print()\n",
    "    \n",
    "    print(\"   - Treinando modelo classificador...\")\n",
    "    print(\"-----\")\n",
    "    modelo = modelo_baseline(optimizer=tf.keras.optimizers.RMSprop(1e-2, momentum=0.5))\n",
    "    historico = modelo.fit(\n",
    "        dataset_treino.batch(TAMANHO_LOTE),\n",
    "        validation_data=dataset_teste.batch(TAMANHO_LOTE),\n",
    "        epochs=100,\n",
    "        callbacks=[\n",
    "            tf.keras.callbacks.EarlyStopping(monitor='val_accuracy',mode='max',patience=5)\n",
    "        ],\n",
    "        verbose=2    \n",
    "    )\n",
    "    print()\n",
    "          \n",
    "    print(\"   - Avaliando modelo/hipótese no conjunto de teste...\")\n",
    "    print(\"-----\")\n",
    "    y_true = [amostra[1].numpy() for amostra in dataset_teste]\n",
    "    y_pred = modelo.predict(dataset_teste.batch(TAMANHO_LOTE)).round()\n",
    "    print()\n",
    "    print(classification_report(y_pred, y_pred))#, target_names=(\"OFF\", \"ON\")))\n",
    "    \n",
    "    modelos.append({r[\"carga\"]: modelo})\n",
    "          \n",
    "    print()\n",
    "    print(\"-\"*80)\n",
    "    print()"
   ]
  },
  {
   "cell_type": "markdown",
   "metadata": {},
   "source": [
    "# Avaliando Generalização"
   ]
  },
  {
   "cell_type": "code",
   "execution_count": 109,
   "metadata": {
    "ExecuteTime": {
     "end_time": "2020-06-17T00:25:37.724111Z",
     "start_time": "2020-06-17T00:25:37.712182Z"
    }
   },
   "outputs": [
    {
     "name": "stdout",
     "output_type": "stream",
     "text": [
      "<tensorflow.python.keras.engine.sequential.Sequential object at 0x000001DB222EB160>\n",
      "<tensorflow.python.keras.engine.sequential.Sequential object at 0x000001DB224C3898>\n",
      "<tensorflow.python.keras.engine.sequential.Sequential object at 0x000001DAD53E4D30>\n",
      "<tensorflow.python.keras.engine.sequential.Sequential object at 0x000001DAD2602828>\n",
      "<tensorflow.python.keras.engine.sequential.Sequential object at 0x000001DACDC0A630>\n"
     ]
    }
   ],
   "source": [
    "for m in modelos:\n",
    "    print()"
   ]
  },
  {
   "cell_type": "code",
   "execution_count": 79,
   "metadata": {
    "ExecuteTime": {
     "end_time": "2020-06-17T00:07:11.280170Z",
     "start_time": "2020-06-17T00:07:11.247299Z"
    }
   },
   "outputs": [
    {
     "name": "stdout",
     "output_type": "stream",
     "text": [
      "Residencia 1 -> Aparelhos compartilhados: 5\n",
      "\n",
      "Residencia 2 -> Aparelhos compartilhados: 5\n",
      "\n",
      "Residencia 4 -> Aparelhos compartilhados: 3\n",
      "\n",
      "Residencia 5 -> Aparelhos compartilhados: 5\n",
      "\n",
      "Residencia 6 -> Aparelhos compartilhados: 4\n",
      "\n"
     ]
    }
   ],
   "source": [
    "for i in redd.buildings:\n",
    "    if i != 3:\n",
    "        aparelhos_compartilhados = 0 \n",
    "        aparelhos_residencia = {\n",
    "            e.instance():e.label().lower().replace(\" \",\"_\") for e in redd.buildings[i].elec.meters}\n",
    "        for m in modelos:\n",
    "            aparelho_treino = list(m.keys())[0].split(\" - \")[0]\n",
    "            if aparelho_treino in aparelhos_residencia.values():\n",
    "                aparelhos_compartilhados += 1\n",
    "        print(\"Residencia\", i, \"-> Aparelhos compartilhados:\", aparelhos_compartilhados)\n",
    "        print()"
   ]
  },
  {
   "cell_type": "code",
   "execution_count": 111,
   "metadata": {
    "ExecuteTime": {
     "end_time": "2020-06-17T00:30:35.174591Z",
     "start_time": "2020-06-17T00:30:35.164619Z"
    }
   },
   "outputs": [],
   "source": [
    "def avaliar_generalizacao(janelas, instancia, carga, modelo):\n",
    "    print(\"   - Carregando dados/janelas do aparelho `{}-{}`...\".format(carga, instancia))\n",
    "    print(\"-----\")\n",
    "    # Extrair series divididas em janelas para cada medidor\n",
    "    dados_cargas = janelas.preparar(\n",
    "        taxa_amostral=taxa, \n",
    "        intervalo_medicao=janela\n",
    "    )\n",
    "    dados_aparelho = janelas.filtrar_cargas(dados_cargas, filtros=[(instancia, carga)])[0]\n",
    "    print()\n",
    "          \n",
    "    # Construindo datasets (treino e teste)\n",
    "    print(\"   - Preparando dataset/tf.data...\")\n",
    "    print(\"-----\")\n",
    "    # pipelines consolidados\n",
    "    dataset_teste = tf.data.Dataset.from_tensor_slices((dados_aparelho[\"janelas\"], dados_aparelho[\"rotulos\"][\"estado\"],))\n",
    "    dataset_teste = dataset_teste.map(lambda amostra, rotulo: preparar_amostra(amostra, rotulo))\n",
    "\n",
    "    del dados_cargas\n",
    "    del dados_aparelho\n",
    "          \n",
    "    print()\n",
    "    \n",
    "          \n",
    "    print(\"   - Avaliando modelo/hipótese no conjunto de teste...\")\n",
    "    print(\"-----\")\n",
    "    #modelo = list(m.values())[0]\n",
    "    y_true = [amostra[1].numpy() for amostra in dataset_teste]\n",
    "    y_pred = modelo.predict(dataset_teste.batch(TAMANHO_LOTE)).round()\n",
    "    print()\n",
    "    print(classification_report(y_pred, y_pred))#, target_names=(\"OFF\", \"ON\")))\n",
    "          \n",
    "    print()\n",
    "    print(\"-\"*80)\n",
    "    print()"
   ]
  },
  {
   "cell_type": "code",
   "execution_count": 118,
   "metadata": {
    "ExecuteTime": {
     "end_time": "2020-06-17T00:33:31.947942Z",
     "start_time": "2020-06-17T00:33:10.856440Z"
    }
   },
   "outputs": [
    {
     "name": "stdout",
     "output_type": "stream",
     "text": [
      "   - Carregando dados/janelas do aparelho `fridge-18`...\n",
      "-----\n",
      "Meter 8 is in a nested meter group. Retrieving just the ElecMeter.\n",
      "Meter 9 is in a nested meter group. Retrieving just the ElecMeter.\n",
      "Meter 12 is in a nested meter group. Retrieving just the ElecMeter.\n",
      "Meter 13 is in a nested meter group. Retrieving just the ElecMeter.\n",
      "\n",
      "   - Preparando dataset/tf.data...\n",
      "-----\n",
      "\n",
      "   - Avaliando modelo/hipótese no conjunto de teste...\n",
      "-----\n",
      "\n",
      "              precision    recall  f1-score   support\n",
      "\n",
      "         0.0       1.00      1.00      1.00      1211\n",
      "         1.0       1.00      1.00      1.00       670\n",
      "\n",
      "    accuracy                           1.00      1881\n",
      "   macro avg       1.00      1.00      1.00      1881\n",
      "weighted avg       1.00      1.00      1.00      1881\n",
      "\n",
      "\n",
      "--------------------------------------------------------------------------------\n",
      "\n",
      "   - Carregando dados/janelas do aparelho `dish_washer-20`...\n",
      "-----\n",
      "Meter 8 is in a nested meter group. Retrieving just the ElecMeter.\n",
      "Meter 9 is in a nested meter group. Retrieving just the ElecMeter.\n",
      "Meter 12 is in a nested meter group. Retrieving just the ElecMeter.\n",
      "Meter 13 is in a nested meter group. Retrieving just the ElecMeter.\n",
      "\n",
      "   - Preparando dataset/tf.data...\n",
      "-----\n",
      "\n",
      "   - Avaliando modelo/hipótese no conjunto de teste...\n",
      "-----\n",
      "\n",
      "              precision    recall  f1-score   support\n",
      "\n",
      "         0.0       1.00      1.00      1.00      1856\n",
      "         1.0       1.00      1.00      1.00        25\n",
      "\n",
      "    accuracy                           1.00      1881\n",
      "   macro avg       1.00      1.00      1.00      1881\n",
      "weighted avg       1.00      1.00      1.00      1881\n",
      "\n",
      "\n",
      "--------------------------------------------------------------------------------\n",
      "\n",
      "   - Carregando dados/janelas do aparelho `washer_dryer-8`...\n",
      "-----\n",
      "Meter 8 is in a nested meter group. Retrieving just the ElecMeter.\n",
      "Meter 9 is in a nested meter group. Retrieving just the ElecMeter.\n",
      "Meter 12 is in a nested meter group. Retrieving just the ElecMeter.\n",
      "Meter 13 is in a nested meter group. Retrieving just the ElecMeter.\n",
      "\n",
      "   - Preparando dataset/tf.data...\n",
      "-----\n",
      "\n",
      "   - Avaliando modelo/hipótese no conjunto de teste...\n",
      "-----\n",
      "\n",
      "              precision    recall  f1-score   support\n",
      "\n",
      "         0.0       1.00      1.00      1.00      1881\n",
      "\n",
      "    accuracy                           1.00      1881\n",
      "   macro avg       1.00      1.00      1.00      1881\n",
      "weighted avg       1.00      1.00      1.00      1881\n",
      "\n",
      "\n",
      "--------------------------------------------------------------------------------\n",
      "\n",
      "   - Carregando dados/janelas do aparelho `washer_dryer-9`...\n",
      "-----\n",
      "Meter 8 is in a nested meter group. Retrieving just the ElecMeter.\n",
      "Meter 9 is in a nested meter group. Retrieving just the ElecMeter.\n",
      "Meter 12 is in a nested meter group. Retrieving just the ElecMeter.\n",
      "Meter 13 is in a nested meter group. Retrieving just the ElecMeter.\n",
      "\n",
      "   - Preparando dataset/tf.data...\n",
      "-----\n",
      "\n",
      "   - Avaliando modelo/hipótese no conjunto de teste...\n",
      "-----\n",
      "\n",
      "              precision    recall  f1-score   support\n",
      "\n",
      "         0.0       1.00      1.00      1.00      1881\n",
      "\n",
      "    accuracy                           1.00      1881\n",
      "   macro avg       1.00      1.00      1.00      1881\n",
      "weighted avg       1.00      1.00      1.00      1881\n",
      "\n",
      "\n",
      "--------------------------------------------------------------------------------\n",
      "\n",
      "   - Carregando dados/janelas do aparelho `washer_dryer-8`...\n",
      "-----\n",
      "Meter 8 is in a nested meter group. Retrieving just the ElecMeter.\n",
      "Meter 9 is in a nested meter group. Retrieving just the ElecMeter.\n",
      "Meter 12 is in a nested meter group. Retrieving just the ElecMeter.\n",
      "Meter 13 is in a nested meter group. Retrieving just the ElecMeter.\n",
      "\n",
      "   - Preparando dataset/tf.data...\n",
      "-----\n",
      "\n",
      "   - Avaliando modelo/hipótese no conjunto de teste...\n",
      "-----\n",
      "\n",
      "              precision    recall  f1-score   support\n",
      "\n",
      "         0.0       1.00      1.00      1.00      1877\n",
      "         1.0       1.00      1.00      1.00         4\n",
      "\n",
      "    accuracy                           1.00      1881\n",
      "   macro avg       1.00      1.00      1.00      1881\n",
      "weighted avg       1.00      1.00      1.00      1881\n",
      "\n",
      "\n",
      "--------------------------------------------------------------------------------\n",
      "\n",
      "   - Carregando dados/janelas do aparelho `washer_dryer-9`...\n",
      "-----\n",
      "Meter 8 is in a nested meter group. Retrieving just the ElecMeter.\n",
      "Meter 9 is in a nested meter group. Retrieving just the ElecMeter.\n",
      "Meter 12 is in a nested meter group. Retrieving just the ElecMeter.\n",
      "Meter 13 is in a nested meter group. Retrieving just the ElecMeter.\n",
      "\n",
      "   - Preparando dataset/tf.data...\n",
      "-----\n",
      "\n",
      "   - Avaliando modelo/hipótese no conjunto de teste...\n",
      "-----\n",
      "\n",
      "              precision    recall  f1-score   support\n",
      "\n",
      "         0.0       1.00      1.00      1.00      1881\n",
      "\n",
      "    accuracy                           1.00      1881\n",
      "   macro avg       1.00      1.00      1.00      1881\n",
      "weighted avg       1.00      1.00      1.00      1881\n",
      "\n",
      "\n",
      "--------------------------------------------------------------------------------\n",
      "\n",
      "   - Carregando dados/janelas do aparelho `microwave-3`...\n",
      "-----\n",
      "Meter 8 is in a nested meter group. Retrieving just the ElecMeter.\n",
      "Meter 9 is in a nested meter group. Retrieving just the ElecMeter.\n",
      "Meter 12 is in a nested meter group. Retrieving just the ElecMeter.\n",
      "Meter 13 is in a nested meter group. Retrieving just the ElecMeter.\n",
      "\n",
      "   - Preparando dataset/tf.data...\n",
      "-----\n",
      "\n",
      "   - Avaliando modelo/hipótese no conjunto de teste...\n",
      "-----\n",
      "\n",
      "              precision    recall  f1-score   support\n",
      "\n",
      "         0.0       1.00      1.00      1.00      1874\n",
      "         1.0       1.00      1.00      1.00         7\n",
      "\n",
      "    accuracy                           1.00      1881\n",
      "   macro avg       1.00      1.00      1.00      1881\n",
      "weighted avg       1.00      1.00      1.00      1881\n",
      "\n",
      "\n",
      "--------------------------------------------------------------------------------\n",
      "\n"
     ]
    }
   ],
   "source": [
    "residencia_generalizacao = 5\n",
    "\n",
    "janelas = Janelas(**{\n",
    "    'base': redd,\n",
    "    'id_residencia': residencia_generalizacao,\n",
    "    'inicio_intervalo': '2011-04-16 05:11:30',\n",
    "    'fim_intervalo': '2011-04-23 08:43:26',\n",
    "    'debug': False\n",
    "})\n",
    "\n",
    "aparelhos_residencia = {\n",
    "    e.instance():e.label().lower().replace(\" \",\"_\") \\\n",
    "        for e in redd.buildings[residencia_generalizacao].elec.meters\n",
    "}\n",
    "\n",
    "for m in modelos:\n",
    "    aparelho_treino = list(m.keys())[0].split(\" - \")[0]\n",
    "    \n",
    "    # Localizar na residencia carga similar ao modelo treinado\n",
    "    for k, v in aparelhos_residencia.items():\n",
    "        if aparelho_treino == v:\n",
    "            instancia = k\n",
    "            carga = v\n",
    "            break\n",
    "    \n",
    "    if type(instancia) == int:\n",
    "        avaliar_generalizacao(janelas, instancia, carga, list(m.values())[0])\n",
    "    else:\n",
    "        for i in instancia:\n",
    "            avaliar_generalizacao(janelas, i, carga, list(m.values())[0])"
   ]
  },
  {
   "cell_type": "code",
   "execution_count": null,
   "metadata": {
    "ExecuteTime": {
     "end_time": "2020-06-17T00:32:06.843314Z",
     "start_time": "2020-06-17T00:32:06.823330Z"
    }
   },
   "outputs": [],
   "source": []
  },
  {
   "cell_type": "markdown",
   "metadata": {},
   "source": [
    "# Conclusões"
   ]
  },
  {
   "cell_type": "markdown",
   "metadata": {},
   "source": [
    "... TERMINAR OS TESTES, COM DEMAIS APARELHOS, CONSIDERANDO A ARQUITETURA ENCONTRADA ..."
   ]
  },
  {
   "cell_type": "markdown",
   "metadata": {
    "heading_collapsed": true
   },
   "source": [
    "# Fim."
   ]
  },
  {
   "cell_type": "code",
   "execution_count": 29,
   "metadata": {
    "ExecuteTime": {
     "end_time": "2020-05-28T15:13:24.244333Z",
     "start_time": "2020-05-28T15:13:23.582102Z"
    },
    "hidden": true
   },
   "outputs": [
    {
     "data": {
      "image/png": "[encoded data removed]",
      "text/plain": [
       "<Figure size 432x288 with 1 Axes>"
      ]
     },
     "metadata": {},
     "output_type": "display_data"
    }
   ],
   "source": [
    "X_rp = RecurrencePlot().set_params(**PARAMETROS_RP).fit_transform(X)\n",
    "plt.imshow(X_rp[0,:], cmap='viridis', origin='lower')\n",
    "plt.grid(False)"
   ]
  },
  {
   "cell_type": "code",
   "execution_count": 31,
   "metadata": {
    "ExecuteTime": {
     "end_time": "2020-05-28T15:14:15.989026Z",
     "start_time": "2020-05-28T15:14:15.502289Z"
    },
    "hidden": true
   },
   "outputs": [
    {
     "data": {
      "image/png": "[encoded data removed]",
      "text/plain": [
       "<Figure size 432x288 with 1 Axes>"
      ]
     },
     "metadata": {},
     "output_type": "display_data"
    }
   ],
   "source": [
    "PARAMETROS_RP2 = {\n",
    "    \"dimension\": 1,\n",
    "    \"time_delay\": 1,\n",
    "    \"threshold\": None,\n",
    "    \"percentage\": 10\n",
    "}\n",
    "X_rp = RecurrencePlot().set_params(**PARAMETROS_RP2).fit_transform(X)\n",
    "plt.imshow(X_rp[0,:], cmap='viridis', origin='lower')\n",
    "plt.grid(False)"
   ]
  },
  {
   "cell_type": "code",
   "execution_count": 32,
   "metadata": {
    "ExecuteTime": {
     "end_time": "2020-05-28T15:14:16.740979Z",
     "start_time": "2020-05-28T15:14:16.732003Z"
    },
    "hidden": true
   },
   "outputs": [
    {
     "data": {
      "text/plain": [
       "array([[[0.        , 0.00582504, 0.05967903, ..., 0.0553112 ,\n",
       "         0.03347778, 0.0363903 ],\n",
       "        [0.00582504, 0.        , 0.06550407, ..., 0.06113625,\n",
       "         0.03930283, 0.03056526],\n",
       "        [0.05967903, 0.06550407, 0.        , ..., 0.00436783,\n",
       "         0.02620125, 0.09606934],\n",
       "        ...,\n",
       "        [0.0553112 , 0.06113625, 0.00436783, ..., 0.        ,\n",
       "         0.02183342, 0.09170151],\n",
       "        [0.03347778, 0.03930283, 0.02620125, ..., 0.02183342,\n",
       "         0.        , 0.06986809],\n",
       "        [0.0363903 , 0.03056526, 0.09606934, ..., 0.09170151,\n",
       "         0.06986809, 0.        ]],\n",
       "\n",
       "       [[0.        , 0.05205345, 0.01862383, ..., 0.4054451 ,\n",
       "         0.41977167, 0.39064074],\n",
       "        [0.05205345, 0.        , 0.03342962, ..., 0.45749855,\n",
       "         0.47182512, 0.44269419],\n",
       "        [0.01862383, 0.03342962, 0.        , ..., 0.42406893,\n",
       "         0.4383955 , 0.40926456],\n",
       "        ...,\n",
       "        [0.4054451 , 0.45749855, 0.42406893, ..., 0.        ,\n",
       "         0.01432657, 0.01480436],\n",
       "        [0.41977167, 0.47182512, 0.4383955 , ..., 0.01432657,\n",
       "         0.        , 0.02913094],\n",
       "        [0.39064074, 0.44269419, 0.40926456, ..., 0.01480436,\n",
       "         0.02913094, 0.        ]],\n",
       "\n",
       "       [[0.        , 0.35051346, 0.12989807, ..., 0.54432678,\n",
       "         0.50721359, 0.28865814],\n",
       "        [0.35051346, 0.        , 0.48041153, ..., 0.89484024,\n",
       "         0.85772705, 0.6391716 ],\n",
       "        [0.12989807, 0.48041153, 0.        , ..., 0.41442871,\n",
       "         0.37731552, 0.15876007],\n",
       "        ...,\n",
       "        [0.54432678, 0.89484024, 0.41442871, ..., 0.        ,\n",
       "         0.03711319, 0.25566864],\n",
       "        [0.50721359, 0.85772705, 0.37731552, ..., 0.03711319,\n",
       "         0.        , 0.21855545],\n",
       "        [0.28865814, 0.6391716 , 0.15876007, ..., 0.25566864,\n",
       "         0.21855545, 0.        ]],\n",
       "\n",
       "       ...,\n",
       "\n",
       "       [[0.        , 0.19811249, 0.16038132, ..., 0.44339752,\n",
       "         0.32547379, 0.32547379],\n",
       "        [0.19811249, 0.        , 0.03773117, ..., 0.24528503,\n",
       "         0.1273613 , 0.1273613 ],\n",
       "        [0.16038132, 0.03773117, 0.        , ..., 0.2830162 ,\n",
       "         0.16509247, 0.16509247],\n",
       "        ...,\n",
       "        [0.44339752, 0.24528503, 0.2830162 , ..., 0.        ,\n",
       "         0.11792374, 0.11792374],\n",
       "        [0.32547379, 0.1273613 , 0.16509247, ..., 0.11792374,\n",
       "         0.        , 0.        ],\n",
       "        [0.32547379, 0.1273613 , 0.16509247, ..., 0.11792374,\n",
       "         0.        , 0.        ]],\n",
       "\n",
       "       [[0.        , 0.91060829, 0.92967796, ..., 0.72467232,\n",
       "         0.63170242, 0.66865349],\n",
       "        [0.91060829, 0.        , 0.01906967, ..., 0.18593597,\n",
       "         0.27890587, 0.2419548 ],\n",
       "        [0.92967796, 0.01906967, 0.        , ..., 0.20500565,\n",
       "         0.29797554, 0.26102448],\n",
       "        ...,\n",
       "        [0.72467232, 0.18593597, 0.20500565, ..., 0.        ,\n",
       "         0.09296989, 0.05601883],\n",
       "        [0.63170242, 0.27890587, 0.29797554, ..., 0.09296989,\n",
       "         0.        , 0.03695107],\n",
       "        [0.66865349, 0.2419548 , 0.26102448, ..., 0.05601883,\n",
       "         0.03695107, 0.        ]],\n",
       "\n",
       "       [[0.        , 0.08457184, 0.04975891, ..., 0.27362823,\n",
       "         0.14428711, 0.2935257 ],\n",
       "        [0.08457184, 0.        , 0.13433075, ..., 0.1890564 ,\n",
       "         0.22885895, 0.20895386],\n",
       "        [0.04975891, 0.13433075, 0.        , ..., 0.32338715,\n",
       "         0.0945282 , 0.34328461],\n",
       "        ...,\n",
       "        [0.27362823, 0.1890564 , 0.32338715, ..., 0.        ,\n",
       "         0.41791534, 0.01989746],\n",
       "        [0.14428711, 0.22885895, 0.0945282 , ..., 0.41791534,\n",
       "         0.        , 0.43781281],\n",
       "        [0.2935257 , 0.20895386, 0.34328461, ..., 0.01989746,\n",
       "         0.43781281, 0.        ]]])"
      ]
     },
     "execution_count": 32,
     "metadata": {},
     "output_type": "execute_result"
    }
   ],
   "source": [
    "X_rp"
   ]
  },
  {
   "cell_type": "code",
   "execution_count": 39,
   "metadata": {
    "ExecuteTime": {
     "end_time": "2020-05-28T15:14:58.235045Z",
     "start_time": "2020-05-28T15:14:58.229052Z"
    },
    "hidden": true
   },
   "outputs": [
    {
     "data": {
      "text/plain": [
       "0.0"
      ]
     },
     "execution_count": 39,
     "metadata": {},
     "output_type": "execute_result"
    }
   ],
   "source": [
    "X_rp[0,:].min()"
   ]
  },
  {
   "cell_type": "code",
   "execution_count": null,
   "metadata": {
    "hidden": true
   },
   "outputs": [],
   "source": []
  }
 ],
 "metadata": {
  "hide_input": false,
  "kernelspec": {
   "display_name": "Python (doutorado)",
   "language": "python",
   "name": "doutorado"
  },
  "language_info": {
   "codemirror_mode": {
    "name": "ipython",
    "version": 3
   },
   "file_extension": ".py",
   "mimetype": "text/x-python",
   "name": "python",
   "nbconvert_exporter": "python",
   "pygments_lexer": "ipython3",
   "version": "3.6.7"
  },
  "toc": {
   "base_numbering": 1,
   "nav_menu": {},
   "number_sections": true,
   "sideBar": true,
   "skip_h1_title": false,
   "title_cell": "Table of Contents",
   "title_sidebar": "Contents",
   "toc_cell": false,
   "toc_position": {},
   "toc_section_display": true,
   "toc_window_display": false
  },
  "varInspector": {
   "cols": {
    "lenName": 16,
    "lenType": 16,
    "lenVar": 40
   },
   "kernels_config": {
    "python": {
     "delete_cmd_postfix": "",
     "delete_cmd_prefix": "del ",
     "library": "var_list.py",
     "varRefreshCmd": "print(var_dic_list())"
    },
    "r": {
     "delete_cmd_postfix": ") ",
     "delete_cmd_prefix": "rm(",
     "library": "var_list.r",
     "varRefreshCmd": "cat(var_dic_list()) "
    }
   },
   "types_to_exclude": [
    "module",
    "function",
    "builtin_function_or_method",
    "instance",
    "_Feature"
   ],
   "window_display": false
  }
 },
 "nbformat": 4,
 "nbformat_minor": 2
}

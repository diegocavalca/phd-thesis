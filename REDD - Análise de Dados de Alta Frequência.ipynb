{
 "cells": [
  {
   "cell_type": "code",
   "execution_count": 8,
   "metadata": {
    "ExecuteTime": {
     "end_time": "2019-07-27T15:02:22.026907Z",
     "start_time": "2019-07-27T15:02:22.022877Z"
    }
   },
   "outputs": [],
   "source": [
    "import sys, os\n",
    "\n",
    "import pandas as pd\n",
    "import numpy as np\n",
    "\n",
    "from glob import glob\n",
    "from tqdm import tqdm"
   ]
  },
  {
   "cell_type": "code",
   "execution_count": 9,
   "metadata": {
    "ExecuteTime": {
     "end_time": "2019-07-27T15:02:36.479260Z",
     "start_time": "2019-07-27T15:02:22.524552Z"
    }
   },
   "outputs": [],
   "source": [
    "house3_c1 = np.loadtxt( 'datasets/REDD/high_freq/house_3/current_1.dat' )"
   ]
  },
  {
   "cell_type": "code",
   "execution_count": 7,
   "metadata": {
    "ExecuteTime": {
     "end_time": "2019-07-25T17:43:22.889474Z",
     "start_time": "2019-07-25T17:43:22.885620Z"
    }
   },
   "outputs": [
    {
     "data": {
      "text/plain": [
       "(71202, 277)"
      ]
     },
     "execution_count": 7,
     "metadata": {},
     "output_type": "execute_result"
    }
   ],
   "source": [
    "house3_c1.shape"
   ]
  },
  {
   "cell_type": "code",
   "execution_count": 6,
   "metadata": {
    "ExecuteTime": {
     "end_time": "2019-07-25T17:43:22.994565Z",
     "start_time": "2019-07-25T17:43:22.959727Z"
    }
   },
   "outputs": [
    {
     "data": {
      "text/plain": [
       "array([ 1782.,  1782.,  2760., ...,  6802., 10603.,  3760.])"
      ]
     },
     "execution_count": 6,
     "metadata": {},
     "output_type": "execute_result"
    }
   ],
   "source": [
    "house3_c1[:,1]"
   ]
  },
  {
   "cell_type": "code",
   "execution_count": 7,
   "metadata": {
    "ExecuteTime": {
     "end_time": "2019-07-25T17:48:08.816994Z",
     "start_time": "2019-07-25T17:48:08.800595Z"
    }
   },
   "outputs": [
    {
     "data": {
      "text/html": [
       "<div>\n",
       "<style scoped>\n",
       "    .dataframe tbody tr th:only-of-type {\n",
       "        vertical-align: middle;\n",
       "    }\n",
       "\n",
       "    .dataframe tbody tr th {\n",
       "        vertical-align: top;\n",
       "    }\n",
       "\n",
       "    .dataframe thead th {\n",
       "        text-align: right;\n",
       "    }\n",
       "</style>\n",
       "<table border=\"1\" class=\"dataframe\">\n",
       "  <thead>\n",
       "    <tr style=\"text-align: right;\">\n",
       "      <th></th>\n",
       "      <th>utc_timestamp</th>\n",
       "      <th>cycle_count</th>\n",
       "      <th>wf_value_0</th>\n",
       "      <th>wf_value_1</th>\n",
       "      <th>wf_value_2</th>\n",
       "      <th>wf_value_3</th>\n",
       "      <th>wf_value_4</th>\n",
       "      <th>wf_value_5</th>\n",
       "      <th>wf_value_6</th>\n",
       "      <th>wf_value_7</th>\n",
       "      <th>...</th>\n",
       "      <th>wf_value_265</th>\n",
       "      <th>wf_value_266</th>\n",
       "      <th>wf_value_267</th>\n",
       "      <th>wf_value_268</th>\n",
       "      <th>wf_value_269</th>\n",
       "      <th>wf_value_270</th>\n",
       "      <th>wf_value_271</th>\n",
       "      <th>wf_value_272</th>\n",
       "      <th>wf_value_273</th>\n",
       "      <th>wf_value_274</th>\n",
       "    </tr>\n",
       "  </thead>\n",
       "  <tbody>\n",
       "    <tr>\n",
       "      <th>0</th>\n",
       "      <td>1.302922e+09</td>\n",
       "      <td>1782.0</td>\n",
       "      <td>-0.017231</td>\n",
       "      <td>-0.017167</td>\n",
       "      <td>-0.017059</td>\n",
       "      <td>-0.017008</td>\n",
       "      <td>-0.017104</td>\n",
       "      <td>-0.017163</td>\n",
       "      <td>-0.017450</td>\n",
       "      <td>-0.017587</td>\n",
       "      <td>...</td>\n",
       "      <td>-0.017431</td>\n",
       "      <td>-0.017421</td>\n",
       "      <td>-0.017433</td>\n",
       "      <td>-0.017398</td>\n",
       "      <td>-0.017257</td>\n",
       "      <td>-0.017344</td>\n",
       "      <td>-0.017262</td>\n",
       "      <td>-0.017277</td>\n",
       "      <td>-0.017192</td>\n",
       "      <td>-0.017232</td>\n",
       "    </tr>\n",
       "    <tr>\n",
       "      <th>1</th>\n",
       "      <td>1.302922e+09</td>\n",
       "      <td>1782.0</td>\n",
       "      <td>-0.017288</td>\n",
       "      <td>-0.017300</td>\n",
       "      <td>-0.017320</td>\n",
       "      <td>-0.017308</td>\n",
       "      <td>-0.017248</td>\n",
       "      <td>-0.017345</td>\n",
       "      <td>-0.017636</td>\n",
       "      <td>-0.017700</td>\n",
       "      <td>...</td>\n",
       "      <td>-0.017539</td>\n",
       "      <td>-0.017615</td>\n",
       "      <td>-0.017604</td>\n",
       "      <td>-0.017637</td>\n",
       "      <td>-0.017505</td>\n",
       "      <td>-0.017600</td>\n",
       "      <td>-0.017512</td>\n",
       "      <td>-0.017387</td>\n",
       "      <td>-0.017450</td>\n",
       "      <td>-0.017289</td>\n",
       "    </tr>\n",
       "    <tr>\n",
       "      <th>2</th>\n",
       "      <td>1.302931e+09</td>\n",
       "      <td>2760.0</td>\n",
       "      <td>0.002427</td>\n",
       "      <td>0.007893</td>\n",
       "      <td>0.020264</td>\n",
       "      <td>0.037044</td>\n",
       "      <td>0.059954</td>\n",
       "      <td>0.139391</td>\n",
       "      <td>0.195261</td>\n",
       "      <td>0.231653</td>\n",
       "      <td>...</td>\n",
       "      <td>-0.131324</td>\n",
       "      <td>-0.208694</td>\n",
       "      <td>-0.192772</td>\n",
       "      <td>-0.104762</td>\n",
       "      <td>-0.070186</td>\n",
       "      <td>-0.036816</td>\n",
       "      <td>-0.027137</td>\n",
       "      <td>-0.012471</td>\n",
       "      <td>-0.003119</td>\n",
       "      <td>0.002425</td>\n",
       "    </tr>\n",
       "    <tr>\n",
       "      <th>3</th>\n",
       "      <td>1.302931e+09</td>\n",
       "      <td>2065.0</td>\n",
       "      <td>0.004701</td>\n",
       "      <td>0.008471</td>\n",
       "      <td>0.022125</td>\n",
       "      <td>0.040235</td>\n",
       "      <td>0.063376</td>\n",
       "      <td>0.143110</td>\n",
       "      <td>0.198713</td>\n",
       "      <td>0.237631</td>\n",
       "      <td>...</td>\n",
       "      <td>-0.131911</td>\n",
       "      <td>-0.212030</td>\n",
       "      <td>-0.197415</td>\n",
       "      <td>-0.107624</td>\n",
       "      <td>-0.073997</td>\n",
       "      <td>-0.036811</td>\n",
       "      <td>-0.027118</td>\n",
       "      <td>-0.013915</td>\n",
       "      <td>-0.003341</td>\n",
       "      <td>0.004708</td>\n",
       "    </tr>\n",
       "    <tr>\n",
       "      <th>4</th>\n",
       "      <td>1.302931e+09</td>\n",
       "      <td>206.0</td>\n",
       "      <td>0.002921</td>\n",
       "      <td>0.006746</td>\n",
       "      <td>0.021267</td>\n",
       "      <td>0.042351</td>\n",
       "      <td>0.065329</td>\n",
       "      <td>0.144688</td>\n",
       "      <td>0.197718</td>\n",
       "      <td>0.238668</td>\n",
       "      <td>...</td>\n",
       "      <td>-0.216036</td>\n",
       "      <td>-0.261511</td>\n",
       "      <td>-0.158430</td>\n",
       "      <td>-0.126622</td>\n",
       "      <td>-0.074224</td>\n",
       "      <td>-0.036602</td>\n",
       "      <td>-0.027803</td>\n",
       "      <td>-0.014041</td>\n",
       "      <td>-0.005268</td>\n",
       "      <td>0.002964</td>\n",
       "    </tr>\n",
       "  </tbody>\n",
       "</table>\n",
       "<p>5 rows × 277 columns</p>\n",
       "</div>"
      ],
      "text/plain": [
       "   utc_timestamp  cycle_count  wf_value_0  wf_value_1  wf_value_2  wf_value_3  \\\n",
       "0   1.302922e+09       1782.0   -0.017231   -0.017167   -0.017059   -0.017008   \n",
       "1   1.302922e+09       1782.0   -0.017288   -0.017300   -0.017320   -0.017308   \n",
       "2   1.302931e+09       2760.0    0.002427    0.007893    0.020264    0.037044   \n",
       "3   1.302931e+09       2065.0    0.004701    0.008471    0.022125    0.040235   \n",
       "4   1.302931e+09        206.0    0.002921    0.006746    0.021267    0.042351   \n",
       "\n",
       "   wf_value_4  wf_value_5  wf_value_6  wf_value_7  ...  wf_value_265  \\\n",
       "0   -0.017104   -0.017163   -0.017450   -0.017587  ...     -0.017431   \n",
       "1   -0.017248   -0.017345   -0.017636   -0.017700  ...     -0.017539   \n",
       "2    0.059954    0.139391    0.195261    0.231653  ...     -0.131324   \n",
       "3    0.063376    0.143110    0.198713    0.237631  ...     -0.131911   \n",
       "4    0.065329    0.144688    0.197718    0.238668  ...     -0.216036   \n",
       "\n",
       "   wf_value_266  wf_value_267  wf_value_268  wf_value_269  wf_value_270  \\\n",
       "0     -0.017421     -0.017433     -0.017398     -0.017257     -0.017344   \n",
       "1     -0.017615     -0.017604     -0.017637     -0.017505     -0.017600   \n",
       "2     -0.208694     -0.192772     -0.104762     -0.070186     -0.036816   \n",
       "3     -0.212030     -0.197415     -0.107624     -0.073997     -0.036811   \n",
       "4     -0.261511     -0.158430     -0.126622     -0.074224     -0.036602   \n",
       "\n",
       "   wf_value_271  wf_value_272  wf_value_273  wf_value_274  \n",
       "0     -0.017262     -0.017277     -0.017192     -0.017232  \n",
       "1     -0.017512     -0.017387     -0.017450     -0.017289  \n",
       "2     -0.027137     -0.012471     -0.003119      0.002425  \n",
       "3     -0.027118     -0.013915     -0.003341      0.004708  \n",
       "4     -0.027803     -0.014041     -0.005268      0.002964  \n",
       "\n",
       "[5 rows x 277 columns]"
      ]
     },
     "execution_count": 7,
     "metadata": {},
     "output_type": "execute_result"
    }
   ],
   "source": [
    "df_house3_c1 = pd.DataFrame(\n",
    "    data = house3_c1, \n",
    "    columns=['utc_timestamp', 'cycle_count'] + ['wf_value_'+str(i) for i in range(0, 275)]\n",
    ")\n",
    "df_house3_c1.head()"
   ]
  },
  {
   "cell_type": "code",
   "execution_count": 8,
   "metadata": {
    "ExecuteTime": {
     "end_time": "2019-07-25T17:14:12.332126Z",
     "start_time": "2019-07-25T17:14:12.326633Z"
    }
   },
   "outputs": [],
   "source": [
    "import matplotlib.pyplot as plt\n",
    "\n",
    "%matplotlib inline"
   ]
  },
  {
   "cell_type": "code",
   "execution_count": 9,
   "metadata": {
    "ExecuteTime": {
     "end_time": "2019-07-25T17:14:37.919851Z",
     "start_time": "2019-07-25T17:14:37.795504Z"
    }
   },
   "outputs": [
    {
     "data": {
      "text/plain": [
       "[<matplotlib.lines.Line2D at 0x7f09320a6400>]"
      ]
     },
     "execution_count": 9,
     "metadata": {},
     "output_type": "execute_result"
    },
    {
     "data": {
      "image/png": "[encoded data removed]",
      "text/plain": [
       "<Figure size 432x288 with 1 Axes>"
      ]
     },
     "metadata": {
      "needs_background": "light"
     },
     "output_type": "display_data"
    }
   ],
   "source": [
    "plt.plot(house3_c1[0,2:])"
   ]
  },
  {
   "cell_type": "code",
   "execution_count": 10,
   "metadata": {
    "ExecuteTime": {
     "end_time": "2019-07-25T17:15:20.632077Z",
     "start_time": "2019-07-25T17:15:20.507653Z"
    }
   },
   "outputs": [
    {
     "data": {
      "text/plain": [
       "[<matplotlib.lines.Line2D at 0x7f098ac25a20>]"
      ]
     },
     "execution_count": 10,
     "metadata": {},
     "output_type": "execute_result"
    },
    {
     "data": {
      "image/png": "[encoded data removed]",
      "text/plain": [
       "<Figure size 432x288 with 1 Axes>"
      ]
     },
     "metadata": {
      "needs_background": "light"
     },
     "output_type": "display_data"
    }
   ],
   "source": [
    "plt.plot(house3_c1[1,2:])"
   ]
  },
  {
   "cell_type": "code",
   "execution_count": 12,
   "metadata": {},
   "outputs": [
    {
     "data": {
      "text/plain": [
       "['Collecting tqdm',\n",
       " '  Using cached https://files.pythonhosted.org/packages/9f/3d/7a6b68b631d2ab54975f3a4863f3c4e9b26445353264ef01f465dc9b0208/tqdm-4.32.2-py2.py3-none-any.whl',\n",
       " 'Installing collected packages: tqdm',\n",
       " 'Successfully installed tqdm-4.32.2']"
      ]
     },
     "execution_count": 12,
     "metadata": {},
     "output_type": "execute_result"
    }
   ],
   "source": [
    "!!pip install tqdm"
   ]
  },
  {
   "cell_type": "code",
   "execution_count": null,
   "metadata": {
    "ExecuteTime": {
     "start_time": "2019-07-25T19:02:57.614Z"
    }
   },
   "outputs": [
    {
     "name": "stderr",
     "output_type": "stream",
     "text": [
      " 21%|██▏       | 15268/71202 [27:39<2:23:03,  6.52it/s]  "
     ]
    }
   ],
   "source": [
    "\n",
    "xlabels = list(range(0, 275, 5))\n",
    "\n",
    "for r in tqdm(range(0, house3_c1.shape[0])):\n",
    "\n",
    "    name_fig = 'datasets/REDD/high_freq/{}/{}/wf_{}.png'.format( 'house_3', 'current_1', house3_c1[r,0] )\n",
    "    \n",
    "    if not os.path.isfile(name_fig):\n",
    "        fig = plt.figure(figsize=(15,5))\n",
    "        ax = fig.add_axes([0.1,0.1,0.8,0.8])\n",
    "\n",
    "        ax.plot(house3_c1[r,2:])\n",
    "        ax.grid()\n",
    "        ax.set_xticks(xlabels )\n",
    "        ax.set_xticklabels(xlabels, rotation=90)\n",
    "        ax.set_xlim(0, 274)\n",
    "        ax.set_title('Timestamp: {}'.format(house3_c1[r,0]))\n",
    "\n",
    "        fig.savefig(name_fig)   # save the figure to file\n",
    "        plt.close(fig)    # close the figure\n",
    "\n",
    "#plt.plot(house3_c1[8,2:])"
   ]
  },
  {
   "cell_type": "code",
   "execution_count": null,
   "metadata": {},
   "outputs": [],
   "source": []
  },
  {
   "cell_type": "code",
   "execution_count": null,
   "metadata": {},
   "outputs": [],
   "source": []
  },
  {
   "cell_type": "code",
   "execution_count": null,
   "metadata": {},
   "outputs": [],
   "source": []
  },
  {
   "cell_type": "code",
   "execution_count": null,
   "metadata": {},
   "outputs": [],
   "source": []
  },
  {
   "cell_type": "code",
   "execution_count": null,
   "metadata": {},
   "outputs": [],
   "source": []
  }
 ],
 "metadata": {
  "kernelspec": {
   "display_name": "Python 3",
   "language": "python",
   "name": "python3"
  },
  "language_info": {
   "codemirror_mode": {
    "name": "ipython",
    "version": 3
   },
   "file_extension": ".py",
   "mimetype": "text/x-python",
   "name": "python",
   "nbconvert_exporter": "python",
   "pygments_lexer": "ipython3",
   "version": "3.6.7"
  },
  "toc": {
   "base_numbering": 1,
   "nav_menu": {},
   "number_sections": true,
   "sideBar": true,
   "skip_h1_title": false,
   "title_cell": "Table of Contents",
   "title_sidebar": "Contents",
   "toc_cell": false,
   "toc_position": {},
   "toc_section_display": true,
   "toc_window_display": false
  },
  "varInspector": {
   "cols": {
    "lenName": 16,
    "lenType": 16,
    "lenVar": 40
   },
   "kernels_config": {
    "python": {
     "delete_cmd_postfix": "",
     "delete_cmd_prefix": "del ",
     "library": "var_list.py",
     "varRefreshCmd": "print(var_dic_list())"
    },
    "r": {
     "delete_cmd_postfix": ") ",
     "delete_cmd_prefix": "rm(",
     "library": "var_list.r",
     "varRefreshCmd": "cat(var_dic_list()) "
    }
   },
   "types_to_exclude": [
    "module",
    "function",
    "builtin_function_or_method",
    "instance",
    "_Feature"
   ],
   "window_display": false
  }
 },
 "nbformat": 4,
 "nbformat_minor": 2
}
